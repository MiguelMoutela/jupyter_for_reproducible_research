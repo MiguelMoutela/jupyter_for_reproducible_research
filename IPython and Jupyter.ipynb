{
 "cells": [
  {
   "cell_type": "markdown",
   "metadata": {},
   "source": [
    "# IPython\n",
    "\n",
    "**IPython** (Interactive Python) is an enhanced Python shell which provides a more robust and productive development environment for users. There are several key features that set it apart from the standard Python shell.\n",
    "\n",
    "* Interactive data analysis and visualization\n",
    "* Python kernel for Jupyter notebooks\n",
    "* Easy parallel computation\n",
    "\n",
    "### History\n",
    "\n",
    "In IPython, all your inputs and outputs are saved. There are two variables named `In` and `Out` which are assigned as you work with your results. All outputs are saved automatically to variables of the form `_N`, where `N` is the prompt number, and inputs to `_iN`. This allows you to recover quickly the result of a prior computation by referring to its number even if you forgot to store it as a variable. "
   ]
  },
  {
   "cell_type": "code",
   "execution_count": 1,
   "metadata": {},
   "outputs": [
    {
     "data": {
      "text/plain": [
       "0.57275001690430671"
      ]
     },
     "execution_count": 1,
     "metadata": {},
     "output_type": "execute_result"
    }
   ],
   "source": [
    "import numpy as np\n",
    "np.sin(4)**2"
   ]
  },
  {
   "cell_type": "code",
   "execution_count": 2,
   "metadata": {},
   "outputs": [
    {
     "data": {
      "text/plain": [
       "0.57275001690430671"
      ]
     },
     "execution_count": 2,
     "metadata": {},
     "output_type": "execute_result"
    }
   ],
   "source": [
    "_1"
   ]
  },
  {
   "cell_type": "code",
   "execution_count": 3,
   "metadata": {},
   "outputs": [
    {
     "data": {
      "text/plain": [
       "'import numpy as np\\nnp.sin(4)**2'"
      ]
     },
     "execution_count": 3,
     "metadata": {},
     "output_type": "execute_result"
    }
   ],
   "source": [
    "_i1"
   ]
  },
  {
   "cell_type": "code",
   "execution_count": 4,
   "metadata": {},
   "outputs": [
    {
     "data": {
      "text/plain": [
       "0.14318750422607668"
      ]
     },
     "execution_count": 4,
     "metadata": {},
     "output_type": "execute_result"
    }
   ],
   "source": [
    "_1 / 4."
   ]
  },
  {
   "cell_type": "markdown",
   "metadata": {},
   "source": [
    "### Introspection\n",
    "\n",
    "If you want details regarding the properties and functionality of any Python objects currently loaded into IPython, you can use the `?` to reveal any details that are available:"
   ]
  },
  {
   "cell_type": "code",
   "execution_count": 5,
   "metadata": {},
   "outputs": [],
   "source": [
    "some_dict = {}\n",
    "some_dict?"
   ]
  },
  {
   "cell_type": "markdown",
   "metadata": {},
   "source": [
    "If available, additional detail is provided with two question marks, including the source code of the object itself."
   ]
  },
  {
   "cell_type": "code",
   "execution_count": 6,
   "metadata": {},
   "outputs": [],
   "source": [
    "from numpy.linalg import cholesky\n",
    "cholesky??"
   ]
  },
  {
   "cell_type": "markdown",
   "metadata": {},
   "source": [
    "This syntax can also be used to search namespaces with wildcards (`*`)."
   ]
  },
  {
   "cell_type": "code",
   "execution_count": 7,
   "metadata": {},
   "outputs": [],
   "source": [
    "import numpy as np\n",
    "np.random.rand*?"
   ]
  },
  {
   "cell_type": "markdown",
   "metadata": {},
   "source": [
    "### Tab completion\n",
    "\n",
    "Because IPython allows for introspection, it is able to afford the user the ability to tab-complete commands that have been partially typed. This is done by pressing the `<tab>` key at any point during the process of typing a command:"
   ]
  },
  {
   "cell_type": "code",
   "execution_count": 8,
   "metadata": {},
   "outputs": [
    {
     "ename": "AttributeError",
     "evalue": "module 'numpy' has no attribute 'ar'",
     "output_type": "error",
     "traceback": [
      "\u001b[0;31m---------------------------------------------------------------------------\u001b[0m",
      "\u001b[0;31mAttributeError\u001b[0m                            Traceback (most recent call last)",
      "\u001b[0;32m<ipython-input-8-4dcec8b5eefc>\u001b[0m in \u001b[0;36m<module>\u001b[0;34m()\u001b[0m\n\u001b[0;32m----> 1\u001b[0;31m \u001b[0mnp\u001b[0m\u001b[0;34m.\u001b[0m\u001b[0mar\u001b[0m\u001b[0;34m\u001b[0m\u001b[0m\n\u001b[0m",
      "\u001b[0;31mAttributeError\u001b[0m: module 'numpy' has no attribute 'ar'"
     ]
    }
   ],
   "source": [
    "np.ar"
   ]
  },
  {
   "cell_type": "markdown",
   "metadata": {},
   "source": [
    "### System commands\n",
    "\n",
    "In IPython, you can type `ls` to see your files or `cd` to change directories, just like you would at a regular system prompt:"
   ]
  },
  {
   "cell_type": "code",
   "execution_count": 9,
   "metadata": {},
   "outputs": [
    {
     "name": "stdout",
     "output_type": "stream",
     "text": [
      "AGE_methods.md\r\n",
      "Adult Flu Vaccination Statistical Analysis Plan slides.md\r\n",
      "Adult Flu Vaccination Statistical Analysis Plan.md\r\n",
      "Bayesian Calibration of Probability Forecasts.md\r\n",
      "Complex Interventions Analytic Approaches.md\r\n",
      "Dask.md\r\n",
      "Flu Vaccination Statistical Analysis Plan slides.md\r\n",
      "Flu Vaccination Statistical Analysis Plan.md\r\n",
      "Population modeling.md\r\n",
      "Probabilistic programming notes.md\r\n",
      "Stratagem.md\r\n",
      "Variational Inference.md\r\n",
      "analysis_plan.md\r\n"
     ]
    }
   ],
   "source": [
    "ls /Users/fonnescj/Dropbox/Notes/"
   ]
  },
  {
   "cell_type": "markdown",
   "metadata": {},
   "source": [
    "Virtually any system command can be accessed by prepending `!`, which passes any subsequent command directly to the OS."
   ]
  },
  {
   "cell_type": "code",
   "execution_count": 10,
   "metadata": {},
   "outputs": [
    {
     "name": "stdout",
     "output_type": "stream",
     "text": [
      "/Applications/TeX/TeXShop.app/Contents/Resources/TeXShop/Engines/Inactive/pythontex/README.pdf\n",
      "/Applications/TeX/TeXShop.app/Contents/Resources/TeXShop/Engines/Inactive/pythontex/pythontex_gallery.pdf\n",
      "/System/Library/Frameworks/Python.framework/Versions/2.7/Extras/lib/python/matplotlib/backends/backend_pdf.py\n",
      "/System/Library/Frameworks/Python.framework/Versions/2.7/Extras/lib/python/matplotlib/backends/backend_pdf.pyc\n",
      "/System/Library/Frameworks/Python.framework/Versions/2.7/Extras/lib/python/matplotlib/mpl-data/fonts/pdfcorefonts\n",
      "/System/Library/Frameworks/Python.framework/Versions/2.7/Extras/lib/python/matplotlib/mpl-data/fonts/pdfcorefonts/Courier-Bold.afm\n",
      "/System/Library/Frameworks/Python.framework/Versions/2.7/Extras/lib/python/matplotlib/mpl-data/fonts/pdfcorefonts/Courier-BoldOblique.afm\n",
      "/System/Library/Frameworks/Python.framework/Versions/2.7/Extras/lib/python/matplotlib/mpl-data/fonts/pdfcorefonts/Courier-Oblique.afm\n",
      "/System/Library/Frameworks/Python.framework/Versions/2.7/Extras/lib/python/matplotlib/mpl-data/fonts/pdfcorefonts/Courier.afm\n",
      "/System/Library/Frameworks/Python.framework/Versions/2.7/Extras/lib/python/matplotlib/mpl-data/fonts/pdfcorefonts/Helvetica-Bold.afm\n",
      "/System/Library/Frameworks/Python.framework/Versions/2.7/Extras/lib/python/matplotlib/mpl-data/fonts/pdfcorefonts/Helvetica-BoldOblique.afm\n",
      "/System/Library/Frameworks/Python.framework/Versions/2.7/Extras/lib/python/matplotlib/mpl-data/fonts/pdfcorefonts/Helvetica-Oblique.afm\n",
      "/System/Library/Frameworks/Python.framework/Versions/2.7/Extras/lib/python/matplotlib/mpl-data/fonts/pdfcorefonts/Helvetica.afm\n",
      "/System/Library/Frameworks/Python.framework/Versions/2.7/Extras/lib/python/matplotlib/mpl-data/fonts/pdfcorefonts/Symbol.afm\n",
      "/System/Library/Frameworks/Python.framework/Versions/2.7/Extras/lib/python/matplotlib/mpl-data/fonts/pdfcorefonts/Times-Bold.afm\n",
      "/System/Library/Frameworks/Python.framework/Versions/2.7/Extras/lib/python/matplotlib/mpl-data/fonts/pdfcorefonts/Times-BoldItalic.afm\n",
      "/System/Library/Frameworks/Python.framework/Versions/2.7/Extras/lib/python/matplotlib/mpl-data/fonts/pdfcorefonts/Times-Italic.afm\n",
      "/System/Library/Frameworks/Python.framework/Versions/2.7/Extras/lib/python/matplotlib/mpl-data/fonts/pdfcorefonts/Times-Roman.afm\n",
      "/System/Library/Frameworks/Python.framework/Versions/2.7/Extras/lib/python/matplotlib/mpl-data/fonts/pdfcorefonts/ZapfDingbats.afm\n",
      "/System/Library/Frameworks/Python.framework/Versions/2.7/Extras/lib/python/matplotlib/mpl-data/fonts/pdfcorefonts/readme.txt\n",
      "/System/Library/Frameworks/Python.framework/Versions/2.7/Extras/lib/python/matplotlib/tests/baseline_images/test_arrow_patches/fancyarrow_test_image.pdf\n",
      "/System/Library/Frameworks/Python.framework/Versions/2.7/Extras/lib/python/matplotlib/tests/baseline_images/test_artist/clip_path_clipping.pdf\n",
      "/System/Library/Frameworks/Python.framework/Versions/2.7/Extras/lib/python/matplotlib/tests/baseline_images/test_axes/arc_ellipse.pdf\n",
      "/System/Library/Frameworks/Python.framework/Versions/2.7/Extras/lib/python/matplotlib/tests/baseline_images/test_axes/autoscale_tiny_range.pdf\n",
      "/System/Library/Frameworks/Python.framework/Versions/2.7/Extras/lib/python/matplotlib/tests/baseline_images/test_axes/axhspan_epoch.pdf\n",
      "/System/Library/Frameworks/Python.framework/Versions/2.7/Extras/lib/python/matplotlib/tests/baseline_images/test_axes/axvspan_epoch.pdf\n",
      "/System/Library/Frameworks/Python.framework/Versions/2.7/Extras/lib/python/matplotlib/tests/baseline_images/test_axes/boxplot.pdf\n",
      "/System/Library/Frameworks/Python.framework/Versions/2.7/Extras/lib/python/matplotlib/tests/baseline_images/test_axes/canonical.pdf\n",
      "/System/Library/Frameworks/Python.framework/Versions/2.7/Extras/lib/python/matplotlib/tests/baseline_images/test_axes/const_xy.pdf\n",
      "/System/Library/Frameworks/Python.framework/Versions/2.7/Extras/lib/python/matplotlib/tests/baseline_images/test_axes/contour_colorbar.pdf\n",
      "/System/Library/Frameworks/Python.framework/Versions/2.7/Extras/lib/python/matplotlib/tests/baseline_images/test_axes/contour_hatching.pdf\n",
      "/System/Library/Frameworks/Python.framework/Versions/2.7/Extras/lib/python/matplotlib/tests/baseline_images/test_axes/errorbar_basic.pdf\n",
      "/System/Library/Frameworks/Python.framework/Versions/2.7/Extras/lib/python/matplotlib/tests/baseline_images/test_axes/errorbar_mixed.pdf\n",
      "/System/Library/Frameworks/Python.framework/Versions/2.7/Extras/lib/python/matplotlib/tests/baseline_images/test_axes/errorbar_zorder.pdf\n",
      "/System/Library/Frameworks/Python.framework/Versions/2.7/Extras/lib/python/matplotlib/tests/baseline_images/test_axes/eventplot.pdf\n",
      "/System/Library/Frameworks/Python.framework/Versions/2.7/Extras/lib/python/matplotlib/tests/baseline_images/test_axes/fill_between_interpolate.pdf\n",
      "/System/Library/Frameworks/Python.framework/Versions/2.7/Extras/lib/python/matplotlib/tests/baseline_images/test_axes/formatter_large_small.pdf\n",
      "/System/Library/Frameworks/Python.framework/Versions/2.7/Extras/lib/python/matplotlib/tests/baseline_images/test_axes/formatter_ticker_001.pdf\n",
      "/System/Library/Frameworks/Python.framework/Versions/2.7/Extras/lib/python/matplotlib/tests/baseline_images/test_axes/formatter_ticker_002.pdf\n",
      "/System/Library/Frameworks/Python.framework/Versions/2.7/Extras/lib/python/matplotlib/tests/baseline_images/test_axes/formatter_ticker_003.pdf\n",
      "/System/Library/Frameworks/Python.framework/Versions/2.7/Extras/lib/python/matplotlib/tests/baseline_images/test_axes/formatter_ticker_004.pdf\n",
      "/System/Library/Frameworks/Python.framework/Versions/2.7/Extras/lib/python/matplotlib/tests/baseline_images/test_axes/formatter_ticker_005.pdf\n",
      "/System/Library/Frameworks/Python.framework/Versions/2.7/Extras/lib/python/matplotlib/tests/baseline_images/test_axes/hist2d.pdf\n",
      "/System/Library/Frameworks/Python.framework/Versions/2.7/Extras/lib/python/matplotlib/tests/baseline_images/test_axes/hist2d_transpose.pdf\n",
      "/System/Library/Frameworks/Python.framework/Versions/2.7/Extras/lib/python/matplotlib/tests/baseline_images/test_axes/hist_log.pdf\n",
      "/System/Library/Frameworks/Python.framework/Versions/2.7/Extras/lib/python/matplotlib/tests/baseline_images/test_axes/hist_offset.pdf\n",
      "/System/Library/Frameworks/Python.framework/Versions/2.7/Extras/lib/python/matplotlib/tests/baseline_images/test_axes/hist_stacked_bar.pdf\n",
      "/System/Library/Frameworks/Python.framework/Versions/2.7/Extras/lib/python/matplotlib/tests/baseline_images/test_axes/hist_stacked_normed.pdf\n",
      "/System/Library/Frameworks/Python.framework/Versions/2.7/Extras/lib/python/matplotlib/tests/baseline_images/test_axes/hist_stacked_step.pdf\n",
      "/System/Library/Frameworks/Python.framework/Versions/2.7/Extras/lib/python/matplotlib/tests/baseline_images/test_axes/hist_stacked_stepfilled.pdf\n",
      "/System/Library/Frameworks/Python.framework/Versions/2.7/Extras/lib/python/matplotlib/tests/baseline_images/test_axes/hist_stacked_stepfilled_alpha.pdf\n",
      "/System/Library/Frameworks/Python.framework/Versions/2.7/Extras/lib/python/matplotlib/tests/baseline_images/test_axes/hist_stacked_weights.pdf\n",
      "/System/Library/Frameworks/Python.framework/Versions/2.7/Extras/lib/python/matplotlib/tests/baseline_images/test_axes/hist_steplog.pdf\n",
      "/System/Library/Frameworks/Python.framework/Versions/2.7/Extras/lib/python/matplotlib/tests/baseline_images/test_axes/imshow.pdf\n",
      "/System/Library/Frameworks/Python.framework/Versions/2.7/Extras/lib/python/matplotlib/tests/baseline_images/test_axes/imshow_clip.pdf\n",
      "/System/Library/Frameworks/Python.framework/Versions/2.7/Extras/lib/python/matplotlib/tests/baseline_images/test_axes/log_scales.pdf\n",
      "/System/Library/Frameworks/Python.framework/Versions/2.7/Extras/lib/python/matplotlib/tests/baseline_images/test_axes/marker_edges.pdf\n",
      "/System/Library/Frameworks/Python.framework/Versions/2.7/Extras/lib/python/matplotlib/tests/baseline_images/test_axes/markevery.pdf\n",
      "/System/Library/Frameworks/Python.framework/Versions/2.7/Extras/lib/python/matplotlib/tests/baseline_images/test_axes/markevery_line.pdf\n",
      "/System/Library/Frameworks/Python.framework/Versions/2.7/Extras/lib/python/matplotlib/tests/baseline_images/test_axes/mixed_collection.pdf\n",
      "/System/Library/Frameworks/Python.framework/Versions/2.7/Extras/lib/python/matplotlib/tests/baseline_images/test_axes/mollweide_grid.pdf\n",
      "/System/Library/Frameworks/Python.framework/Versions/2.7/Extras/lib/python/matplotlib/tests/baseline_images/test_axes/nonfinite_limits.pdf\n",
      "/System/Library/Frameworks/Python.framework/Versions/2.7/Extras/lib/python/matplotlib/tests/baseline_images/test_axes/offset_points.pdf\n",
      "/System/Library/Frameworks/Python.framework/Versions/2.7/Extras/lib/python/matplotlib/tests/baseline_images/test_axes/pcolormesh.pdf\n",
      "/System/Library/Frameworks/Python.framework/Versions/2.7/Extras/lib/python/matplotlib/tests/baseline_images/test_axes/polar_axes.pdf\n",
      "/System/Library/Frameworks/Python.framework/Versions/2.7/Extras/lib/python/matplotlib/tests/baseline_images/test_axes/polar_coords.pdf\n",
      "/System/Library/Frameworks/Python.framework/Versions/2.7/Extras/lib/python/matplotlib/tests/baseline_images/test_axes/polar_rmin.pdf\n",
      "/System/Library/Frameworks/Python.framework/Versions/2.7/Extras/lib/python/matplotlib/tests/baseline_images/test_axes/polar_theta_position.pdf\n",
      "/System/Library/Frameworks/Python.framework/Versions/2.7/Extras/lib/python/matplotlib/tests/baseline_images/test_axes/polar_units.pdf\n",
      "/System/Library/Frameworks/Python.framework/Versions/2.7/Extras/lib/python/matplotlib/tests/baseline_images/test_axes/polar_units_2.pdf\n",
      "/System/Library/Frameworks/Python.framework/Versions/2.7/Extras/lib/python/matplotlib/tests/baseline_images/test_axes/polar_wrap_180.pdf\n",
      "/System/Library/Frameworks/Python.framework/Versions/2.7/Extras/lib/python/matplotlib/tests/baseline_images/test_axes/polar_wrap_360.pdf\n",
      "/System/Library/Frameworks/Python.framework/Versions/2.7/Extras/lib/python/matplotlib/tests/baseline_images/test_axes/polycollection_joinstyle.pdf\n",
      "/System/Library/Frameworks/Python.framework/Versions/2.7/Extras/lib/python/matplotlib/tests/baseline_images/test_axes/scatter.pdf\n",
      "/System/Library/Frameworks/Python.framework/Versions/2.7/Extras/lib/python/matplotlib/tests/baseline_images/test_axes/shaped_data.pdf\n",
      "/System/Library/Frameworks/Python.framework/Versions/2.7/Extras/lib/python/matplotlib/tests/baseline_images/test_axes/single_date.pdf\n",
      "/System/Library/Frameworks/Python.framework/Versions/2.7/Extras/lib/python/matplotlib/tests/baseline_images/test_axes/single_point.pdf\n",
      "/System/Library/Frameworks/Python.framework/Versions/2.7/Extras/lib/python/matplotlib/tests/baseline_images/test_axes/stackplot_test_baseline.pdf\n",
      "/System/Library/Frameworks/Python.framework/Versions/2.7/Extras/lib/python/matplotlib/tests/baseline_images/test_axes/stackplot_test_image.pdf\n",
      "/System/Library/Frameworks/Python.framework/Versions/2.7/Extras/lib/python/matplotlib/tests/baseline_images/test_axes/step_linestyle.pdf\n",
      "/System/Library/Frameworks/Python.framework/Versions/2.7/Extras/lib/python/matplotlib/tests/baseline_images/test_axes/symlog.pdf\n",
      "/System/Library/Frameworks/Python.framework/Versions/2.7/Extras/lib/python/matplotlib/tests/baseline_images/test_axes/symlog2.pdf\n",
      "/System/Library/Frameworks/Python.framework/Versions/2.7/Extras/lib/python/matplotlib/tests/baseline_images/test_axes/test_alpha.pdf\n",
      "/System/Library/Frameworks/Python.framework/Versions/2.7/Extras/lib/python/matplotlib/tests/baseline_images/test_axes/transparent_markers.pdf\n",
      "/System/Library/Frameworks/Python.framework/Versions/2.7/Extras/lib/python/matplotlib/tests/baseline_images/test_axes/twin_axis_locaters_formatters.pdf\n",
      "/System/Library/Frameworks/Python.framework/Versions/2.7/Extras/lib/python/matplotlib/tests/baseline_images/test_axes/units_strings.pdf\n",
      "/System/Library/Frameworks/Python.framework/Versions/2.7/Extras/lib/python/matplotlib/tests/baseline_images/test_axes/vline_hline_zorder.pdf\n",
      "/System/Library/Frameworks/Python.framework/Versions/2.7/Extras/lib/python/matplotlib/tests/baseline_images/test_backend_pdf\n",
      "/System/Library/Frameworks/Python.framework/Versions/2.7/Extras/lib/python/matplotlib/tests/baseline_images/test_backend_pdf/pdf_use14corefonts.pdf\n",
      "/System/Library/Frameworks/Python.framework/Versions/2.7/Extras/lib/python/matplotlib/tests/baseline_images/test_backend_pgf/pgf_mixedmode.pdf\n",
      "/System/Library/Frameworks/Python.framework/Versions/2.7/Extras/lib/python/matplotlib/tests/baseline_images/test_backend_pgf/pgf_pdflatex.pdf\n",
      "/System/Library/Frameworks/Python.framework/Versions/2.7/Extras/lib/python/matplotlib/tests/baseline_images/test_backend_pgf/pgf_rcupdate1.pdf\n",
      "/System/Library/Frameworks/Python.framework/Versions/2.7/Extras/lib/python/matplotlib/tests/baseline_images/test_backend_pgf/pgf_rcupdate2.pdf\n",
      "/System/Library/Frameworks/Python.framework/Versions/2.7/Extras/lib/python/matplotlib/tests/baseline_images/test_backend_pgf/pgf_xelatex.pdf\n",
      "/System/Library/Frameworks/Python.framework/Versions/2.7/Extras/lib/python/matplotlib/tests/baseline_images/test_backend_svg/noscale.pdf\n",
      "/System/Library/Frameworks/Python.framework/Versions/2.7/Extras/lib/python/matplotlib/tests/baseline_images/test_bbox_tight/bbox_inches_tight.pdf\n",
      "/System/Library/Frameworks/Python.framework/Versions/2.7/Extras/lib/python/matplotlib/tests/baseline_images/test_bbox_tight/bbox_inches_tight_clipping.pdf\n",
      "/System/Library/Frameworks/Python.framework/Versions/2.7/Extras/lib/python/matplotlib/tests/baseline_images/test_bbox_tight/bbox_inches_tight_suptile_legend.pdf\n",
      "/System/Library/Frameworks/Python.framework/Versions/2.7/Extras/lib/python/matplotlib/tests/baseline_images/test_collections/EventCollection_plot__add_positions.pdf\n",
      "/System/Library/Frameworks/Python.framework/Versions/2.7/Extras/lib/python/matplotlib/tests/baseline_images/test_collections/EventCollection_plot__append_positions.pdf\n",
      "/System/Library/Frameworks/Python.framework/Versions/2.7/Extras/lib/python/matplotlib/tests/baseline_images/test_collections/EventCollection_plot__default.pdf\n",
      "/System/Library/Frameworks/Python.framework/Versions/2.7/Extras/lib/python/matplotlib/tests/baseline_images/test_collections/EventCollection_plot__extend_positions.pdf\n",
      "/System/Library/Frameworks/Python.framework/Versions/2.7/Extras/lib/python/matplotlib/tests/baseline_images/test_collections/EventCollection_plot__set_color.pdf\n",
      "/System/Library/Frameworks/Python.framework/Versions/2.7/Extras/lib/python/matplotlib/tests/baseline_images/test_collections/EventCollection_plot__set_linelength.pdf\n",
      "/System/Library/Frameworks/Python.framework/Versions/2.7/Extras/lib/python/matplotlib/tests/baseline_images/test_collections/EventCollection_plot__set_lineoffset.pdf\n",
      "/System/Library/Frameworks/Python.framework/Versions/2.7/Extras/lib/python/matplotlib/tests/baseline_images/test_collections/EventCollection_plot__set_linestyle.pdf\n",
      "/System/Library/Frameworks/Python.framework/Versions/2.7/Extras/lib/python/matplotlib/tests/baseline_images/test_collections/EventCollection_plot__set_linewidth.pdf\n",
      "/System/Library/Frameworks/Python.framework/Versions/2.7/Extras/lib/python/matplotlib/tests/baseline_images/test_collections/EventCollection_plot__set_orientation.pdf\n",
      "/System/Library/Frameworks/Python.framework/Versions/2.7/Extras/lib/python/matplotlib/tests/baseline_images/test_collections/EventCollection_plot__set_positions.pdf\n",
      "/System/Library/Frameworks/Python.framework/Versions/2.7/Extras/lib/python/matplotlib/tests/baseline_images/test_collections/EventCollection_plot__switch_orientation.pdf\n",
      "/System/Library/Frameworks/Python.framework/Versions/2.7/Extras/lib/python/matplotlib/tests/baseline_images/test_collections/EventCollection_plot__switch_orientation__2x.pdf\n",
      "/System/Library/Frameworks/Python.framework/Versions/2.7/Extras/lib/python/matplotlib/tests/baseline_images/test_contour/contour_manual_labels.pdf\n",
      "/System/Library/Frameworks/Python.framework/Versions/2.7/Extras/lib/python/matplotlib/tests/baseline_images/test_figure/figure_suptitle.pdf\n",
      "/System/Library/Frameworks/Python.framework/Versions/2.7/Extras/lib/python/matplotlib/tests/baseline_images/test_figure/figure_today.pdf\n",
      "/System/Library/Frameworks/Python.framework/Versions/2.7/Extras/lib/python/matplotlib/tests/baseline_images/test_image/image_clip.pdf\n",
      "/System/Library/Frameworks/Python.framework/Versions/2.7/Extras/lib/python/matplotlib/tests/baseline_images/test_image/image_composite_alpha.pdf\n",
      "/System/Library/Frameworks/Python.framework/Versions/2.7/Extras/lib/python/matplotlib/tests/baseline_images/test_image/image_composite_background.pdf\n",
      "/System/Library/Frameworks/Python.framework/Versions/2.7/Extras/lib/python/matplotlib/tests/baseline_images/test_image/image_interps.pdf\n",
      "/System/Library/Frameworks/Python.framework/Versions/2.7/Extras/lib/python/matplotlib/tests/baseline_images/test_image/image_shift.pdf\n",
      "/System/Library/Frameworks/Python.framework/Versions/2.7/Extras/lib/python/matplotlib/tests/baseline_images/test_image/imshow.pdf\n",
      "/System/Library/Frameworks/Python.framework/Versions/2.7/Extras/lib/python/matplotlib/tests/baseline_images/test_image/interp_nearest_vs_none.pdf\n",
      "/System/Library/Frameworks/Python.framework/Versions/2.7/Extras/lib/python/matplotlib/tests/baseline_images/test_image/no_interpolation_origin.pdf\n",
      "/System/Library/Frameworks/Python.framework/Versions/2.7/Extras/lib/python/matplotlib/tests/baseline_images/test_image/rasterize_10dpi.pdf\n",
      "/System/Library/Frameworks/Python.framework/Versions/2.7/Extras/lib/python/matplotlib/tests/baseline_images/test_legend/fancy.pdf\n",
      "/System/Library/Frameworks/Python.framework/Versions/2.7/Extras/lib/python/matplotlib/tests/baseline_images/test_legend/framealpha.pdf\n",
      "/System/Library/Frameworks/Python.framework/Versions/2.7/Extras/lib/python/matplotlib/tests/baseline_images/test_legend/legend_auto1.pdf\n",
      "/System/Library/Frameworks/Python.framework/Versions/2.7/Extras/lib/python/matplotlib/tests/baseline_images/test_legend/legend_auto2.pdf\n",
      "/System/Library/Frameworks/Python.framework/Versions/2.7/Extras/lib/python/matplotlib/tests/baseline_images/test_legend/legend_auto3.pdf\n",
      "/System/Library/Frameworks/Python.framework/Versions/2.7/Extras/lib/python/matplotlib/tests/baseline_images/test_legend/legend_expand.pdf\n",
      "/System/Library/Frameworks/Python.framework/Versions/2.7/Extras/lib/python/matplotlib/tests/baseline_images/test_legend/legend_various_labels.pdf\n",
      "/System/Library/Frameworks/Python.framework/Versions/2.7/Extras/lib/python/matplotlib/tests/baseline_images/test_legend/scatter_rc1.pdf\n",
      "/System/Library/Frameworks/Python.framework/Versions/2.7/Extras/lib/python/matplotlib/tests/baseline_images/test_legend/scatter_rc3.pdf\n",
      "/System/Library/Frameworks/Python.framework/Versions/2.7/Extras/lib/python/matplotlib/tests/baseline_images/test_lines/line_collection_dashes.pdf\n",
      "/System/Library/Frameworks/Python.framework/Versions/2.7/Extras/lib/python/matplotlib/tests/baseline_images/test_mathtext/mathtext_cm_00.pdf\n",
      "/System/Library/Frameworks/Python.framework/Versions/2.7/Extras/lib/python/matplotlib/tests/baseline_images/test_mathtext/mathtext_cm_01.pdf\n",
      "/System/Library/Frameworks/Python.framework/Versions/2.7/Extras/lib/python/matplotlib/tests/baseline_images/test_mathtext/mathtext_cm_02.pdf\n",
      "/System/Library/Frameworks/Python.framework/Versions/2.7/Extras/lib/python/matplotlib/tests/baseline_images/test_mathtext/mathtext_cm_03.pdf\n",
      "/System/Library/Frameworks/Python.framework/Versions/2.7/Extras/lib/python/matplotlib/tests/baseline_images/test_mathtext/mathtext_cm_04.pdf\n",
      "/System/Library/Frameworks/Python.framework/Versions/2.7/Extras/lib/python/matplotlib/tests/baseline_images/test_mathtext/mathtext_cm_05.pdf\n",
      "/System/Library/Frameworks/Python.framework/Versions/2.7/Extras/lib/python/matplotlib/tests/baseline_images/test_mathtext/mathtext_cm_06.pdf\n",
      "/System/Library/Frameworks/Python.framework/Versions/2.7/Extras/lib/python/matplotlib/tests/baseline_images/test_mathtext/mathtext_cm_07.pdf\n",
      "/System/Library/Frameworks/Python.framework/Versions/2.7/Extras/lib/python/matplotlib/tests/baseline_images/test_mathtext/mathtext_cm_08.pdf\n",
      "/System/Library/Frameworks/Python.framework/Versions/2.7/Extras/lib/python/matplotlib/tests/baseline_images/test_mathtext/mathtext_cm_09.pdf\n",
      "/System/Library/Frameworks/Python.framework/Versions/2.7/Extras/lib/python/matplotlib/tests/baseline_images/test_mathtext/mathtext_cm_10.pdf\n",
      "/System/Library/Frameworks/Python.framework/Versions/2.7/Extras/lib/python/matplotlib/tests/baseline_images/test_mathtext/mathtext_cm_11.pdf\n",
      "/System/Library/Frameworks/Python.framework/Versions/2.7/Extras/lib/python/matplotlib/tests/baseline_images/test_mathtext/mathtext_cm_12.pdf\n",
      "/System/Library/Frameworks/Python.framework/Versions/2.7/Extras/lib/python/matplotlib/tests/baseline_images/test_mathtext/mathtext_cm_13.pdf\n",
      "/System/Library/Frameworks/Python.framework/Versions/2.7/Extras/lib/python/matplotlib/tests/baseline_images/test_mathtext/mathtext_cm_14.pdf\n",
      "/System/Library/Frameworks/Python.framework/Versions/2.7/Extras/lib/python/matplotlib/tests/baseline_images/test_mathtext/mathtext_cm_15.pdf\n",
      "/System/Library/Frameworks/Python.framework/Versions/2.7/Extras/lib/python/matplotlib/tests/baseline_images/test_mathtext/mathtext_cm_16.pdf\n",
      "/System/Library/Frameworks/Python.framework/Versions/2.7/Extras/lib/python/matplotlib/tests/baseline_images/test_mathtext/mathtext_cm_17.pdf\n",
      "/System/Library/Frameworks/Python.framework/Versions/2.7/Extras/lib/python/matplotlib/tests/baseline_images/test_mathtext/mathtext_cm_18.pdf\n",
      "/System/Library/Frameworks/Python.framework/Versions/2.7/Extras/lib/python/matplotlib/tests/baseline_images/test_mathtext/mathtext_cm_19.pdf\n",
      "/System/Library/Frameworks/Python.framework/Versions/2.7/Extras/lib/python/matplotlib/tests/baseline_images/test_mathtext/mathtext_cm_20.pdf\n",
      "/System/Library/Frameworks/Python.framework/Versions/2.7/Extras/lib/python/matplotlib/tests/baseline_images/test_mathtext/mathtext_cm_21.pdf\n",
      "/System/Library/Frameworks/Python.framework/Versions/2.7/Extras/lib/python/matplotlib/tests/baseline_images/test_mathtext/mathtext_cm_22.pdf\n",
      "/System/Library/Frameworks/Python.framework/Versions/2.7/Extras/lib/python/matplotlib/tests/baseline_images/test_mathtext/mathtext_cm_23.pdf\n",
      "/System/Library/Frameworks/Python.framework/Versions/2.7/Extras/lib/python/matplotlib/tests/baseline_images/test_mathtext/mathtext_cm_24.pdf\n",
      "/System/Library/Frameworks/Python.framework/Versions/2.7/Extras/lib/python/matplotlib/tests/baseline_images/test_mathtext/mathtext_cm_25.pdf\n",
      "/System/Library/Frameworks/Python.framework/Versions/2.7/Extras/lib/python/matplotlib/tests/baseline_images/test_mathtext/mathtext_cm_26.pdf\n",
      "/System/Library/Frameworks/Python.framework/Versions/2.7/Extras/lib/python/matplotlib/tests/baseline_images/test_mathtext/mathtext_cm_27.pdf\n",
      "/System/Library/Frameworks/Python.framework/Versions/2.7/Extras/lib/python/matplotlib/tests/baseline_images/test_mathtext/mathtext_cm_28.pdf\n",
      "/System/Library/Frameworks/Python.framework/Versions/2.7/Extras/lib/python/matplotlib/tests/baseline_images/test_mathtext/mathtext_cm_29.pdf\n",
      "/System/Library/Frameworks/Python.framework/Versions/2.7/Extras/lib/python/matplotlib/tests/baseline_images/test_mathtext/mathtext_cm_30.pdf\n",
      "/System/Library/Frameworks/Python.framework/Versions/2.7/Extras/lib/python/matplotlib/tests/baseline_images/test_mathtext/mathtext_cm_31.pdf\n",
      "/System/Library/Frameworks/Python.framework/Versions/2.7/Extras/lib/python/matplotlib/tests/baseline_images/test_mathtext/mathtext_cm_32.pdf\n",
      "/System/Library/Frameworks/Python.framework/Versions/2.7/Extras/lib/python/matplotlib/tests/baseline_images/test_mathtext/mathtext_cm_33.pdf\n",
      "/System/Library/Frameworks/Python.framework/Versions/2.7/Extras/lib/python/matplotlib/tests/baseline_images/test_mathtext/mathtext_cm_34.pdf\n",
      "/System/Library/Frameworks/Python.framework/Versions/2.7/Extras/lib/python/matplotlib/tests/baseline_images/test_mathtext/mathtext_cm_35.pdf\n",
      "/System/Library/Frameworks/Python.framework/Versions/2.7/Extras/lib/python/matplotlib/tests/baseline_images/test_mathtext/mathtext_cm_36.pdf\n",
      "/System/Library/Frameworks/Python.framework/Versions/2.7/Extras/lib/python/matplotlib/tests/baseline_images/test_mathtext/mathtext_cm_37.pdf\n",
      "/System/Library/Frameworks/Python.framework/Versions/2.7/Extras/lib/python/matplotlib/tests/baseline_images/test_mathtext/mathtext_cm_38.pdf\n",
      "/System/Library/Frameworks/Python.framework/Versions/2.7/Extras/lib/python/matplotlib/tests/baseline_images/test_mathtext/mathtext_cm_39.pdf\n",
      "/System/Library/Frameworks/Python.framework/Versions/2.7/Extras/lib/python/matplotlib/tests/baseline_images/test_mathtext/mathtext_cm_40.pdf\n",
      "/System/Library/Frameworks/Python.framework/Versions/2.7/Extras/lib/python/matplotlib/tests/baseline_images/test_mathtext/mathtext_cm_41.pdf\n",
      "/System/Library/Frameworks/Python.framework/Versions/2.7/Extras/lib/python/matplotlib/tests/baseline_images/test_mathtext/mathtext_cm_42.pdf\n",
      "/System/Library/Frameworks/Python.framework/Versions/2.7/Extras/lib/python/matplotlib/tests/baseline_images/test_mathtext/mathtext_cm_43.pdf\n",
      "/System/Library/Frameworks/Python.framework/Versions/2.7/Extras/lib/python/matplotlib/tests/baseline_images/test_mathtext/mathtext_cm_44.pdf\n",
      "/System/Library/Frameworks/Python.framework/Versions/2.7/Extras/lib/python/matplotlib/tests/baseline_images/test_mathtext/mathtext_cm_45.pdf\n",
      "/System/Library/Frameworks/Python.framework/Versions/2.7/Extras/lib/python/matplotlib/tests/baseline_images/test_mathtext/mathtext_cm_46.pdf\n",
      "/System/Library/Frameworks/Python.framework/Versions/2.7/Extras/lib/python/matplotlib/tests/baseline_images/test_mathtext/mathtext_cm_47.pdf\n",
      "/System/Library/Frameworks/Python.framework/Versions/2.7/Extras/lib/python/matplotlib/tests/baseline_images/test_mathtext/mathtext_cm_48.pdf\n",
      "/System/Library/Frameworks/Python.framework/Versions/2.7/Extras/lib/python/matplotlib/tests/baseline_images/test_mathtext/mathtext_cm_49.pdf\n",
      "/System/Library/Frameworks/Python.framework/Versions/2.7/Extras/lib/python/matplotlib/tests/baseline_images/test_mathtext/mathtext_cm_50.pdf\n",
      "/System/Library/Frameworks/Python.framework/Versions/2.7/Extras/lib/python/matplotlib/tests/baseline_images/test_mathtext/mathtext_cm_51.pdf\n",
      "/System/Library/Frameworks/Python.framework/Versions/2.7/Extras/lib/python/matplotlib/tests/baseline_images/test_mathtext/mathtext_cm_52.pdf\n",
      "/System/Library/Frameworks/Python.framework/Versions/2.7/Extras/lib/python/matplotlib/tests/baseline_images/test_mathtext/mathtext_cm_53.pdf\n",
      "/System/Library/Frameworks/Python.framework/Versions/2.7/Extras/lib/python/matplotlib/tests/baseline_images/test_mathtext/mathtext_cm_54.pdf\n",
      "/System/Library/Frameworks/Python.framework/Versions/2.7/Extras/lib/python/matplotlib/tests/baseline_images/test_mathtext/mathtext_cm_55.pdf\n",
      "/System/Library/Frameworks/Python.framework/Versions/2.7/Extras/lib/python/matplotlib/tests/baseline_images/test_mathtext/mathtext_cm_56.pdf\n",
      "/System/Library/Frameworks/Python.framework/Versions/2.7/Extras/lib/python/matplotlib/tests/baseline_images/test_mathtext/mathtext_cm_57.pdf\n",
      "/System/Library/Frameworks/Python.framework/Versions/2.7/Extras/lib/python/matplotlib/tests/baseline_images/test_mathtext/mathtext_cm_58.pdf\n",
      "/System/Library/Frameworks/Python.framework/Versions/2.7/Extras/lib/python/matplotlib/tests/baseline_images/test_mathtext/mathtext_cm_59.pdf\n",
      "/System/Library/Frameworks/Python.framework/Versions/2.7/Extras/lib/python/matplotlib/tests/baseline_images/test_mathtext/mathtext_cm_60.pdf\n",
      "/System/Library/Frameworks/Python.framework/Versions/2.7/Extras/lib/python/matplotlib/tests/baseline_images/test_mathtext/mathtext_cm_61.pdf\n",
      "/System/Library/Frameworks/Python.framework/Versions/2.7/Extras/lib/python/matplotlib/tests/baseline_images/test_mathtext/mathtext_cm_62.pdf\n",
      "/System/Library/Frameworks/Python.framework/Versions/2.7/Extras/lib/python/matplotlib/tests/baseline_images/test_mathtext/mathtext_cm_63.pdf\n",
      "/System/Library/Frameworks/Python.framework/Versions/2.7/Extras/lib/python/matplotlib/tests/baseline_images/test_mathtext/mathtext_cm_64.pdf\n",
      "/System/Library/Frameworks/Python.framework/Versions/2.7/Extras/lib/python/matplotlib/tests/baseline_images/test_mathtext/mathtext_cm_65.pdf\n",
      "/System/Library/Frameworks/Python.framework/Versions/2.7/Extras/lib/python/matplotlib/tests/baseline_images/test_mathtext/mathtext_cm_66.pdf\n",
      "/System/Library/Frameworks/Python.framework/Versions/2.7/Extras/lib/python/matplotlib/tests/baseline_images/test_mathtext/mathtext_cm_67.pdf\n",
      "/System/Library/Frameworks/Python.framework/Versions/2.7/Extras/lib/python/matplotlib/tests/baseline_images/test_mathtext/mathtext_stix_00.pdf\n",
      "/System/Library/Frameworks/Python.framework/Versions/2.7/Extras/lib/python/matplotlib/tests/baseline_images/test_mathtext/mathtext_stix_01.pdf\n",
      "/System/Library/Frameworks/Python.framework/Versions/2.7/Extras/lib/python/matplotlib/tests/baseline_images/test_mathtext/mathtext_stix_02.pdf\n",
      "/System/Library/Frameworks/Python.framework/Versions/2.7/Extras/lib/python/matplotlib/tests/baseline_images/test_mathtext/mathtext_stix_03.pdf\n",
      "/System/Library/Frameworks/Python.framework/Versions/2.7/Extras/lib/python/matplotlib/tests/baseline_images/test_mathtext/mathtext_stix_04.pdf\n",
      "/System/Library/Frameworks/Python.framework/Versions/2.7/Extras/lib/python/matplotlib/tests/baseline_images/test_mathtext/mathtext_stix_05.pdf\n",
      "/System/Library/Frameworks/Python.framework/Versions/2.7/Extras/lib/python/matplotlib/tests/baseline_images/test_mathtext/mathtext_stix_06.pdf\n",
      "/System/Library/Frameworks/Python.framework/Versions/2.7/Extras/lib/python/matplotlib/tests/baseline_images/test_mathtext/mathtext_stix_07.pdf\n",
      "/System/Library/Frameworks/Python.framework/Versions/2.7/Extras/lib/python/matplotlib/tests/baseline_images/test_mathtext/mathtext_stix_08.pdf\n",
      "/System/Library/Frameworks/Python.framework/Versions/2.7/Extras/lib/python/matplotlib/tests/baseline_images/test_mathtext/mathtext_stix_09.pdf\n",
      "/System/Library/Frameworks/Python.framework/Versions/2.7/Extras/lib/python/matplotlib/tests/baseline_images/test_mathtext/mathtext_stix_10.pdf\n",
      "/System/Library/Frameworks/Python.framework/Versions/2.7/Extras/lib/python/matplotlib/tests/baseline_images/test_mathtext/mathtext_stix_11.pdf\n",
      "/System/Library/Frameworks/Python.framework/Versions/2.7/Extras/lib/python/matplotlib/tests/baseline_images/test_mathtext/mathtext_stix_12.pdf\n",
      "/System/Library/Frameworks/Python.framework/Versions/2.7/Extras/lib/python/matplotlib/tests/baseline_images/test_mathtext/mathtext_stix_13.pdf\n",
      "/System/Library/Frameworks/Python.framework/Versions/2.7/Extras/lib/python/matplotlib/tests/baseline_images/test_mathtext/mathtext_stix_14.pdf\n",
      "/System/Library/Frameworks/Python.framework/Versions/2.7/Extras/lib/python/matplotlib/tests/baseline_images/test_mathtext/mathtext_stix_15.pdf\n",
      "/System/Library/Frameworks/Python.framework/Versions/2.7/Extras/lib/python/matplotlib/tests/baseline_images/test_mathtext/mathtext_stix_16.pdf\n",
      "/System/Library/Frameworks/Python.framework/Versions/2.7/Extras/lib/python/matplotlib/tests/baseline_images/test_mathtext/mathtext_stix_17.pdf\n",
      "/System/Library/Frameworks/Python.framework/Versions/2.7/Extras/lib/python/matplotlib/tests/baseline_images/test_mathtext/mathtext_stix_18.pdf\n",
      "/System/Library/Frameworks/Python.framework/Versions/2.7/Extras/lib/python/matplotlib/tests/baseline_images/test_mathtext/mathtext_stix_19.pdf\n",
      "/System/Library/Frameworks/Python.framework/Versions/2.7/Extras/lib/python/matplotlib/tests/baseline_images/test_mathtext/mathtext_stix_20.pdf\n",
      "/System/Library/Frameworks/Python.framework/Versions/2.7/Extras/lib/python/matplotlib/tests/baseline_images/test_mathtext/mathtext_stix_21.pdf\n",
      "/System/Library/Frameworks/Python.framework/Versions/2.7/Extras/lib/python/matplotlib/tests/baseline_images/test_mathtext/mathtext_stix_22.pdf\n",
      "/System/Library/Frameworks/Python.framework/Versions/2.7/Extras/lib/python/matplotlib/tests/baseline_images/test_mathtext/mathtext_stix_23.pdf\n",
      "/System/Library/Frameworks/Python.framework/Versions/2.7/Extras/lib/python/matplotlib/tests/baseline_images/test_mathtext/mathtext_stix_24.pdf\n",
      "/System/Library/Frameworks/Python.framework/Versions/2.7/Extras/lib/python/matplotlib/tests/baseline_images/test_mathtext/mathtext_stix_25.pdf\n",
      "/System/Library/Frameworks/Python.framework/Versions/2.7/Extras/lib/python/matplotlib/tests/baseline_images/test_mathtext/mathtext_stix_26.pdf\n",
      "/System/Library/Frameworks/Python.framework/Versions/2.7/Extras/lib/python/matplotlib/tests/baseline_images/test_mathtext/mathtext_stix_27.pdf\n",
      "/System/Library/Frameworks/Python.framework/Versions/2.7/Extras/lib/python/matplotlib/tests/baseline_images/test_mathtext/mathtext_stix_28.pdf\n",
      "/System/Library/Frameworks/Python.framework/Versions/2.7/Extras/lib/python/matplotlib/tests/baseline_images/test_mathtext/mathtext_stix_29.pdf\n",
      "/System/Library/Frameworks/Python.framework/Versions/2.7/Extras/lib/python/matplotlib/tests/baseline_images/test_mathtext/mathtext_stix_30.pdf\n",
      "/System/Library/Frameworks/Python.framework/Versions/2.7/Extras/lib/python/matplotlib/tests/baseline_images/test_mathtext/mathtext_stix_31.pdf\n",
      "/System/Library/Frameworks/Python.framework/Versions/2.7/Extras/lib/python/matplotlib/tests/baseline_images/test_mathtext/mathtext_stix_32.pdf\n",
      "/System/Library/Frameworks/Python.framework/Versions/2.7/Extras/lib/python/matplotlib/tests/baseline_images/test_mathtext/mathtext_stix_33.pdf\n",
      "/System/Library/Frameworks/Python.framework/Versions/2.7/Extras/lib/python/matplotlib/tests/baseline_images/test_mathtext/mathtext_stix_34.pdf\n",
      "/System/Library/Frameworks/Python.framework/Versions/2.7/Extras/lib/python/matplotlib/tests/baseline_images/test_mathtext/mathtext_stix_35.pdf\n",
      "/System/Library/Frameworks/Python.framework/Versions/2.7/Extras/lib/python/matplotlib/tests/baseline_images/test_mathtext/mathtext_stix_36.pdf\n",
      "/System/Library/Frameworks/Python.framework/Versions/2.7/Extras/lib/python/matplotlib/tests/baseline_images/test_mathtext/mathtext_stix_37.pdf\n",
      "/System/Library/Frameworks/Python.framework/Versions/2.7/Extras/lib/python/matplotlib/tests/baseline_images/test_mathtext/mathtext_stix_38.pdf\n",
      "/System/Library/Frameworks/Python.framework/Versions/2.7/Extras/lib/python/matplotlib/tests/baseline_images/test_mathtext/mathtext_stix_39.pdf\n",
      "/System/Library/Frameworks/Python.framework/Versions/2.7/Extras/lib/python/matplotlib/tests/baseline_images/test_mathtext/mathtext_stix_40.pdf\n",
      "/System/Library/Frameworks/Python.framework/Versions/2.7/Extras/lib/python/matplotlib/tests/baseline_images/test_mathtext/mathtext_stix_41.pdf\n",
      "/System/Library/Frameworks/Python.framework/Versions/2.7/Extras/lib/python/matplotlib/tests/baseline_images/test_mathtext/mathtext_stix_42.pdf\n",
      "/System/Library/Frameworks/Python.framework/Versions/2.7/Extras/lib/python/matplotlib/tests/baseline_images/test_mathtext/mathtext_stix_43.pdf\n",
      "/System/Library/Frameworks/Python.framework/Versions/2.7/Extras/lib/python/matplotlib/tests/baseline_images/test_mathtext/mathtext_stix_44.pdf\n",
      "/System/Library/Frameworks/Python.framework/Versions/2.7/Extras/lib/python/matplotlib/tests/baseline_images/test_mathtext/mathtext_stix_45.pdf\n",
      "/System/Library/Frameworks/Python.framework/Versions/2.7/Extras/lib/python/matplotlib/tests/baseline_images/test_mathtext/mathtext_stix_46.pdf\n",
      "/System/Library/Frameworks/Python.framework/Versions/2.7/Extras/lib/python/matplotlib/tests/baseline_images/test_mathtext/mathtext_stix_47.pdf\n",
      "/System/Library/Frameworks/Python.framework/Versions/2.7/Extras/lib/python/matplotlib/tests/baseline_images/test_mathtext/mathtext_stix_48.pdf\n",
      "/System/Library/Frameworks/Python.framework/Versions/2.7/Extras/lib/python/matplotlib/tests/baseline_images/test_mathtext/mathtext_stix_49.pdf\n",
      "/System/Library/Frameworks/Python.framework/Versions/2.7/Extras/lib/python/matplotlib/tests/baseline_images/test_mathtext/mathtext_stix_50.pdf\n",
      "/System/Library/Frameworks/Python.framework/Versions/2.7/Extras/lib/python/matplotlib/tests/baseline_images/test_mathtext/mathtext_stix_51.pdf\n",
      "/System/Library/Frameworks/Python.framework/Versions/2.7/Extras/lib/python/matplotlib/tests/baseline_images/test_mathtext/mathtext_stix_52.pdf\n",
      "/System/Library/Frameworks/Python.framework/Versions/2.7/Extras/lib/python/matplotlib/tests/baseline_images/test_mathtext/mathtext_stix_53.pdf\n",
      "/System/Library/Frameworks/Python.framework/Versions/2.7/Extras/lib/python/matplotlib/tests/baseline_images/test_mathtext/mathtext_stix_54.pdf\n",
      "/System/Library/Frameworks/Python.framework/Versions/2.7/Extras/lib/python/matplotlib/tests/baseline_images/test_mathtext/mathtext_stix_55.pdf\n",
      "/System/Library/Frameworks/Python.framework/Versions/2.7/Extras/lib/python/matplotlib/tests/baseline_images/test_mathtext/mathtext_stix_56.pdf\n",
      "/System/Library/Frameworks/Python.framework/Versions/2.7/Extras/lib/python/matplotlib/tests/baseline_images/test_mathtext/mathtext_stix_57.pdf\n",
      "/System/Library/Frameworks/Python.framework/Versions/2.7/Extras/lib/python/matplotlib/tests/baseline_images/test_mathtext/mathtext_stix_58.pdf\n",
      "/System/Library/Frameworks/Python.framework/Versions/2.7/Extras/lib/python/matplotlib/tests/baseline_images/test_mathtext/mathtext_stix_59.pdf\n",
      "/System/Library/Frameworks/Python.framework/Versions/2.7/Extras/lib/python/matplotlib/tests/baseline_images/test_mathtext/mathtext_stix_60.pdf\n",
      "/System/Library/Frameworks/Python.framework/Versions/2.7/Extras/lib/python/matplotlib/tests/baseline_images/test_mathtext/mathtext_stix_61.pdf\n",
      "/System/Library/Frameworks/Python.framework/Versions/2.7/Extras/lib/python/matplotlib/tests/baseline_images/test_mathtext/mathtext_stix_62.pdf\n",
      "/System/Library/Frameworks/Python.framework/Versions/2.7/Extras/lib/python/matplotlib/tests/baseline_images/test_mathtext/mathtext_stix_63.pdf\n",
      "/System/Library/Frameworks/Python.framework/Versions/2.7/Extras/lib/python/matplotlib/tests/baseline_images/test_mathtext/mathtext_stix_64.pdf\n",
      "/System/Library/Frameworks/Python.framework/Versions/2.7/Extras/lib/python/matplotlib/tests/baseline_images/test_mathtext/mathtext_stix_65.pdf\n",
      "/System/Library/Frameworks/Python.framework/Versions/2.7/Extras/lib/python/matplotlib/tests/baseline_images/test_mathtext/mathtext_stix_66.pdf\n",
      "/System/Library/Frameworks/Python.framework/Versions/2.7/Extras/lib/python/matplotlib/tests/baseline_images/test_mathtext/mathtext_stix_67.pdf\n",
      "/System/Library/Frameworks/Python.framework/Versions/2.7/Extras/lib/python/matplotlib/tests/baseline_images/test_mathtext/mathtext_stixsans_00.pdf\n",
      "/System/Library/Frameworks/Python.framework/Versions/2.7/Extras/lib/python/matplotlib/tests/baseline_images/test_mathtext/mathtext_stixsans_01.pdf\n",
      "/System/Library/Frameworks/Python.framework/Versions/2.7/Extras/lib/python/matplotlib/tests/baseline_images/test_mathtext/mathtext_stixsans_02.pdf\n",
      "/System/Library/Frameworks/Python.framework/Versions/2.7/Extras/lib/python/matplotlib/tests/baseline_images/test_mathtext/mathtext_stixsans_03.pdf\n",
      "/System/Library/Frameworks/Python.framework/Versions/2.7/Extras/lib/python/matplotlib/tests/baseline_images/test_mathtext/mathtext_stixsans_04.pdf\n",
      "/System/Library/Frameworks/Python.framework/Versions/2.7/Extras/lib/python/matplotlib/tests/baseline_images/test_mathtext/mathtext_stixsans_05.pdf\n",
      "/System/Library/Frameworks/Python.framework/Versions/2.7/Extras/lib/python/matplotlib/tests/baseline_images/test_mathtext/mathtext_stixsans_06.pdf\n",
      "/System/Library/Frameworks/Python.framework/Versions/2.7/Extras/lib/python/matplotlib/tests/baseline_images/test_mathtext/mathtext_stixsans_07.pdf\n",
      "/System/Library/Frameworks/Python.framework/Versions/2.7/Extras/lib/python/matplotlib/tests/baseline_images/test_mathtext/mathtext_stixsans_08.pdf\n",
      "/System/Library/Frameworks/Python.framework/Versions/2.7/Extras/lib/python/matplotlib/tests/baseline_images/test_mathtext/mathtext_stixsans_09.pdf\n",
      "/System/Library/Frameworks/Python.framework/Versions/2.7/Extras/lib/python/matplotlib/tests/baseline_images/test_mathtext/mathtext_stixsans_10.pdf\n",
      "/System/Library/Frameworks/Python.framework/Versions/2.7/Extras/lib/python/matplotlib/tests/baseline_images/test_mathtext/mathtext_stixsans_11.pdf\n",
      "/System/Library/Frameworks/Python.framework/Versions/2.7/Extras/lib/python/matplotlib/tests/baseline_images/test_mathtext/mathtext_stixsans_12.pdf\n",
      "/System/Library/Frameworks/Python.framework/Versions/2.7/Extras/lib/python/matplotlib/tests/baseline_images/test_mathtext/mathtext_stixsans_13.pdf\n",
      "/System/Library/Frameworks/Python.framework/Versions/2.7/Extras/lib/python/matplotlib/tests/baseline_images/test_mathtext/mathtext_stixsans_14.pdf\n",
      "/System/Library/Frameworks/Python.framework/Versions/2.7/Extras/lib/python/matplotlib/tests/baseline_images/test_mathtext/mathtext_stixsans_15.pdf\n",
      "/System/Library/Frameworks/Python.framework/Versions/2.7/Extras/lib/python/matplotlib/tests/baseline_images/test_mathtext/mathtext_stixsans_16.pdf\n",
      "/System/Library/Frameworks/Python.framework/Versions/2.7/Extras/lib/python/matplotlib/tests/baseline_images/test_mathtext/mathtext_stixsans_17.pdf\n",
      "/System/Library/Frameworks/Python.framework/Versions/2.7/Extras/lib/python/matplotlib/tests/baseline_images/test_mathtext/mathtext_stixsans_18.pdf\n",
      "/System/Library/Frameworks/Python.framework/Versions/2.7/Extras/lib/python/matplotlib/tests/baseline_images/test_mathtext/mathtext_stixsans_19.pdf\n",
      "/System/Library/Frameworks/Python.framework/Versions/2.7/Extras/lib/python/matplotlib/tests/baseline_images/test_mathtext/mathtext_stixsans_20.pdf\n",
      "/System/Library/Frameworks/Python.framework/Versions/2.7/Extras/lib/python/matplotlib/tests/baseline_images/test_mathtext/mathtext_stixsans_21.pdf\n",
      "/System/Library/Frameworks/Python.framework/Versions/2.7/Extras/lib/python/matplotlib/tests/baseline_images/test_mathtext/mathtext_stixsans_22.pdf\n",
      "/System/Library/Frameworks/Python.framework/Versions/2.7/Extras/lib/python/matplotlib/tests/baseline_images/test_mathtext/mathtext_stixsans_23.pdf\n",
      "/System/Library/Frameworks/Python.framework/Versions/2.7/Extras/lib/python/matplotlib/tests/baseline_images/test_mathtext/mathtext_stixsans_24.pdf\n",
      "/System/Library/Frameworks/Python.framework/Versions/2.7/Extras/lib/python/matplotlib/tests/baseline_images/test_mathtext/mathtext_stixsans_25.pdf\n",
      "/System/Library/Frameworks/Python.framework/Versions/2.7/Extras/lib/python/matplotlib/tests/baseline_images/test_mathtext/mathtext_stixsans_26.pdf\n",
      "/System/Library/Frameworks/Python.framework/Versions/2.7/Extras/lib/python/matplotlib/tests/baseline_images/test_mathtext/mathtext_stixsans_27.pdf\n",
      "/System/Library/Frameworks/Python.framework/Versions/2.7/Extras/lib/python/matplotlib/tests/baseline_images/test_mathtext/mathtext_stixsans_28.pdf\n",
      "/System/Library/Frameworks/Python.framework/Versions/2.7/Extras/lib/python/matplotlib/tests/baseline_images/test_mathtext/mathtext_stixsans_29.pdf\n",
      "/System/Library/Frameworks/Python.framework/Versions/2.7/Extras/lib/python/matplotlib/tests/baseline_images/test_mathtext/mathtext_stixsans_30.pdf\n",
      "/System/Library/Frameworks/Python.framework/Versions/2.7/Extras/lib/python/matplotlib/tests/baseline_images/test_mathtext/mathtext_stixsans_31.pdf\n",
      "/System/Library/Frameworks/Python.framework/Versions/2.7/Extras/lib/python/matplotlib/tests/baseline_images/test_mathtext/mathtext_stixsans_32.pdf\n",
      "/System/Library/Frameworks/Python.framework/Versions/2.7/Extras/lib/python/matplotlib/tests/baseline_images/test_mathtext/mathtext_stixsans_33.pdf\n",
      "/System/Library/Frameworks/Python.framework/Versions/2.7/Extras/lib/python/matplotlib/tests/baseline_images/test_mathtext/mathtext_stixsans_34.pdf\n",
      "/System/Library/Frameworks/Python.framework/Versions/2.7/Extras/lib/python/matplotlib/tests/baseline_images/test_mathtext/mathtext_stixsans_35.pdf\n",
      "/System/Library/Frameworks/Python.framework/Versions/2.7/Extras/lib/python/matplotlib/tests/baseline_images/test_mathtext/mathtext_stixsans_36.pdf\n",
      "/System/Library/Frameworks/Python.framework/Versions/2.7/Extras/lib/python/matplotlib/tests/baseline_images/test_mathtext/mathtext_stixsans_37.pdf\n",
      "/System/Library/Frameworks/Python.framework/Versions/2.7/Extras/lib/python/matplotlib/tests/baseline_images/test_mathtext/mathtext_stixsans_38.pdf\n",
      "/System/Library/Frameworks/Python.framework/Versions/2.7/Extras/lib/python/matplotlib/tests/baseline_images/test_mathtext/mathtext_stixsans_39.pdf\n",
      "/System/Library/Frameworks/Python.framework/Versions/2.7/Extras/lib/python/matplotlib/tests/baseline_images/test_mathtext/mathtext_stixsans_40.pdf\n",
      "/System/Library/Frameworks/Python.framework/Versions/2.7/Extras/lib/python/matplotlib/tests/baseline_images/test_mathtext/mathtext_stixsans_41.pdf\n",
      "/System/Library/Frameworks/Python.framework/Versions/2.7/Extras/lib/python/matplotlib/tests/baseline_images/test_mathtext/mathtext_stixsans_42.pdf\n",
      "/System/Library/Frameworks/Python.framework/Versions/2.7/Extras/lib/python/matplotlib/tests/baseline_images/test_mathtext/mathtext_stixsans_43.pdf\n",
      "/System/Library/Frameworks/Python.framework/Versions/2.7/Extras/lib/python/matplotlib/tests/baseline_images/test_mathtext/mathtext_stixsans_44.pdf\n",
      "/System/Library/Frameworks/Python.framework/Versions/2.7/Extras/lib/python/matplotlib/tests/baseline_images/test_mathtext/mathtext_stixsans_45.pdf\n",
      "/System/Library/Frameworks/Python.framework/Versions/2.7/Extras/lib/python/matplotlib/tests/baseline_images/test_mathtext/mathtext_stixsans_46.pdf\n",
      "/System/Library/Frameworks/Python.framework/Versions/2.7/Extras/lib/python/matplotlib/tests/baseline_images/test_mathtext/mathtext_stixsans_47.pdf\n",
      "/System/Library/Frameworks/Python.framework/Versions/2.7/Extras/lib/python/matplotlib/tests/baseline_images/test_mathtext/mathtext_stixsans_48.pdf\n",
      "/System/Library/Frameworks/Python.framework/Versions/2.7/Extras/lib/python/matplotlib/tests/baseline_images/test_mathtext/mathtext_stixsans_49.pdf\n",
      "/System/Library/Frameworks/Python.framework/Versions/2.7/Extras/lib/python/matplotlib/tests/baseline_images/test_mathtext/mathtext_stixsans_50.pdf\n",
      "/System/Library/Frameworks/Python.framework/Versions/2.7/Extras/lib/python/matplotlib/tests/baseline_images/test_mathtext/mathtext_stixsans_51.pdf\n",
      "/System/Library/Frameworks/Python.framework/Versions/2.7/Extras/lib/python/matplotlib/tests/baseline_images/test_mathtext/mathtext_stixsans_52.pdf\n",
      "/System/Library/Frameworks/Python.framework/Versions/2.7/Extras/lib/python/matplotlib/tests/baseline_images/test_mathtext/mathtext_stixsans_53.pdf\n",
      "/System/Library/Frameworks/Python.framework/Versions/2.7/Extras/lib/python/matplotlib/tests/baseline_images/test_mathtext/mathtext_stixsans_54.pdf\n",
      "/System/Library/Frameworks/Python.framework/Versions/2.7/Extras/lib/python/matplotlib/tests/baseline_images/test_mathtext/mathtext_stixsans_55.pdf\n",
      "/System/Library/Frameworks/Python.framework/Versions/2.7/Extras/lib/python/matplotlib/tests/baseline_images/test_mathtext/mathtext_stixsans_56.pdf\n",
      "/System/Library/Frameworks/Python.framework/Versions/2.7/Extras/lib/python/matplotlib/tests/baseline_images/test_mathtext/mathtext_stixsans_57.pdf\n",
      "/System/Library/Frameworks/Python.framework/Versions/2.7/Extras/lib/python/matplotlib/tests/baseline_images/test_mathtext/mathtext_stixsans_58.pdf\n",
      "/System/Library/Frameworks/Python.framework/Versions/2.7/Extras/lib/python/matplotlib/tests/baseline_images/test_mathtext/mathtext_stixsans_59.pdf\n",
      "/System/Library/Frameworks/Python.framework/Versions/2.7/Extras/lib/python/matplotlib/tests/baseline_images/test_mathtext/mathtext_stixsans_60.pdf\n",
      "/System/Library/Frameworks/Python.framework/Versions/2.7/Extras/lib/python/matplotlib/tests/baseline_images/test_mathtext/mathtext_stixsans_61.pdf\n",
      "/System/Library/Frameworks/Python.framework/Versions/2.7/Extras/lib/python/matplotlib/tests/baseline_images/test_mathtext/mathtext_stixsans_62.pdf\n",
      "/System/Library/Frameworks/Python.framework/Versions/2.7/Extras/lib/python/matplotlib/tests/baseline_images/test_mathtext/mathtext_stixsans_63.pdf\n",
      "/System/Library/Frameworks/Python.framework/Versions/2.7/Extras/lib/python/matplotlib/tests/baseline_images/test_mathtext/mathtext_stixsans_64.pdf\n",
      "/System/Library/Frameworks/Python.framework/Versions/2.7/Extras/lib/python/matplotlib/tests/baseline_images/test_mathtext/mathtext_stixsans_65.pdf\n",
      "/System/Library/Frameworks/Python.framework/Versions/2.7/Extras/lib/python/matplotlib/tests/baseline_images/test_mathtext/mathtext_stixsans_66.pdf\n",
      "/System/Library/Frameworks/Python.framework/Versions/2.7/Extras/lib/python/matplotlib/tests/baseline_images/test_mathtext/mathtext_stixsans_67.pdf\n",
      "/System/Library/Frameworks/Python.framework/Versions/2.7/Extras/lib/python/matplotlib/tests/baseline_images/test_patches/clip_to_bbox.pdf\n",
      "/System/Library/Frameworks/Python.framework/Versions/2.7/Extras/lib/python/matplotlib/tests/baseline_images/test_patches/patch_alpha_coloring.pdf\n",
      "/System/Library/Frameworks/Python.framework/Versions/2.7/Extras/lib/python/matplotlib/tests/baseline_images/test_patches/patch_alpha_override.pdf\n",
      "/System/Library/Frameworks/Python.framework/Versions/2.7/Extras/lib/python/matplotlib/tests/baseline_images/test_patches/patch_custom_linestyle.pdf\n",
      "/System/Library/Frameworks/Python.framework/Versions/2.7/Extras/lib/python/matplotlib/tests/baseline_images/test_patheffects/patheffect1.pdf\n",
      "/System/Library/Frameworks/Python.framework/Versions/2.7/Extras/lib/python/matplotlib/tests/baseline_images/test_patheffects/patheffect2.pdf\n",
      "/System/Library/Frameworks/Python.framework/Versions/2.7/Extras/lib/python/matplotlib/tests/baseline_images/test_patheffects/patheffect3.pdf\n",
      "/System/Library/Frameworks/Python.framework/Versions/2.7/Extras/lib/python/matplotlib/tests/baseline_images/test_scale/log_scales.pdf\n",
      "/System/Library/Frameworks/Python.framework/Versions/2.7/Extras/lib/python/matplotlib/tests/baseline_images/test_simplification/clipper_edge.pdf\n",
      "/System/Library/Frameworks/Python.framework/Versions/2.7/Extras/lib/python/matplotlib/tests/baseline_images/test_simplification/clipping.pdf\n",
      "/System/Library/Frameworks/Python.framework/Versions/2.7/Extras/lib/python/matplotlib/tests/baseline_images/test_simplification/clipping_diamond.pdf\n",
      "/System/Library/Frameworks/Python.framework/Versions/2.7/Extras/lib/python/matplotlib/tests/baseline_images/test_simplification/clipping_with_nans.pdf\n",
      "/System/Library/Frameworks/Python.framework/Versions/2.7/Extras/lib/python/matplotlib/tests/baseline_images/test_simplification/fft_peaks.pdf\n",
      "/System/Library/Frameworks/Python.framework/Versions/2.7/Extras/lib/python/matplotlib/tests/baseline_images/test_simplification/hatch_simplify.pdf\n",
      "/System/Library/Frameworks/Python.framework/Versions/2.7/Extras/lib/python/matplotlib/tests/baseline_images/test_simplification/overflow.pdf\n",
      "/System/Library/Frameworks/Python.framework/Versions/2.7/Extras/lib/python/matplotlib/tests/baseline_images/test_simplification/para_equal_perp.pdf\n",
      "/System/Library/Frameworks/Python.framework/Versions/2.7/Extras/lib/python/matplotlib/tests/baseline_images/test_simplification/simplify_curve.pdf\n",
      "/System/Library/Frameworks/Python.framework/Versions/2.7/Extras/lib/python/matplotlib/tests/baseline_images/test_spines/spines_axes_positions.pdf\n",
      "/System/Library/Frameworks/Python.framework/Versions/2.7/Extras/lib/python/matplotlib/tests/baseline_images/test_spines/spines_data_positions.pdf\n",
      "/System/Library/Frameworks/Python.framework/Versions/2.7/Extras/lib/python/matplotlib/tests/baseline_images/test_streamplot/streamplot_colormap_test_image.pdf\n",
      "/System/Library/Frameworks/Python.framework/Versions/2.7/Extras/lib/python/matplotlib/tests/baseline_images/test_streamplot/streamplot_linewidth_test_image.pdf\n",
      "/System/Library/Frameworks/Python.framework/Versions/2.7/Extras/lib/python/matplotlib/tests/baseline_images/test_streamplot/streamplot_masks_and_nans_test_image.pdf\n",
      "/System/Library/Frameworks/Python.framework/Versions/2.7/Extras/lib/python/matplotlib/tests/baseline_images/test_subplots/subplots_offset_text.pdf\n",
      "/System/Library/Frameworks/Python.framework/Versions/2.7/Extras/lib/python/matplotlib/tests/baseline_images/test_text/font_styles.pdf\n",
      "/System/Library/Frameworks/Python.framework/Versions/2.7/Extras/lib/python/matplotlib/tests/baseline_images/test_text/multiline.pdf\n",
      "/System/Library/Frameworks/Python.framework/Versions/2.7/Extras/lib/python/matplotlib/tests/baseline_images/test_text/text_alignment.pdf\n",
      "/System/Library/Frameworks/Python.framework/Versions/2.7/Extras/lib/python/matplotlib/tests/baseline_images/test_text/titles.pdf\n",
      "/System/Library/Frameworks/Python.framework/Versions/2.7/Extras/lib/python/matplotlib/tests/baseline_images/test_tightlayout/tight_layout1.pdf\n",
      "/System/Library/Frameworks/Python.framework/Versions/2.7/Extras/lib/python/matplotlib/tests/baseline_images/test_tightlayout/tight_layout2.pdf\n",
      "/System/Library/Frameworks/Python.framework/Versions/2.7/Extras/lib/python/matplotlib/tests/baseline_images/test_tightlayout/tight_layout3.pdf\n",
      "/System/Library/Frameworks/Python.framework/Versions/2.7/Extras/lib/python/matplotlib/tests/baseline_images/test_tightlayout/tight_layout4.pdf\n",
      "/System/Library/Frameworks/Python.framework/Versions/2.7/Extras/lib/python/matplotlib/tests/baseline_images/test_tightlayout/tight_layout5.pdf\n",
      "/System/Library/Frameworks/Python.framework/Versions/2.7/Extras/lib/python/matplotlib/tests/baseline_images/test_tightlayout/tight_layout6.pdf\n",
      "/System/Library/Frameworks/Python.framework/Versions/2.7/Extras/lib/python/matplotlib/tests/baseline_images/test_tightlayout/tight_layout7.pdf\n",
      "/System/Library/Frameworks/Python.framework/Versions/2.7/Extras/lib/python/matplotlib/tests/baseline_images/test_tightlayout/tight_layout8.pdf\n",
      "/System/Library/Frameworks/Python.framework/Versions/2.7/Extras/lib/python/matplotlib/tests/baseline_images/test_transforms/pre_transform_data.pdf\n",
      "/System/Library/Frameworks/Python.framework/Versions/2.7/Extras/lib/python/matplotlib/tests/baseline_images/test_triangulation/tripcolor1.pdf\n",
      "/System/Library/Frameworks/Python.framework/Versions/2.7/Extras/lib/python/matplotlib/tests/baseline_images/test_ttconv/truetype-conversion.pdf\n",
      "/System/Library/Frameworks/Python.framework/Versions/2.7/Extras/lib/python/matplotlib/tests/test_backend_pdf.py\n",
      "/System/Library/Frameworks/Python.framework/Versions/2.7/Extras/lib/python/matplotlib/tests/test_backend_pdf.pyc\n"
     ]
    },
    {
     "name": "stdout",
     "output_type": "stream",
     "text": [
      "/Users/fonnescj/.julia/v0.6/Conda/deps/usr/lib/python2.7/site-packages/asn1crypto/pdf.py\r\n",
      "/Users/fonnescj/.julia/v0.6/Conda/deps/usr/lib/python2.7/site-packages/asn1crypto/pdf.pyc\r\n",
      "/Users/fonnescj/.julia/v0.6/Conda/deps/usr/lib/python2.7/site-packages/enum/doc/enum.pdf\r\n",
      "/Users/fonnescj/.julia/v0.6/Conda/deps/usr/lib/python2.7/site-packages/matplotlib/backends/backend_pdf.py\r\n",
      "/Users/fonnescj/.julia/v0.6/Conda/deps/usr/lib/python2.7/site-packages/matplotlib/backends/backend_pdf.pyc\r\n",
      "/Users/fonnescj/.julia/v0.6/Conda/deps/usr/lib/python2.7/site-packages/matplotlib/mpl-data/fonts/pdfcorefonts\r\n",
      "/Users/fonnescj/.julia/v0.6/Conda/deps/usr/lib/python2.7/site-packages/matplotlib/mpl-data/fonts/pdfcorefonts/Courier-Bold.afm\r\n",
      "/Users/fonnescj/.julia/v0.6/Conda/deps/usr/lib/python2.7/site-packages/matplotlib/mpl-data/fonts/pdfcorefonts/Courier-BoldOblique.afm\r\n",
      "/Users/fonnescj/.julia/v0.6/Conda/deps/usr/lib/python2.7/site-packages/matplotlib/mpl-data/fonts/pdfcorefonts/Courier-Oblique.afm\r\n",
      "/Users/fonnescj/.julia/v0.6/Conda/deps/usr/lib/python2.7/site-packages/matplotlib/mpl-data/fonts/pdfcorefonts/Courier.afm\r\n",
      "/Users/fonnescj/.julia/v0.6/Conda/deps/usr/lib/python2.7/site-packages/matplotlib/mpl-data/fonts/pdfcorefonts/Helvetica-Bold.afm\r\n",
      "/Users/fonnescj/.julia/v0.6/Conda/deps/usr/lib/python2.7/site-packages/matplotlib/mpl-data/fonts/pdfcorefonts/Helvetica-BoldOblique.afm\r\n",
      "/Users/fonnescj/.julia/v0.6/Conda/deps/usr/lib/python2.7/site-packages/matplotlib/mpl-data/fonts/pdfcorefonts/Helvetica-Oblique.afm\r\n",
      "/Users/fonnescj/.julia/v0.6/Conda/deps/usr/lib/python2.7/site-packages/matplotlib/mpl-data/fonts/pdfcorefonts/Helvetica.afm\r\n",
      "/Users/fonnescj/.julia/v0.6/Conda/deps/usr/lib/python2.7/site-packages/matplotlib/mpl-data/fonts/pdfcorefonts/Symbol.afm\r\n",
      "/Users/fonnescj/.julia/v0.6/Conda/deps/usr/lib/python2.7/site-packages/matplotlib/mpl-data/fonts/pdfcorefonts/Times-Bold.afm\r\n",
      "/Users/fonnescj/.julia/v0.6/Conda/deps/usr/lib/python2.7/site-packages/matplotlib/mpl-data/fonts/pdfcorefonts/Times-BoldItalic.afm\r\n",
      "/Users/fonnescj/.julia/v0.6/Conda/deps/usr/lib/python2.7/site-packages/matplotlib/mpl-data/fonts/pdfcorefonts/Times-Italic.afm\r\n",
      "/Users/fonnescj/.julia/v0.6/Conda/deps/usr/lib/python2.7/site-packages/matplotlib/mpl-data/fonts/pdfcorefonts/Times-Roman.afm\r\n",
      "/Users/fonnescj/.julia/v0.6/Conda/deps/usr/lib/python2.7/site-packages/matplotlib/mpl-data/fonts/pdfcorefonts/ZapfDingbats.afm\r\n",
      "/Users/fonnescj/.julia/v0.6/Conda/deps/usr/lib/python2.7/site-packages/matplotlib/mpl-data/fonts/pdfcorefonts/readme.txt\r\n",
      "/Users/fonnescj/.julia/v0.6/Conda/deps/usr/lib/python2.7/site-packages/matplotlib/mpl-data/images/back.pdf\r\n",
      "/Users/fonnescj/.julia/v0.6/Conda/deps/usr/lib/python2.7/site-packages/matplotlib/mpl-data/images/filesave.pdf\r\n",
      "/Users/fonnescj/.julia/v0.6/Conda/deps/usr/lib/python2.7/site-packages/matplotlib/mpl-data/images/forward.pdf\r\n",
      "/Users/fonnescj/.julia/v0.6/Conda/deps/usr/lib/python2.7/site-packages/matplotlib/mpl-data/images/hand.pdf\r\n",
      "/Users/fonnescj/.julia/v0.6/Conda/deps/usr/lib/python2.7/site-packages/matplotlib/mpl-data/images/home.pdf\r\n",
      "/Users/fonnescj/.julia/v0.6/Conda/deps/usr/lib/python2.7/site-packages/matplotlib/mpl-data/images/matplotlib.pdf\r\n",
      "/Users/fonnescj/.julia/v0.6/Conda/deps/usr/lib/python2.7/site-packages/matplotlib/mpl-data/images/move.pdf\r\n",
      "/Users/fonnescj/.julia/v0.6/Conda/deps/usr/lib/python2.7/site-packages/matplotlib/mpl-data/images/qt4_editor_options.pdf\r\n",
      "/Users/fonnescj/.julia/v0.6/Conda/deps/usr/lib/python2.7/site-packages/matplotlib/mpl-data/images/subplots.pdf\r\n",
      "/Users/fonnescj/.julia/v0.6/Conda/deps/usr/lib/python2.7/site-packages/matplotlib/mpl-data/images/zoom_to_rect.pdf\r\n",
      "/Users/fonnescj/.julia/v0.6/Conda/deps/usr/lib/python2.7/site-packages/matplotlib/mpl-data/sample_data/None_vs_nearest-pdf.png\r\n",
      "/Users/fonnescj/.julia/v0.6/Conda/deps/usr/lib/python2.7/site-packages/nbconvert/exporters/pdf.py\r\n",
      "/Users/fonnescj/.julia/v0.6/Conda/deps/usr/lib/python2.7/site-packages/nbconvert/exporters/pdf.pyc\r\n",
      "/Users/fonnescj/.julia/v0.6/Conda/deps/usr/lib/python2.7/site-packages/nbconvert/exporters/tests/test_pdf.py\r\n",
      "/Users/fonnescj/.julia/v0.6/Conda/deps/usr/lib/python2.7/site-packages/nbconvert/exporters/tests/test_pdf.pyc\r\n",
      "/Users/fonnescj/.julia/v0.6/Conda/deps/usr/lib/python2.7/site-packages/nbconvert/preprocessors/svg2pdf.py\r\n",
      "/Users/fonnescj/.julia/v0.6/Conda/deps/usr/lib/python2.7/site-packages/nbconvert/preprocessors/svg2pdf.pyc\r\n",
      "/Users/fonnescj/.julia/v0.6/Conda/deps/usr/lib/python2.7/site-packages/nbconvert/preprocessors/tests/test_svg2pdf.py\r\n",
      "/Users/fonnescj/.julia/v0.6/Conda/deps/usr/lib/python2.7/site-packages/nbconvert/preprocessors/tests/test_svg2pdf.pyc\r\n",
      "/Users/fonnescj/.julia/v0.6/Conda/deps/usr/pkgs/asn1crypto-0.22.0-py27_0/lib/python2.7/site-packages/asn1crypto/pdf.py\r\n",
      "/Users/fonnescj/.julia/v0.6/Conda/deps/usr/pkgs/asn1crypto-0.22.0-py27_0/lib/python2.7/site-packages/asn1crypto/pdf.pyc\r\n",
      "/Users/fonnescj/.julia/v0.6/Conda/deps/usr/pkgs/enum34-1.1.6-py27_0/lib/python2.7/site-packages/enum/doc/enum.pdf\r\n",
      "/Users/fonnescj/.julia/v0.6/Conda/deps/usr/pkgs/matplotlib-2.0.2-np113py27_0/lib/python2.7/site-packages/matplotlib/backends/backend_pdf.py\r\n",
      "/Users/fonnescj/.julia/v0.6/Conda/deps/usr/pkgs/matplotlib-2.0.2-np113py27_0/lib/python2.7/site-packages/matplotlib/backends/backend_pdf.pyc\r\n",
      "/Users/fonnescj/.julia/v0.6/Conda/deps/usr/pkgs/matplotlib-2.0.2-np113py27_0/lib/python2.7/site-packages/matplotlib/mpl-data/fonts/pdfcorefonts\r\n",
      "/Users/fonnescj/.julia/v0.6/Conda/deps/usr/pkgs/matplotlib-2.0.2-np113py27_0/lib/python2.7/site-packages/matplotlib/mpl-data/fonts/pdfcorefonts/Courier-Bold.afm\r\n",
      "/Users/fonnescj/.julia/v0.6/Conda/deps/usr/pkgs/matplotlib-2.0.2-np113py27_0/lib/python2.7/site-packages/matplotlib/mpl-data/fonts/pdfcorefonts/Courier-BoldOblique.afm\r\n",
      "/Users/fonnescj/.julia/v0.6/Conda/deps/usr/pkgs/matplotlib-2.0.2-np113py27_0/lib/python2.7/site-packages/matplotlib/mpl-data/fonts/pdfcorefonts/Courier-Oblique.afm\r\n",
      "/Users/fonnescj/.julia/v0.6/Conda/deps/usr/pkgs/matplotlib-2.0.2-np113py27_0/lib/python2.7/site-packages/matplotlib/mpl-data/fonts/pdfcorefonts/Courier.afm\r\n",
      "/Users/fonnescj/.julia/v0.6/Conda/deps/usr/pkgs/matplotlib-2.0.2-np113py27_0/lib/python2.7/site-packages/matplotlib/mpl-data/fonts/pdfcorefonts/Helvetica-Bold.afm\r\n",
      "/Users/fonnescj/.julia/v0.6/Conda/deps/usr/pkgs/matplotlib-2.0.2-np113py27_0/lib/python2.7/site-packages/matplotlib/mpl-data/fonts/pdfcorefonts/Helvetica-BoldOblique.afm\r\n",
      "/Users/fonnescj/.julia/v0.6/Conda/deps/usr/pkgs/matplotlib-2.0.2-np113py27_0/lib/python2.7/site-packages/matplotlib/mpl-data/fonts/pdfcorefonts/Helvetica-Oblique.afm\r\n",
      "/Users/fonnescj/.julia/v0.6/Conda/deps/usr/pkgs/matplotlib-2.0.2-np113py27_0/lib/python2.7/site-packages/matplotlib/mpl-data/fonts/pdfcorefonts/Helvetica.afm\r\n",
      "/Users/fonnescj/.julia/v0.6/Conda/deps/usr/pkgs/matplotlib-2.0.2-np113py27_0/lib/python2.7/site-packages/matplotlib/mpl-data/fonts/pdfcorefonts/Symbol.afm\r\n",
      "/Users/fonnescj/.julia/v0.6/Conda/deps/usr/pkgs/matplotlib-2.0.2-np113py27_0/lib/python2.7/site-packages/matplotlib/mpl-data/fonts/pdfcorefonts/Times-Bold.afm\r\n",
      "/Users/fonnescj/.julia/v0.6/Conda/deps/usr/pkgs/matplotlib-2.0.2-np113py27_0/lib/python2.7/site-packages/matplotlib/mpl-data/fonts/pdfcorefonts/Times-BoldItalic.afm\r\n",
      "/Users/fonnescj/.julia/v0.6/Conda/deps/usr/pkgs/matplotlib-2.0.2-np113py27_0/lib/python2.7/site-packages/matplotlib/mpl-data/fonts/pdfcorefonts/Times-Italic.afm\r\n",
      "/Users/fonnescj/.julia/v0.6/Conda/deps/usr/pkgs/matplotlib-2.0.2-np113py27_0/lib/python2.7/site-packages/matplotlib/mpl-data/fonts/pdfcorefonts/Times-Roman.afm\r\n",
      "/Users/fonnescj/.julia/v0.6/Conda/deps/usr/pkgs/matplotlib-2.0.2-np113py27_0/lib/python2.7/site-packages/matplotlib/mpl-data/fonts/pdfcorefonts/ZapfDingbats.afm\r\n",
      "/Users/fonnescj/.julia/v0.6/Conda/deps/usr/pkgs/matplotlib-2.0.2-np113py27_0/lib/python2.7/site-packages/matplotlib/mpl-data/fonts/pdfcorefonts/readme.txt\r\n",
      "/Users/fonnescj/.julia/v0.6/Conda/deps/usr/pkgs/matplotlib-2.0.2-np113py27_0/lib/python2.7/site-packages/matplotlib/mpl-data/images/back.pdf\r\n",
      "/Users/fonnescj/.julia/v0.6/Conda/deps/usr/pkgs/matplotlib-2.0.2-np113py27_0/lib/python2.7/site-packages/matplotlib/mpl-data/images/filesave.pdf\r\n",
      "/Users/fonnescj/.julia/v0.6/Conda/deps/usr/pkgs/matplotlib-2.0.2-np113py27_0/lib/python2.7/site-packages/matplotlib/mpl-data/images/forward.pdf\r\n",
      "/Users/fonnescj/.julia/v0.6/Conda/deps/usr/pkgs/matplotlib-2.0.2-np113py27_0/lib/python2.7/site-packages/matplotlib/mpl-data/images/hand.pdf\r\n",
      "/Users/fonnescj/.julia/v0.6/Conda/deps/usr/pkgs/matplotlib-2.0.2-np113py27_0/lib/python2.7/site-packages/matplotlib/mpl-data/images/home.pdf\r\n",
      "/Users/fonnescj/.julia/v0.6/Conda/deps/usr/pkgs/matplotlib-2.0.2-np113py27_0/lib/python2.7/site-packages/matplotlib/mpl-data/images/matplotlib.pdf\r\n",
      "/Users/fonnescj/.julia/v0.6/Conda/deps/usr/pkgs/matplotlib-2.0.2-np113py27_0/lib/python2.7/site-packages/matplotlib/mpl-data/images/move.pdf\r\n",
      "/Users/fonnescj/.julia/v0.6/Conda/deps/usr/pkgs/matplotlib-2.0.2-np113py27_0/lib/python2.7/site-packages/matplotlib/mpl-data/images/qt4_editor_options.pdf\r\n",
      "/Users/fonnescj/.julia/v0.6/Conda/deps/usr/pkgs/matplotlib-2.0.2-np113py27_0/lib/python2.7/site-packages/matplotlib/mpl-data/images/subplots.pdf\r\n",
      "/Users/fonnescj/.julia/v0.6/Conda/deps/usr/pkgs/matplotlib-2.0.2-np113py27_0/lib/python2.7/site-packages/matplotlib/mpl-data/images/zoom_to_rect.pdf\r\n",
      "/Users/fonnescj/.julia/v0.6/Conda/deps/usr/pkgs/matplotlib-2.0.2-np113py27_0/lib/python2.7/site-packages/matplotlib/mpl-data/sample_data/None_vs_nearest-pdf.png\r\n",
      "/Users/fonnescj/.julia/v0.6/Conda/deps/usr/pkgs/nbconvert-5.2.1-py27_0/lib/python2.7/site-packages/nbconvert/exporters/pdf.py\r\n",
      "/Users/fonnescj/.julia/v0.6/Conda/deps/usr/pkgs/nbconvert-5.2.1-py27_0/lib/python2.7/site-packages/nbconvert/exporters/pdf.pyc\r\n",
      "/Users/fonnescj/.julia/v0.6/Conda/deps/usr/pkgs/nbconvert-5.2.1-py27_0/lib/python2.7/site-packages/nbconvert/exporters/tests/test_pdf.py\r\n",
      "/Users/fonnescj/.julia/v0.6/Conda/deps/usr/pkgs/nbconvert-5.2.1-py27_0/lib/python2.7/site-packages/nbconvert/exporters/tests/test_pdf.pyc\r\n",
      "/Users/fonnescj/.julia/v0.6/Conda/deps/usr/pkgs/nbconvert-5.2.1-py27_0/lib/python2.7/site-packages/nbconvert/preprocessors/svg2pdf.py\r\n",
      "/Users/fonnescj/.julia/v0.6/Conda/deps/usr/pkgs/nbconvert-5.2.1-py27_0/lib/python2.7/site-packages/nbconvert/preprocessors/svg2pdf.pyc\r\n",
      "/Users/fonnescj/.julia/v0.6/Conda/deps/usr/pkgs/nbconvert-5.2.1-py27_0/lib/python2.7/site-packages/nbconvert/preprocessors/tests/test_svg2pdf.py\r\n",
      "/Users/fonnescj/.julia/v0.6/Conda/deps/usr/pkgs/nbconvert-5.2.1-py27_0/lib/python2.7/site-packages/nbconvert/preprocessors/tests/test_svg2pdf.pyc\r\n"
     ]
    },
    {
     "name": "stdout",
     "output_type": "stream",
     "text": [
      "/Users/fonnescj/.vscode/extensions/donjayamanne.python-0.7.0/node_modules/transformime/lib/pdf.transform.js\n",
      "/Users/fonnescj/.vscode/extensions/donjayamanne.python-0.7.0/node_modules/transformime/src/pdf.transform.js\n",
      "/Users/fonnescj/.vscode/extensions/donjayamanne.python-0.7.0/node_modules/transformime/test/pdf.transform.test.js\n",
      "/Users/fonnescj/.vscode/extensions/yzane.markdown-pdf-0.1.7/node_modules/highlight.js/lib/languages/python.js\n",
      "/Users/fonnescj/Repos/randpython/misc/mdsr-toc.pdf\n",
      "/Users/fonnescj/Repos/scientific-python-workshop/notebooks/images/360px-Exponential_pdf.svg.png\n",
      "/Users/fonnescj/Repos/scientific-python-workshop/notebooks/images/Gamma_distribution_pdf.svg.png\n",
      "/Users/fonnescj/Repos/statistical-analysis-python-tutorial/data/names/NationalReadMe.pdf\n",
      "/Users/fonnescj/anaconda3/envs/bios8366/lib/python3.6/site-packages/asn1crypto/__pycache__/pdf.cpython-36.pyc\n",
      "/Users/fonnescj/anaconda3/envs/bios8366/lib/python3.6/site-packages/asn1crypto/pdf.py\n",
      "/Users/fonnescj/anaconda3/envs/bios8366/lib/python3.6/site-packages/matplotlib/backends/__pycache__/backend_pdf.cpython-36.pyc\n",
      "/Users/fonnescj/anaconda3/envs/bios8366/lib/python3.6/site-packages/matplotlib/backends/backend_pdf.py\n",
      "/Users/fonnescj/anaconda3/envs/bios8366/lib/python3.6/site-packages/matplotlib/mpl-data/fonts/pdfcorefonts\n",
      "/Users/fonnescj/anaconda3/envs/bios8366/lib/python3.6/site-packages/matplotlib/mpl-data/fonts/pdfcorefonts/Courier-Bold.afm\n",
      "/Users/fonnescj/anaconda3/envs/bios8366/lib/python3.6/site-packages/matplotlib/mpl-data/fonts/pdfcorefonts/Courier-BoldOblique.afm\n",
      "/Users/fonnescj/anaconda3/envs/bios8366/lib/python3.6/site-packages/matplotlib/mpl-data/fonts/pdfcorefonts/Courier-Oblique.afm\n",
      "/Users/fonnescj/anaconda3/envs/bios8366/lib/python3.6/site-packages/matplotlib/mpl-data/fonts/pdfcorefonts/Courier.afm\n",
      "/Users/fonnescj/anaconda3/envs/bios8366/lib/python3.6/site-packages/matplotlib/mpl-data/fonts/pdfcorefonts/Helvetica-Bold.afm\n",
      "/Users/fonnescj/anaconda3/envs/bios8366/lib/python3.6/site-packages/matplotlib/mpl-data/fonts/pdfcorefonts/Helvetica-BoldOblique.afm\n",
      "/Users/fonnescj/anaconda3/envs/bios8366/lib/python3.6/site-packages/matplotlib/mpl-data/fonts/pdfcorefonts/Helvetica-Oblique.afm\n",
      "/Users/fonnescj/anaconda3/envs/bios8366/lib/python3.6/site-packages/matplotlib/mpl-data/fonts/pdfcorefonts/Helvetica.afm\n",
      "/Users/fonnescj/anaconda3/envs/bios8366/lib/python3.6/site-packages/matplotlib/mpl-data/fonts/pdfcorefonts/Symbol.afm\n",
      "/Users/fonnescj/anaconda3/envs/bios8366/lib/python3.6/site-packages/matplotlib/mpl-data/fonts/pdfcorefonts/Times-Bold.afm\n",
      "/Users/fonnescj/anaconda3/envs/bios8366/lib/python3.6/site-packages/matplotlib/mpl-data/fonts/pdfcorefonts/Times-BoldItalic.afm\n",
      "/Users/fonnescj/anaconda3/envs/bios8366/lib/python3.6/site-packages/matplotlib/mpl-data/fonts/pdfcorefonts/Times-Italic.afm\n",
      "/Users/fonnescj/anaconda3/envs/bios8366/lib/python3.6/site-packages/matplotlib/mpl-data/fonts/pdfcorefonts/Times-Roman.afm\n",
      "/Users/fonnescj/anaconda3/envs/bios8366/lib/python3.6/site-packages/matplotlib/mpl-data/fonts/pdfcorefonts/ZapfDingbats.afm\n",
      "/Users/fonnescj/anaconda3/envs/bios8366/lib/python3.6/site-packages/matplotlib/mpl-data/fonts/pdfcorefonts/readme.txt\n",
      "/Users/fonnescj/anaconda3/envs/bios8366/lib/python3.6/site-packages/matplotlib/mpl-data/images/back.pdf\n",
      "/Users/fonnescj/anaconda3/envs/bios8366/lib/python3.6/site-packages/matplotlib/mpl-data/images/filesave.pdf\n",
      "/Users/fonnescj/anaconda3/envs/bios8366/lib/python3.6/site-packages/matplotlib/mpl-data/images/forward.pdf\n",
      "/Users/fonnescj/anaconda3/envs/bios8366/lib/python3.6/site-packages/matplotlib/mpl-data/images/hand.pdf\n",
      "/Users/fonnescj/anaconda3/envs/bios8366/lib/python3.6/site-packages/matplotlib/mpl-data/images/home.pdf\n",
      "/Users/fonnescj/anaconda3/envs/bios8366/lib/python3.6/site-packages/matplotlib/mpl-data/images/matplotlib.pdf\n",
      "/Users/fonnescj/anaconda3/envs/bios8366/lib/python3.6/site-packages/matplotlib/mpl-data/images/move.pdf\n",
      "/Users/fonnescj/anaconda3/envs/bios8366/lib/python3.6/site-packages/matplotlib/mpl-data/images/qt4_editor_options.pdf\n",
      "/Users/fonnescj/anaconda3/envs/bios8366/lib/python3.6/site-packages/matplotlib/mpl-data/images/subplots.pdf\n",
      "/Users/fonnescj/anaconda3/envs/bios8366/lib/python3.6/site-packages/matplotlib/mpl-data/images/zoom_to_rect.pdf\n",
      "/Users/fonnescj/anaconda3/envs/bios8366/lib/python3.6/site-packages/nbconvert/exporters/__pycache__/pdf.cpython-36.pyc\n",
      "/Users/fonnescj/anaconda3/envs/bios8366/lib/python3.6/site-packages/nbconvert/exporters/pdf.py\n",
      "/Users/fonnescj/anaconda3/envs/bios8366/lib/python3.6/site-packages/nbconvert/exporters/tests/__pycache__/test_pdf.cpython-36.pyc\n",
      "/Users/fonnescj/anaconda3/envs/bios8366/lib/python3.6/site-packages/nbconvert/exporters/tests/test_pdf.py\n",
      "/Users/fonnescj/anaconda3/envs/bios8366/lib/python3.6/site-packages/nbconvert/preprocessors/__pycache__/svg2pdf.cpython-36.pyc\n",
      "/Users/fonnescj/anaconda3/envs/bios8366/lib/python3.6/site-packages/nbconvert/preprocessors/svg2pdf.py\n",
      "/Users/fonnescj/anaconda3/envs/bios8366/lib/python3.6/site-packages/nbconvert/preprocessors/tests/__pycache__/test_svg2pdf.cpython-36.pyc\n",
      "/Users/fonnescj/anaconda3/envs/bios8366/lib/python3.6/site-packages/nbconvert/preprocessors/tests/test_svg2pdf.py\n",
      "/Users/fonnescj/anaconda3/envs/datacamp/lib/python3.6/site-packages/matplotlib/backends/__pycache__/backend_pdf.cpython-36.pyc\n",
      "/Users/fonnescj/anaconda3/envs/datacamp/lib/python3.6/site-packages/matplotlib/backends/backend_pdf.py\n",
      "/Users/fonnescj/anaconda3/envs/datacamp/lib/python3.6/site-packages/matplotlib/mpl-data/fonts/pdfcorefonts\n",
      "/Users/fonnescj/anaconda3/envs/datacamp/lib/python3.6/site-packages/matplotlib/mpl-data/fonts/pdfcorefonts/Courier-Bold.afm\n",
      "/Users/fonnescj/anaconda3/envs/datacamp/lib/python3.6/site-packages/matplotlib/mpl-data/fonts/pdfcorefonts/Courier-BoldOblique.afm\n",
      "/Users/fonnescj/anaconda3/envs/datacamp/lib/python3.6/site-packages/matplotlib/mpl-data/fonts/pdfcorefonts/Courier-Oblique.afm\n",
      "/Users/fonnescj/anaconda3/envs/datacamp/lib/python3.6/site-packages/matplotlib/mpl-data/fonts/pdfcorefonts/Courier.afm\n",
      "/Users/fonnescj/anaconda3/envs/datacamp/lib/python3.6/site-packages/matplotlib/mpl-data/fonts/pdfcorefonts/Helvetica-Bold.afm\n",
      "/Users/fonnescj/anaconda3/envs/datacamp/lib/python3.6/site-packages/matplotlib/mpl-data/fonts/pdfcorefonts/Helvetica-BoldOblique.afm\n",
      "/Users/fonnescj/anaconda3/envs/datacamp/lib/python3.6/site-packages/matplotlib/mpl-data/fonts/pdfcorefonts/Helvetica-Oblique.afm\n",
      "/Users/fonnescj/anaconda3/envs/datacamp/lib/python3.6/site-packages/matplotlib/mpl-data/fonts/pdfcorefonts/Helvetica.afm\n",
      "/Users/fonnescj/anaconda3/envs/datacamp/lib/python3.6/site-packages/matplotlib/mpl-data/fonts/pdfcorefonts/Symbol.afm\n",
      "/Users/fonnescj/anaconda3/envs/datacamp/lib/python3.6/site-packages/matplotlib/mpl-data/fonts/pdfcorefonts/Times-Bold.afm\n",
      "/Users/fonnescj/anaconda3/envs/datacamp/lib/python3.6/site-packages/matplotlib/mpl-data/fonts/pdfcorefonts/Times-BoldItalic.afm\n",
      "/Users/fonnescj/anaconda3/envs/datacamp/lib/python3.6/site-packages/matplotlib/mpl-data/fonts/pdfcorefonts/Times-Italic.afm\n",
      "/Users/fonnescj/anaconda3/envs/datacamp/lib/python3.6/site-packages/matplotlib/mpl-data/fonts/pdfcorefonts/Times-Roman.afm\n",
      "/Users/fonnescj/anaconda3/envs/datacamp/lib/python3.6/site-packages/matplotlib/mpl-data/fonts/pdfcorefonts/ZapfDingbats.afm\n",
      "/Users/fonnescj/anaconda3/envs/datacamp/lib/python3.6/site-packages/matplotlib/mpl-data/fonts/pdfcorefonts/readme.txt\n",
      "/Users/fonnescj/anaconda3/envs/datacamp/lib/python3.6/site-packages/matplotlib/mpl-data/images/back.pdf\n",
      "/Users/fonnescj/anaconda3/envs/datacamp/lib/python3.6/site-packages/matplotlib/mpl-data/images/filesave.pdf\n",
      "/Users/fonnescj/anaconda3/envs/datacamp/lib/python3.6/site-packages/matplotlib/mpl-data/images/forward.pdf\n",
      "/Users/fonnescj/anaconda3/envs/datacamp/lib/python3.6/site-packages/matplotlib/mpl-data/images/hand.pdf\n",
      "/Users/fonnescj/anaconda3/envs/datacamp/lib/python3.6/site-packages/matplotlib/mpl-data/images/home.pdf\n",
      "/Users/fonnescj/anaconda3/envs/datacamp/lib/python3.6/site-packages/matplotlib/mpl-data/images/matplotlib.pdf\n",
      "/Users/fonnescj/anaconda3/envs/datacamp/lib/python3.6/site-packages/matplotlib/mpl-data/images/move.pdf\n",
      "/Users/fonnescj/anaconda3/envs/datacamp/lib/python3.6/site-packages/matplotlib/mpl-data/images/qt4_editor_options.pdf\n",
      "/Users/fonnescj/anaconda3/envs/datacamp/lib/python3.6/site-packages/matplotlib/mpl-data/images/subplots.pdf\n",
      "/Users/fonnescj/anaconda3/envs/datacamp/lib/python3.6/site-packages/matplotlib/mpl-data/images/zoom_to_rect.pdf\n",
      "/Users/fonnescj/anaconda3/envs/dev/lib/python3.6/site-packages/asn1crypto/__pycache__/pdf.cpython-36.pyc\n",
      "/Users/fonnescj/anaconda3/envs/dev/lib/python3.6/site-packages/asn1crypto/pdf.py\n"
     ]
    },
    {
     "name": "stdout",
     "output_type": "stream",
     "text": [
      "/Users/fonnescj/anaconda3/envs/dev/lib/python3.6/site-packages/jupyter_contrib_nbextensions/nbconvert_support/__pycache__/pre_svg2pdf.cpython-36.pyc\r\n",
      "/Users/fonnescj/anaconda3/envs/dev/lib/python3.6/site-packages/jupyter_contrib_nbextensions/nbconvert_support/pre_svg2pdf.py\r\n",
      "/Users/fonnescj/anaconda3/envs/dev/lib/python3.6/site-packages/jupyter_contrib_nbextensions/nbextensions/highlighter/export_highlights.pdf\r\n",
      "/Users/fonnescj/anaconda3/envs/dev/lib/python3.6/site-packages/jupyter_contrib_nbextensions/nbextensions/highlighter/tst_highlights.pdf\r\n",
      "/Users/fonnescj/anaconda3/envs/dev/lib/python3.6/site-packages/latex_envs/static/doc/documentation.pdf\r\n",
      "/Users/fonnescj/anaconda3/envs/dev/lib/python3.6/site-packages/matplotlib/backends/__pycache__/backend_pdf.cpython-36.pyc\r\n",
      "/Users/fonnescj/anaconda3/envs/dev/lib/python3.6/site-packages/matplotlib/backends/backend_pdf.py\r\n",
      "/Users/fonnescj/anaconda3/envs/dev/lib/python3.6/site-packages/matplotlib/mpl-data/fonts/pdfcorefonts\r\n",
      "/Users/fonnescj/anaconda3/envs/dev/lib/python3.6/site-packages/matplotlib/mpl-data/fonts/pdfcorefonts/Courier-Bold.afm\r\n",
      "/Users/fonnescj/anaconda3/envs/dev/lib/python3.6/site-packages/matplotlib/mpl-data/fonts/pdfcorefonts/Courier-BoldOblique.afm\r\n",
      "/Users/fonnescj/anaconda3/envs/dev/lib/python3.6/site-packages/matplotlib/mpl-data/fonts/pdfcorefonts/Courier-Oblique.afm\r\n",
      "/Users/fonnescj/anaconda3/envs/dev/lib/python3.6/site-packages/matplotlib/mpl-data/fonts/pdfcorefonts/Courier.afm\r\n",
      "/Users/fonnescj/anaconda3/envs/dev/lib/python3.6/site-packages/matplotlib/mpl-data/fonts/pdfcorefonts/Helvetica-Bold.afm\r\n",
      "/Users/fonnescj/anaconda3/envs/dev/lib/python3.6/site-packages/matplotlib/mpl-data/fonts/pdfcorefonts/Helvetica-BoldOblique.afm\r\n",
      "/Users/fonnescj/anaconda3/envs/dev/lib/python3.6/site-packages/matplotlib/mpl-data/fonts/pdfcorefonts/Helvetica-Oblique.afm\r\n",
      "/Users/fonnescj/anaconda3/envs/dev/lib/python3.6/site-packages/matplotlib/mpl-data/fonts/pdfcorefonts/Helvetica.afm\r\n",
      "/Users/fonnescj/anaconda3/envs/dev/lib/python3.6/site-packages/matplotlib/mpl-data/fonts/pdfcorefonts/Symbol.afm\r\n",
      "/Users/fonnescj/anaconda3/envs/dev/lib/python3.6/site-packages/matplotlib/mpl-data/fonts/pdfcorefonts/Times-Bold.afm\r\n",
      "/Users/fonnescj/anaconda3/envs/dev/lib/python3.6/site-packages/matplotlib/mpl-data/fonts/pdfcorefonts/Times-BoldItalic.afm\r\n",
      "/Users/fonnescj/anaconda3/envs/dev/lib/python3.6/site-packages/matplotlib/mpl-data/fonts/pdfcorefonts/Times-Italic.afm\r\n",
      "/Users/fonnescj/anaconda3/envs/dev/lib/python3.6/site-packages/matplotlib/mpl-data/fonts/pdfcorefonts/Times-Roman.afm\r\n",
      "/Users/fonnescj/anaconda3/envs/dev/lib/python3.6/site-packages/matplotlib/mpl-data/fonts/pdfcorefonts/ZapfDingbats.afm\r\n",
      "/Users/fonnescj/anaconda3/envs/dev/lib/python3.6/site-packages/matplotlib/mpl-data/fonts/pdfcorefonts/readme.txt\r\n",
      "/Users/fonnescj/anaconda3/envs/dev/lib/python3.6/site-packages/matplotlib/mpl-data/images/back.pdf\r\n",
      "/Users/fonnescj/anaconda3/envs/dev/lib/python3.6/site-packages/matplotlib/mpl-data/images/filesave.pdf\r\n",
      "/Users/fonnescj/anaconda3/envs/dev/lib/python3.6/site-packages/matplotlib/mpl-data/images/forward.pdf\r\n",
      "/Users/fonnescj/anaconda3/envs/dev/lib/python3.6/site-packages/matplotlib/mpl-data/images/hand.pdf\r\n",
      "/Users/fonnescj/anaconda3/envs/dev/lib/python3.6/site-packages/matplotlib/mpl-data/images/home.pdf\r\n",
      "/Users/fonnescj/anaconda3/envs/dev/lib/python3.6/site-packages/matplotlib/mpl-data/images/matplotlib.pdf\r\n",
      "/Users/fonnescj/anaconda3/envs/dev/lib/python3.6/site-packages/matplotlib/mpl-data/images/move.pdf\r\n",
      "/Users/fonnescj/anaconda3/envs/dev/lib/python3.6/site-packages/matplotlib/mpl-data/images/qt4_editor_options.pdf\r\n",
      "/Users/fonnescj/anaconda3/envs/dev/lib/python3.6/site-packages/matplotlib/mpl-data/images/subplots.pdf\r\n",
      "/Users/fonnescj/anaconda3/envs/dev/lib/python3.6/site-packages/matplotlib/mpl-data/images/zoom_to_rect.pdf\r\n",
      "/Users/fonnescj/anaconda3/envs/dev/lib/python3.6/site-packages/nbconvert/exporters/__pycache__/pdf.cpython-36.pyc\r\n",
      "/Users/fonnescj/anaconda3/envs/dev/lib/python3.6/site-packages/nbconvert/exporters/pdf.py\r\n",
      "/Users/fonnescj/anaconda3/envs/dev/lib/python3.6/site-packages/nbconvert/exporters/tests/__pycache__/test_pdf.cpython-36.pyc\r\n",
      "/Users/fonnescj/anaconda3/envs/dev/lib/python3.6/site-packages/nbconvert/exporters/tests/test_pdf.py\r\n",
      "/Users/fonnescj/anaconda3/envs/dev/lib/python3.6/site-packages/nbconvert/preprocessors/__pycache__/svg2pdf.cpython-36.pyc\r\n",
      "/Users/fonnescj/anaconda3/envs/dev/lib/python3.6/site-packages/nbconvert/preprocessors/svg2pdf.py\r\n",
      "/Users/fonnescj/anaconda3/envs/dev/lib/python3.6/site-packages/nbconvert/preprocessors/tests/__pycache__/test_svg2pdf.cpython-36.pyc\r\n",
      "/Users/fonnescj/anaconda3/envs/dev/lib/python3.6/site-packages/nbconvert/preprocessors/tests/test_svg2pdf.py\r\n",
      "/Users/fonnescj/anaconda3/envs/dev/lib/python3.6/site-packages/pystan/stan/lib/stan_math_2.14.0/doc/api/html/d0/d2c/logistic__lpdf_8hpp.html\r\n",
      "/Users/fonnescj/anaconda3/envs/dev/lib/python3.6/site-packages/pystan/stan/lib/stan_math_2.14.0/doc/api/html/d0/d2c/logistic__lpdf_8hpp_source.html\r\n",
      "/Users/fonnescj/anaconda3/envs/dev/lib/python3.6/site-packages/pystan/stan/lib/stan_math_2.14.0/doc/api/html/d1/d23/normal__lpdf_8hpp.html\r\n",
      "/Users/fonnescj/anaconda3/envs/dev/lib/python3.6/site-packages/pystan/stan/lib/stan_math_2.14.0/doc/api/html/d1/d23/normal__lpdf_8hpp_source.html\r\n",
      "/Users/fonnescj/anaconda3/envs/dev/lib/python3.6/site-packages/pystan/stan/lib/stan_math_2.14.0/doc/api/html/d2/d42/pareto__lpdf_8hpp.html\r\n",
      "/Users/fonnescj/anaconda3/envs/dev/lib/python3.6/site-packages/pystan/stan/lib/stan_math_2.14.0/doc/api/html/d2/d42/pareto__lpdf_8hpp_source.html\r\n",
      "/Users/fonnescj/anaconda3/envs/dev/lib/python3.6/site-packages/pystan/stan/lib/stan_math_2.14.0/doc/api/html/d4/d12/inv__gamma__lpdf_8hpp.html\r\n",
      "/Users/fonnescj/anaconda3/envs/dev/lib/python3.6/site-packages/pystan/stan/lib/stan_math_2.14.0/doc/api/html/d4/d12/inv__gamma__lpdf_8hpp_source.html\r\n",
      "/Users/fonnescj/anaconda3/envs/dev/lib/python3.6/site-packages/pystan/stan/lib/stan_math_2.14.0/doc/api/html/d4/d79/weibull__lpdf_8hpp.html\r\n",
      "/Users/fonnescj/anaconda3/envs/dev/lib/python3.6/site-packages/pystan/stan/lib/stan_math_2.14.0/doc/api/html/d4/d79/weibull__lpdf_8hpp_source.html\r\n",
      "/Users/fonnescj/anaconda3/envs/dev/lib/python3.6/site-packages/pystan/stan/lib/stan_math_2.14.0/doc/api/html/d4/de5/scaled__inv__chi__square__lpdf_8hpp.html\r\n",
      "/Users/fonnescj/anaconda3/envs/dev/lib/python3.6/site-packages/pystan/stan/lib/stan_math_2.14.0/doc/api/html/d4/de5/scaled__inv__chi__square__lpdf_8hpp_source.html\r\n",
      "/Users/fonnescj/anaconda3/envs/dev/lib/python3.6/site-packages/pystan/stan/lib/stan_math_2.14.0/doc/api/html/d5/d2f/wiener__lpdf_8hpp.html\r\n",
      "/Users/fonnescj/anaconda3/envs/dev/lib/python3.6/site-packages/pystan/stan/lib/stan_math_2.14.0/doc/api/html/d5/d2f/wiener__lpdf_8hpp_source.html\r\n",
      "/Users/fonnescj/anaconda3/envs/dev/lib/python3.6/site-packages/pystan/stan/lib/stan_math_2.14.0/doc/api/html/d5/d55/gamma__lpdf_8hpp.html\r\n",
      "/Users/fonnescj/anaconda3/envs/dev/lib/python3.6/site-packages/pystan/stan/lib/stan_math_2.14.0/doc/api/html/d5/d55/gamma__lpdf_8hpp_source.html\r\n",
      "/Users/fonnescj/anaconda3/envs/dev/lib/python3.6/site-packages/pystan/stan/lib/stan_math_2.14.0/doc/api/html/d5/d66/multi__student__t__lpdf_8hpp.html\r\n",
      "/Users/fonnescj/anaconda3/envs/dev/lib/python3.6/site-packages/pystan/stan/lib/stan_math_2.14.0/doc/api/html/d5/d66/multi__student__t__lpdf_8hpp_source.html\r\n",
      "/Users/fonnescj/anaconda3/envs/dev/lib/python3.6/site-packages/pystan/stan/lib/stan_math_2.14.0/doc/api/html/d6/d05/chi__square__lpdf_8hpp.html\r\n",
      "/Users/fonnescj/anaconda3/envs/dev/lib/python3.6/site-packages/pystan/stan/lib/stan_math_2.14.0/doc/api/html/d6/d05/chi__square__lpdf_8hpp_source.html\r\n",
      "/Users/fonnescj/anaconda3/envs/dev/lib/python3.6/site-packages/pystan/stan/lib/stan_math_2.14.0/doc/api/html/d6/d0d/uniform__lpdf_8hpp.html\r\n",
      "/Users/fonnescj/anaconda3/envs/dev/lib/python3.6/site-packages/pystan/stan/lib/stan_math_2.14.0/doc/api/html/d6/d0d/uniform__lpdf_8hpp_source.html\r\n",
      "/Users/fonnescj/anaconda3/envs/dev/lib/python3.6/site-packages/pystan/stan/lib/stan_math_2.14.0/doc/api/html/d6/d58/multi__normal__prec__lpdf_8hpp.html\r\n",
      "/Users/fonnescj/anaconda3/envs/dev/lib/python3.6/site-packages/pystan/stan/lib/stan_math_2.14.0/doc/api/html/d6/d58/multi__normal__prec__lpdf_8hpp_source.html\r\n",
      "/Users/fonnescj/anaconda3/envs/dev/lib/python3.6/site-packages/pystan/stan/lib/stan_math_2.14.0/doc/api/html/d6/d8c/lkj__cov__lpdf_8hpp.html\r\n",
      "/Users/fonnescj/anaconda3/envs/dev/lib/python3.6/site-packages/pystan/stan/lib/stan_math_2.14.0/doc/api/html/d6/d8c/lkj__cov__lpdf_8hpp_source.html\r\n",
      "/Users/fonnescj/anaconda3/envs/dev/lib/python3.6/site-packages/pystan/stan/lib/stan_math_2.14.0/doc/api/html/d7/d01/inv__chi__square__lpdf_8hpp.html\r\n",
      "/Users/fonnescj/anaconda3/envs/dev/lib/python3.6/site-packages/pystan/stan/lib/stan_math_2.14.0/doc/api/html/d7/d01/inv__chi__square__lpdf_8hpp_source.html\r\n",
      "/Users/fonnescj/anaconda3/envs/dev/lib/python3.6/site-packages/pystan/stan/lib/stan_math_2.14.0/doc/api/html/d7/d74/lkj__corr__cholesky__lpdf_8hpp.html\r\n",
      "/Users/fonnescj/anaconda3/envs/dev/lib/python3.6/site-packages/pystan/stan/lib/stan_math_2.14.0/doc/api/html/d7/d74/lkj__corr__cholesky__lpdf_8hpp_source.html\r\n",
      "/Users/fonnescj/anaconda3/envs/dev/lib/python3.6/site-packages/pystan/stan/lib/stan_math_2.14.0/doc/api/html/d7/dfb/skew__normal__lpdf_8hpp.html\r\n",
      "/Users/fonnescj/anaconda3/envs/dev/lib/python3.6/site-packages/pystan/stan/lib/stan_math_2.14.0/doc/api/html/d7/dfb/skew__normal__lpdf_8hpp_source.html\r\n",
      "/Users/fonnescj/anaconda3/envs/dev/lib/python3.6/site-packages/pystan/stan/lib/stan_math_2.14.0/doc/api/html/d8/d4e/frechet__lpdf_8hpp.html\r\n",
      "/Users/fonnescj/anaconda3/envs/dev/lib/python3.6/site-packages/pystan/stan/lib/stan_math_2.14.0/doc/api/html/d8/d4e/frechet__lpdf_8hpp_source.html\r\n",
      "/Users/fonnescj/anaconda3/envs/dev/lib/python3.6/site-packages/pystan/stan/lib/stan_math_2.14.0/doc/api/html/d8/d4e/inv__wishart__lpdf_8hpp.html\r\n",
      "/Users/fonnescj/anaconda3/envs/dev/lib/python3.6/site-packages/pystan/stan/lib/stan_math_2.14.0/doc/api/html/d8/d4e/inv__wishart__lpdf_8hpp_source.html\r\n",
      "/Users/fonnescj/anaconda3/envs/dev/lib/python3.6/site-packages/pystan/stan/lib/stan_math_2.14.0/doc/api/html/d8/d76/pareto__type__2__lpdf_8hpp.html\r\n",
      "/Users/fonnescj/anaconda3/envs/dev/lib/python3.6/site-packages/pystan/stan/lib/stan_math_2.14.0/doc/api/html/d8/d76/pareto__type__2__lpdf_8hpp_source.html\r\n",
      "/Users/fonnescj/anaconda3/envs/dev/lib/python3.6/site-packages/pystan/stan/lib/stan_math_2.14.0/doc/api/html/d8/dcc/multi__gp__lpdf_8hpp.html\r\n",
      "/Users/fonnescj/anaconda3/envs/dev/lib/python3.6/site-packages/pystan/stan/lib/stan_math_2.14.0/doc/api/html/d8/dcc/multi__gp__lpdf_8hpp_source.html\r\n",
      "/Users/fonnescj/anaconda3/envs/dev/lib/python3.6/site-packages/pystan/stan/lib/stan_math_2.14.0/doc/api/html/d8/df3/matrix__normal__prec__lpdf_8hpp.html\r\n",
      "/Users/fonnescj/anaconda3/envs/dev/lib/python3.6/site-packages/pystan/stan/lib/stan_math_2.14.0/doc/api/html/d8/df3/matrix__normal__prec__lpdf_8hpp_source.html\r\n",
      "/Users/fonnescj/anaconda3/envs/dev/lib/python3.6/site-packages/pystan/stan/lib/stan_math_2.14.0/doc/api/html/d9/d29/multi__normal__lpdf_8hpp.html\r\n",
      "/Users/fonnescj/anaconda3/envs/dev/lib/python3.6/site-packages/pystan/stan/lib/stan_math_2.14.0/doc/api/html/d9/d29/multi__normal__lpdf_8hpp_source.html\r\n",
      "/Users/fonnescj/anaconda3/envs/dev/lib/python3.6/site-packages/pystan/stan/lib/stan_math_2.14.0/doc/api/html/d9/df7/exponential__lpdf_8hpp.html\r\n",
      "/Users/fonnescj/anaconda3/envs/dev/lib/python3.6/site-packages/pystan/stan/lib/stan_math_2.14.0/doc/api/html/d9/df7/exponential__lpdf_8hpp_source.html\r\n",
      "/Users/fonnescj/anaconda3/envs/dev/lib/python3.6/site-packages/pystan/stan/lib/stan_math_2.14.0/doc/api/html/da/d5c/student__t__lpdf_8hpp.html\r\n",
      "/Users/fonnescj/anaconda3/envs/dev/lib/python3.6/site-packages/pystan/stan/lib/stan_math_2.14.0/doc/api/html/da/d5c/student__t__lpdf_8hpp_source.html\r\n",
      "/Users/fonnescj/anaconda3/envs/dev/lib/python3.6/site-packages/pystan/stan/lib/stan_math_2.14.0/doc/api/html/da/d7f/beta__lpdf_8hpp.html\r\n",
      "/Users/fonnescj/anaconda3/envs/dev/lib/python3.6/site-packages/pystan/stan/lib/stan_math_2.14.0/doc/api/html/da/d7f/beta__lpdf_8hpp_source.html\r\n",
      "/Users/fonnescj/anaconda3/envs/dev/lib/python3.6/site-packages/pystan/stan/lib/stan_math_2.14.0/doc/api/html/db/d4f/lkj__corr__lpdf_8hpp.html\r\n",
      "/Users/fonnescj/anaconda3/envs/dev/lib/python3.6/site-packages/pystan/stan/lib/stan_math_2.14.0/doc/api/html/db/d4f/lkj__corr__lpdf_8hpp_source.html\r\n",
      "/Users/fonnescj/anaconda3/envs/dev/lib/python3.6/site-packages/pystan/stan/lib/stan_math_2.14.0/doc/api/html/db/d67/gaussian__dlm__obs__lpdf_8hpp.html\r\n",
      "/Users/fonnescj/anaconda3/envs/dev/lib/python3.6/site-packages/pystan/stan/lib/stan_math_2.14.0/doc/api/html/db/d67/gaussian__dlm__obs__lpdf_8hpp_source.html\r\n",
      "/Users/fonnescj/anaconda3/envs/dev/lib/python3.6/site-packages/pystan/stan/lib/stan_math_2.14.0/doc/api/html/dc/d27/lognormal__lpdf_8hpp.html\r\n",
      "/Users/fonnescj/anaconda3/envs/dev/lib/python3.6/site-packages/pystan/stan/lib/stan_math_2.14.0/doc/api/html/dc/d27/lognormal__lpdf_8hpp_source.html\r\n",
      "/Users/fonnescj/anaconda3/envs/dev/lib/python3.6/site-packages/pystan/stan/lib/stan_math_2.14.0/doc/api/html/dd/d4e/gumbel__lpdf_8hpp.html\r\n",
      "/Users/fonnescj/anaconda3/envs/dev/lib/python3.6/site-packages/pystan/stan/lib/stan_math_2.14.0/doc/api/html/dd/d4e/gumbel__lpdf_8hpp_source.html\r\n",
      "/Users/fonnescj/anaconda3/envs/dev/lib/python3.6/site-packages/pystan/stan/lib/stan_math_2.14.0/doc/api/html/dd/d5c/multi__normal__cholesky__lpdf_8hpp.html\r\n",
      "/Users/fonnescj/anaconda3/envs/dev/lib/python3.6/site-packages/pystan/stan/lib/stan_math_2.14.0/doc/api/html/dd/d5c/multi__normal__cholesky__lpdf_8hpp_source.html\r\n",
      "/Users/fonnescj/anaconda3/envs/dev/lib/python3.6/site-packages/pystan/stan/lib/stan_math_2.14.0/doc/api/html/dd/d73/multi__gp__cholesky__lpdf_8hpp.html\r\n",
      "/Users/fonnescj/anaconda3/envs/dev/lib/python3.6/site-packages/pystan/stan/lib/stan_math_2.14.0/doc/api/html/dd/d73/multi__gp__cholesky__lpdf_8hpp_source.html\r\n",
      "/Users/fonnescj/anaconda3/envs/dev/lib/python3.6/site-packages/pystan/stan/lib/stan_math_2.14.0/doc/api/html/de/dba/double__exponential__lpdf_8hpp.html\r\n",
      "/Users/fonnescj/anaconda3/envs/dev/lib/python3.6/site-packages/pystan/stan/lib/stan_math_2.14.0/doc/api/html/de/dba/double__exponential__lpdf_8hpp_source.html\r\n",
      "/Users/fonnescj/anaconda3/envs/dev/lib/python3.6/site-packages/pystan/stan/lib/stan_math_2.14.0/doc/api/html/df/d4e/von__mises__lpdf_8hpp.html\r\n",
      "/Users/fonnescj/anaconda3/envs/dev/lib/python3.6/site-packages/pystan/stan/lib/stan_math_2.14.0/doc/api/html/df/d4e/von__mises__lpdf_8hpp_source.html\r\n",
      "/Users/fonnescj/anaconda3/envs/dev/lib/python3.6/site-packages/pystan/stan/lib/stan_math_2.14.0/doc/api/html/df/d51/rayleigh__lpdf_8hpp.html\r\n",
      "/Users/fonnescj/anaconda3/envs/dev/lib/python3.6/site-packages/pystan/stan/lib/stan_math_2.14.0/doc/api/html/df/d51/rayleigh__lpdf_8hpp_source.html\r\n",
      "/Users/fonnescj/anaconda3/envs/dev/lib/python3.6/site-packages/pystan/stan/lib/stan_math_2.14.0/doc/api/html/df/d6d/wishart__lpdf_8hpp.html\r\n",
      "/Users/fonnescj/anaconda3/envs/dev/lib/python3.6/site-packages/pystan/stan/lib/stan_math_2.14.0/doc/api/html/df/d6d/wishart__lpdf_8hpp_source.html\r\n",
      "/Users/fonnescj/anaconda3/envs/dev/lib/python3.6/site-packages/pystan/stan/lib/stan_math_2.14.0/doc/api/html/df/d92/cauchy__lpdf_8hpp.html\r\n",
      "/Users/fonnescj/anaconda3/envs/dev/lib/python3.6/site-packages/pystan/stan/lib/stan_math_2.14.0/doc/api/html/df/d92/cauchy__lpdf_8hpp_source.html\r\n",
      "/Users/fonnescj/anaconda3/envs/dev/lib/python3.6/site-packages/pystan/stan/lib/stan_math_2.14.0/doc/api/html/df/d96/exp__mod__normal__lpdf_8hpp.html\r\n",
      "/Users/fonnescj/anaconda3/envs/dev/lib/python3.6/site-packages/pystan/stan/lib/stan_math_2.14.0/doc/api/html/df/d96/exp__mod__normal__lpdf_8hpp_source.html\r\n"
     ]
    },
    {
     "name": "stdout",
     "output_type": "stream",
     "text": [
      "/Users/fonnescj/anaconda3/envs/dev/lib/python3.6/site-packages/pystan/stan/lib/stan_math_2.14.0/lib/boost_1.62.0/boost/math/distributions/detail/hypergeometric_pdf.hpp\n",
      "/Users/fonnescj/anaconda3/envs/dev/lib/python3.6/site-packages/pystan/stan/lib/stan_math_2.14.0/stan/math/prim/mat/prob/gaussian_dlm_obs_lpdf.hpp\n",
      "/Users/fonnescj/anaconda3/envs/dev/lib/python3.6/site-packages/pystan/stan/lib/stan_math_2.14.0/stan/math/prim/mat/prob/inv_wishart_lpdf.hpp\n",
      "/Users/fonnescj/anaconda3/envs/dev/lib/python3.6/site-packages/pystan/stan/lib/stan_math_2.14.0/stan/math/prim/mat/prob/lkj_corr_cholesky_lpdf.hpp\n",
      "/Users/fonnescj/anaconda3/envs/dev/lib/python3.6/site-packages/pystan/stan/lib/stan_math_2.14.0/stan/math/prim/mat/prob/lkj_corr_lpdf.hpp\n",
      "/Users/fonnescj/anaconda3/envs/dev/lib/python3.6/site-packages/pystan/stan/lib/stan_math_2.14.0/stan/math/prim/mat/prob/lkj_cov_lpdf.hpp\n",
      "/Users/fonnescj/anaconda3/envs/dev/lib/python3.6/site-packages/pystan/stan/lib/stan_math_2.14.0/stan/math/prim/mat/prob/matrix_normal_prec_lpdf.hpp\n",
      "/Users/fonnescj/anaconda3/envs/dev/lib/python3.6/site-packages/pystan/stan/lib/stan_math_2.14.0/stan/math/prim/mat/prob/multi_gp_cholesky_lpdf.hpp\n",
      "/Users/fonnescj/anaconda3/envs/dev/lib/python3.6/site-packages/pystan/stan/lib/stan_math_2.14.0/stan/math/prim/mat/prob/multi_gp_lpdf.hpp\n",
      "/Users/fonnescj/anaconda3/envs/dev/lib/python3.6/site-packages/pystan/stan/lib/stan_math_2.14.0/stan/math/prim/mat/prob/multi_normal_cholesky_lpdf.hpp\n",
      "/Users/fonnescj/anaconda3/envs/dev/lib/python3.6/site-packages/pystan/stan/lib/stan_math_2.14.0/stan/math/prim/mat/prob/multi_normal_lpdf.hpp\n",
      "/Users/fonnescj/anaconda3/envs/dev/lib/python3.6/site-packages/pystan/stan/lib/stan_math_2.14.0/stan/math/prim/mat/prob/multi_normal_prec_lpdf.hpp\n",
      "/Users/fonnescj/anaconda3/envs/dev/lib/python3.6/site-packages/pystan/stan/lib/stan_math_2.14.0/stan/math/prim/mat/prob/multi_student_t_lpdf.hpp\n",
      "/Users/fonnescj/anaconda3/envs/dev/lib/python3.6/site-packages/pystan/stan/lib/stan_math_2.14.0/stan/math/prim/mat/prob/wishart_lpdf.hpp\n",
      "/Users/fonnescj/anaconda3/envs/dev/lib/python3.6/site-packages/pystan/stan/lib/stan_math_2.14.0/stan/math/prim/scal/prob/beta_lpdf.hpp\n",
      "/Users/fonnescj/anaconda3/envs/dev/lib/python3.6/site-packages/pystan/stan/lib/stan_math_2.14.0/stan/math/prim/scal/prob/cauchy_lpdf.hpp\n",
      "/Users/fonnescj/anaconda3/envs/dev/lib/python3.6/site-packages/pystan/stan/lib/stan_math_2.14.0/stan/math/prim/scal/prob/chi_square_lpdf.hpp\n",
      "/Users/fonnescj/anaconda3/envs/dev/lib/python3.6/site-packages/pystan/stan/lib/stan_math_2.14.0/stan/math/prim/scal/prob/double_exponential_lpdf.hpp\n",
      "/Users/fonnescj/anaconda3/envs/dev/lib/python3.6/site-packages/pystan/stan/lib/stan_math_2.14.0/stan/math/prim/scal/prob/exp_mod_normal_lpdf.hpp\n",
      "/Users/fonnescj/anaconda3/envs/dev/lib/python3.6/site-packages/pystan/stan/lib/stan_math_2.14.0/stan/math/prim/scal/prob/exponential_lpdf.hpp\n",
      "/Users/fonnescj/anaconda3/envs/dev/lib/python3.6/site-packages/pystan/stan/lib/stan_math_2.14.0/stan/math/prim/scal/prob/frechet_lpdf.hpp\n",
      "/Users/fonnescj/anaconda3/envs/dev/lib/python3.6/site-packages/pystan/stan/lib/stan_math_2.14.0/stan/math/prim/scal/prob/gamma_lpdf.hpp\n",
      "/Users/fonnescj/anaconda3/envs/dev/lib/python3.6/site-packages/pystan/stan/lib/stan_math_2.14.0/stan/math/prim/scal/prob/gumbel_lpdf.hpp\n",
      "/Users/fonnescj/anaconda3/envs/dev/lib/python3.6/site-packages/pystan/stan/lib/stan_math_2.14.0/stan/math/prim/scal/prob/inv_chi_square_lpdf.hpp\n",
      "/Users/fonnescj/anaconda3/envs/dev/lib/python3.6/site-packages/pystan/stan/lib/stan_math_2.14.0/stan/math/prim/scal/prob/inv_gamma_lpdf.hpp\n",
      "/Users/fonnescj/anaconda3/envs/dev/lib/python3.6/site-packages/pystan/stan/lib/stan_math_2.14.0/stan/math/prim/scal/prob/logistic_lpdf.hpp\n",
      "/Users/fonnescj/anaconda3/envs/dev/lib/python3.6/site-packages/pystan/stan/lib/stan_math_2.14.0/stan/math/prim/scal/prob/lognormal_lpdf.hpp\n",
      "/Users/fonnescj/anaconda3/envs/dev/lib/python3.6/site-packages/pystan/stan/lib/stan_math_2.14.0/stan/math/prim/scal/prob/normal_lpdf.hpp\n",
      "/Users/fonnescj/anaconda3/envs/dev/lib/python3.6/site-packages/pystan/stan/lib/stan_math_2.14.0/stan/math/prim/scal/prob/pareto_lpdf.hpp\n",
      "/Users/fonnescj/anaconda3/envs/dev/lib/python3.6/site-packages/pystan/stan/lib/stan_math_2.14.0/stan/math/prim/scal/prob/pareto_type_2_lpdf.hpp\n",
      "/Users/fonnescj/anaconda3/envs/dev/lib/python3.6/site-packages/pystan/stan/lib/stan_math_2.14.0/stan/math/prim/scal/prob/rayleigh_lpdf.hpp\n",
      "/Users/fonnescj/anaconda3/envs/dev/lib/python3.6/site-packages/pystan/stan/lib/stan_math_2.14.0/stan/math/prim/scal/prob/scaled_inv_chi_square_lpdf.hpp\n",
      "/Users/fonnescj/anaconda3/envs/dev/lib/python3.6/site-packages/pystan/stan/lib/stan_math_2.14.0/stan/math/prim/scal/prob/skew_normal_lpdf.hpp\n",
      "/Users/fonnescj/anaconda3/envs/dev/lib/python3.6/site-packages/pystan/stan/lib/stan_math_2.14.0/stan/math/prim/scal/prob/student_t_lpdf.hpp\n",
      "/Users/fonnescj/anaconda3/envs/dev/lib/python3.6/site-packages/pystan/stan/lib/stan_math_2.14.0/stan/math/prim/scal/prob/uniform_lpdf.hpp\n",
      "/Users/fonnescj/anaconda3/envs/dev/lib/python3.6/site-packages/pystan/stan/lib/stan_math_2.14.0/stan/math/prim/scal/prob/von_mises_lpdf.hpp\n",
      "/Users/fonnescj/anaconda3/envs/dev/lib/python3.6/site-packages/pystan/stan/lib/stan_math_2.14.0/stan/math/prim/scal/prob/weibull_lpdf.hpp\n",
      "/Users/fonnescj/anaconda3/envs/dev/lib/python3.6/site-packages/pystan/stan/lib/stan_math_2.14.0/stan/math/prim/scal/prob/wiener_lpdf.hpp\n",
      "/Users/fonnescj/anaconda3/envs/dev/lib/python3.6/site-packages/pystan/stan/src/docs/stan-reference/img/change-point-posterior.pdf\n",
      "/Users/fonnescj/anaconda3/envs/dev/lib/python3.6/site-packages/pystan/stan/src/docs/stan-reference/img/s-discrete-posterior.pdf\n",
      "/Users/fonnescj/anaconda3/envs/dev/lib/python3.6/site-packages/pystan/stan/src/docs/stan-reference/img/sho-ode-trajectory.pdf\n",
      "/Users/fonnescj/anaconda3/envs/dev/lib/python3.6/site-packages/pystan/stan/src/docs/stan-reference/img/stanlogo-main.pdf\n",
      "/Users/fonnescj/anaconda3/envs/dev/lib/python3.6/site-packages/pystan/stan/src/docs/stan-reference/img/ulam-fermiac.pdf\n",
      "/Users/fonnescj/anaconda3/envs/dev/lib/python3.6/site-packages/pystan/stan/src/docs/stan-reference/programs/ode/sho/ode-path-plot.pdf\n",
      "/Users/fonnescj/anaconda3/envs/dev/lib/python3.6/site-packages/pystan/stan/src/docs/stan-reference/programs/ode/sho/sho-trajectory.pdf\n",
      "/Users/fonnescj/anaconda3/envs/dev/lib/python3.6/site-packages/pystan/stan/src/docs/talks/nyc-ml-meetup-2012/img/hamiltonian-path.pdf\n",
      "/Users/fonnescj/anaconda3/envs/dev/lib/python3.6/site-packages/pystan/stan/src/docs/talks/nyc-ml-meetup-2012/img/nuts-ess-1.pdf\n",
      "/Users/fonnescj/anaconda3/envs/dev/lib/python3.6/site-packages/pystan/stan/src/docs/talks/nyc-ml-meetup-2012/img/nuts-ess-2.pdf\n",
      "/Users/fonnescj/anaconda3/envs/dev/lib/python3.6/site-packages/pystan/stan/src/docs/talks/nyc-ml-meetup-2012/img/nuts-vs.pdf\n",
      "/Users/fonnescj/anaconda3/envs/dev/lib/python3.6/site-packages/pystan/stan/src/test/test-models/bad/real-pdf.stan\n",
      "/Users/fonnescj/anaconda3/envs/dev/lib/python3.6/site-packages/pystan/stan/src/test/test-models/good/fun-defs-lpdf.stan\n",
      "/Users/fonnescj/anaconda3/envs/dev/lib/python3.6/site-packages/pystan/stan/src/test/test-models/good/user-defined-lpdf-fun.stan\n",
      "/Users/fonnescj/anaconda3/envs/dev/lib/python3.6/site-packages/pystan/stan/src/test/test-models/good/var-ending-lpdf.stan\n",
      "/Users/fonnescj/anaconda3/envs/dev/lib/python3.6/site-packages/rise/static/reveal.js/css/print/pdf.css\n",
      "/Users/fonnescj/anaconda3/envs/dev/lib/python3.6/site-packages/rise/static/reveal.js/plugin/print-pdf\n",
      "/Users/fonnescj/anaconda3/envs/dev/lib/python3.6/site-packages/rise/static/reveal.js/plugin/print-pdf/print-pdf.js\n",
      "/Users/fonnescj/anaconda3/envs/dev/lib/python3.6/site-packages/rise/static/reveal.js/test/test-pdf.html\n",
      "/Users/fonnescj/anaconda3/envs/dev/lib/python3.6/site-packages/rise/static/reveal.js/test/test-pdf.js\n",
      "/Users/fonnescj/anaconda3/envs/gbs/lib/python3.5/site-packages/matplotlib/backends/__pycache__/backend_pdf.cpython-35.pyc\n",
      "/Users/fonnescj/anaconda3/envs/gbs/lib/python3.5/site-packages/matplotlib/backends/backend_pdf.py\n",
      "/Users/fonnescj/anaconda3/envs/gbs/lib/python3.5/site-packages/matplotlib/mpl-data/fonts/pdfcorefonts\n",
      "/Users/fonnescj/anaconda3/envs/gbs/lib/python3.5/site-packages/matplotlib/mpl-data/fonts/pdfcorefonts/Courier-Bold.afm\n",
      "/Users/fonnescj/anaconda3/envs/gbs/lib/python3.5/site-packages/matplotlib/mpl-data/fonts/pdfcorefonts/Courier-BoldOblique.afm\n",
      "/Users/fonnescj/anaconda3/envs/gbs/lib/python3.5/site-packages/matplotlib/mpl-data/fonts/pdfcorefonts/Courier-Oblique.afm\n",
      "/Users/fonnescj/anaconda3/envs/gbs/lib/python3.5/site-packages/matplotlib/mpl-data/fonts/pdfcorefonts/Courier.afm\n",
      "/Users/fonnescj/anaconda3/envs/gbs/lib/python3.5/site-packages/matplotlib/mpl-data/fonts/pdfcorefonts/Helvetica-Bold.afm\n",
      "/Users/fonnescj/anaconda3/envs/gbs/lib/python3.5/site-packages/matplotlib/mpl-data/fonts/pdfcorefonts/Helvetica-BoldOblique.afm\n",
      "/Users/fonnescj/anaconda3/envs/gbs/lib/python3.5/site-packages/matplotlib/mpl-data/fonts/pdfcorefonts/Helvetica-Oblique.afm\n",
      "/Users/fonnescj/anaconda3/envs/gbs/lib/python3.5/site-packages/matplotlib/mpl-data/fonts/pdfcorefonts/Helvetica.afm\n",
      "/Users/fonnescj/anaconda3/envs/gbs/lib/python3.5/site-packages/matplotlib/mpl-data/fonts/pdfcorefonts/Symbol.afm\n",
      "/Users/fonnescj/anaconda3/envs/gbs/lib/python3.5/site-packages/matplotlib/mpl-data/fonts/pdfcorefonts/Times-Bold.afm\n",
      "/Users/fonnescj/anaconda3/envs/gbs/lib/python3.5/site-packages/matplotlib/mpl-data/fonts/pdfcorefonts/Times-BoldItalic.afm\n",
      "/Users/fonnescj/anaconda3/envs/gbs/lib/python3.5/site-packages/matplotlib/mpl-data/fonts/pdfcorefonts/Times-Italic.afm\n",
      "/Users/fonnescj/anaconda3/envs/gbs/lib/python3.5/site-packages/matplotlib/mpl-data/fonts/pdfcorefonts/Times-Roman.afm\n",
      "/Users/fonnescj/anaconda3/envs/gbs/lib/python3.5/site-packages/matplotlib/mpl-data/fonts/pdfcorefonts/ZapfDingbats.afm\n",
      "/Users/fonnescj/anaconda3/envs/gbs/lib/python3.5/site-packages/matplotlib/mpl-data/fonts/pdfcorefonts/readme.txt\n",
      "/Users/fonnescj/anaconda3/envs/gbs/lib/python3.5/site-packages/matplotlib/mpl-data/images/back.pdf\n",
      "/Users/fonnescj/anaconda3/envs/gbs/lib/python3.5/site-packages/matplotlib/mpl-data/images/filesave.pdf\n",
      "/Users/fonnescj/anaconda3/envs/gbs/lib/python3.5/site-packages/matplotlib/mpl-data/images/forward.pdf\n",
      "/Users/fonnescj/anaconda3/envs/gbs/lib/python3.5/site-packages/matplotlib/mpl-data/images/hand.pdf\n",
      "/Users/fonnescj/anaconda3/envs/gbs/lib/python3.5/site-packages/matplotlib/mpl-data/images/home.pdf\n",
      "/Users/fonnescj/anaconda3/envs/gbs/lib/python3.5/site-packages/matplotlib/mpl-data/images/matplotlib.pdf\n",
      "/Users/fonnescj/anaconda3/envs/gbs/lib/python3.5/site-packages/matplotlib/mpl-data/images/move.pdf\n",
      "/Users/fonnescj/anaconda3/envs/gbs/lib/python3.5/site-packages/matplotlib/mpl-data/images/qt4_editor_options.pdf\n",
      "/Users/fonnescj/anaconda3/envs/gbs/lib/python3.5/site-packages/matplotlib/mpl-data/images/subplots.pdf\n",
      "/Users/fonnescj/anaconda3/envs/gbs/lib/python3.5/site-packages/matplotlib/mpl-data/images/zoom_to_rect.pdf\n",
      "/Users/fonnescj/anaconda3/envs/gbs/lib/python3.5/site-packages/nbconvert/exporters/__pycache__/pdf.cpython-35.pyc\n",
      "/Users/fonnescj/anaconda3/envs/gbs/lib/python3.5/site-packages/nbconvert/exporters/pdf.py\n",
      "/Users/fonnescj/anaconda3/envs/gbs/lib/python3.5/site-packages/nbconvert/exporters/tests/__pycache__/test_pdf.cpython-35.pyc\n",
      "/Users/fonnescj/anaconda3/envs/gbs/lib/python3.5/site-packages/nbconvert/exporters/tests/test_pdf.py\n",
      "/Users/fonnescj/anaconda3/envs/gbs/lib/python3.5/site-packages/nbconvert/preprocessors/__pycache__/svg2pdf.cpython-35.pyc\n",
      "/Users/fonnescj/anaconda3/envs/gbs/lib/python3.5/site-packages/nbconvert/preprocessors/svg2pdf.py\n",
      "/Users/fonnescj/anaconda3/envs/gbs/lib/python3.5/site-packages/nbconvert/preprocessors/tests/__pycache__/test_svg2pdf.cpython-35.pyc\n",
      "/Users/fonnescj/anaconda3/envs/gbs/lib/python3.5/site-packages/nbconvert/preprocessors/tests/test_svg2pdf.py\n"
     ]
    },
    {
     "name": "stdout",
     "output_type": "stream",
     "text": [
      "/Users/fonnescj/anaconda3/envs/hme/lib/python3.6/site-packages/matplotlib/backends/__pycache__/backend_pdf.cpython-36.pyc\n",
      "/Users/fonnescj/anaconda3/envs/hme/lib/python3.6/site-packages/matplotlib/backends/backend_pdf.py\n",
      "/Users/fonnescj/anaconda3/envs/hme/lib/python3.6/site-packages/matplotlib/mpl-data/fonts/pdfcorefonts\n",
      "/Users/fonnescj/anaconda3/envs/hme/lib/python3.6/site-packages/matplotlib/mpl-data/fonts/pdfcorefonts/Courier-Bold.afm\n",
      "/Users/fonnescj/anaconda3/envs/hme/lib/python3.6/site-packages/matplotlib/mpl-data/fonts/pdfcorefonts/Courier-BoldOblique.afm\n",
      "/Users/fonnescj/anaconda3/envs/hme/lib/python3.6/site-packages/matplotlib/mpl-data/fonts/pdfcorefonts/Courier-Oblique.afm\n",
      "/Users/fonnescj/anaconda3/envs/hme/lib/python3.6/site-packages/matplotlib/mpl-data/fonts/pdfcorefonts/Courier.afm\n",
      "/Users/fonnescj/anaconda3/envs/hme/lib/python3.6/site-packages/matplotlib/mpl-data/fonts/pdfcorefonts/Helvetica-Bold.afm\n",
      "/Users/fonnescj/anaconda3/envs/hme/lib/python3.6/site-packages/matplotlib/mpl-data/fonts/pdfcorefonts/Helvetica-BoldOblique.afm\n",
      "/Users/fonnescj/anaconda3/envs/hme/lib/python3.6/site-packages/matplotlib/mpl-data/fonts/pdfcorefonts/Helvetica-Oblique.afm\n",
      "/Users/fonnescj/anaconda3/envs/hme/lib/python3.6/site-packages/matplotlib/mpl-data/fonts/pdfcorefonts/Helvetica.afm\n",
      "/Users/fonnescj/anaconda3/envs/hme/lib/python3.6/site-packages/matplotlib/mpl-data/fonts/pdfcorefonts/Symbol.afm\n",
      "/Users/fonnescj/anaconda3/envs/hme/lib/python3.6/site-packages/matplotlib/mpl-data/fonts/pdfcorefonts/Times-Bold.afm\n",
      "/Users/fonnescj/anaconda3/envs/hme/lib/python3.6/site-packages/matplotlib/mpl-data/fonts/pdfcorefonts/Times-BoldItalic.afm\n",
      "/Users/fonnescj/anaconda3/envs/hme/lib/python3.6/site-packages/matplotlib/mpl-data/fonts/pdfcorefonts/Times-Italic.afm\n",
      "/Users/fonnescj/anaconda3/envs/hme/lib/python3.6/site-packages/matplotlib/mpl-data/fonts/pdfcorefonts/Times-Roman.afm\n",
      "/Users/fonnescj/anaconda3/envs/hme/lib/python3.6/site-packages/matplotlib/mpl-data/fonts/pdfcorefonts/ZapfDingbats.afm\n",
      "/Users/fonnescj/anaconda3/envs/hme/lib/python3.6/site-packages/matplotlib/mpl-data/fonts/pdfcorefonts/readme.txt\n",
      "/Users/fonnescj/anaconda3/envs/hme/lib/python3.6/site-packages/matplotlib/mpl-data/images/back.pdf\n",
      "/Users/fonnescj/anaconda3/envs/hme/lib/python3.6/site-packages/matplotlib/mpl-data/images/filesave.pdf\n",
      "/Users/fonnescj/anaconda3/envs/hme/lib/python3.6/site-packages/matplotlib/mpl-data/images/forward.pdf\n",
      "/Users/fonnescj/anaconda3/envs/hme/lib/python3.6/site-packages/matplotlib/mpl-data/images/hand.pdf\n",
      "/Users/fonnescj/anaconda3/envs/hme/lib/python3.6/site-packages/matplotlib/mpl-data/images/home.pdf\n",
      "/Users/fonnescj/anaconda3/envs/hme/lib/python3.6/site-packages/matplotlib/mpl-data/images/matplotlib.pdf\n",
      "/Users/fonnescj/anaconda3/envs/hme/lib/python3.6/site-packages/matplotlib/mpl-data/images/move.pdf\n",
      "/Users/fonnescj/anaconda3/envs/hme/lib/python3.6/site-packages/matplotlib/mpl-data/images/qt4_editor_options.pdf\n",
      "/Users/fonnescj/anaconda3/envs/hme/lib/python3.6/site-packages/matplotlib/mpl-data/images/subplots.pdf\n",
      "/Users/fonnescj/anaconda3/envs/hme/lib/python3.6/site-packages/matplotlib/mpl-data/images/zoom_to_rect.pdf\n",
      "/Users/fonnescj/anaconda3/envs/hme/lib/python3.6/site-packages/matplotlib/mpl-data/sample_data/None_vs_nearest-pdf.png\n",
      "/Users/fonnescj/anaconda3/envs/hme/lib/python3.6/site-packages/nbconvert/exporters/__pycache__/pdf.cpython-36.pyc\n",
      "/Users/fonnescj/anaconda3/envs/hme/lib/python3.6/site-packages/nbconvert/exporters/pdf.py\n",
      "/Users/fonnescj/anaconda3/envs/hme/lib/python3.6/site-packages/nbconvert/exporters/tests/__pycache__/test_pdf.cpython-36.pyc\n",
      "/Users/fonnescj/anaconda3/envs/hme/lib/python3.6/site-packages/nbconvert/exporters/tests/test_pdf.py\n",
      "/Users/fonnescj/anaconda3/envs/hme/lib/python3.6/site-packages/nbconvert/preprocessors/__pycache__/svg2pdf.cpython-36.pyc\n",
      "/Users/fonnescj/anaconda3/envs/hme/lib/python3.6/site-packages/nbconvert/preprocessors/svg2pdf.py\n",
      "/Users/fonnescj/anaconda3/envs/hme/lib/python3.6/site-packages/nbconvert/preprocessors/tests/__pycache__/test_svg2pdf.cpython-36.pyc\n",
      "/Users/fonnescj/anaconda3/envs/hme/lib/python3.6/site-packages/nbconvert/preprocessors/tests/test_svg2pdf.py\n",
      "/Users/fonnescj/anaconda3/envs/mongolia/lib/python3.5/site-packages/jupyter_contrib_nbextensions/nbconvert_support/__pycache__/pre_svg2pdf.cpython-35.pyc\n",
      "/Users/fonnescj/anaconda3/envs/mongolia/lib/python3.5/site-packages/jupyter_contrib_nbextensions/nbconvert_support/pre_svg2pdf.py\n",
      "/Users/fonnescj/anaconda3/envs/mongolia/lib/python3.5/site-packages/jupyter_contrib_nbextensions/nbextensions/highlighter/export_highlights.pdf\n",
      "/Users/fonnescj/anaconda3/envs/mongolia/lib/python3.5/site-packages/jupyter_contrib_nbextensions/nbextensions/highlighter/tst_highlights.pdf\n",
      "/Users/fonnescj/anaconda3/envs/mongolia/lib/python3.5/site-packages/latex_envs/static/doc/documentation.pdf\n",
      "/Users/fonnescj/anaconda3/envs/mongolia/lib/python3.5/site-packages/matplotlib/backends/__pycache__/backend_pdf.cpython-35.pyc\n",
      "/Users/fonnescj/anaconda3/envs/mongolia/lib/python3.5/site-packages/matplotlib/backends/backend_pdf.py\n",
      "/Users/fonnescj/anaconda3/envs/mongolia/lib/python3.5/site-packages/matplotlib/mpl-data/fonts/pdfcorefonts\n",
      "/Users/fonnescj/anaconda3/envs/mongolia/lib/python3.5/site-packages/matplotlib/mpl-data/fonts/pdfcorefonts/Courier-Bold.afm\n",
      "/Users/fonnescj/anaconda3/envs/mongolia/lib/python3.5/site-packages/matplotlib/mpl-data/fonts/pdfcorefonts/Courier-BoldOblique.afm\n",
      "/Users/fonnescj/anaconda3/envs/mongolia/lib/python3.5/site-packages/matplotlib/mpl-data/fonts/pdfcorefonts/Courier-Oblique.afm\n",
      "/Users/fonnescj/anaconda3/envs/mongolia/lib/python3.5/site-packages/matplotlib/mpl-data/fonts/pdfcorefonts/Courier.afm\n",
      "/Users/fonnescj/anaconda3/envs/mongolia/lib/python3.5/site-packages/matplotlib/mpl-data/fonts/pdfcorefonts/Helvetica-Bold.afm\n",
      "/Users/fonnescj/anaconda3/envs/mongolia/lib/python3.5/site-packages/matplotlib/mpl-data/fonts/pdfcorefonts/Helvetica-BoldOblique.afm\n",
      "/Users/fonnescj/anaconda3/envs/mongolia/lib/python3.5/site-packages/matplotlib/mpl-data/fonts/pdfcorefonts/Helvetica-Oblique.afm\n",
      "/Users/fonnescj/anaconda3/envs/mongolia/lib/python3.5/site-packages/matplotlib/mpl-data/fonts/pdfcorefonts/Helvetica.afm\n",
      "/Users/fonnescj/anaconda3/envs/mongolia/lib/python3.5/site-packages/matplotlib/mpl-data/fonts/pdfcorefonts/Symbol.afm\n",
      "/Users/fonnescj/anaconda3/envs/mongolia/lib/python3.5/site-packages/matplotlib/mpl-data/fonts/pdfcorefonts/Times-Bold.afm\n",
      "/Users/fonnescj/anaconda3/envs/mongolia/lib/python3.5/site-packages/matplotlib/mpl-data/fonts/pdfcorefonts/Times-BoldItalic.afm\n",
      "/Users/fonnescj/anaconda3/envs/mongolia/lib/python3.5/site-packages/matplotlib/mpl-data/fonts/pdfcorefonts/Times-Italic.afm\n",
      "/Users/fonnescj/anaconda3/envs/mongolia/lib/python3.5/site-packages/matplotlib/mpl-data/fonts/pdfcorefonts/Times-Roman.afm\n",
      "/Users/fonnescj/anaconda3/envs/mongolia/lib/python3.5/site-packages/matplotlib/mpl-data/fonts/pdfcorefonts/ZapfDingbats.afm\n",
      "/Users/fonnescj/anaconda3/envs/mongolia/lib/python3.5/site-packages/matplotlib/mpl-data/fonts/pdfcorefonts/readme.txt\n",
      "/Users/fonnescj/anaconda3/envs/mongolia/lib/python3.5/site-packages/matplotlib/mpl-data/images/back.pdf\n",
      "/Users/fonnescj/anaconda3/envs/mongolia/lib/python3.5/site-packages/matplotlib/mpl-data/images/filesave.pdf\n",
      "/Users/fonnescj/anaconda3/envs/mongolia/lib/python3.5/site-packages/matplotlib/mpl-data/images/forward.pdf\n",
      "/Users/fonnescj/anaconda3/envs/mongolia/lib/python3.5/site-packages/matplotlib/mpl-data/images/hand.pdf\n",
      "/Users/fonnescj/anaconda3/envs/mongolia/lib/python3.5/site-packages/matplotlib/mpl-data/images/home.pdf\n",
      "/Users/fonnescj/anaconda3/envs/mongolia/lib/python3.5/site-packages/matplotlib/mpl-data/images/matplotlib.pdf\n",
      "/Users/fonnescj/anaconda3/envs/mongolia/lib/python3.5/site-packages/matplotlib/mpl-data/images/move.pdf\n",
      "/Users/fonnescj/anaconda3/envs/mongolia/lib/python3.5/site-packages/matplotlib/mpl-data/images/qt4_editor_options.pdf\n",
      "/Users/fonnescj/anaconda3/envs/mongolia/lib/python3.5/site-packages/matplotlib/mpl-data/images/subplots.pdf\n",
      "/Users/fonnescj/anaconda3/envs/mongolia/lib/python3.5/site-packages/matplotlib/mpl-data/images/zoom_to_rect.pdf\n",
      "/Users/fonnescj/anaconda3/envs/mongolia/lib/python3.5/site-packages/nbconvert/exporters/__pycache__/pdf.cpython-35.pyc\n",
      "/Users/fonnescj/anaconda3/envs/mongolia/lib/python3.5/site-packages/nbconvert/exporters/pdf.py\n",
      "/Users/fonnescj/anaconda3/envs/mongolia/lib/python3.5/site-packages/nbconvert/exporters/tests/__pycache__/test_pdf.cpython-35.pyc\n",
      "/Users/fonnescj/anaconda3/envs/mongolia/lib/python3.5/site-packages/nbconvert/exporters/tests/test_pdf.py\n",
      "/Users/fonnescj/anaconda3/envs/mongolia/lib/python3.5/site-packages/nbconvert/preprocessors/__pycache__/svg2pdf.cpython-35.pyc\n",
      "/Users/fonnescj/anaconda3/envs/mongolia/lib/python3.5/site-packages/nbconvert/preprocessors/svg2pdf.py\n",
      "/Users/fonnescj/anaconda3/envs/mongolia/lib/python3.5/site-packages/nbconvert/preprocessors/tests/__pycache__/test_svg2pdf.cpython-35.pyc\n",
      "/Users/fonnescj/anaconda3/envs/mongolia/lib/python3.5/site-packages/nbconvert/preprocessors/tests/test_svg2pdf.py\n"
     ]
    },
    {
     "name": "stdout",
     "output_type": "stream",
     "text": [
      "/Users/fonnescj/anaconda3/envs/ngcm/lib/python3.6/site-packages/matplotlib/backends/__pycache__/backend_pdf.cpython-36.pyc\r\n",
      "/Users/fonnescj/anaconda3/envs/ngcm/lib/python3.6/site-packages/matplotlib/backends/backend_pdf.py\r\n",
      "/Users/fonnescj/anaconda3/envs/ngcm/lib/python3.6/site-packages/matplotlib/mpl-data/fonts/pdfcorefonts\r\n",
      "/Users/fonnescj/anaconda3/envs/ngcm/lib/python3.6/site-packages/matplotlib/mpl-data/fonts/pdfcorefonts/Courier-Bold.afm\r\n",
      "/Users/fonnescj/anaconda3/envs/ngcm/lib/python3.6/site-packages/matplotlib/mpl-data/fonts/pdfcorefonts/Courier-BoldOblique.afm\r\n",
      "/Users/fonnescj/anaconda3/envs/ngcm/lib/python3.6/site-packages/matplotlib/mpl-data/fonts/pdfcorefonts/Courier-Oblique.afm\r\n",
      "/Users/fonnescj/anaconda3/envs/ngcm/lib/python3.6/site-packages/matplotlib/mpl-data/fonts/pdfcorefonts/Courier.afm\r\n",
      "/Users/fonnescj/anaconda3/envs/ngcm/lib/python3.6/site-packages/matplotlib/mpl-data/fonts/pdfcorefonts/Helvetica-Bold.afm\r\n",
      "/Users/fonnescj/anaconda3/envs/ngcm/lib/python3.6/site-packages/matplotlib/mpl-data/fonts/pdfcorefonts/Helvetica-BoldOblique.afm\r\n",
      "/Users/fonnescj/anaconda3/envs/ngcm/lib/python3.6/site-packages/matplotlib/mpl-data/fonts/pdfcorefonts/Helvetica-Oblique.afm\r\n",
      "/Users/fonnescj/anaconda3/envs/ngcm/lib/python3.6/site-packages/matplotlib/mpl-data/fonts/pdfcorefonts/Helvetica.afm\r\n",
      "/Users/fonnescj/anaconda3/envs/ngcm/lib/python3.6/site-packages/matplotlib/mpl-data/fonts/pdfcorefonts/Symbol.afm\r\n",
      "/Users/fonnescj/anaconda3/envs/ngcm/lib/python3.6/site-packages/matplotlib/mpl-data/fonts/pdfcorefonts/Times-Bold.afm\r\n",
      "/Users/fonnescj/anaconda3/envs/ngcm/lib/python3.6/site-packages/matplotlib/mpl-data/fonts/pdfcorefonts/Times-BoldItalic.afm\r\n",
      "/Users/fonnescj/anaconda3/envs/ngcm/lib/python3.6/site-packages/matplotlib/mpl-data/fonts/pdfcorefonts/Times-Italic.afm\r\n",
      "/Users/fonnescj/anaconda3/envs/ngcm/lib/python3.6/site-packages/matplotlib/mpl-data/fonts/pdfcorefonts/Times-Roman.afm\r\n",
      "/Users/fonnescj/anaconda3/envs/ngcm/lib/python3.6/site-packages/matplotlib/mpl-data/fonts/pdfcorefonts/ZapfDingbats.afm\r\n",
      "/Users/fonnescj/anaconda3/envs/ngcm/lib/python3.6/site-packages/matplotlib/mpl-data/fonts/pdfcorefonts/readme.txt\r\n",
      "/Users/fonnescj/anaconda3/envs/ngcm/lib/python3.6/site-packages/matplotlib/mpl-data/images/back.pdf\r\n",
      "/Users/fonnescj/anaconda3/envs/ngcm/lib/python3.6/site-packages/matplotlib/mpl-data/images/filesave.pdf\r\n",
      "/Users/fonnescj/anaconda3/envs/ngcm/lib/python3.6/site-packages/matplotlib/mpl-data/images/forward.pdf\r\n",
      "/Users/fonnescj/anaconda3/envs/ngcm/lib/python3.6/site-packages/matplotlib/mpl-data/images/hand.pdf\r\n",
      "/Users/fonnescj/anaconda3/envs/ngcm/lib/python3.6/site-packages/matplotlib/mpl-data/images/home.pdf\r\n",
      "/Users/fonnescj/anaconda3/envs/ngcm/lib/python3.6/site-packages/matplotlib/mpl-data/images/matplotlib.pdf\r\n",
      "/Users/fonnescj/anaconda3/envs/ngcm/lib/python3.6/site-packages/matplotlib/mpl-data/images/move.pdf\r\n",
      "/Users/fonnescj/anaconda3/envs/ngcm/lib/python3.6/site-packages/matplotlib/mpl-data/images/qt4_editor_options.pdf\r\n",
      "/Users/fonnescj/anaconda3/envs/ngcm/lib/python3.6/site-packages/matplotlib/mpl-data/images/subplots.pdf\r\n",
      "/Users/fonnescj/anaconda3/envs/ngcm/lib/python3.6/site-packages/matplotlib/mpl-data/images/zoom_to_rect.pdf\r\n",
      "/Users/fonnescj/anaconda3/envs/ngcm/lib/python3.6/site-packages/nbconvert/exporters/__pycache__/pdf.cpython-36.pyc\r\n",
      "/Users/fonnescj/anaconda3/envs/ngcm/lib/python3.6/site-packages/nbconvert/exporters/pdf.py\r\n",
      "/Users/fonnescj/anaconda3/envs/ngcm/lib/python3.6/site-packages/nbconvert/exporters/tests/__pycache__/test_pdf.cpython-36.pyc\r\n",
      "/Users/fonnescj/anaconda3/envs/ngcm/lib/python3.6/site-packages/nbconvert/exporters/tests/test_pdf.py\r\n",
      "/Users/fonnescj/anaconda3/envs/ngcm/lib/python3.6/site-packages/nbconvert/preprocessors/__pycache__/svg2pdf.cpython-36.pyc\r\n",
      "/Users/fonnescj/anaconda3/envs/ngcm/lib/python3.6/site-packages/nbconvert/preprocessors/svg2pdf.py\r\n",
      "/Users/fonnescj/anaconda3/envs/ngcm/lib/python3.6/site-packages/nbconvert/preprocessors/tests/__pycache__/test_svg2pdf.cpython-36.pyc\r\n",
      "/Users/fonnescj/anaconda3/envs/ngcm/lib/python3.6/site-packages/nbconvert/preprocessors/tests/test_svg2pdf.py\r\n",
      "/Users/fonnescj/anaconda3/envs/pymc_tutorial/lib/python3.5/site-packages/matplotlib/backends/__pycache__/backend_pdf.cpython-35.pyc\r\n",
      "/Users/fonnescj/anaconda3/envs/pymc_tutorial/lib/python3.5/site-packages/matplotlib/backends/backend_pdf.py\r\n",
      "/Users/fonnescj/anaconda3/envs/pymc_tutorial/lib/python3.5/site-packages/matplotlib/mpl-data/fonts/pdfcorefonts\r\n",
      "/Users/fonnescj/anaconda3/envs/pymc_tutorial/lib/python3.5/site-packages/matplotlib/mpl-data/fonts/pdfcorefonts/Courier-Bold.afm\r\n",
      "/Users/fonnescj/anaconda3/envs/pymc_tutorial/lib/python3.5/site-packages/matplotlib/mpl-data/fonts/pdfcorefonts/Courier-BoldOblique.afm\r\n",
      "/Users/fonnescj/anaconda3/envs/pymc_tutorial/lib/python3.5/site-packages/matplotlib/mpl-data/fonts/pdfcorefonts/Courier-Oblique.afm\r\n",
      "/Users/fonnescj/anaconda3/envs/pymc_tutorial/lib/python3.5/site-packages/matplotlib/mpl-data/fonts/pdfcorefonts/Courier.afm\r\n",
      "/Users/fonnescj/anaconda3/envs/pymc_tutorial/lib/python3.5/site-packages/matplotlib/mpl-data/fonts/pdfcorefonts/Helvetica-Bold.afm\r\n",
      "/Users/fonnescj/anaconda3/envs/pymc_tutorial/lib/python3.5/site-packages/matplotlib/mpl-data/fonts/pdfcorefonts/Helvetica-BoldOblique.afm\r\n",
      "/Users/fonnescj/anaconda3/envs/pymc_tutorial/lib/python3.5/site-packages/matplotlib/mpl-data/fonts/pdfcorefonts/Helvetica-Oblique.afm\r\n",
      "/Users/fonnescj/anaconda3/envs/pymc_tutorial/lib/python3.5/site-packages/matplotlib/mpl-data/fonts/pdfcorefonts/Helvetica.afm\r\n",
      "/Users/fonnescj/anaconda3/envs/pymc_tutorial/lib/python3.5/site-packages/matplotlib/mpl-data/fonts/pdfcorefonts/Symbol.afm\r\n",
      "/Users/fonnescj/anaconda3/envs/pymc_tutorial/lib/python3.5/site-packages/matplotlib/mpl-data/fonts/pdfcorefonts/Times-Bold.afm\r\n",
      "/Users/fonnescj/anaconda3/envs/pymc_tutorial/lib/python3.5/site-packages/matplotlib/mpl-data/fonts/pdfcorefonts/Times-BoldItalic.afm\r\n",
      "/Users/fonnescj/anaconda3/envs/pymc_tutorial/lib/python3.5/site-packages/matplotlib/mpl-data/fonts/pdfcorefonts/Times-Italic.afm\r\n",
      "/Users/fonnescj/anaconda3/envs/pymc_tutorial/lib/python3.5/site-packages/matplotlib/mpl-data/fonts/pdfcorefonts/Times-Roman.afm\r\n",
      "/Users/fonnescj/anaconda3/envs/pymc_tutorial/lib/python3.5/site-packages/matplotlib/mpl-data/fonts/pdfcorefonts/ZapfDingbats.afm\r\n",
      "/Users/fonnescj/anaconda3/envs/pymc_tutorial/lib/python3.5/site-packages/matplotlib/mpl-data/fonts/pdfcorefonts/readme.txt\r\n",
      "/Users/fonnescj/anaconda3/envs/pymc_tutorial/lib/python3.5/site-packages/matplotlib/mpl-data/images/back.pdf\r\n",
      "/Users/fonnescj/anaconda3/envs/pymc_tutorial/lib/python3.5/site-packages/matplotlib/mpl-data/images/filesave.pdf\r\n",
      "/Users/fonnescj/anaconda3/envs/pymc_tutorial/lib/python3.5/site-packages/matplotlib/mpl-data/images/forward.pdf\r\n",
      "/Users/fonnescj/anaconda3/envs/pymc_tutorial/lib/python3.5/site-packages/matplotlib/mpl-data/images/hand.pdf\r\n",
      "/Users/fonnescj/anaconda3/envs/pymc_tutorial/lib/python3.5/site-packages/matplotlib/mpl-data/images/home.pdf\r\n",
      "/Users/fonnescj/anaconda3/envs/pymc_tutorial/lib/python3.5/site-packages/matplotlib/mpl-data/images/matplotlib.pdf\r\n",
      "/Users/fonnescj/anaconda3/envs/pymc_tutorial/lib/python3.5/site-packages/matplotlib/mpl-data/images/move.pdf\r\n",
      "/Users/fonnescj/anaconda3/envs/pymc_tutorial/lib/python3.5/site-packages/matplotlib/mpl-data/images/qt4_editor_options.pdf\r\n",
      "/Users/fonnescj/anaconda3/envs/pymc_tutorial/lib/python3.5/site-packages/matplotlib/mpl-data/images/subplots.pdf\r\n",
      "/Users/fonnescj/anaconda3/envs/pymc_tutorial/lib/python3.5/site-packages/matplotlib/mpl-data/images/zoom_to_rect.pdf\r\n",
      "/Users/fonnescj/anaconda3/envs/pymc_tutorial/lib/python3.5/site-packages/nbconvert/exporters/__pycache__/pdf.cpython-35.pyc\r\n",
      "/Users/fonnescj/anaconda3/envs/pymc_tutorial/lib/python3.5/site-packages/nbconvert/exporters/pdf.py\r\n",
      "/Users/fonnescj/anaconda3/envs/pymc_tutorial/lib/python3.5/site-packages/nbconvert/exporters/tests/__pycache__/test_pdf.cpython-35.pyc\r\n",
      "/Users/fonnescj/anaconda3/envs/pymc_tutorial/lib/python3.5/site-packages/nbconvert/exporters/tests/test_pdf.py\r\n",
      "/Users/fonnescj/anaconda3/envs/pymc_tutorial/lib/python3.5/site-packages/nbconvert/preprocessors/__pycache__/svg2pdf.cpython-35.pyc\r\n",
      "/Users/fonnescj/anaconda3/envs/pymc_tutorial/lib/python3.5/site-packages/nbconvert/preprocessors/svg2pdf.py\r\n",
      "/Users/fonnescj/anaconda3/envs/pymc_tutorial/lib/python3.5/site-packages/nbconvert/preprocessors/tests/__pycache__/test_svg2pdf.cpython-35.pyc\r\n",
      "/Users/fonnescj/anaconda3/envs/pymc_tutorial/lib/python3.5/site-packages/nbconvert/preprocessors/tests/test_svg2pdf.py\r\n"
     ]
    },
    {
     "name": "stdout",
     "output_type": "stream",
     "text": [
      "/Users/fonnescj/anaconda3/envs/scratch/lib/python3.5/site-packages/matplotlib/backends/__pycache__/backend_pdf.cpython-35.pyc\n",
      "/Users/fonnescj/anaconda3/envs/scratch/lib/python3.5/site-packages/matplotlib/backends/backend_pdf.py\n",
      "/Users/fonnescj/anaconda3/envs/scratch/lib/python3.5/site-packages/matplotlib/mpl-data/fonts/pdfcorefonts\n",
      "/Users/fonnescj/anaconda3/envs/scratch/lib/python3.5/site-packages/matplotlib/mpl-data/fonts/pdfcorefonts/Courier-Bold.afm\n",
      "/Users/fonnescj/anaconda3/envs/scratch/lib/python3.5/site-packages/matplotlib/mpl-data/fonts/pdfcorefonts/Courier-BoldOblique.afm\n",
      "/Users/fonnescj/anaconda3/envs/scratch/lib/python3.5/site-packages/matplotlib/mpl-data/fonts/pdfcorefonts/Courier-Oblique.afm\n",
      "/Users/fonnescj/anaconda3/envs/scratch/lib/python3.5/site-packages/matplotlib/mpl-data/fonts/pdfcorefonts/Courier.afm\n",
      "/Users/fonnescj/anaconda3/envs/scratch/lib/python3.5/site-packages/matplotlib/mpl-data/fonts/pdfcorefonts/Helvetica-Bold.afm\n",
      "/Users/fonnescj/anaconda3/envs/scratch/lib/python3.5/site-packages/matplotlib/mpl-data/fonts/pdfcorefonts/Helvetica-BoldOblique.afm\n",
      "/Users/fonnescj/anaconda3/envs/scratch/lib/python3.5/site-packages/matplotlib/mpl-data/fonts/pdfcorefonts/Helvetica-Oblique.afm\n",
      "/Users/fonnescj/anaconda3/envs/scratch/lib/python3.5/site-packages/matplotlib/mpl-data/fonts/pdfcorefonts/Helvetica.afm\n",
      "/Users/fonnescj/anaconda3/envs/scratch/lib/python3.5/site-packages/matplotlib/mpl-data/fonts/pdfcorefonts/Symbol.afm\n",
      "/Users/fonnescj/anaconda3/envs/scratch/lib/python3.5/site-packages/matplotlib/mpl-data/fonts/pdfcorefonts/Times-Bold.afm\n",
      "/Users/fonnescj/anaconda3/envs/scratch/lib/python3.5/site-packages/matplotlib/mpl-data/fonts/pdfcorefonts/Times-BoldItalic.afm\n",
      "/Users/fonnescj/anaconda3/envs/scratch/lib/python3.5/site-packages/matplotlib/mpl-data/fonts/pdfcorefonts/Times-Italic.afm\n",
      "/Users/fonnescj/anaconda3/envs/scratch/lib/python3.5/site-packages/matplotlib/mpl-data/fonts/pdfcorefonts/Times-Roman.afm\n",
      "/Users/fonnescj/anaconda3/envs/scratch/lib/python3.5/site-packages/matplotlib/mpl-data/fonts/pdfcorefonts/ZapfDingbats.afm\n",
      "/Users/fonnescj/anaconda3/envs/scratch/lib/python3.5/site-packages/matplotlib/mpl-data/fonts/pdfcorefonts/readme.txt\n",
      "/Users/fonnescj/anaconda3/envs/scratch/lib/python3.5/site-packages/matplotlib/mpl-data/images/back.pdf\n",
      "/Users/fonnescj/anaconda3/envs/scratch/lib/python3.5/site-packages/matplotlib/mpl-data/images/filesave.pdf\n",
      "/Users/fonnescj/anaconda3/envs/scratch/lib/python3.5/site-packages/matplotlib/mpl-data/images/forward.pdf\n",
      "/Users/fonnescj/anaconda3/envs/scratch/lib/python3.5/site-packages/matplotlib/mpl-data/images/hand.pdf\n",
      "/Users/fonnescj/anaconda3/envs/scratch/lib/python3.5/site-packages/matplotlib/mpl-data/images/home.pdf\n",
      "/Users/fonnescj/anaconda3/envs/scratch/lib/python3.5/site-packages/matplotlib/mpl-data/images/matplotlib.pdf\n",
      "/Users/fonnescj/anaconda3/envs/scratch/lib/python3.5/site-packages/matplotlib/mpl-data/images/move.pdf\n",
      "/Users/fonnescj/anaconda3/envs/scratch/lib/python3.5/site-packages/matplotlib/mpl-data/images/qt4_editor_options.pdf\n",
      "/Users/fonnescj/anaconda3/envs/scratch/lib/python3.5/site-packages/matplotlib/mpl-data/images/subplots.pdf\n",
      "/Users/fonnescj/anaconda3/envs/scratch/lib/python3.5/site-packages/matplotlib/mpl-data/images/zoom_to_rect.pdf\n",
      "/Users/fonnescj/anaconda3/envs/scratch/lib/python3.5/site-packages/matplotlib/mpl-data/sample_data/None_vs_nearest-pdf.png\n",
      "/Users/fonnescj/anaconda3/envs/scratch/lib/python3.5/site-packages/matplotlib/tests/__pycache__/test_backend_pdf.cpython-35.pyc\n",
      "/Users/fonnescj/anaconda3/envs/scratch/lib/python3.5/site-packages/matplotlib/tests/test_backend_pdf.py\n",
      "/Users/fonnescj/anaconda3/envs/scratch/lib/python3.5/site-packages/mpl_toolkits/tests/baseline_images/test_axes_grid1/divider_append_axes.pdf\n",
      "/Users/fonnescj/anaconda3/envs/scratch/lib/python3.5/site-packages/mpl_toolkits/tests/baseline_images/test_mplot3d/bar3d.pdf\n",
      "/Users/fonnescj/anaconda3/envs/scratch/lib/python3.5/site-packages/mpl_toolkits/tests/baseline_images/test_mplot3d/contour3d.pdf\n",
      "/Users/fonnescj/anaconda3/envs/scratch/lib/python3.5/site-packages/mpl_toolkits/tests/baseline_images/test_mplot3d/contourf3d.pdf\n",
      "/Users/fonnescj/anaconda3/envs/scratch/lib/python3.5/site-packages/mpl_toolkits/tests/baseline_images/test_mplot3d/contourf3d_fill.pdf\n",
      "/Users/fonnescj/anaconda3/envs/scratch/lib/python3.5/site-packages/mpl_toolkits/tests/baseline_images/test_mplot3d/lines3d.pdf\n",
      "/Users/fonnescj/anaconda3/envs/scratch/lib/python3.5/site-packages/mpl_toolkits/tests/baseline_images/test_mplot3d/mixedsubplot.pdf\n",
      "/Users/fonnescj/anaconda3/envs/scratch/lib/python3.5/site-packages/mpl_toolkits/tests/baseline_images/test_mplot3d/quiver3d.pdf\n",
      "/Users/fonnescj/anaconda3/envs/scratch/lib/python3.5/site-packages/mpl_toolkits/tests/baseline_images/test_mplot3d/quiver3d_empty.pdf\n",
      "/Users/fonnescj/anaconda3/envs/scratch/lib/python3.5/site-packages/mpl_toolkits/tests/baseline_images/test_mplot3d/quiver3d_masked.pdf\n",
      "/Users/fonnescj/anaconda3/envs/scratch/lib/python3.5/site-packages/mpl_toolkits/tests/baseline_images/test_mplot3d/scatter3d.pdf\n",
      "/Users/fonnescj/anaconda3/envs/scratch/lib/python3.5/site-packages/mpl_toolkits/tests/baseline_images/test_mplot3d/surface3d.pdf\n",
      "/Users/fonnescj/anaconda3/envs/scratch/lib/python3.5/site-packages/mpl_toolkits/tests/baseline_images/test_mplot3d/text3d.pdf\n",
      "/Users/fonnescj/anaconda3/envs/scratch/lib/python3.5/site-packages/mpl_toolkits/tests/baseline_images/test_mplot3d/trisurf3d.pdf\n",
      "/Users/fonnescj/anaconda3/envs/scratch/lib/python3.5/site-packages/mpl_toolkits/tests/baseline_images/test_mplot3d/wireframe3d.pdf\n",
      "/Users/fonnescj/anaconda3/envs/scratch/lib/python3.5/site-packages/nbconvert/exporters/__pycache__/pdf.cpython-35.pyc\n",
      "/Users/fonnescj/anaconda3/envs/scratch/lib/python3.5/site-packages/nbconvert/exporters/pdf.py\n",
      "/Users/fonnescj/anaconda3/envs/scratch/lib/python3.5/site-packages/nbconvert/exporters/tests/__pycache__/test_pdf.cpython-35.pyc\n",
      "/Users/fonnescj/anaconda3/envs/scratch/lib/python3.5/site-packages/nbconvert/exporters/tests/test_pdf.py\n",
      "/Users/fonnescj/anaconda3/envs/scratch/lib/python3.5/site-packages/nbconvert/preprocessors/__pycache__/svg2pdf.cpython-35.pyc\n",
      "/Users/fonnescj/anaconda3/envs/scratch/lib/python3.5/site-packages/nbconvert/preprocessors/svg2pdf.py\n",
      "/Users/fonnescj/anaconda3/envs/scratch/lib/python3.5/site-packages/nbconvert/preprocessors/tests/__pycache__/test_svg2pdf.cpython-35.pyc\n",
      "/Users/fonnescj/anaconda3/envs/scratch/lib/python3.5/site-packages/nbconvert/preprocessors/tests/test_svg2pdf.py\n",
      "/Users/fonnescj/anaconda3/envs/stat_pycon/lib/python3.6/site-packages/matplotlib/backends/__pycache__/backend_pdf.cpython-36.pyc\n",
      "/Users/fonnescj/anaconda3/envs/stat_pycon/lib/python3.6/site-packages/matplotlib/backends/backend_pdf.py\n",
      "/Users/fonnescj/anaconda3/envs/stat_pycon/lib/python3.6/site-packages/matplotlib/mpl-data/fonts/pdfcorefonts\n",
      "/Users/fonnescj/anaconda3/envs/stat_pycon/lib/python3.6/site-packages/matplotlib/mpl-data/fonts/pdfcorefonts/Courier-Bold.afm\n",
      "/Users/fonnescj/anaconda3/envs/stat_pycon/lib/python3.6/site-packages/matplotlib/mpl-data/fonts/pdfcorefonts/Courier-BoldOblique.afm\n",
      "/Users/fonnescj/anaconda3/envs/stat_pycon/lib/python3.6/site-packages/matplotlib/mpl-data/fonts/pdfcorefonts/Courier-Oblique.afm\n",
      "/Users/fonnescj/anaconda3/envs/stat_pycon/lib/python3.6/site-packages/matplotlib/mpl-data/fonts/pdfcorefonts/Courier.afm\n",
      "/Users/fonnescj/anaconda3/envs/stat_pycon/lib/python3.6/site-packages/matplotlib/mpl-data/fonts/pdfcorefonts/Helvetica-Bold.afm\n",
      "/Users/fonnescj/anaconda3/envs/stat_pycon/lib/python3.6/site-packages/matplotlib/mpl-data/fonts/pdfcorefonts/Helvetica-BoldOblique.afm\n",
      "/Users/fonnescj/anaconda3/envs/stat_pycon/lib/python3.6/site-packages/matplotlib/mpl-data/fonts/pdfcorefonts/Helvetica-Oblique.afm\n",
      "/Users/fonnescj/anaconda3/envs/stat_pycon/lib/python3.6/site-packages/matplotlib/mpl-data/fonts/pdfcorefonts/Helvetica.afm\n",
      "/Users/fonnescj/anaconda3/envs/stat_pycon/lib/python3.6/site-packages/matplotlib/mpl-data/fonts/pdfcorefonts/Symbol.afm\n",
      "/Users/fonnescj/anaconda3/envs/stat_pycon/lib/python3.6/site-packages/matplotlib/mpl-data/fonts/pdfcorefonts/Times-Bold.afm\n",
      "/Users/fonnescj/anaconda3/envs/stat_pycon/lib/python3.6/site-packages/matplotlib/mpl-data/fonts/pdfcorefonts/Times-BoldItalic.afm\n",
      "/Users/fonnescj/anaconda3/envs/stat_pycon/lib/python3.6/site-packages/matplotlib/mpl-data/fonts/pdfcorefonts/Times-Italic.afm\n",
      "/Users/fonnescj/anaconda3/envs/stat_pycon/lib/python3.6/site-packages/matplotlib/mpl-data/fonts/pdfcorefonts/Times-Roman.afm\n",
      "/Users/fonnescj/anaconda3/envs/stat_pycon/lib/python3.6/site-packages/matplotlib/mpl-data/fonts/pdfcorefonts/ZapfDingbats.afm\n",
      "/Users/fonnescj/anaconda3/envs/stat_pycon/lib/python3.6/site-packages/matplotlib/mpl-data/fonts/pdfcorefonts/readme.txt\n",
      "/Users/fonnescj/anaconda3/envs/stat_pycon/lib/python3.6/site-packages/matplotlib/mpl-data/images/back.pdf\n",
      "/Users/fonnescj/anaconda3/envs/stat_pycon/lib/python3.6/site-packages/matplotlib/mpl-data/images/filesave.pdf\n",
      "/Users/fonnescj/anaconda3/envs/stat_pycon/lib/python3.6/site-packages/matplotlib/mpl-data/images/forward.pdf\n",
      "/Users/fonnescj/anaconda3/envs/stat_pycon/lib/python3.6/site-packages/matplotlib/mpl-data/images/hand.pdf\n",
      "/Users/fonnescj/anaconda3/envs/stat_pycon/lib/python3.6/site-packages/matplotlib/mpl-data/images/home.pdf\n",
      "/Users/fonnescj/anaconda3/envs/stat_pycon/lib/python3.6/site-packages/matplotlib/mpl-data/images/matplotlib.pdf\n",
      "/Users/fonnescj/anaconda3/envs/stat_pycon/lib/python3.6/site-packages/matplotlib/mpl-data/images/move.pdf\n",
      "/Users/fonnescj/anaconda3/envs/stat_pycon/lib/python3.6/site-packages/matplotlib/mpl-data/images/qt4_editor_options.pdf\n",
      "/Users/fonnescj/anaconda3/envs/stat_pycon/lib/python3.6/site-packages/matplotlib/mpl-data/images/subplots.pdf\n",
      "/Users/fonnescj/anaconda3/envs/stat_pycon/lib/python3.6/site-packages/matplotlib/mpl-data/images/zoom_to_rect.pdf\n",
      "/Users/fonnescj/anaconda3/envs/stat_pycon/lib/python3.6/site-packages/matplotlib/mpl-data/sample_data/None_vs_nearest-pdf.png\n",
      "/Users/fonnescj/anaconda3/envs/stat_pycon/lib/python3.6/site-packages/nbconvert/exporters/__pycache__/pdf.cpython-36.pyc\n",
      "/Users/fonnescj/anaconda3/envs/stat_pycon/lib/python3.6/site-packages/nbconvert/exporters/pdf.py\n",
      "/Users/fonnescj/anaconda3/envs/stat_pycon/lib/python3.6/site-packages/nbconvert/exporters/tests/__pycache__/test_pdf.cpython-36.pyc\n",
      "/Users/fonnescj/anaconda3/envs/stat_pycon/lib/python3.6/site-packages/nbconvert/exporters/tests/test_pdf.py\n",
      "/Users/fonnescj/anaconda3/envs/stat_pycon/lib/python3.6/site-packages/nbconvert/preprocessors/__pycache__/svg2pdf.cpython-36.pyc\n",
      "/Users/fonnescj/anaconda3/envs/stat_pycon/lib/python3.6/site-packages/nbconvert/preprocessors/svg2pdf.py\n",
      "/Users/fonnescj/anaconda3/envs/stat_pycon/lib/python3.6/site-packages/nbconvert/preprocessors/tests/__pycache__/test_svg2pdf.cpython-36.pyc\n",
      "/Users/fonnescj/anaconda3/envs/stat_pycon/lib/python3.6/site-packages/nbconvert/preprocessors/tests/test_svg2pdf.py\n"
     ]
    },
    {
     "name": "stdout",
     "output_type": "stream",
     "text": [
      "/Users/fonnescj/anaconda3/lib/python3.6/site-packages/matplotlib/tests/__pycache__/test_backend_pdf.cpython-36.pyc\n",
      "/Users/fonnescj/anaconda3/lib/python3.6/site-packages/matplotlib/tests/test_backend_pdf.py\n",
      "/Users/fonnescj/anaconda3/lib/python3.6/site-packages/mpl_toolkits/tests/baseline_images/test_axes_grid1/divider_append_axes.pdf\n",
      "/Users/fonnescj/anaconda3/lib/python3.6/site-packages/mpl_toolkits/tests/baseline_images/test_mplot3d/bar3d.pdf\n",
      "/Users/fonnescj/anaconda3/lib/python3.6/site-packages/mpl_toolkits/tests/baseline_images/test_mplot3d/contour3d.pdf\n",
      "/Users/fonnescj/anaconda3/lib/python3.6/site-packages/mpl_toolkits/tests/baseline_images/test_mplot3d/contourf3d.pdf\n",
      "/Users/fonnescj/anaconda3/lib/python3.6/site-packages/mpl_toolkits/tests/baseline_images/test_mplot3d/contourf3d_fill.pdf\n",
      "/Users/fonnescj/anaconda3/lib/python3.6/site-packages/mpl_toolkits/tests/baseline_images/test_mplot3d/lines3d.pdf\n",
      "/Users/fonnescj/anaconda3/lib/python3.6/site-packages/mpl_toolkits/tests/baseline_images/test_mplot3d/mixedsubplot.pdf\n",
      "/Users/fonnescj/anaconda3/lib/python3.6/site-packages/mpl_toolkits/tests/baseline_images/test_mplot3d/quiver3d.pdf\n",
      "/Users/fonnescj/anaconda3/lib/python3.6/site-packages/mpl_toolkits/tests/baseline_images/test_mplot3d/quiver3d_empty.pdf\n",
      "/Users/fonnescj/anaconda3/lib/python3.6/site-packages/mpl_toolkits/tests/baseline_images/test_mplot3d/quiver3d_masked.pdf\n",
      "/Users/fonnescj/anaconda3/lib/python3.6/site-packages/mpl_toolkits/tests/baseline_images/test_mplot3d/scatter3d.pdf\n",
      "/Users/fonnescj/anaconda3/lib/python3.6/site-packages/mpl_toolkits/tests/baseline_images/test_mplot3d/surface3d.pdf\n",
      "/Users/fonnescj/anaconda3/lib/python3.6/site-packages/mpl_toolkits/tests/baseline_images/test_mplot3d/text3d.pdf\n",
      "/Users/fonnescj/anaconda3/lib/python3.6/site-packages/mpl_toolkits/tests/baseline_images/test_mplot3d/trisurf3d.pdf\n",
      "/Users/fonnescj/anaconda3/lib/python3.6/site-packages/mpl_toolkits/tests/baseline_images/test_mplot3d/wireframe3d.pdf\n",
      "/Users/fonnescj/anaconda3/lib/python3.6/site-packages/nbconvert/exporters/__pycache__/pdf.cpython-36.pyc\n",
      "/Users/fonnescj/anaconda3/lib/python3.6/site-packages/nbconvert/exporters/pdf.py\n",
      "/Users/fonnescj/anaconda3/lib/python3.6/site-packages/nbconvert/exporters/tests/__pycache__/test_pdf.cpython-36.pyc\n",
      "/Users/fonnescj/anaconda3/lib/python3.6/site-packages/nbconvert/exporters/tests/test_pdf.py\n",
      "/Users/fonnescj/anaconda3/lib/python3.6/site-packages/nbconvert/preprocessors/__pycache__/svg2pdf.cpython-36.pyc\n",
      "/Users/fonnescj/anaconda3/lib/python3.6/site-packages/nbconvert/preprocessors/svg2pdf.py\n",
      "/Users/fonnescj/anaconda3/lib/python3.6/site-packages/nbconvert/preprocessors/tests/__pycache__/test_svg2pdf.cpython-36.pyc\n",
      "/Users/fonnescj/anaconda3/lib/python3.6/site-packages/nbconvert/preprocessors/tests/test_svg2pdf.py\n",
      "/Users/fonnescj/anaconda3/lib/python3.6/site-packages/spyder/images/filetypes/pdf.png\n",
      "/Users/fonnescj/anaconda3/pkgs/asn1crypto-0.22.0-py36_0/lib/python3.6/site-packages/asn1crypto/__pycache__/pdf.cpython-36.pyc\n",
      "/Users/fonnescj/anaconda3/pkgs/asn1crypto-0.22.0-py36_0/lib/python3.6/site-packages/asn1crypto/pdf.py\n",
      "/Users/fonnescj/anaconda3/pkgs/jupyter_contrib_nbextensions-0.2.6-py35_0/lib/python3.5/site-packages/jupyter_contrib_nbextensions/nbconvert_support/__pycache__/pre_svg2pdf.cpython-35.pyc\n",
      "/Users/fonnescj/anaconda3/pkgs/jupyter_contrib_nbextensions-0.2.6-py35_0/lib/python3.5/site-packages/jupyter_contrib_nbextensions/nbconvert_support/pre_svg2pdf.py\n",
      "/Users/fonnescj/anaconda3/pkgs/jupyter_contrib_nbextensions-0.2.6-py35_0/lib/python3.5/site-packages/jupyter_contrib_nbextensions/nbextensions/highlighter/export_highlights.pdf\n",
      "/Users/fonnescj/anaconda3/pkgs/jupyter_contrib_nbextensions-0.2.6-py35_0/lib/python3.5/site-packages/jupyter_contrib_nbextensions/nbextensions/highlighter/tst_highlights.pdf\n",
      "/Users/fonnescj/anaconda3/pkgs/jupyter_contrib_nbextensions-0.2.6-py36_0/lib/python3.6/site-packages/jupyter_contrib_nbextensions/nbconvert_support/__pycache__/pre_svg2pdf.cpython-36.pyc\n",
      "/Users/fonnescj/anaconda3/pkgs/jupyter_contrib_nbextensions-0.2.6-py36_0/lib/python3.6/site-packages/jupyter_contrib_nbextensions/nbconvert_support/pre_svg2pdf.py\n",
      "/Users/fonnescj/anaconda3/pkgs/jupyter_contrib_nbextensions-0.2.6-py36_0/lib/python3.6/site-packages/jupyter_contrib_nbextensions/nbextensions/highlighter/export_highlights.pdf\n",
      "/Users/fonnescj/anaconda3/pkgs/jupyter_contrib_nbextensions-0.2.6-py36_0/lib/python3.6/site-packages/jupyter_contrib_nbextensions/nbextensions/highlighter/tst_highlights.pdf\n",
      "/Users/fonnescj/anaconda3/pkgs/jupyter_latex_envs-1.3.8.2-py35_1/lib/python3.5/site-packages/latex_envs/static/doc/documentation.pdf\n",
      "/Users/fonnescj/anaconda3/pkgs/jupyter_latex_envs-1.3.8.2-py36_1/lib/python3.6/site-packages/latex_envs/static/doc/documentation.pdf\n",
      "/Users/fonnescj/anaconda3/pkgs/matplotlib-2.0.0-np111py36_0/lib/python3.6/site-packages/matplotlib/backends/__pycache__/backend_pdf.cpython-36.pyc\n",
      "/Users/fonnescj/anaconda3/pkgs/matplotlib-2.0.0-np111py36_0/lib/python3.6/site-packages/matplotlib/backends/backend_pdf.py\n",
      "/Users/fonnescj/anaconda3/pkgs/matplotlib-2.0.0-np111py36_0/lib/python3.6/site-packages/matplotlib/mpl-data/fonts/pdfcorefonts\n",
      "/Users/fonnescj/anaconda3/pkgs/matplotlib-2.0.0-np111py36_0/lib/python3.6/site-packages/matplotlib/mpl-data/fonts/pdfcorefonts/Courier-Bold.afm\n",
      "/Users/fonnescj/anaconda3/pkgs/matplotlib-2.0.0-np111py36_0/lib/python3.6/site-packages/matplotlib/mpl-data/fonts/pdfcorefonts/Courier-BoldOblique.afm\n",
      "/Users/fonnescj/anaconda3/pkgs/matplotlib-2.0.0-np111py36_0/lib/python3.6/site-packages/matplotlib/mpl-data/fonts/pdfcorefonts/Courier-Oblique.afm\n",
      "/Users/fonnescj/anaconda3/pkgs/matplotlib-2.0.0-np111py36_0/lib/python3.6/site-packages/matplotlib/mpl-data/fonts/pdfcorefonts/Courier.afm\n",
      "/Users/fonnescj/anaconda3/pkgs/matplotlib-2.0.0-np111py36_0/lib/python3.6/site-packages/matplotlib/mpl-data/fonts/pdfcorefonts/Helvetica-Bold.afm\n",
      "/Users/fonnescj/anaconda3/pkgs/matplotlib-2.0.0-np111py36_0/lib/python3.6/site-packages/matplotlib/mpl-data/fonts/pdfcorefonts/Helvetica-BoldOblique.afm\n",
      "/Users/fonnescj/anaconda3/pkgs/matplotlib-2.0.0-np111py36_0/lib/python3.6/site-packages/matplotlib/mpl-data/fonts/pdfcorefonts/Helvetica-Oblique.afm\n",
      "/Users/fonnescj/anaconda3/pkgs/matplotlib-2.0.0-np111py36_0/lib/python3.6/site-packages/matplotlib/mpl-data/fonts/pdfcorefonts/Helvetica.afm\n",
      "/Users/fonnescj/anaconda3/pkgs/matplotlib-2.0.0-np111py36_0/lib/python3.6/site-packages/matplotlib/mpl-data/fonts/pdfcorefonts/Symbol.afm\n",
      "/Users/fonnescj/anaconda3/pkgs/matplotlib-2.0.0-np111py36_0/lib/python3.6/site-packages/matplotlib/mpl-data/fonts/pdfcorefonts/Times-Bold.afm\n",
      "/Users/fonnescj/anaconda3/pkgs/matplotlib-2.0.0-np111py36_0/lib/python3.6/site-packages/matplotlib/mpl-data/fonts/pdfcorefonts/Times-BoldItalic.afm\n",
      "/Users/fonnescj/anaconda3/pkgs/matplotlib-2.0.0-np111py36_0/lib/python3.6/site-packages/matplotlib/mpl-data/fonts/pdfcorefonts/Times-Italic.afm\n",
      "/Users/fonnescj/anaconda3/pkgs/matplotlib-2.0.0-np111py36_0/lib/python3.6/site-packages/matplotlib/mpl-data/fonts/pdfcorefonts/Times-Roman.afm\n",
      "/Users/fonnescj/anaconda3/pkgs/matplotlib-2.0.0-np111py36_0/lib/python3.6/site-packages/matplotlib/mpl-data/fonts/pdfcorefonts/ZapfDingbats.afm\n",
      "/Users/fonnescj/anaconda3/pkgs/matplotlib-2.0.0-np111py36_0/lib/python3.6/site-packages/matplotlib/mpl-data/fonts/pdfcorefonts/readme.txt\n",
      "/Users/fonnescj/anaconda3/pkgs/matplotlib-2.0.0-np111py36_0/lib/python3.6/site-packages/matplotlib/mpl-data/images/back.pdf\n",
      "/Users/fonnescj/anaconda3/pkgs/matplotlib-2.0.0-np111py36_0/lib/python3.6/site-packages/matplotlib/mpl-data/images/filesave.pdf\n",
      "/Users/fonnescj/anaconda3/pkgs/matplotlib-2.0.0-np111py36_0/lib/python3.6/site-packages/matplotlib/mpl-data/images/forward.pdf\n",
      "/Users/fonnescj/anaconda3/pkgs/matplotlib-2.0.0-np111py36_0/lib/python3.6/site-packages/matplotlib/mpl-data/images/hand.pdf\n",
      "/Users/fonnescj/anaconda3/pkgs/matplotlib-2.0.0-np111py36_0/lib/python3.6/site-packages/matplotlib/mpl-data/images/home.pdf\n",
      "/Users/fonnescj/anaconda3/pkgs/matplotlib-2.0.0-np111py36_0/lib/python3.6/site-packages/matplotlib/mpl-data/images/matplotlib.pdf\n",
      "/Users/fonnescj/anaconda3/pkgs/matplotlib-2.0.0-np111py36_0/lib/python3.6/site-packages/matplotlib/mpl-data/images/move.pdf\n",
      "/Users/fonnescj/anaconda3/pkgs/matplotlib-2.0.0-np111py36_0/lib/python3.6/site-packages/matplotlib/mpl-data/images/qt4_editor_options.pdf\n",
      "/Users/fonnescj/anaconda3/pkgs/matplotlib-2.0.0-np111py36_0/lib/python3.6/site-packages/matplotlib/mpl-data/images/subplots.pdf\n",
      "/Users/fonnescj/anaconda3/pkgs/matplotlib-2.0.0-np111py36_0/lib/python3.6/site-packages/matplotlib/mpl-data/images/zoom_to_rect.pdf\n",
      "/Users/fonnescj/anaconda3/pkgs/matplotlib-2.0.0-np111py36_0/lib/python3.6/site-packages/matplotlib/mpl-data/sample_data/None_vs_nearest-pdf.png\n",
      "/Users/fonnescj/anaconda3/pkgs/matplotlib-2.0.0-np112py35_3/lib/python3.5/site-packages/matplotlib/backends/__pycache__/backend_pdf.cpython-35.pyc\n",
      "/Users/fonnescj/anaconda3/pkgs/matplotlib-2.0.0-np112py35_3/lib/python3.5/site-packages/matplotlib/backends/backend_pdf.py\n",
      "/Users/fonnescj/anaconda3/pkgs/matplotlib-2.0.0-np112py35_3/lib/python3.5/site-packages/matplotlib/mpl-data/fonts/pdfcorefonts\n",
      "/Users/fonnescj/anaconda3/pkgs/matplotlib-2.0.0-np112py35_3/lib/python3.5/site-packages/matplotlib/mpl-data/fonts/pdfcorefonts/Courier-Bold.afm\n",
      "/Users/fonnescj/anaconda3/pkgs/matplotlib-2.0.0-np112py35_3/lib/python3.5/site-packages/matplotlib/mpl-data/fonts/pdfcorefonts/Courier-BoldOblique.afm\n",
      "/Users/fonnescj/anaconda3/pkgs/matplotlib-2.0.0-np112py35_3/lib/python3.5/site-packages/matplotlib/mpl-data/fonts/pdfcorefonts/Courier-Oblique.afm\n",
      "/Users/fonnescj/anaconda3/pkgs/matplotlib-2.0.0-np112py35_3/lib/python3.5/site-packages/matplotlib/mpl-data/fonts/pdfcorefonts/Courier.afm\n",
      "/Users/fonnescj/anaconda3/pkgs/matplotlib-2.0.0-np112py35_3/lib/python3.5/site-packages/matplotlib/mpl-data/fonts/pdfcorefonts/Helvetica-Bold.afm\n",
      "/Users/fonnescj/anaconda3/pkgs/matplotlib-2.0.0-np112py35_3/lib/python3.5/site-packages/matplotlib/mpl-data/fonts/pdfcorefonts/Helvetica-BoldOblique.afm\n",
      "/Users/fonnescj/anaconda3/pkgs/matplotlib-2.0.0-np112py35_3/lib/python3.5/site-packages/matplotlib/mpl-data/fonts/pdfcorefonts/Helvetica-Oblique.afm\n",
      "/Users/fonnescj/anaconda3/pkgs/matplotlib-2.0.0-np112py35_3/lib/python3.5/site-packages/matplotlib/mpl-data/fonts/pdfcorefonts/Helvetica.afm\n",
      "/Users/fonnescj/anaconda3/pkgs/matplotlib-2.0.0-np112py35_3/lib/python3.5/site-packages/matplotlib/mpl-data/fonts/pdfcorefonts/Symbol.afm\n",
      "/Users/fonnescj/anaconda3/pkgs/matplotlib-2.0.0-np112py35_3/lib/python3.5/site-packages/matplotlib/mpl-data/fonts/pdfcorefonts/Times-Bold.afm\n",
      "/Users/fonnescj/anaconda3/pkgs/matplotlib-2.0.0-np112py35_3/lib/python3.5/site-packages/matplotlib/mpl-data/fonts/pdfcorefonts/Times-BoldItalic.afm\n",
      "/Users/fonnescj/anaconda3/pkgs/matplotlib-2.0.0-np112py35_3/lib/python3.5/site-packages/matplotlib/mpl-data/fonts/pdfcorefonts/Times-Italic.afm\n",
      "/Users/fonnescj/anaconda3/pkgs/matplotlib-2.0.0-np112py35_3/lib/python3.5/site-packages/matplotlib/mpl-data/fonts/pdfcorefonts/Times-Roman.afm\n",
      "/Users/fonnescj/anaconda3/pkgs/matplotlib-2.0.0-np112py35_3/lib/python3.5/site-packages/matplotlib/mpl-data/fonts/pdfcorefonts/ZapfDingbats.afm\n",
      "/Users/fonnescj/anaconda3/pkgs/matplotlib-2.0.0-np112py35_3/lib/python3.5/site-packages/matplotlib/mpl-data/fonts/pdfcorefonts/readme.txt\n",
      "/Users/fonnescj/anaconda3/pkgs/matplotlib-2.0.0-np112py35_3/lib/python3.5/site-packages/matplotlib/mpl-data/images/back.pdf\n",
      "/Users/fonnescj/anaconda3/pkgs/matplotlib-2.0.0-np112py35_3/lib/python3.5/site-packages/matplotlib/mpl-data/images/filesave.pdf\n",
      "/Users/fonnescj/anaconda3/pkgs/matplotlib-2.0.0-np112py35_3/lib/python3.5/site-packages/matplotlib/mpl-data/images/forward.pdf\n",
      "/Users/fonnescj/anaconda3/pkgs/matplotlib-2.0.0-np112py35_3/lib/python3.5/site-packages/matplotlib/mpl-data/images/hand.pdf\n",
      "/Users/fonnescj/anaconda3/pkgs/matplotlib-2.0.0-np112py35_3/lib/python3.5/site-packages/matplotlib/mpl-data/images/home.pdf\n",
      "/Users/fonnescj/anaconda3/pkgs/matplotlib-2.0.0-np112py35_3/lib/python3.5/site-packages/matplotlib/mpl-data/images/matplotlib.pdf\n",
      "/Users/fonnescj/anaconda3/pkgs/matplotlib-2.0.0-np112py35_3/lib/python3.5/site-packages/matplotlib/mpl-data/images/move.pdf\n",
      "/Users/fonnescj/anaconda3/pkgs/matplotlib-2.0.0-np112py35_3/lib/python3.5/site-packages/matplotlib/mpl-data/images/qt4_editor_options.pdf\n",
      "/Users/fonnescj/anaconda3/pkgs/matplotlib-2.0.0-np112py35_3/lib/python3.5/site-packages/matplotlib/mpl-data/images/subplots.pdf\n",
      "/Users/fonnescj/anaconda3/pkgs/matplotlib-2.0.0-np112py35_3/lib/python3.5/site-packages/matplotlib/mpl-data/images/zoom_to_rect.pdf\n",
      "/Users/fonnescj/anaconda3/pkgs/matplotlib-2.0.0-np112py36_0/lib/python3.6/site-packages/matplotlib/backends/__pycache__/backend_pdf.cpython-36.pyc\n",
      "/Users/fonnescj/anaconda3/pkgs/matplotlib-2.0.0-np112py36_0/lib/python3.6/site-packages/matplotlib/backends/backend_pdf.py\n",
      "/Users/fonnescj/anaconda3/pkgs/matplotlib-2.0.0-np112py36_0/lib/python3.6/site-packages/matplotlib/mpl-data/fonts/pdfcorefonts\n",
      "/Users/fonnescj/anaconda3/pkgs/matplotlib-2.0.0-np112py36_0/lib/python3.6/site-packages/matplotlib/mpl-data/fonts/pdfcorefonts/Courier-Bold.afm\n",
      "/Users/fonnescj/anaconda3/pkgs/matplotlib-2.0.0-np112py36_0/lib/python3.6/site-packages/matplotlib/mpl-data/fonts/pdfcorefonts/Courier-BoldOblique.afm\n",
      "/Users/fonnescj/anaconda3/pkgs/matplotlib-2.0.0-np112py36_0/lib/python3.6/site-packages/matplotlib/mpl-data/fonts/pdfcorefonts/Courier-Oblique.afm\n",
      "/Users/fonnescj/anaconda3/pkgs/matplotlib-2.0.0-np112py36_0/lib/python3.6/site-packages/matplotlib/mpl-data/fonts/pdfcorefonts/Courier.afm\n",
      "/Users/fonnescj/anaconda3/pkgs/matplotlib-2.0.0-np112py36_0/lib/python3.6/site-packages/matplotlib/mpl-data/fonts/pdfcorefonts/Helvetica-Bold.afm\n",
      "/Users/fonnescj/anaconda3/pkgs/matplotlib-2.0.0-np112py36_0/lib/python3.6/site-packages/matplotlib/mpl-data/fonts/pdfcorefonts/Helvetica-BoldOblique.afm\n",
      "/Users/fonnescj/anaconda3/pkgs/matplotlib-2.0.0-np112py36_0/lib/python3.6/site-packages/matplotlib/mpl-data/fonts/pdfcorefonts/Helvetica-Oblique.afm\n",
      "/Users/fonnescj/anaconda3/pkgs/matplotlib-2.0.0-np112py36_0/lib/python3.6/site-packages/matplotlib/mpl-data/fonts/pdfcorefonts/Helvetica.afm\n",
      "/Users/fonnescj/anaconda3/pkgs/matplotlib-2.0.0-np112py36_0/lib/python3.6/site-packages/matplotlib/mpl-data/fonts/pdfcorefonts/Symbol.afm\n",
      "/Users/fonnescj/anaconda3/pkgs/matplotlib-2.0.0-np112py36_0/lib/python3.6/site-packages/matplotlib/mpl-data/fonts/pdfcorefonts/Times-Bold.afm\n",
      "/Users/fonnescj/anaconda3/pkgs/matplotlib-2.0.0-np112py36_0/lib/python3.6/site-packages/matplotlib/mpl-data/fonts/pdfcorefonts/Times-BoldItalic.afm\n",
      "/Users/fonnescj/anaconda3/pkgs/matplotlib-2.0.0-np112py36_0/lib/python3.6/site-packages/matplotlib/mpl-data/fonts/pdfcorefonts/Times-Italic.afm\n",
      "/Users/fonnescj/anaconda3/pkgs/matplotlib-2.0.0-np112py36_0/lib/python3.6/site-packages/matplotlib/mpl-data/fonts/pdfcorefonts/Times-Roman.afm\n",
      "/Users/fonnescj/anaconda3/pkgs/matplotlib-2.0.0-np112py36_0/lib/python3.6/site-packages/matplotlib/mpl-data/fonts/pdfcorefonts/ZapfDingbats.afm\n",
      "/Users/fonnescj/anaconda3/pkgs/matplotlib-2.0.0-np112py36_0/lib/python3.6/site-packages/matplotlib/mpl-data/fonts/pdfcorefonts/readme.txt\n",
      "/Users/fonnescj/anaconda3/pkgs/matplotlib-2.0.0-np112py36_0/lib/python3.6/site-packages/matplotlib/mpl-data/images/back.pdf\n",
      "/Users/fonnescj/anaconda3/pkgs/matplotlib-2.0.0-np112py36_0/lib/python3.6/site-packages/matplotlib/mpl-data/images/filesave.pdf\n",
      "/Users/fonnescj/anaconda3/pkgs/matplotlib-2.0.0-np112py36_0/lib/python3.6/site-packages/matplotlib/mpl-data/images/forward.pdf\n",
      "/Users/fonnescj/anaconda3/pkgs/matplotlib-2.0.0-np112py36_0/lib/python3.6/site-packages/matplotlib/mpl-data/images/hand.pdf\n",
      "/Users/fonnescj/anaconda3/pkgs/matplotlib-2.0.0-np112py36_0/lib/python3.6/site-packages/matplotlib/mpl-data/images/home.pdf\n",
      "/Users/fonnescj/anaconda3/pkgs/matplotlib-2.0.0-np112py36_0/lib/python3.6/site-packages/matplotlib/mpl-data/images/matplotlib.pdf\n",
      "/Users/fonnescj/anaconda3/pkgs/matplotlib-2.0.0-np112py36_0/lib/python3.6/site-packages/matplotlib/mpl-data/images/move.pdf\n",
      "/Users/fonnescj/anaconda3/pkgs/matplotlib-2.0.0-np112py36_0/lib/python3.6/site-packages/matplotlib/mpl-data/images/qt4_editor_options.pdf\n",
      "/Users/fonnescj/anaconda3/pkgs/matplotlib-2.0.0-np112py36_0/lib/python3.6/site-packages/matplotlib/mpl-data/images/subplots.pdf\n",
      "/Users/fonnescj/anaconda3/pkgs/matplotlib-2.0.0-np112py36_0/lib/python3.6/site-packages/matplotlib/mpl-data/images/zoom_to_rect.pdf\n",
      "/Users/fonnescj/anaconda3/pkgs/matplotlib-2.0.0-np112py36_0/lib/python3.6/site-packages/matplotlib/mpl-data/sample_data/None_vs_nearest-pdf.png\n",
      "/Users/fonnescj/anaconda3/pkgs/matplotlib-2.0.0-np112py36_3/lib/python3.6/site-packages/matplotlib/backends/__pycache__/backend_pdf.cpython-36.pyc\n",
      "/Users/fonnescj/anaconda3/pkgs/matplotlib-2.0.0-np112py36_3/lib/python3.6/site-packages/matplotlib/backends/backend_pdf.py\n",
      "/Users/fonnescj/anaconda3/pkgs/matplotlib-2.0.0-np112py36_3/lib/python3.6/site-packages/matplotlib/mpl-data/fonts/pdfcorefonts\n",
      "/Users/fonnescj/anaconda3/pkgs/matplotlib-2.0.0-np112py36_3/lib/python3.6/site-packages/matplotlib/mpl-data/fonts/pdfcorefonts/Courier-Bold.afm\n",
      "/Users/fonnescj/anaconda3/pkgs/matplotlib-2.0.0-np112py36_3/lib/python3.6/site-packages/matplotlib/mpl-data/fonts/pdfcorefonts/Courier-BoldOblique.afm\n",
      "/Users/fonnescj/anaconda3/pkgs/matplotlib-2.0.0-np112py36_3/lib/python3.6/site-packages/matplotlib/mpl-data/fonts/pdfcorefonts/Courier-Oblique.afm\n",
      "/Users/fonnescj/anaconda3/pkgs/matplotlib-2.0.0-np112py36_3/lib/python3.6/site-packages/matplotlib/mpl-data/fonts/pdfcorefonts/Courier.afm\n",
      "/Users/fonnescj/anaconda3/pkgs/matplotlib-2.0.0-np112py36_3/lib/python3.6/site-packages/matplotlib/mpl-data/fonts/pdfcorefonts/Helvetica-Bold.afm\n",
      "/Users/fonnescj/anaconda3/pkgs/matplotlib-2.0.0-np112py36_3/lib/python3.6/site-packages/matplotlib/mpl-data/fonts/pdfcorefonts/Helvetica-BoldOblique.afm\n",
      "/Users/fonnescj/anaconda3/pkgs/matplotlib-2.0.0-np112py36_3/lib/python3.6/site-packages/matplotlib/mpl-data/fonts/pdfcorefonts/Helvetica-Oblique.afm\n",
      "/Users/fonnescj/anaconda3/pkgs/matplotlib-2.0.0-np112py36_3/lib/python3.6/site-packages/matplotlib/mpl-data/fonts/pdfcorefonts/Helvetica.afm\n",
      "/Users/fonnescj/anaconda3/pkgs/matplotlib-2.0.0-np112py36_3/lib/python3.6/site-packages/matplotlib/mpl-data/fonts/pdfcorefonts/Symbol.afm\n",
      "/Users/fonnescj/anaconda3/pkgs/matplotlib-2.0.0-np112py36_3/lib/python3.6/site-packages/matplotlib/mpl-data/fonts/pdfcorefonts/Times-Bold.afm\n",
      "/Users/fonnescj/anaconda3/pkgs/matplotlib-2.0.0-np112py36_3/lib/python3.6/site-packages/matplotlib/mpl-data/fonts/pdfcorefonts/Times-BoldItalic.afm\n",
      "/Users/fonnescj/anaconda3/pkgs/matplotlib-2.0.0-np112py36_3/lib/python3.6/site-packages/matplotlib/mpl-data/fonts/pdfcorefonts/Times-Italic.afm\n",
      "/Users/fonnescj/anaconda3/pkgs/matplotlib-2.0.0-np112py36_3/lib/python3.6/site-packages/matplotlib/mpl-data/fonts/pdfcorefonts/Times-Roman.afm\n",
      "/Users/fonnescj/anaconda3/pkgs/matplotlib-2.0.0-np112py36_3/lib/python3.6/site-packages/matplotlib/mpl-data/fonts/pdfcorefonts/ZapfDingbats.afm\n",
      "/Users/fonnescj/anaconda3/pkgs/matplotlib-2.0.0-np112py36_3/lib/python3.6/site-packages/matplotlib/mpl-data/fonts/pdfcorefonts/readme.txt\n",
      "/Users/fonnescj/anaconda3/pkgs/matplotlib-2.0.0-np112py36_3/lib/python3.6/site-packages/matplotlib/mpl-data/images/back.pdf\n",
      "/Users/fonnescj/anaconda3/pkgs/matplotlib-2.0.0-np112py36_3/lib/python3.6/site-packages/matplotlib/mpl-data/images/filesave.pdf\n",
      "/Users/fonnescj/anaconda3/pkgs/matplotlib-2.0.0-np112py36_3/lib/python3.6/site-packages/matplotlib/mpl-data/images/forward.pdf\n",
      "/Users/fonnescj/anaconda3/pkgs/matplotlib-2.0.0-np112py36_3/lib/python3.6/site-packages/matplotlib/mpl-data/images/hand.pdf\n",
      "/Users/fonnescj/anaconda3/pkgs/matplotlib-2.0.0-np112py36_3/lib/python3.6/site-packages/matplotlib/mpl-data/images/home.pdf\n",
      "/Users/fonnescj/anaconda3/pkgs/matplotlib-2.0.0-np112py36_3/lib/python3.6/site-packages/matplotlib/mpl-data/images/matplotlib.pdf\n",
      "/Users/fonnescj/anaconda3/pkgs/matplotlib-2.0.0-np112py36_3/lib/python3.6/site-packages/matplotlib/mpl-data/images/move.pdf\n",
      "/Users/fonnescj/anaconda3/pkgs/matplotlib-2.0.0-np112py36_3/lib/python3.6/site-packages/matplotlib/mpl-data/images/qt4_editor_options.pdf\n",
      "/Users/fonnescj/anaconda3/pkgs/matplotlib-2.0.0-np112py36_3/lib/python3.6/site-packages/matplotlib/mpl-data/images/subplots.pdf\n",
      "/Users/fonnescj/anaconda3/pkgs/matplotlib-2.0.0-np112py36_3/lib/python3.6/site-packages/matplotlib/mpl-data/images/zoom_to_rect.pdf\n",
      "/Users/fonnescj/anaconda3/pkgs/matplotlib-2.0.2-np112py35_0/lib/python3.5/site-packages/matplotlib/backends/__pycache__/backend_pdf.cpython-35.pyc\n",
      "/Users/fonnescj/anaconda3/pkgs/matplotlib-2.0.2-np112py35_0/lib/python3.5/site-packages/matplotlib/backends/backend_pdf.py\n",
      "/Users/fonnescj/anaconda3/pkgs/matplotlib-2.0.2-np112py35_0/lib/python3.5/site-packages/matplotlib/mpl-data/fonts/pdfcorefonts\n",
      "/Users/fonnescj/anaconda3/pkgs/matplotlib-2.0.2-np112py35_0/lib/python3.5/site-packages/matplotlib/mpl-data/fonts/pdfcorefonts/Courier-Bold.afm\n",
      "/Users/fonnescj/anaconda3/pkgs/matplotlib-2.0.2-np112py35_0/lib/python3.5/site-packages/matplotlib/mpl-data/fonts/pdfcorefonts/Courier-BoldOblique.afm\n",
      "/Users/fonnescj/anaconda3/pkgs/matplotlib-2.0.2-np112py35_0/lib/python3.5/site-packages/matplotlib/mpl-data/fonts/pdfcorefonts/Courier-Oblique.afm\n",
      "/Users/fonnescj/anaconda3/pkgs/matplotlib-2.0.2-np112py35_0/lib/python3.5/site-packages/matplotlib/mpl-data/fonts/pdfcorefonts/Courier.afm\n",
      "/Users/fonnescj/anaconda3/pkgs/matplotlib-2.0.2-np112py35_0/lib/python3.5/site-packages/matplotlib/mpl-data/fonts/pdfcorefonts/Helvetica-Bold.afm\n",
      "/Users/fonnescj/anaconda3/pkgs/matplotlib-2.0.2-np112py35_0/lib/python3.5/site-packages/matplotlib/mpl-data/fonts/pdfcorefonts/Helvetica-BoldOblique.afm\n",
      "/Users/fonnescj/anaconda3/pkgs/matplotlib-2.0.2-np112py35_0/lib/python3.5/site-packages/matplotlib/mpl-data/fonts/pdfcorefonts/Helvetica-Oblique.afm\n",
      "/Users/fonnescj/anaconda3/pkgs/matplotlib-2.0.2-np112py35_0/lib/python3.5/site-packages/matplotlib/mpl-data/fonts/pdfcorefonts/Helvetica.afm\n",
      "/Users/fonnescj/anaconda3/pkgs/matplotlib-2.0.2-np112py35_0/lib/python3.5/site-packages/matplotlib/mpl-data/fonts/pdfcorefonts/Symbol.afm\n",
      "/Users/fonnescj/anaconda3/pkgs/matplotlib-2.0.2-np112py35_0/lib/python3.5/site-packages/matplotlib/mpl-data/fonts/pdfcorefonts/Times-Bold.afm\n",
      "/Users/fonnescj/anaconda3/pkgs/matplotlib-2.0.2-np112py35_0/lib/python3.5/site-packages/matplotlib/mpl-data/fonts/pdfcorefonts/Times-BoldItalic.afm\n",
      "/Users/fonnescj/anaconda3/pkgs/matplotlib-2.0.2-np112py35_0/lib/python3.5/site-packages/matplotlib/mpl-data/fonts/pdfcorefonts/Times-Italic.afm\n",
      "/Users/fonnescj/anaconda3/pkgs/matplotlib-2.0.2-np112py35_0/lib/python3.5/site-packages/matplotlib/mpl-data/fonts/pdfcorefonts/Times-Roman.afm\n",
      "/Users/fonnescj/anaconda3/pkgs/matplotlib-2.0.2-np112py35_0/lib/python3.5/site-packages/matplotlib/mpl-data/fonts/pdfcorefonts/ZapfDingbats.afm\n",
      "/Users/fonnescj/anaconda3/pkgs/matplotlib-2.0.2-np112py35_0/lib/python3.5/site-packages/matplotlib/mpl-data/fonts/pdfcorefonts/readme.txt\n",
      "/Users/fonnescj/anaconda3/pkgs/matplotlib-2.0.2-np112py35_0/lib/python3.5/site-packages/matplotlib/mpl-data/images/back.pdf\n",
      "/Users/fonnescj/anaconda3/pkgs/matplotlib-2.0.2-np112py35_0/lib/python3.5/site-packages/matplotlib/mpl-data/images/filesave.pdf\n",
      "/Users/fonnescj/anaconda3/pkgs/matplotlib-2.0.2-np112py35_0/lib/python3.5/site-packages/matplotlib/mpl-data/images/forward.pdf\n",
      "/Users/fonnescj/anaconda3/pkgs/matplotlib-2.0.2-np112py35_0/lib/python3.5/site-packages/matplotlib/mpl-data/images/hand.pdf\n",
      "/Users/fonnescj/anaconda3/pkgs/matplotlib-2.0.2-np112py35_0/lib/python3.5/site-packages/matplotlib/mpl-data/images/home.pdf\n",
      "/Users/fonnescj/anaconda3/pkgs/matplotlib-2.0.2-np112py35_0/lib/python3.5/site-packages/matplotlib/mpl-data/images/matplotlib.pdf\n",
      "/Users/fonnescj/anaconda3/pkgs/matplotlib-2.0.2-np112py35_0/lib/python3.5/site-packages/matplotlib/mpl-data/images/move.pdf\n",
      "/Users/fonnescj/anaconda3/pkgs/matplotlib-2.0.2-np112py35_0/lib/python3.5/site-packages/matplotlib/mpl-data/images/qt4_editor_options.pdf\n",
      "/Users/fonnescj/anaconda3/pkgs/matplotlib-2.0.2-np112py35_0/lib/python3.5/site-packages/matplotlib/mpl-data/images/subplots.pdf\n",
      "/Users/fonnescj/anaconda3/pkgs/matplotlib-2.0.2-np112py35_0/lib/python3.5/site-packages/matplotlib/mpl-data/images/zoom_to_rect.pdf\n",
      "/Users/fonnescj/anaconda3/pkgs/matplotlib-2.0.2-np112py36_0/lib/python3.6/site-packages/matplotlib/backends/__pycache__/backend_pdf.cpython-36.pyc\n",
      "/Users/fonnescj/anaconda3/pkgs/matplotlib-2.0.2-np112py36_0/lib/python3.6/site-packages/matplotlib/backends/backend_pdf.py\n",
      "/Users/fonnescj/anaconda3/pkgs/matplotlib-2.0.2-np112py36_0/lib/python3.6/site-packages/matplotlib/mpl-data/fonts/pdfcorefonts\n",
      "/Users/fonnescj/anaconda3/pkgs/matplotlib-2.0.2-np112py36_0/lib/python3.6/site-packages/matplotlib/mpl-data/fonts/pdfcorefonts/Courier-Bold.afm\n",
      "/Users/fonnescj/anaconda3/pkgs/matplotlib-2.0.2-np112py36_0/lib/python3.6/site-packages/matplotlib/mpl-data/fonts/pdfcorefonts/Courier-BoldOblique.afm\n",
      "/Users/fonnescj/anaconda3/pkgs/matplotlib-2.0.2-np112py36_0/lib/python3.6/site-packages/matplotlib/mpl-data/fonts/pdfcorefonts/Courier-Oblique.afm\n",
      "/Users/fonnescj/anaconda3/pkgs/matplotlib-2.0.2-np112py36_0/lib/python3.6/site-packages/matplotlib/mpl-data/fonts/pdfcorefonts/Courier.afm\n",
      "/Users/fonnescj/anaconda3/pkgs/matplotlib-2.0.2-np112py36_0/lib/python3.6/site-packages/matplotlib/mpl-data/fonts/pdfcorefonts/Helvetica-Bold.afm\n",
      "/Users/fonnescj/anaconda3/pkgs/matplotlib-2.0.2-np112py36_0/lib/python3.6/site-packages/matplotlib/mpl-data/fonts/pdfcorefonts/Helvetica-BoldOblique.afm\n",
      "/Users/fonnescj/anaconda3/pkgs/matplotlib-2.0.2-np112py36_0/lib/python3.6/site-packages/matplotlib/mpl-data/fonts/pdfcorefonts/Helvetica-Oblique.afm\n",
      "/Users/fonnescj/anaconda3/pkgs/matplotlib-2.0.2-np112py36_0/lib/python3.6/site-packages/matplotlib/mpl-data/fonts/pdfcorefonts/Helvetica.afm\n",
      "/Users/fonnescj/anaconda3/pkgs/matplotlib-2.0.2-np112py36_0/lib/python3.6/site-packages/matplotlib/mpl-data/fonts/pdfcorefonts/Symbol.afm\n",
      "/Users/fonnescj/anaconda3/pkgs/matplotlib-2.0.2-np112py36_0/lib/python3.6/site-packages/matplotlib/mpl-data/fonts/pdfcorefonts/Times-Bold.afm\n",
      "/Users/fonnescj/anaconda3/pkgs/matplotlib-2.0.2-np112py36_0/lib/python3.6/site-packages/matplotlib/mpl-data/fonts/pdfcorefonts/Times-BoldItalic.afm\n",
      "/Users/fonnescj/anaconda3/pkgs/matplotlib-2.0.2-np112py36_0/lib/python3.6/site-packages/matplotlib/mpl-data/fonts/pdfcorefonts/Times-Italic.afm\n",
      "/Users/fonnescj/anaconda3/pkgs/matplotlib-2.0.2-np112py36_0/lib/python3.6/site-packages/matplotlib/mpl-data/fonts/pdfcorefonts/Times-Roman.afm\n",
      "/Users/fonnescj/anaconda3/pkgs/matplotlib-2.0.2-np112py36_0/lib/python3.6/site-packages/matplotlib/mpl-data/fonts/pdfcorefonts/ZapfDingbats.afm\n",
      "/Users/fonnescj/anaconda3/pkgs/matplotlib-2.0.2-np112py36_0/lib/python3.6/site-packages/matplotlib/mpl-data/fonts/pdfcorefonts/readme.txt\n",
      "/Users/fonnescj/anaconda3/pkgs/matplotlib-2.0.2-np112py36_0/lib/python3.6/site-packages/matplotlib/mpl-data/images/back.pdf\n",
      "/Users/fonnescj/anaconda3/pkgs/matplotlib-2.0.2-np112py36_0/lib/python3.6/site-packages/matplotlib/mpl-data/images/filesave.pdf\n",
      "/Users/fonnescj/anaconda3/pkgs/matplotlib-2.0.2-np112py36_0/lib/python3.6/site-packages/matplotlib/mpl-data/images/forward.pdf\n",
      "/Users/fonnescj/anaconda3/pkgs/matplotlib-2.0.2-np112py36_0/lib/python3.6/site-packages/matplotlib/mpl-data/images/hand.pdf\n",
      "/Users/fonnescj/anaconda3/pkgs/matplotlib-2.0.2-np112py36_0/lib/python3.6/site-packages/matplotlib/mpl-data/images/home.pdf\n",
      "/Users/fonnescj/anaconda3/pkgs/matplotlib-2.0.2-np112py36_0/lib/python3.6/site-packages/matplotlib/mpl-data/images/matplotlib.pdf\n",
      "/Users/fonnescj/anaconda3/pkgs/matplotlib-2.0.2-np112py36_0/lib/python3.6/site-packages/matplotlib/mpl-data/images/move.pdf\n",
      "/Users/fonnescj/anaconda3/pkgs/matplotlib-2.0.2-np112py36_0/lib/python3.6/site-packages/matplotlib/mpl-data/images/qt4_editor_options.pdf\n",
      "/Users/fonnescj/anaconda3/pkgs/matplotlib-2.0.2-np112py36_0/lib/python3.6/site-packages/matplotlib/mpl-data/images/subplots.pdf\n",
      "/Users/fonnescj/anaconda3/pkgs/matplotlib-2.0.2-np112py36_0/lib/python3.6/site-packages/matplotlib/mpl-data/images/zoom_to_rect.pdf\n",
      "/Users/fonnescj/anaconda3/pkgs/matplotlib-2.0.2-py36_2/lib/python3.6/site-packages/matplotlib/backends/__pycache__/backend_pdf.cpython-36.pyc\n",
      "/Users/fonnescj/anaconda3/pkgs/matplotlib-2.0.2-py36_2/lib/python3.6/site-packages/matplotlib/backends/backend_pdf.py\n",
      "/Users/fonnescj/anaconda3/pkgs/matplotlib-2.0.2-py36_2/lib/python3.6/site-packages/matplotlib/mpl-data/fonts/pdfcorefonts\n",
      "/Users/fonnescj/anaconda3/pkgs/matplotlib-2.0.2-py36_2/lib/python3.6/site-packages/matplotlib/mpl-data/fonts/pdfcorefonts/Courier-Bold.afm\n",
      "/Users/fonnescj/anaconda3/pkgs/matplotlib-2.0.2-py36_2/lib/python3.6/site-packages/matplotlib/mpl-data/fonts/pdfcorefonts/Courier-BoldOblique.afm\n",
      "/Users/fonnescj/anaconda3/pkgs/matplotlib-2.0.2-py36_2/lib/python3.6/site-packages/matplotlib/mpl-data/fonts/pdfcorefonts/Courier-Oblique.afm\n",
      "/Users/fonnescj/anaconda3/pkgs/matplotlib-2.0.2-py36_2/lib/python3.6/site-packages/matplotlib/mpl-data/fonts/pdfcorefonts/Courier.afm\n",
      "/Users/fonnescj/anaconda3/pkgs/matplotlib-2.0.2-py36_2/lib/python3.6/site-packages/matplotlib/mpl-data/fonts/pdfcorefonts/Helvetica-Bold.afm\n",
      "/Users/fonnescj/anaconda3/pkgs/matplotlib-2.0.2-py36_2/lib/python3.6/site-packages/matplotlib/mpl-data/fonts/pdfcorefonts/Helvetica-BoldOblique.afm\n",
      "/Users/fonnescj/anaconda3/pkgs/matplotlib-2.0.2-py36_2/lib/python3.6/site-packages/matplotlib/mpl-data/fonts/pdfcorefonts/Helvetica-Oblique.afm\n",
      "/Users/fonnescj/anaconda3/pkgs/matplotlib-2.0.2-py36_2/lib/python3.6/site-packages/matplotlib/mpl-data/fonts/pdfcorefonts/Helvetica.afm\n",
      "/Users/fonnescj/anaconda3/pkgs/matplotlib-2.0.2-py36_2/lib/python3.6/site-packages/matplotlib/mpl-data/fonts/pdfcorefonts/Symbol.afm\n",
      "/Users/fonnescj/anaconda3/pkgs/matplotlib-2.0.2-py36_2/lib/python3.6/site-packages/matplotlib/mpl-data/fonts/pdfcorefonts/Times-Bold.afm\n",
      "/Users/fonnescj/anaconda3/pkgs/matplotlib-2.0.2-py36_2/lib/python3.6/site-packages/matplotlib/mpl-data/fonts/pdfcorefonts/Times-BoldItalic.afm\n",
      "/Users/fonnescj/anaconda3/pkgs/matplotlib-2.0.2-py36_2/lib/python3.6/site-packages/matplotlib/mpl-data/fonts/pdfcorefonts/Times-Italic.afm\n",
      "/Users/fonnescj/anaconda3/pkgs/matplotlib-2.0.2-py36_2/lib/python3.6/site-packages/matplotlib/mpl-data/fonts/pdfcorefonts/Times-Roman.afm\n",
      "/Users/fonnescj/anaconda3/pkgs/matplotlib-2.0.2-py36_2/lib/python3.6/site-packages/matplotlib/mpl-data/fonts/pdfcorefonts/ZapfDingbats.afm\n",
      "/Users/fonnescj/anaconda3/pkgs/matplotlib-2.0.2-py36_2/lib/python3.6/site-packages/matplotlib/mpl-data/fonts/pdfcorefonts/readme.txt\n",
      "/Users/fonnescj/anaconda3/pkgs/matplotlib-2.0.2-py36_2/lib/python3.6/site-packages/matplotlib/mpl-data/images/back.pdf\n",
      "/Users/fonnescj/anaconda3/pkgs/matplotlib-2.0.2-py36_2/lib/python3.6/site-packages/matplotlib/mpl-data/images/filesave.pdf\n",
      "/Users/fonnescj/anaconda3/pkgs/matplotlib-2.0.2-py36_2/lib/python3.6/site-packages/matplotlib/mpl-data/images/forward.pdf\n",
      "/Users/fonnescj/anaconda3/pkgs/matplotlib-2.0.2-py36_2/lib/python3.6/site-packages/matplotlib/mpl-data/images/hand.pdf\n",
      "/Users/fonnescj/anaconda3/pkgs/matplotlib-2.0.2-py36_2/lib/python3.6/site-packages/matplotlib/mpl-data/images/home.pdf\n",
      "/Users/fonnescj/anaconda3/pkgs/matplotlib-2.0.2-py36_2/lib/python3.6/site-packages/matplotlib/mpl-data/images/matplotlib.pdf\n",
      "/Users/fonnescj/anaconda3/pkgs/matplotlib-2.0.2-py36_2/lib/python3.6/site-packages/matplotlib/mpl-data/images/move.pdf\n",
      "/Users/fonnescj/anaconda3/pkgs/matplotlib-2.0.2-py36_2/lib/python3.6/site-packages/matplotlib/mpl-data/images/qt4_editor_options.pdf\n",
      "/Users/fonnescj/anaconda3/pkgs/matplotlib-2.0.2-py36_2/lib/python3.6/site-packages/matplotlib/mpl-data/images/subplots.pdf\n",
      "/Users/fonnescj/anaconda3/pkgs/matplotlib-2.0.2-py36_2/lib/python3.6/site-packages/matplotlib/mpl-data/images/zoom_to_rect.pdf\n",
      "/Users/fonnescj/anaconda3/pkgs/nbconvert-4.2.0-py36_0/lib/python3.6/site-packages/nbconvert/exporters/__pycache__/pdf.cpython-36.pyc\n",
      "/Users/fonnescj/anaconda3/pkgs/nbconvert-4.2.0-py36_0/lib/python3.6/site-packages/nbconvert/exporters/pdf.py\n",
      "/Users/fonnescj/anaconda3/pkgs/nbconvert-4.2.0-py36_0/lib/python3.6/site-packages/nbconvert/exporters/tests/__pycache__/test_pdf.cpython-36.pyc\n",
      "/Users/fonnescj/anaconda3/pkgs/nbconvert-4.2.0-py36_0/lib/python3.6/site-packages/nbconvert/exporters/tests/test_pdf.py\n",
      "/Users/fonnescj/anaconda3/pkgs/nbconvert-4.2.0-py36_0/lib/python3.6/site-packages/nbconvert/preprocessors/__pycache__/svg2pdf.cpython-36.pyc\n",
      "/Users/fonnescj/anaconda3/pkgs/nbconvert-4.2.0-py36_0/lib/python3.6/site-packages/nbconvert/preprocessors/svg2pdf.py\n",
      "/Users/fonnescj/anaconda3/pkgs/nbconvert-4.2.0-py36_0/lib/python3.6/site-packages/nbconvert/preprocessors/tests/__pycache__/test_svg2pdf.cpython-36.pyc\n",
      "/Users/fonnescj/anaconda3/pkgs/nbconvert-4.2.0-py36_0/lib/python3.6/site-packages/nbconvert/preprocessors/tests/test_svg2pdf.py\n",
      "/Users/fonnescj/anaconda3/pkgs/nbconvert-5.1.1-py35_1/lib/python3.5/site-packages/nbconvert/exporters/__pycache__/pdf.cpython-35.pyc\n",
      "/Users/fonnescj/anaconda3/pkgs/nbconvert-5.1.1-py35_1/lib/python3.5/site-packages/nbconvert/exporters/pdf.py\n",
      "/Users/fonnescj/anaconda3/pkgs/nbconvert-5.1.1-py35_1/lib/python3.5/site-packages/nbconvert/exporters/tests/__pycache__/test_pdf.cpython-35.pyc\n",
      "/Users/fonnescj/anaconda3/pkgs/nbconvert-5.1.1-py35_1/lib/python3.5/site-packages/nbconvert/exporters/tests/test_pdf.py\n",
      "/Users/fonnescj/anaconda3/pkgs/nbconvert-5.1.1-py35_1/lib/python3.5/site-packages/nbconvert/preprocessors/__pycache__/svg2pdf.cpython-35.pyc\n",
      "/Users/fonnescj/anaconda3/pkgs/nbconvert-5.1.1-py35_1/lib/python3.5/site-packages/nbconvert/preprocessors/svg2pdf.py\n",
      "/Users/fonnescj/anaconda3/pkgs/nbconvert-5.1.1-py35_1/lib/python3.5/site-packages/nbconvert/preprocessors/tests/__pycache__/test_svg2pdf.cpython-35.pyc\n",
      "/Users/fonnescj/anaconda3/pkgs/nbconvert-5.1.1-py35_1/lib/python3.5/site-packages/nbconvert/preprocessors/tests/test_svg2pdf.py\n",
      "/Users/fonnescj/anaconda3/pkgs/nbconvert-5.1.1-py36_0/lib/python3.6/site-packages/nbconvert/exporters/__pycache__/pdf.cpython-36.pyc\n",
      "/Users/fonnescj/anaconda3/pkgs/nbconvert-5.1.1-py36_0/lib/python3.6/site-packages/nbconvert/exporters/pdf.py\n",
      "/Users/fonnescj/anaconda3/pkgs/nbconvert-5.1.1-py36_0/lib/python3.6/site-packages/nbconvert/exporters/tests/__pycache__/test_pdf.cpython-36.pyc\n",
      "/Users/fonnescj/anaconda3/pkgs/nbconvert-5.1.1-py36_0/lib/python3.6/site-packages/nbconvert/exporters/tests/test_pdf.py\n",
      "/Users/fonnescj/anaconda3/pkgs/nbconvert-5.1.1-py36_0/lib/python3.6/site-packages/nbconvert/preprocessors/__pycache__/svg2pdf.cpython-36.pyc\n",
      "/Users/fonnescj/anaconda3/pkgs/nbconvert-5.1.1-py36_0/lib/python3.6/site-packages/nbconvert/preprocessors/svg2pdf.py\n",
      "/Users/fonnescj/anaconda3/pkgs/nbconvert-5.1.1-py36_0/lib/python3.6/site-packages/nbconvert/preprocessors/tests/__pycache__/test_svg2pdf.cpython-36.pyc\n",
      "/Users/fonnescj/anaconda3/pkgs/nbconvert-5.1.1-py36_0/lib/python3.6/site-packages/nbconvert/preprocessors/tests/test_svg2pdf.py\n",
      "/Users/fonnescj/anaconda3/pkgs/nbconvert-5.1.1-py36_1/lib/python3.6/site-packages/nbconvert/exporters/__pycache__/pdf.cpython-36.pyc\n",
      "/Users/fonnescj/anaconda3/pkgs/nbconvert-5.1.1-py36_1/lib/python3.6/site-packages/nbconvert/exporters/pdf.py\n",
      "/Users/fonnescj/anaconda3/pkgs/nbconvert-5.1.1-py36_1/lib/python3.6/site-packages/nbconvert/exporters/tests/__pycache__/test_pdf.cpython-36.pyc\n",
      "/Users/fonnescj/anaconda3/pkgs/nbconvert-5.1.1-py36_1/lib/python3.6/site-packages/nbconvert/exporters/tests/test_pdf.py\n",
      "/Users/fonnescj/anaconda3/pkgs/nbconvert-5.1.1-py36_1/lib/python3.6/site-packages/nbconvert/preprocessors/__pycache__/svg2pdf.cpython-36.pyc\n",
      "/Users/fonnescj/anaconda3/pkgs/nbconvert-5.1.1-py36_1/lib/python3.6/site-packages/nbconvert/preprocessors/svg2pdf.py\n",
      "/Users/fonnescj/anaconda3/pkgs/nbconvert-5.1.1-py36_1/lib/python3.6/site-packages/nbconvert/preprocessors/tests/__pycache__/test_svg2pdf.cpython-36.pyc\n",
      "/Users/fonnescj/anaconda3/pkgs/nbconvert-5.1.1-py36_1/lib/python3.6/site-packages/nbconvert/preprocessors/tests/test_svg2pdf.py\n",
      "/Users/fonnescj/anaconda3/pkgs/nbconvert-5.2.1-py36_1/lib/python3.6/site-packages/nbconvert/exporters/__pycache__/pdf.cpython-36.pyc\n",
      "/Users/fonnescj/anaconda3/pkgs/nbconvert-5.2.1-py36_1/lib/python3.6/site-packages/nbconvert/exporters/pdf.py\n",
      "/Users/fonnescj/anaconda3/pkgs/nbconvert-5.2.1-py36_1/lib/python3.6/site-packages/nbconvert/exporters/tests/__pycache__/test_pdf.cpython-36.pyc\n",
      "/Users/fonnescj/anaconda3/pkgs/nbconvert-5.2.1-py36_1/lib/python3.6/site-packages/nbconvert/exporters/tests/test_pdf.py\n",
      "/Users/fonnescj/anaconda3/pkgs/nbconvert-5.2.1-py36_1/lib/python3.6/site-packages/nbconvert/preprocessors/__pycache__/svg2pdf.cpython-36.pyc\n",
      "/Users/fonnescj/anaconda3/pkgs/nbconvert-5.2.1-py36_1/lib/python3.6/site-packages/nbconvert/preprocessors/svg2pdf.py\n",
      "/Users/fonnescj/anaconda3/pkgs/nbconvert-5.2.1-py36_1/lib/python3.6/site-packages/nbconvert/preprocessors/tests/__pycache__/test_svg2pdf.cpython-36.pyc\n",
      "/Users/fonnescj/anaconda3/pkgs/nbconvert-5.2.1-py36_1/lib/python3.6/site-packages/nbconvert/preprocessors/tests/test_svg2pdf.py\n"
     ]
    },
    {
     "name": "stdout",
     "output_type": "stream",
     "text": [
      "/Users/fonnescj/anaconda3/pkgs/rise-5.0.0-py36_0/lib/python3.6/site-packages/rise/static/reveal.js/css/print/pdf.css\n",
      "/Users/fonnescj/anaconda3/pkgs/rise-5.0.0-py36_0/lib/python3.6/site-packages/rise/static/reveal.js/plugin/print-pdf\n",
      "/Users/fonnescj/anaconda3/pkgs/rise-5.0.0-py36_0/lib/python3.6/site-packages/rise/static/reveal.js/plugin/print-pdf/print-pdf.js\n",
      "/Users/fonnescj/anaconda3/pkgs/rise-5.0.0-py36_0/lib/python3.6/site-packages/rise/static/reveal.js/test/test-pdf.html\n",
      "/Users/fonnescj/anaconda3/pkgs/rise-5.0.0-py36_0/lib/python3.6/site-packages/rise/static/reveal.js/test/test-pdf.js\n",
      "/Users/fonnescj/anaconda3/pkgs/spyder-3.1.2-py36_0/lib/python3.6/site-packages/spyder/images/filetypes/pdf.png\n",
      "/usr/local/texlive/2016/texmf-dist/doc/latex/pythontex/pythontex.pdf\n",
      "/usr/local/texlive/2016/texmf-dist/doc/latex/pythontex/pythontex_gallery.pdf\n",
      "/usr/local/texlive/2016/texmf-dist/doc/latex/pythontex/pythontex_quickstart.pdf\n"
     ]
    }
   ],
   "source": [
    "!locate python | grep pdf"
   ]
  },
  {
   "cell_type": "markdown",
   "metadata": {},
   "source": [
    "You can even use Python variables in commands sent to the OS:"
   ]
  },
  {
   "cell_type": "code",
   "execution_count": 11,
   "metadata": {},
   "outputs": [
    {
     "name": "stdout",
     "output_type": "stream",
     "text": [
      "images/ipython_architecture.png     images/qtconsole.png\r\n",
      "images/parallel_tab.png             images/workflow.png\r\n",
      "images/python-logo-master-v3-TM.png\r\n"
     ]
    }
   ],
   "source": [
    "file_type = 'png'\n",
    "!ls images/*$file_type"
   ]
  },
  {
   "cell_type": "markdown",
   "metadata": {},
   "source": [
    "The output of a system command using the exclamation point syntax can be assigned to a Python variable."
   ]
  },
  {
   "cell_type": "code",
   "execution_count": 12,
   "metadata": {},
   "outputs": [],
   "source": [
    "data_files = !ls images/"
   ]
  },
  {
   "cell_type": "code",
   "execution_count": 13,
   "metadata": {},
   "outputs": [
    {
     "data": {
      "text/plain": [
       "['ipython_architecture.png',\n",
       " 'parallel_tab.png',\n",
       " 'python-logo-master-v3-TM.png',\n",
       " 'qtconsole.png',\n",
       " 'workflow.png']"
      ]
     },
     "execution_count": 13,
     "metadata": {},
     "output_type": "execute_result"
    }
   ],
   "source": [
    "data_files"
   ]
  },
  {
   "cell_type": "code",
   "execution_count": 14,
   "metadata": {},
   "outputs": [],
   "source": [
    "%qtconsole"
   ]
  },
  {
   "cell_type": "markdown",
   "metadata": {},
   "source": [
    "## Qt Console\n",
    "\n",
    "If you type at the system prompt:\n",
    "\n",
    "    $ ipython qtconsole\n",
    "\n",
    "instead of opening in a terminal, IPython will start a graphical console that at first sight appears just like a terminal, but which is in fact much more capable than a text-only terminal.  This is a specialized terminal designed for interactive scientific work, and it supports full multi-line editing with color highlighting and graphical calltips for functions, it can keep multiple IPython sessions open simultaneously in tabs, and when scripts run it can display the figures inline directly in the work area.\n",
    "\n",
    "![qtconsole](images/qtconsole.png)"
   ]
  },
  {
   "cell_type": "markdown",
   "metadata": {},
   "source": [
    "# Jupyter Notebook\n",
    "\n",
    "Over time, the IPython project grew to include several components, including:\n",
    "\n",
    "* an interactive shell\n",
    "* a REPL protocol\n",
    "* a notebook document fromat\n",
    "* a notebook document conversion tool\n",
    "* a web-based notebook authoring tool\n",
    "* tools for building interactive UI (widgets)\n",
    "* interactive parallel Python\n",
    "\n",
    "As each component has evolved, several had grown to the point that they warrented projects of their own. For example, pieces like the notebook and protocol are not even specific to Python. As the result, the IPython team created Project Jupyter, which is the new home of language-agnostic projects that began as part of IPython, such as the notebook in which you are reading this text.\n",
    "\n",
    "The HTML notebook that is part of the Jupyter project supports **interactive data visualization** and easy high-performance **parallel computing**.\n"
   ]
  },
  {
   "cell_type": "code",
   "execution_count": 15,
   "metadata": {},
   "outputs": [
    {
     "data": {
      "text/plain": [
       "[<matplotlib.lines.Line2D at 0x106af1ba8>]"
      ]
     },
     "execution_count": 15,
     "metadata": {},
     "output_type": "execute_result"
    },
    {
     "data": {
      "image/png": "[encoded data removed]",
      "text/plain": [
       "<matplotlib.figure.Figure at 0x105c3c4e0>"
      ]
     },
     "metadata": {},
     "output_type": "display_data"
    }
   ],
   "source": [
    "%matplotlib inline\n",
    "import matplotlib.pyplot as plt\n",
    "plt.style.use('fivethirtyeight')\n",
    "\n",
    "def f(x):\n",
    "    return (x-3)*(x-5)*(x-7)+85\n",
    "\n",
    "import numpy as np\n",
    "x = np.linspace(0, 10, 200)\n",
    "y = f(x)\n",
    "plt.plot(x,y)"
   ]
  },
  {
   "cell_type": "markdown",
   "metadata": {},
   "source": [
    "The notebook lets you document your workflow using either HTML or Markdown.\n",
    "\n",
    "The Jupyter Notebook consists of two related components:\n",
    "\n",
    "* A JSON based Notebook document format for recording and distributing Python code and rich text.\n",
    "* A web-based user interface for authoring and running notebook documents.\n",
    "\n",
    "The Notebook can be used by starting the Notebook server with the command:\n",
    "\n",
    "    $ ipython notebook\n",
    "    \n",
    "This initiates an **iPython engine**, which is a Python instance that takes Python commands over a network connection.\n",
    "\n",
    "The **IPython controller** provides an interface for working with a set of engines, to which one or more **iPython clients** can connect.\n",
    "\n",
    "The Notebook gives you everything that a browser gives you. For example, you can embed images, videos, or entire websites."
   ]
  },
  {
   "cell_type": "code",
   "execution_count": 16,
   "metadata": {},
   "outputs": [
    {
     "data": {
      "text/html": [
       "\n",
       "        <iframe\n",
       "            width=\"100%\"\n",
       "            height=\"350\"\n",
       "            src=\"https://jupyter.org\"\n",
       "            frameborder=\"0\"\n",
       "            allowfullscreen\n",
       "        ></iframe>\n",
       "        "
      ],
      "text/plain": [
       "<IPython.lib.display.IFrame at 0x105bdcba8>"
      ]
     },
     "execution_count": 16,
     "metadata": {},
     "output_type": "execute_result"
    }
   ],
   "source": [
    "from IPython.display import IFrame\n",
    "IFrame('https://jupyter.org', width='100%', height=350)"
   ]
  },
  {
   "cell_type": "code",
   "execution_count": 17,
   "metadata": {
    "slideshow": {
     "slide_type": "slide"
    }
   },
   "outputs": [
    {
     "data": {
      "image/jpeg": "[encoded data removed]",
      "text/html": [
       "\n",
       "        <iframe\n",
       "            width=\"400\"\n",
       "            height=\"300\"\n",
       "            src=\"https://www.youtube.com/embed/rl5DaFbLc60\"\n",
       "            frameborder=\"0\"\n",
       "            allowfullscreen\n",
       "        ></iframe>\n",
       "        "
      ],
      "text/plain": [
       "<IPython.lib.display.YouTubeVideo at 0x105bdc6d8>"
      ]
     },
     "execution_count": 17,
     "metadata": {},
     "output_type": "execute_result"
    }
   ],
   "source": [
    "from IPython.display import YouTubeVideo\n",
    "YouTubeVideo(\"rl5DaFbLc60\")"
   ]
  },
  {
   "cell_type": "markdown",
   "metadata": {},
   "source": [
    "## Markdown cells\n",
    "\n",
    "Markdown is a simple *markup* language that allows plain text to be converted into HTML.\n",
    "\n",
    "The advantages of using Markdown over HTML (and LaTeX):\n",
    "\n",
    "- its a **human-readable** format \n",
    "- allows writers to focus on content rather than formatting and layout\n",
    "- easier to learn and use\n",
    "\n",
    "For example, instead of writing:\n",
    "\n",
    "```html\n",
    "<p>In order to create valid \n",
    "<a href=\"http://en.wikipedia.org/wiki/HTML\">HTML</a>, you \n",
    "need properly coded syntax that can be cumbersome for \n",
    "&#8220;non-programmers&#8221; to write. Sometimes, you\n",
    "just want to easily make certain words <strong>bold\n",
    "</strong>, and certain words <em>italicized</em> without\n",
    "having to remember the syntax. Additionally, for example,\n",
    "creating lists:</p>\n",
    "<ul>\n",
    "<li>should be easy</li>\n",
    "<li>should not involve programming</li>\n",
    "</ul>\n",
    "```\n",
    "\n",
    "we can write the following in Markdown:\n",
    "\n",
    "```markdown\n",
    "In order to create valid [HTML], you need properly\n",
    "coded syntax that can be cumbersome for \n",
    "\"non-programmers\" to write. Sometimes, you just want\n",
    "to easily make certain words **bold**, and certain \n",
    "words *italicized* without having to remember the \n",
    "syntax. Additionally, for example, creating lists:\n",
    "\n",
    "* should be easy\n",
    "* should not involve programming\n",
    "```\n",
    "\n",
    "### Emphasis\n",
    "\n",
    "Markdown uses `*` (asterisk) and `_` (underscore) characters as \n",
    "indicators of emphasis. \n",
    "\n",
    "    *italic*, _italic_  \n",
    "    **bold**, __bold__\n",
    "    ***bold-italic***, ___bold-italic___\n",
    "\n",
    "*italic*, _italic_  \n",
    "**bold**, __bold__  \n",
    "***bold-italic***, ___bold-italic___\n",
    "\n",
    "### Lists\n",
    "\n",
    "Markdown supports both unordered and ordered lists. Unordered lists can use `*`, `-`, or \n",
    "`+` to define a list. This is an unordered list:  \n",
    "\n",
    "    * Apples\n",
    "    * Bananas\n",
    "    * Oranges\n",
    "\n",
    "* Apples\n",
    "* Bananas\n",
    "* Oranges\n",
    "\n",
    "Ordered lists are numbered lists in plain text:\n",
    "\n",
    "    1. Bryan Ferry\n",
    "    2. Brian Eno\n",
    "    3. Andy Mackay\n",
    "    4. Paul Thompson\n",
    "    5. Phil Manzanera\n",
    "\n",
    "1. Bryan Ferry\n",
    "2. Brian Eno\n",
    "3. Andy Mackay\n",
    "4. Paul Thompson\n",
    "5. Phil Manzanera\n",
    "\n",
    "### Links\n",
    "\n",
    "Markdown inline links are equivalent to HTML `<a href='foo.com'>` \n",
    "links, they just have a different syntax. \n",
    "\n",
    "    [Biostatistics home page](http://biostat.mc.vanderbilt.edu \"Visit Biostat!\")\n",
    "\n",
    "[Biostatistics home page](http://biostat.mc.vanderbilt.edu \"Visit Biostat!\")\n",
    "\n",
    "### Block quotes\n",
    "\n",
    "Block quotes are denoted by a `>` (greater than) character \n",
    "before each line of the block quote.\n",
    "\n",
    "    > Sometimes a simple model will outperform a more complex model . . . \n",
    "    > Nevertheless, I believe that deliberately limiting the complexity \n",
    "    > of the model is not fruitful when the problem is evidently complex. \n",
    "\n",
    "> Sometimes a simple model will outperform a more complex model . . .\n",
    "> Nevertheless, I believe that deliberately limiting the complexity \n",
    "> of the model is not fruitful when the problem is evidently complex.\n",
    "\n",
    "### Images\n",
    "\n",
    "Images look an awful lot like Markdown links, they just have an extra \n",
    "`!` (exclamation mark) in front of them. \n",
    "\n",
    "    ![Python logo](images/python-logo-master-v3-TM.png)\n",
    "\n",
    "![Python logo](images/python-logo-master-v3-TM.png)"
   ]
  },
  {
   "cell_type": "markdown",
   "metadata": {},
   "source": [
    "### Remote Code\n",
    "\n",
    "Use `%load` to add remote code"
   ]
  },
  {
   "cell_type": "code",
   "execution_count": null,
   "metadata": {},
   "outputs": [],
   "source": [
    "# %load http://matplotlib.org/mpl_examples/shapes_and_collections/scatter_demo.py\n",
    "\"\"\"\n",
    "Simple demo of a scatter plot.\n",
    "\"\"\"\n",
    "import numpy as np\n",
    "import matplotlib.pyplot as plt\n",
    "\n",
    "\n",
    "N = 50\n",
    "x = np.random.rand(N)\n",
    "y = np.random.rand(N)\n",
    "colors = np.random.rand(N)\n",
    "area = np.pi * (15 * np.random.rand(N))**2  # 0 to 15 point radii\n",
    "\n",
    "plt.scatter(x, y, s=area, c=colors, alpha=0.5)\n",
    "plt.show()\n"
   ]
  },
  {
   "cell_type": "markdown",
   "metadata": {},
   "source": [
    "### Mathjax Support\n",
    "\n",
    "Mathjax ia a javascript implementation $\\alpha$ of LaTeX that allows equations to be embedded into HTML. For example, this markup:\n",
    "\n",
    "    \"\"\"$$ \\int_{a}^{b} f(x)\\, dx \\approx \\frac{1}{2} \\sum_{k=1}^{N} \\left( x_{k} - x_{k-1} \\right) \\left( f(x_{k}) + f(x_{k-1}) \\right). $$\"\"\"\n",
    "    \n",
    "becomes this:\n",
    "\n",
    "$$\n",
    "\\int_{a}^{b} f(x)\\, dx \\approx \\frac{1}{2} \\sum_{k=1}^{N} \\left( x_{k} - x_{k-1} \\right) \\left( f(x_{k}) + f(x_{k-1}) \\right).\n",
    "$$"
   ]
  },
  {
   "cell_type": "markdown",
   "metadata": {},
   "source": [
    "## SymPy Support\n",
    "\n",
    "SymPy is a Python library for symbolic mathematics. It supports:\n",
    "\n",
    "* polynomials\n",
    "* calculus\n",
    "* solving equations\n",
    "* discrete math\n",
    "* matrices"
   ]
  },
  {
   "cell_type": "code",
   "execution_count": 19,
   "metadata": {},
   "outputs": [],
   "source": [
    "from sympy import *\n",
    "init_printing()\n",
    "x, y = symbols(\"x y\")"
   ]
  },
  {
   "cell_type": "code",
   "execution_count": 20,
   "metadata": {},
   "outputs": [
    {
     "data": {
      "image/png": "[encoded data removed]",
      "text/latex": [
       "$$\\left(x + 1\\right) \\left(x + y\\right)^{2}$$"
      ],
      "text/plain": [
       "               2\n",
       "(x + 1)⋅(x + y) "
      ]
     },
     "execution_count": 20,
     "metadata": {},
     "output_type": "execute_result"
    }
   ],
   "source": [
    "eq = ((x+y)**2 * (x+1))\n",
    "eq"
   ]
  },
  {
   "cell_type": "code",
   "execution_count": 21,
   "metadata": {},
   "outputs": [
    {
     "data": {
      "image/png": "[encoded data removed]",
      "text/latex": [
       "$$x^{3} + 2 x^{2} y + x^{2} + x y^{2} + 2 x y + y^{2}$$"
      ],
      "text/plain": [
       " 3      2      2      2            2\n",
       "x  + 2⋅x ⋅y + x  + x⋅y  + 2⋅x⋅y + y "
      ]
     },
     "execution_count": 21,
     "metadata": {},
     "output_type": "execute_result"
    }
   ],
   "source": [
    "expand(eq)"
   ]
  },
  {
   "cell_type": "code",
   "execution_count": 22,
   "metadata": {},
   "outputs": [
    {
     "data": {
      "image/png": "[encoded data removed]",
      "text/latex": [
       "$$1 + \\frac{x^{2}}{2} + \\frac{5 x^{4}}{24} + \\mathcal{O}\\left(x^{6}\\right)$$"
      ],
      "text/plain": [
       "     2      4        \n",
       "    x    5⋅x     ⎛ 6⎞\n",
       "1 + ── + ──── + O⎝x ⎠\n",
       "    2     24         "
      ]
     },
     "execution_count": 22,
     "metadata": {},
     "output_type": "execute_result"
    }
   ],
   "source": [
    "(1/cos(x)).series(x, 0, 6)"
   ]
  },
  {
   "cell_type": "code",
   "execution_count": 23,
   "metadata": {},
   "outputs": [
    {
     "data": {
      "image/png": "[encoded data removed]",
      "text/latex": [
       "$$- \\frac{1}{6}$$"
      ],
      "text/plain": [
       "-1/6"
      ]
     },
     "execution_count": 23,
     "metadata": {},
     "output_type": "execute_result"
    }
   ],
   "source": [
    "limit((sin(x)-x)/x**3, x, 0)"
   ]
  },
  {
   "cell_type": "code",
   "execution_count": 24,
   "metadata": {},
   "outputs": [
    {
     "data": {
      "image/png": "[encoded data removed]",
      "text/latex": [
       "$$- \\frac{4 x \\cos{\\left (x^{2} \\right )}}{x + 1} \\sin{\\left (x^{2} \\right )} - \\frac{\\cos^{2}{\\left (x^{2} \\right )}}{\\left(x + 1\\right)^{2}}$$"
      ],
      "text/plain": [
       "         ⎛ 2⎞    ⎛ 2⎞      2⎛ 2⎞\n",
       "  4⋅x⋅sin⎝x ⎠⋅cos⎝x ⎠   cos ⎝x ⎠\n",
       "- ─────────────────── - ────────\n",
       "         x + 1                 2\n",
       "                        (x + 1) "
      ]
     },
     "execution_count": 24,
     "metadata": {},
     "output_type": "execute_result"
    }
   ],
   "source": [
    "diff(cos(x**2)**2 / (1+x), x)"
   ]
  },
  {
   "cell_type": "markdown",
   "metadata": {},
   "source": [
    "### Magic functions\n",
    "\n",
    "IPython has a set of predefined ‘magic functions’ that you can call with a command line style syntax. These include:\n",
    "\n",
    "* `%run`\n",
    "* `%edit`\n",
    "* `%debug`\n",
    "* `%timeit`\n",
    "* `%paste`\n",
    "* `%load_ext`\n",
    "\n"
   ]
  },
  {
   "cell_type": "code",
   "execution_count": 25,
   "metadata": {},
   "outputs": [
    {
     "data": {
      "application/json": {
       "cell": {
        "!": "OSMagics",
        "HTML": "Other",
        "SVG": "Other",
        "bash": "Other",
        "capture": "ExecutionMagics",
        "debug": "ExecutionMagics",
        "file": "Other",
        "html": "DisplayMagics",
        "javascript": "DisplayMagics",
        "js": "DisplayMagics",
        "latex": "DisplayMagics",
        "markdown": "DisplayMagics",
        "perl": "Other",
        "prun": "ExecutionMagics",
        "pypy": "Other",
        "python": "Other",
        "python2": "Other",
        "python3": "Other",
        "ruby": "Other",
        "script": "ScriptMagics",
        "sh": "Other",
        "svg": "DisplayMagics",
        "sx": "OSMagics",
        "system": "OSMagics",
        "time": "ExecutionMagics",
        "timeit": "ExecutionMagics",
        "writefile": "OSMagics"
       },
       "line": {
        "alias": "OSMagics",
        "alias_magic": "BasicMagics",
        "autocall": "AutoMagics",
        "automagic": "AutoMagics",
        "autosave": "KernelMagics",
        "bookmark": "OSMagics",
        "cat": "Other",
        "cd": "OSMagics",
        "clear": "KernelMagics",
        "colors": "BasicMagics",
        "config": "ConfigMagics",
        "connect_info": "KernelMagics",
        "cp": "Other",
        "debug": "ExecutionMagics",
        "dhist": "OSMagics",
        "dirs": "OSMagics",
        "doctest_mode": "BasicMagics",
        "ed": "Other",
        "edit": "KernelMagics",
        "env": "OSMagics",
        "gui": "BasicMagics",
        "hist": "Other",
        "history": "HistoryMagics",
        "killbgscripts": "ScriptMagics",
        "ldir": "Other",
        "less": "KernelMagics",
        "lf": "Other",
        "lk": "Other",
        "ll": "Other",
        "load": "CodeMagics",
        "load_ext": "ExtensionMagics",
        "loadpy": "CodeMagics",
        "logoff": "LoggingMagics",
        "logon": "LoggingMagics",
        "logstart": "LoggingMagics",
        "logstate": "LoggingMagics",
        "logstop": "LoggingMagics",
        "ls": "Other",
        "lsmagic": "BasicMagics",
        "lx": "Other",
        "macro": "ExecutionMagics",
        "magic": "BasicMagics",
        "man": "KernelMagics",
        "matplotlib": "PylabMagics",
        "mkdir": "Other",
        "more": "KernelMagics",
        "mv": "Other",
        "notebook": "BasicMagics",
        "page": "BasicMagics",
        "pastebin": "CodeMagics",
        "pdb": "ExecutionMagics",
        "pdef": "NamespaceMagics",
        "pdoc": "NamespaceMagics",
        "pfile": "NamespaceMagics",
        "pinfo": "NamespaceMagics",
        "pinfo2": "NamespaceMagics",
        "pip": "BasicMagics",
        "popd": "OSMagics",
        "pprint": "BasicMagics",
        "precision": "BasicMagics",
        "profile": "BasicMagics",
        "prun": "ExecutionMagics",
        "psearch": "NamespaceMagics",
        "psource": "NamespaceMagics",
        "pushd": "OSMagics",
        "pwd": "OSMagics",
        "pycat": "OSMagics",
        "pylab": "PylabMagics",
        "qtconsole": "KernelMagics",
        "quickref": "BasicMagics",
        "recall": "HistoryMagics",
        "rehashx": "OSMagics",
        "reload_ext": "ExtensionMagics",
        "rep": "Other",
        "rerun": "HistoryMagics",
        "reset": "NamespaceMagics",
        "reset_selective": "NamespaceMagics",
        "rm": "Other",
        "rmdir": "Other",
        "run": "ExecutionMagics",
        "save": "CodeMagics",
        "sc": "OSMagics",
        "set_env": "OSMagics",
        "store": "StoreMagics",
        "sx": "OSMagics",
        "system": "OSMagics",
        "tb": "ExecutionMagics",
        "time": "ExecutionMagics",
        "timeit": "ExecutionMagics",
        "unalias": "OSMagics",
        "unload_ext": "ExtensionMagics",
        "who": "NamespaceMagics",
        "who_ls": "NamespaceMagics",
        "whos": "NamespaceMagics",
        "xdel": "NamespaceMagics",
        "xmode": "BasicMagics"
       }
      },
      "text/plain": [
       "Available line magics:\n",
       "%alias  %alias_magic  %autocall  %automagic  %autosave  %bookmark  %cat  %cd  %clear  %colors  %config  %connect_info  %cp  %debug  %dhist  %dirs  %doctest_mode  %ed  %edit  %env  %gui  %hist  %history  %killbgscripts  %ldir  %less  %lf  %lk  %ll  %load  %load_ext  %loadpy  %logoff  %logon  %logstart  %logstate  %logstop  %ls  %lsmagic  %lx  %macro  %magic  %man  %matplotlib  %mkdir  %more  %mv  %notebook  %page  %pastebin  %pdb  %pdef  %pdoc  %pfile  %pinfo  %pinfo2  %popd  %pprint  %precision  %profile  %prun  %psearch  %psource  %pushd  %pwd  %pycat  %pylab  %qtconsole  %quickref  %recall  %rehashx  %reload_ext  %rep  %rerun  %reset  %reset_selective  %rm  %rmdir  %run  %save  %sc  %set_env  %store  %sx  %system  %tb  %time  %timeit  %unalias  %unload_ext  %who  %who_ls  %whos  %xdel  %xmode\n",
       "\n",
       "Available cell magics:\n",
       "%%!  %%HTML  %%SVG  %%bash  %%capture  %%debug  %%file  %%html  %%javascript  %%js  %%latex  %%markdown  %%perl  %%prun  %%pypy  %%python  %%python2  %%python3  %%ruby  %%script  %%sh  %%svg  %%sx  %%system  %%time  %%timeit  %%writefile\n",
       "\n",
       "Automagic is ON, % prefix IS NOT needed for line magics."
      ]
     },
     "execution_count": 25,
     "metadata": {},
     "output_type": "execute_result"
    }
   ],
   "source": [
    "%lsmagic"
   ]
  },
  {
   "cell_type": "markdown",
   "metadata": {},
   "source": [
    "Timing the execution of code; the `timeit` magic exists both in line and cell form:"
   ]
  },
  {
   "cell_type": "code",
   "execution_count": 26,
   "metadata": {},
   "outputs": [
    {
     "name": "stdout",
     "output_type": "stream",
     "text": [
      "3.99 ms ± 222 µs per loop (mean ± std. dev. of 7 runs, 100 loops each)\n"
     ]
    }
   ],
   "source": [
    "%timeit np.linalg.eigvals(np.random.rand(100,100))"
   ]
  },
  {
   "cell_type": "code",
   "execution_count": 27,
   "metadata": {},
   "outputs": [
    {
     "name": "stdout",
     "output_type": "stream",
     "text": [
      "4.1 ms ± 390 µs per loop (mean ± std. dev. of 7 runs, 100 loops each)\n"
     ]
    }
   ],
   "source": [
    "%%timeit a = np.random.rand(100, 100)\n",
    "np.linalg.eigvals(a)"
   ]
  },
  {
   "cell_type": "markdown",
   "metadata": {},
   "source": [
    "IPython also creates aliases for a few common interpreters, such as bash, ruby, perl, etc.\n",
    "\n",
    "These are all equivalent to `%%script <name>`"
   ]
  },
  {
   "cell_type": "code",
   "execution_count": 28,
   "metadata": {},
   "outputs": [
    {
     "name": "stdout",
     "output_type": "stream",
     "text": [
      "Hello from Ruby 2.3.3\n"
     ]
    }
   ],
   "source": [
    "%%ruby\n",
    "puts \"Hello from Ruby #{RUBY_VERSION}\""
   ]
  },
  {
   "cell_type": "code",
   "execution_count": 29,
   "metadata": {},
   "outputs": [
    {
     "name": "stdout",
     "output_type": "stream",
     "text": [
      "hello from /bin/bash\n"
     ]
    }
   ],
   "source": [
    "%%bash\n",
    "echo \"hello from $BASH\""
   ]
  },
  {
   "cell_type": "markdown",
   "metadata": {},
   "source": [
    "IPython has an `rmagic` extension that contains a some magic functions for working with R via rpy2. This extension can be loaded using the `%load_ext` magic as follows:"
   ]
  },
  {
   "cell_type": "code",
   "execution_count": 30,
   "metadata": {},
   "outputs": [],
   "source": [
    "%load_ext rpy2.ipython"
   ]
  },
  {
   "cell_type": "markdown",
   "metadata": {},
   "source": [
    "If the above generates an error, it is likely that you do not have the `rpy2` module installed. You can install this now via:"
   ]
  },
  {
   "cell_type": "code",
   "execution_count": 31,
   "metadata": {},
   "outputs": [
    {
     "name": "stdout",
     "output_type": "stream",
     "text": [
      "Requirement already satisfied: rpy2 in /Users/fonnescj/anaconda3/envs/dev/lib/python3.6/site-packages\r\n",
      "Requirement already satisfied: six in /Users/fonnescj/anaconda3/envs/dev/lib/python3.6/site-packages (from rpy2)\r\n"
     ]
    }
   ],
   "source": [
    "!pip install rpy2"
   ]
  },
  {
   "cell_type": "code",
   "execution_count": 32,
   "metadata": {},
   "outputs": [
    {
     "data": {
      "text/plain": [
       "\n",
       "Call:\n",
       "lm(formula = rnorm(10) ~ rnorm(10))\n",
       "\n",
       "Coefficients:\n",
       "(Intercept)  \n",
       "     0.2196  \n",
       "\n"
      ]
     },
     "metadata": {},
     "output_type": "display_data"
    }
   ],
   "source": [
    "x,y = np.arange(10), np.random.normal(size=10)\n",
    "%R print(lm(rnorm(10)~rnorm(10)))"
   ]
  },
  {
   "cell_type": "code",
   "execution_count": 33,
   "metadata": {},
   "outputs": [
    {
     "data": {
      "text/plain": [
       "\n",
       "Call:\n",
       "lm(formula = y ~ x)\n",
       "\n",
       "Residuals:\n",
       "    Min      1Q  Median      3Q     Max \n",
       "-1.1323 -0.4516  0.0595  0.3864  1.0509 \n",
       "\n",
       "Coefficients:\n",
       "            Estimate Std. Error t value Pr(>|t|)  \n",
       "(Intercept)  0.92092    0.39830   2.312   0.0495 *\n",
       "x           -0.18855    0.07461  -2.527   0.0354 *\n",
       "---\n",
       "Signif. codes:  0 ‘***’ 0.001 ‘**’ 0.01 ‘*’ 0.05 ‘.’ 0.1 ‘ ’ 1\n",
       "\n",
       "Residual standard error: 0.6777 on 8 degrees of freedom\n",
       "Multiple R-squared:  0.4439,\tAdjusted R-squared:  0.3744 \n",
       "F-statistic: 6.387 on 1 and 8 DF,  p-value: 0.03541\n",
       "\n"
      ]
     },
     "metadata": {},
     "output_type": "display_data"
    },
    {
     "data": {
      "image/png": "[encoded data removed]"
     },
     "metadata": {},
     "output_type": "display_data"
    }
   ],
   "source": [
    "%%R -i x,y -o XYcoef\n",
    "lm.fit <- lm(y~x)\n",
    "par(mfrow=c(2,2))\n",
    "print(summary(lm.fit))\n",
    "plot(lm.fit)\n",
    "XYcoef <- coef(lm.fit)"
   ]
  },
  {
   "cell_type": "code",
   "execution_count": 34,
   "metadata": {},
   "outputs": [
    {
     "data": {
      "text/plain": [
       "array([ 0.92091708, -0.18855393])"
      ]
     },
     "execution_count": 34,
     "metadata": {},
     "output_type": "execute_result"
    }
   ],
   "source": [
    "XYcoef"
   ]
  },
  {
   "cell_type": "markdown",
   "metadata": {},
   "source": [
    "## Debugging\n",
    "\n",
    "The `%debug` magic can be used to trigger the IPython debugger (`ipd`) for a cell that raises an exception. The debugger allows you to step through code line-by-line and inspect variables and execute code."
   ]
  },
  {
   "cell_type": "code",
   "execution_count": 35,
   "metadata": {},
   "outputs": [
    {
     "ename": "ZeroDivisionError",
     "evalue": "division by zero",
     "output_type": "error",
     "traceback": [
      "\u001b[0;31m---------------------------------------------------------------------------\u001b[0m",
      "\u001b[0;31mZeroDivisionError\u001b[0m                         Traceback (most recent call last)",
      "\u001b[0;32m<ipython-input-35-a5097cc0c0c5>\u001b[0m in \u001b[0;36m<module>\u001b[0;34m()\u001b[0m\n\u001b[1;32m      2\u001b[0m     \u001b[0;32mreturn\u001b[0m \u001b[0mx\u001b[0m\u001b[0;34m/\u001b[0m\u001b[0my\u001b[0m\u001b[0;34m\u001b[0m\u001b[0m\n\u001b[1;32m      3\u001b[0m \u001b[0;34m\u001b[0m\u001b[0m\n\u001b[0;32m----> 4\u001b[0;31m \u001b[0mdiv\u001b[0m\u001b[0;34m(\u001b[0m\u001b[0;36m1\u001b[0m\u001b[0;34m,\u001b[0m\u001b[0;36m0\u001b[0m\u001b[0;34m)\u001b[0m\u001b[0;34m\u001b[0m\u001b[0m\n\u001b[0m",
      "\u001b[0;32m<ipython-input-35-a5097cc0c0c5>\u001b[0m in \u001b[0;36mdiv\u001b[0;34m(x, y)\u001b[0m\n\u001b[1;32m      1\u001b[0m \u001b[0;32mdef\u001b[0m \u001b[0mdiv\u001b[0m\u001b[0;34m(\u001b[0m\u001b[0mx\u001b[0m\u001b[0;34m,\u001b[0m \u001b[0my\u001b[0m\u001b[0;34m)\u001b[0m\u001b[0;34m:\u001b[0m\u001b[0;34m\u001b[0m\u001b[0m\n\u001b[0;32m----> 2\u001b[0;31m     \u001b[0;32mreturn\u001b[0m \u001b[0mx\u001b[0m\u001b[0;34m/\u001b[0m\u001b[0my\u001b[0m\u001b[0;34m\u001b[0m\u001b[0m\n\u001b[0m\u001b[1;32m      3\u001b[0m \u001b[0;34m\u001b[0m\u001b[0m\n\u001b[1;32m      4\u001b[0m \u001b[0mdiv\u001b[0m\u001b[0;34m(\u001b[0m\u001b[0;36m1\u001b[0m\u001b[0;34m,\u001b[0m\u001b[0;36m0\u001b[0m\u001b[0;34m)\u001b[0m\u001b[0;34m\u001b[0m\u001b[0m\n",
      "\u001b[0;31mZeroDivisionError\u001b[0m: division by zero"
     ]
    }
   ],
   "source": [
    "def div(x, y):\n",
    "    return x/y\n",
    "\n",
    "div(1,0)"
   ]
  },
  {
   "cell_type": "code",
   "execution_count": 36,
   "metadata": {},
   "outputs": [
    {
     "name": "stdout",
     "output_type": "stream",
     "text": [
      "> \u001b[0;32m<ipython-input-35-a5097cc0c0c5>\u001b[0m(2)\u001b[0;36mdiv\u001b[0;34m()\u001b[0m\n",
      "\u001b[0;32m      1 \u001b[0;31m\u001b[0;32mdef\u001b[0m \u001b[0mdiv\u001b[0m\u001b[0;34m(\u001b[0m\u001b[0mx\u001b[0m\u001b[0;34m,\u001b[0m \u001b[0my\u001b[0m\u001b[0;34m)\u001b[0m\u001b[0;34m:\u001b[0m\u001b[0;34m\u001b[0m\u001b[0m\n",
      "\u001b[0m\u001b[0;32m----> 2 \u001b[0;31m    \u001b[0;32mreturn\u001b[0m \u001b[0mx\u001b[0m\u001b[0;34m/\u001b[0m\u001b[0my\u001b[0m\u001b[0;34m\u001b[0m\u001b[0m\n",
      "\u001b[0m\u001b[0;32m      3 \u001b[0;31m\u001b[0;34m\u001b[0m\u001b[0m\n",
      "\u001b[0m\u001b[0;32m      4 \u001b[0;31m\u001b[0mdiv\u001b[0m\u001b[0;34m(\u001b[0m\u001b[0;36m1\u001b[0m\u001b[0;34m,\u001b[0m\u001b[0;36m0\u001b[0m\u001b[0;34m)\u001b[0m\u001b[0;34m\u001b[0m\u001b[0m\n",
      "\u001b[0m\n",
      "ipdb> q\n"
     ]
    }
   ],
   "source": [
    "%debug"
   ]
  },
  {
   "cell_type": "markdown",
   "metadata": {},
   "source": [
    "## Exporting and Converting Notebooks\n",
    "\n",
    "In Jupyter, one can convert an `.ipynb` notebook document file into various static formats via the `nbconvert` tool. Currently, nbconvert is a command line tool, run as a script using Jupyter."
   ]
  },
  {
   "cell_type": "code",
   "execution_count": 37,
   "metadata": {},
   "outputs": [
    {
     "name": "stdout",
     "output_type": "stream",
     "text": [
      "[NbConvertApp] Converting notebook IPython and Jupyter.ipynb to html\n",
      "[NbConvertApp] Writing 476175 bytes to IPython and Jupyter.html\n"
     ]
    }
   ],
   "source": [
    "!jupyter nbconvert --to html \"IPython and Jupyter.ipynb\""
   ]
  },
  {
   "cell_type": "markdown",
   "metadata": {},
   "source": [
    "Currently, `nbconvert` supports HTML (default), LaTeX, Markdown, reStructuredText, Python and HTML5 slides for presentations. Some types can be post-processed, such as LaTeX to PDF (this requires [Pandoc](http://johnmacfarlane.net/pandoc/) to be installed, however)."
   ]
  },
  {
   "cell_type": "code",
   "execution_count": 38,
   "metadata": {},
   "outputs": [
    {
     "name": "stdout",
     "output_type": "stream",
     "text": [
      "[NbConvertApp] WARNING | pattern 'Introduction to pandas.ipynb' matched no files\n",
      "This application is used to convert notebook files (*.ipynb) to various other\n",
      "formats.\n",
      "\n",
      "WARNING: THE COMMANDLINE INTERFACE MAY CHANGE IN FUTURE RELEASES.\n",
      "\n",
      "Options\n",
      "-------\n",
      "\n",
      "Arguments that take values are actually convenience aliases to full\n",
      "Configurables, whose aliases are listed on the help line. For more information\n",
      "on full configurables, see '--help-all'.\n",
      "\n",
      "--debug\n",
      "    set log level to logging.DEBUG (maximize logging output)\n",
      "--generate-config\n",
      "    generate default config file\n",
      "-y\n",
      "    Answer yes to any questions instead of prompting.\n",
      "--execute\n",
      "    Execute the notebook prior to export.\n",
      "--allow-errors\n",
      "    Continue notebook execution even if one of the cells throws an error and include the error message in the cell output (the default behaviour is to abort conversion). This flag is only relevant if '--execute' was specified, too.\n",
      "--stdin\n",
      "    read a single notebook file from stdin. Write the resulting notebook with default basename 'notebook.*'\n",
      "--stdout\n",
      "    Write notebook output to stdout instead of files.\n",
      "--inplace\n",
      "    Run nbconvert in place, overwriting the existing notebook (only \n",
      "    relevant when converting to notebook format)\n",
      "--clear-output\n",
      "    Clear output of current file and save in place, \n",
      "    overwriting the existing notebook.\n",
      "--no-prompt\n",
      "    Exclude input and output prompts from converted document.\n",
      "--log-level=<Enum> (Application.log_level)\n",
      "    Default: 30\n",
      "    Choices: (0, 10, 20, 30, 40, 50, 'DEBUG', 'INFO', 'WARN', 'ERROR', 'CRITICAL')\n",
      "    Set the log level by value or name.\n",
      "--config=<Unicode> (JupyterApp.config_file)\n",
      "    Default: ''\n",
      "    Full path of a config file.\n",
      "--to=<Unicode> (NbConvertApp.export_format)\n",
      "    Default: 'html'\n",
      "    The export format to be used, either one of the built-in formats, or a\n",
      "    dotted object name that represents the import path for an `Exporter` class\n",
      "--template=<Unicode> (TemplateExporter.template_file)\n",
      "    Default: ''\n",
      "    Name of the template file to use\n",
      "--writer=<DottedObjectName> (NbConvertApp.writer_class)\n",
      "    Default: 'FilesWriter'\n",
      "    Writer class used to write the  results of the conversion\n",
      "--post=<DottedOrNone> (NbConvertApp.postprocessor_class)\n",
      "    Default: ''\n",
      "    PostProcessor class used to write the results of the conversion\n",
      "--output=<Unicode> (NbConvertApp.output_base)\n",
      "    Default: ''\n",
      "    overwrite base name use for output files. can only be used when converting\n",
      "    one notebook at a time.\n",
      "--output-dir=<Unicode> (FilesWriter.build_directory)\n",
      "    Default: ''\n",
      "    Directory to write output(s) to. Defaults to output to the directory of each\n",
      "    notebook. To recover previous default behaviour (outputting to the current\n",
      "    working directory) use . as the flag value.\n",
      "--reveal-prefix=<Unicode> (SlidesExporter.reveal_url_prefix)\n",
      "    Default: ''\n",
      "    The URL prefix for reveal.js. This can be a a relative URL for a local copy\n",
      "    of reveal.js, or point to a CDN.\n",
      "    For speaker notes to work, a local reveal.js prefix must be used.\n",
      "--nbformat=<Enum> (NotebookExporter.nbformat_version)\n",
      "    Default: 4\n",
      "    Choices: [1, 2, 3, 4]\n",
      "    The nbformat version to write. Use this to downgrade notebooks.\n",
      "\n",
      "To see all available configurables, use `--help-all`\n",
      "\n",
      "Examples\n",
      "--------\n",
      "\n",
      "    The simplest way to use nbconvert is\n",
      "    \n",
      "    > jupyter nbconvert mynotebook.ipynb\n",
      "    \n",
      "    which will convert mynotebook.ipynb to the default format (probably HTML).\n",
      "    \n",
      "    You can specify the export format with `--to`.\n",
      "    Options include ['asciidoc', 'custom', 'html', 'html_ch', 'html_embed', 'html_toc', 'html_with_lenvs', 'html_with_toclenvs', 'latex', 'latex_with_lenvs', 'markdown', 'notebook', 'pdf', 'python', 'rst', 'script', 'selectLanguage', 'slides']\n",
      "    \n",
      "    > jupyter nbconvert --to latex mynotebook.ipynb\n",
      "    \n",
      "    Both HTML and LaTeX support multiple output templates. LaTeX includes\n",
      "    'base', 'article' and 'report'.  HTML includes 'basic' and 'full'. You\n",
      "    can specify the flavor of the format used.\n",
      "    \n",
      "    > jupyter nbconvert --to html --template basic mynotebook.ipynb\n",
      "    \n",
      "    You can also pipe the output to stdout, rather than a file\n",
      "    \n",
      "    > jupyter nbconvert mynotebook.ipynb --stdout\n",
      "    \n",
      "    PDF is generated via latex\n",
      "    \n",
      "    > jupyter nbconvert mynotebook.ipynb --to pdf\n",
      "    \n",
      "    You can get (and serve) a Reveal.js-powered slideshow\n",
      "    \n",
      "    > jupyter nbconvert myslides.ipynb --to slides --post serve\n",
      "    \n",
      "    Multiple notebooks can be given at the command line in a couple of \n",
      "    different ways:\n",
      "    \n",
      "    > jupyter nbconvert notebook*.ipynb\n",
      "    > jupyter nbconvert notebook1.ipynb notebook2.ipynb\n",
      "    \n",
      "    or you can specify the notebooks list in a config file, containing::\n",
      "    \n",
      "        c.NbConvertApp.notebooks = [\"my_notebook.ipynb\"]\n",
      "    \n",
      "    > jupyter nbconvert --config mycfg.py\n",
      "\n"
     ]
    }
   ],
   "source": [
    "!jupyter nbconvert --to pdf \"Introduction to pandas.ipynb\""
   ]
  },
  {
   "cell_type": "markdown",
   "metadata": {},
   "source": [
    "A very useful online service is the [IPython Notebook Viewer](http://nbviewer.ipython.org) which allows you to display your notebook as a static HTML page, which is useful for sharing with others:"
   ]
  },
  {
   "cell_type": "code",
   "execution_count": 39,
   "metadata": {},
   "outputs": [
    {
     "data": {
      "text/html": [
       "\n",
       "        <iframe\n",
       "            width=\"100%\"\n",
       "            height=\"350\"\n",
       "            src=\"http://nbviewer.ipython.org/2352771\"\n",
       "            frameborder=\"0\"\n",
       "            allowfullscreen\n",
       "        ></iframe>\n",
       "        "
      ],
      "text/plain": [
       "<IPython.lib.display.IFrame at 0x10d2f7198>"
      ]
     },
     "execution_count": 39,
     "metadata": {},
     "output_type": "execute_result"
    }
   ],
   "source": [
    "IFrame(\"http://nbviewer.ipython.org/2352771\", width='100%', height=350)"
   ]
  },
  {
   "cell_type": "markdown",
   "metadata": {},
   "source": [
    "As of this year, GitHub supports the [rendering of Jupyter Notebooks](https://github.com/fonnesbeck/Bios8366/blob/master/notebooks/Section1_2-Programming-with-Python.ipynb) stored on its repositories."
   ]
  },
  {
   "cell_type": "markdown",
   "metadata": {},
   "source": [
    "## Reproducible Research\n",
    "\n",
    "> reproducing conclusions from a single experiment based on the measurements from that experiment\n",
    "\n",
    "The most basic form of reproducibility is a complete description of the data and associated analyses (including code!) so the results can be *exactly* reproduced by others.\n",
    "\n",
    "Reproducing calculations can be onerous, even with one's own work!\n",
    "\n",
    "Scientific data are becoming larger and more complex, making simple descriptions inadequate for reproducibility. As a result, most modern research is irreproducible without tremendous effort.\n",
    "\n",
    "*** Reproducible research is not yet part of the culture of science in general, or scientific computing in particular. ***"
   ]
  },
  {
   "cell_type": "markdown",
   "metadata": {},
   "source": [
    "## Scientific Computing Workflow\n",
    "\n",
    "There are a number of steps to scientific endeavors that involve computing:\n",
    "\n",
    "![workflow](images/workflow.png)\n",
    "\n",
    "\n",
    "Many of the standard tools impose barriers between one or more of these steps. This can make it difficult to iterate, reproduce work.\n",
    "\n",
    "The Jupyter notebook eliminates or reduces these barriers to reproducibility."
   ]
  },
  {
   "cell_type": "markdown",
   "metadata": {},
   "source": [
    "## Parallel IPython\n",
    "\n",
    "The IPython architecture consists of four components, which reside in the `ipyparallel` package:\n",
    "\n",
    "1. **Engine** The IPython engine is a Python instance that accepts Python commands over a network connection.  When multiple engines are started, parallel and distributed computing becomes possible. An important property of an IPython engine is that it blocks while user code is being executed. \n",
    "\n",
    "2. **Hub** The hub keeps track of engine connections, schedulers, clients, as well as persist all task requests and results in a database for later use.\n",
    "\n",
    "3. **Schedulers** All actions that can be performed on the engine go through a Scheduler. While the engines themselves block when user code is run, the schedulers hide that from the user to provide a fully asynchronous interface to a set of engines.\n",
    "\n",
    "4. **Client** The primary object for connecting to a cluster.\n",
    "\n",
    "![IPython architecture](images/ipython_architecture.png)\n",
    "(courtesy Min Ragan-Kelley)\n",
    "\n",
    "This architecture is implemented using the ØMQ messaging library and the associated Python bindings in `pyzmq`.\n",
    "\n",
    "### Running parallel IPython\n",
    "\n",
    "To enable the IPython Clusters tab in Jupyter Notebook:\n",
    "\n",
    "    ipcluster nbextension enable\n",
    "    \n",
    "When you then start a Jupyter session, you should see the following in your **IPython Clusters** tab:    \n",
    "\n",
    "![parallel tab](images/parallel_tab.png)"
   ]
  },
  {
   "cell_type": "markdown",
   "metadata": {},
   "source": [
    "Before running the next cell, make sure you have first started your cluster, you can use the [clusters tab in the dashboard](/#tab2) to do so.  \n",
    "\n",
    "Select the number if IPython engines (nodes) that you want to use, then click **Start**."
   ]
  },
  {
   "cell_type": "code",
   "execution_count": 40,
   "metadata": {},
   "outputs": [],
   "source": [
    "from ipyparallel import Client\n",
    "client = Client()\n",
    "dv = client.direct_view()"
   ]
  },
  {
   "cell_type": "code",
   "execution_count": 41,
   "metadata": {},
   "outputs": [
    {
     "data": {
      "image/png": "[encoded data removed]",
      "text/latex": [
       "$$4$$"
      ],
      "text/plain": [
       "4"
      ]
     },
     "execution_count": 41,
     "metadata": {},
     "output_type": "execute_result"
    }
   ],
   "source": [
    "len(dv)"
   ]
  },
  {
   "cell_type": "code",
   "execution_count": 42,
   "metadata": {},
   "outputs": [],
   "source": [
    "def where_am_i():\n",
    "    import os\n",
    "    import socket\n",
    "    \n",
    "    return \"In process with pid {0} on host: '{1}'\".format(\n",
    "        os.getpid(), socket.gethostname())"
   ]
  },
  {
   "cell_type": "code",
   "execution_count": 43,
   "metadata": {},
   "outputs": [
    {
     "data": {
      "text/plain": [
       "[\"In process with pid 7664 on host: 'Ott.local'\",\n",
       " \"In process with pid 7665 on host: 'Ott.local'\",\n",
       " \"In process with pid 7670 on host: 'Ott.local'\",\n",
       " \"In process with pid 7671 on host: 'Ott.local'\"]"
      ]
     },
     "execution_count": 43,
     "metadata": {},
     "output_type": "execute_result"
    }
   ],
   "source": [
    "where_am_i_direct_results = dv.apply(where_am_i)\n",
    "where_am_i_direct_results.get()"
   ]
  },
  {
   "cell_type": "markdown",
   "metadata": {},
   "source": [
    "Let's now consider a useful function that we might want to run in parallel. Here is a version of the approximate Bayesian computing (ABC) algorithm."
   ]
  },
  {
   "cell_type": "code",
   "execution_count": 44,
   "metadata": {},
   "outputs": [],
   "source": [
    "import numpy\n",
    "\n",
    "def abc(y, N, epsilon=[0.2, 0.8]):\n",
    "    \n",
    "    trace = []\n",
    "\n",
    "    while len(trace) < N:\n",
    "\n",
    "        # Simulate from priors\n",
    "        mu = numpy.random.normal(0, 10)\n",
    "        sigma = numpy.random.uniform(0, 20)\n",
    "\n",
    "        x = numpy.random.normal(mu, sigma, 50)\n",
    "\n",
    "        #if (np.linalg.norm(y - x) < epsilon):\n",
    "        if ((abs(x.mean() - y.mean()) < epsilon[0]) &\n",
    "            (abs(x.std() - y.std()) < epsilon[1])):\n",
    "            trace.append([mu, sigma])\n",
    "\n",
    "    return trace"
   ]
  },
  {
   "cell_type": "code",
   "execution_count": 45,
   "metadata": {},
   "outputs": [],
   "source": [
    "y = numpy.random.normal(4, 2, 50)"
   ]
  },
  {
   "cell_type": "markdown",
   "metadata": {},
   "source": [
    "Let's try running this on one of the cluster engines:"
   ]
  },
  {
   "cell_type": "code",
   "execution_count": 46,
   "metadata": {},
   "outputs": [
    {
     "ename": "RemoteError",
     "evalue": "NameError(name 'numpy' is not defined)",
     "output_type": "error",
     "traceback": [
      "\u001b[0;31m---------------------------------------------------------------------------\u001b[0m\u001b[0;31mNameError\u001b[0m                                 Traceback (most recent call last)\u001b[0;32m<string>\u001b[0m in \u001b[0;36m<module>\u001b[0;34m()\u001b[0m",
      "\u001b[0;32m<ipython-input-44-02c6cbe59268>\u001b[0m in \u001b[0;36mabc\u001b[0;34m(y, N, epsilon)\u001b[0m",
      "\u001b[0;31mNameError\u001b[0m: name 'numpy' is not defined"
     ]
    }
   ],
   "source": [
    "dv0 = client[0]\n",
    "dv0.block = True\n",
    "dv0.apply(abc, y, 10)"
   ]
  },
  {
   "cell_type": "markdown",
   "metadata": {},
   "source": [
    "This fails with a NameError because NumPy has not been imported on the engine to which we sent the task. Each engine has its own namespace, so we need to import whatever modules we will need prior to running our code:"
   ]
  },
  {
   "cell_type": "code",
   "execution_count": null,
   "metadata": {},
   "outputs": [],
   "source": [
    "dv0.execute(\"import numpy\")"
   ]
  },
  {
   "cell_type": "code",
   "execution_count": null,
   "metadata": {},
   "outputs": [],
   "source": [
    "dv0.apply(abc, y, 10)"
   ]
  },
  {
   "cell_type": "markdown",
   "metadata": {},
   "source": [
    "An easier approach is to use the parallel cell magic to import everywhere:"
   ]
  },
  {
   "cell_type": "code",
   "execution_count": null,
   "metadata": {},
   "outputs": [],
   "source": [
    "%%px\n",
    "import numpy"
   ]
  },
  {
   "cell_type": "markdown",
   "metadata": {},
   "source": [
    "This magic can be used to execute the same code on all nodes."
   ]
  },
  {
   "cell_type": "code",
   "execution_count": null,
   "metadata": {},
   "outputs": [],
   "source": [
    "%%px \n",
    "import os\n",
    "print(os.getpid())"
   ]
  },
  {
   "cell_type": "code",
   "execution_count": null,
   "metadata": {},
   "outputs": [],
   "source": [
    "%%px \n",
    "%matplotlib inline\n",
    "import matplotlib.pyplot as plt\n",
    "import os\n",
    "tsamples = numpy.random.randn(100)\n",
    "plt.hist(tsamples)\n",
    "_ = plt.title('PID %i' % os.getpid())"
   ]
  },
  {
   "cell_type": "markdown",
   "metadata": {},
   "source": [
    "## Links and References"
   ]
  },
  {
   "cell_type": "markdown",
   "metadata": {},
   "source": [
    "* [IPython Notebook Viewer](http://nbviewer.ipython.org) Displays static HTML versions of notebooks, and includes a gallery of notebook examples.\n",
    "\n",
    "* [A Reference-Free Algorithm for Computational Normalization of Shotgun Sequencing Data](http://ged.msu.edu/papers/2012-diginorm/) A landmark example of reproducible research in genomics: Git repo, iPython notebook, data and scripts.\n",
    "\n",
    "* Jacques Ravel and K Eric Wommack. 2014. [All Hail Reproducibility in Microbiome Research](http://www.microbiomejournal.com/content/pdf/2049-2618-2-8.pdf). Microbiome, 2:8.\n",
    "\n",
    "* Benjamin Ragan-Kelley et al.. 2013. [Collaborative cloud-enabled tools allow rapid, reproducible biological insights](http://www.nature.com/ismej/journal/v7/n3/full/ismej2012123a.html). The ISME Journal, 7, 461–464; doi:10.1038/ismej.2012.123;"
   ]
  }
 ],
 "metadata": {
  "anaconda-cloud": {},
  "kernelspec": {
   "display_name": "Python 3",
   "language": "python",
   "name": "python3"
  },
  "language_info": {
   "codemirror_mode": {
    "name": "ipython",
    "version": 3
   },
   "file_extension": ".py",
   "mimetype": "text/x-python",
   "name": "python",
   "nbconvert_exporter": "python",
   "pygments_lexer": "ipython3",
   "version": "3.6.1"
  },
  "nav_menu": {},
  "toc": {
   "navigate_menu": true,
   "number_sections": false,
   "sideBar": true,
   "threshold": 6,
   "toc_cell": false,
   "toc_section_display": "block",
   "toc_window_display": false
  }
 },
 "nbformat": 4,
 "nbformat_minor": 1
}
