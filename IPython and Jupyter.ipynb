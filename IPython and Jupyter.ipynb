{
 "cells": [
  {
   "cell_type": "markdown",
   "metadata": {},
   "source": [
    "# IPython and Jupyter\n",
    "\n",
    "![](http://jupyter.org/assets/nav_logo.svg)\n",
    "\n",
    "Project Jupyter (including IPython) is transforming interactive development and data exploration across multiple industries. \n",
    "\n",
    "It is used in:\n",
    "\n",
    "- educational materials at Software and Data Carpentries\n",
    "- courses at many universities including: Bryn Mawr College, Cal Poly, Clemson University, George Washington University, Michigan State University, Vanderbilt University, New York University, Northwestern University, UC Berkeley, and University of Sheffield. \n",
    "- GitHub has made a built-in support for rendering notebooks\n",
    "- news organizations are writing data-driven news articles using Jupyter\n",
    "- traditional published books have been written using notebooks, such as at O'Reilly Media\n",
    "- Google is using it in their cloud data lab\n",
    "- Brookhaven National Laboratory uses Jupyter in analysis of data from scientific instruments \n",
    "- Netflix uses Jupyter internally\n",
    "- NASA uses it for data analysis \n",
    "- IBM uses it in their Data Science experience\n",
    "- Quantopian has hosted notebooks for financial modeling\n",
    "- Lawrence Berkeley National Laboratory uses Jupyter in multiple scientific projects\n",
    "- It is also in use at the NBA, Bloomberg, and Microsoft.\n",
    "\n",
    "\n",
    "### A brief history of interactive scientific computing in Python\n",
    "\n",
    "Jupyter is a product of a long process of scientific programming tool development that began as an \"enhanced inteactive shell\" called IPython (mind the upper case \"I\") developed by a CU Boulder graduate student:\n",
    "\n",
    "IPython creator Fernando Perez:\n",
    "\n",
    "> \n",
    "I started using Python in 2001 and liked the language, but its interactive prompt felt like a crippled toy compared to the systems mentioned above or to a Unix shell.  When I found out about sys.displayhook, I realized that by putting in a callable object, I would be able to hold state and capture previous results for reuse.  I then wrote a python startup file to provide these features and some other niceties such as loading Numeric and Gnuplot, giving me a 'mini-mathematica' in Python (femto- might be a better description, in fairness).  Thus was my 'ipython-0.0.1' born, a mere 259 lines to be loaded as $PYTYHONSTARTUP.\n",
    "\n",
    "**IPython** (Interactive Python) is an enhanced Python shell which provides a more robust and productive development environment for users. There are several key features that set it apart from the standard Python shell.\n",
    "\n",
    "* Interactive data analysis and visualization\n",
    "* Python kernel for Jupyter notebooks\n",
    "* Easy parallel computation\n",
    "* Flexible, embeddable interpreters to load into your own projects"
   ]
  },
  {
   "cell_type": "markdown",
   "metadata": {},
   "source": [
    "## Installation\n",
    "\n",
    "While Jupyter runs code in many programming languages, **Python is a requirement** (Python 3.3 or greater, or Python 2.7) for installing the Jupyter Notebook.\n",
    "\n",
    "For ~~new~~ *most* users, we highly recommend installing Anaconda, which conveniently installs Python, the Jupyter Notebook, and other commonly used packages for scientific computing and data science.\n",
    "\n",
    "We recommend using the Anaconda distribution to install Python and Jupyter, following the instructions on the download page. If it is not installed already, Jupyter notebooks can be installed via the `conda` tool:\n",
    "\n",
    "    conda install notebook\n",
    "\n",
    "Congratulations, you have installed Jupyter Notebook! To run the notebook:\n",
    "\n",
    "    jupyter notebook\n",
    "\n",
    "As an existing Python user, you may wish to install Jupyter using Python’s package manager, `pip`, instead of Anaconda.\n",
    "\n",
    "    pip install jupyter"
   ]
  },
  {
   "cell_type": "markdown",
   "metadata": {},
   "source": [
    "# Jupyter Notebook\n",
    "\n",
    "Over time, the IPython project grew to include several components, including:\n",
    "\n",
    "* an interactive shell\n",
    "* a REPL protocol\n",
    "* a notebook document fromat\n",
    "* a notebook document conversion tool\n",
    "* a web-based notebook authoring tool\n",
    "* tools for building interactive UI (widgets)\n",
    "* interactive parallel Python\n",
    "\n",
    "As each component has evolved, several had grown to the point that they warrented projects of their own. For example, pieces like the notebook and protocol are not even specific to Python. As the result, the IPython team created Project Jupyter, which is the new home of language-agnostic projects that began as part of IPython, such as the notebook in which you are reading this text.\n",
    "\n",
    "The HTML notebook that is part of the Jupyter project supports **interactive data visualization** and easy high-performance **parallel computing**.\n"
   ]
  },
  {
   "cell_type": "markdown",
   "metadata": {},
   "source": [
    "## The Basics\n",
    "\n",
    "Interface tour:\n",
    "\n",
    "- Home page and tabs\n",
    "- Starting a new kernel\n",
    "- Menubar and toolbar\n",
    "\n",
    "### `.ipynb` files\n",
    "\n",
    "Jupyter notebook files are simple JSON documents, containing text, source code, rich media output, and metadata. each segment of the document is stored in a cell.\n",
    "\n",
    "### Notebook cells\n",
    "\n",
    "Notebooks can be populated with **cells** of content. They all have the same structure in the JSON notebook file:\n",
    "\n",
    "```json\n",
    "{\n",
    "  \"cell_type\" : \"name\",\n",
    "  \"metadata\" : {},\n",
    "  \"source\" : \"single string or [list, of, strings]\",\n",
    "}\n",
    "```\n",
    "\n",
    "\n",
    "There are three types of cells:\n",
    "\n",
    "**Markdown cells** are used for body-text, and contain markdown, as defined in GitHub-flavored markdown.\n",
    "\n",
    "**Code cells** are the primary content of Jupyter notebooks. They contain source code in the language of the document’s associated kernel, and a list of outputs associated with executing that code. \n",
    "\n",
    "**Raw NBConvert cells** contain content that should be included unmodified in nbconvert output. For example, this cell could include raw LaTeX for nbconvert to pdf via LaTeX. These are not rendered by the notebook.\n",
    "\n",
    "The text you are reading now is a markdown cell. Here's a simple example calculation in a code cell:"
   ]
  },
  {
   "cell_type": "code",
   "execution_count": 1,
   "metadata": {},
   "outputs": [
    {
     "data": {
      "text/plain": [
       "array([ 0.08997614,  0.06989504,  0.23646602,  0.40963607,  0.12447691])"
      ]
     },
     "execution_count": 1,
     "metadata": {},
     "output_type": "execute_result"
    }
   ],
   "source": [
    "import numpy as np\n",
    "np.random.random(5)"
   ]
  },
  {
   "cell_type": "markdown",
   "metadata": {},
   "source": [
    "### Modality\n",
    "\n",
    "The notebook user interface is *modal*. This means that the keyboard behaves differently depending upon the current mode of the notebook. A notebook has two modes: **edit** and **command**.\n",
    "\n",
    "**Edit mode** is indicated by a green cell border and a prompt showing in the editor area. When a cell is in edit mode, you can type into the cell, like a normal text editor.\n",
    "\n",
    "![](images/edit_mode.png)\n",
    "\n",
    "**Command mode** is indicated by a grey cell border. When in command mode, the structure of the notebook can be modified as a whole, but the text in individual cells cannot be changed. Most importantly, the keyboard is mapped to a set of shortcuts for efficiently performing notebook and cell actions. For example, pressing **`c`** when in command mode, will copy the current cell; no modifier is needed.\n",
    "\n",
    "![](images/command_mode.png)\n",
    "\n",
    "<br>\n",
    "<div class=\"alert alert-success\">\n",
    "Enter edit mode by pressing `Enter` or using the mouse to click on a cell's editor area.\n",
    "</div>\n",
    "<div class=\"alert alert-success\">\n",
    "Enter command mode by pressing `Esc` or using the mouse to click *outside* a cell's editor area.\n",
    "</div>\n",
    "<div class=\"alert alert-warning\">\n",
    "Do not attempt to type into a cell when in command mode; unexpected things will happen!\n",
    "</div>"
   ]
  },
  {
   "cell_type": "markdown",
   "metadata": {},
   "source": [
    "## Jupyter Architecture\n",
    "\n",
    "The Jupyter architecture consists of four components:\n",
    "\n",
    "1. **Engine** The IPython engine is a Python instance that accepts Python commands over a network connection.  When multiple engines are started, parallel and distributed computing becomes possible. An important property of an IPython engine is that it blocks while user code is being executed. \n",
    "\n",
    "2. **Hub** The hub keeps track of engine connections, schedulers, clients, as well as persist all task requests and results in a database for later use.\n",
    "\n",
    "3. **Schedulers** All actions that can be performed on the engine go through a Scheduler. While the engines themselves block when user code is run, the schedulers hide that from the user to provide a fully asynchronous interface to a set of engines.\n",
    "\n",
    "4. **Client** The primary object for connecting to a cluster.\n",
    "\n",
    "![IPython architecture](images/ipython_architecture.png)\n",
    "(courtesy Min Ragan-Kelley)\n",
    "\n",
    "This architecture is implemented using the ØMQ messaging library and the associated Python bindings in `pyzmq`."
   ]
  },
  {
   "cell_type": "markdown",
   "metadata": {},
   "source": [
    "The notebook lets you document your workflow using either HTML or Markdown.\n",
    "\n",
    "The Jupyter Notebook consists of two related components:\n",
    "\n",
    "* A JSON based Notebook document format for recording and distributing Python code and rich text.\n",
    "* A web-based user interface for authoring and running notebook documents.\n",
    "\n",
    "Starting the Notebook server with the command:\n",
    "\n",
    "    $ ipython notebook\n",
    "    \n",
    "initiates an **iPython engine**, which is a Python instance that takes Python commands over a network connection.\n",
    "\n",
    "The **IPython controller** provides an interface for working with a set of engines, to which one or more **iPython clients** can connect.\n",
    "\n",
    "The Notebook gives you everything that a browser gives you. For example, you can embed images, videos, or entire websites."
   ]
  },
  {
   "cell_type": "code",
   "execution_count": 2,
   "metadata": {},
   "outputs": [
    {
     "data": {
      "text/html": [
       "\n",
       "        <iframe\n",
       "            width=\"100%\"\n",
       "            height=\"350\"\n",
       "            src=\"https://jupyter.org\"\n",
       "            frameborder=\"0\"\n",
       "            allowfullscreen\n",
       "        ></iframe>\n",
       "        "
      ],
      "text/plain": [
       "<IPython.lib.display.IFrame at 0x110fcf9b0>"
      ]
     },
     "execution_count": 2,
     "metadata": {},
     "output_type": "execute_result"
    }
   ],
   "source": [
    "from IPython.display import IFrame\n",
    "IFrame('https://jupyter.org', width='100%', height=350)"
   ]
  },
  {
   "cell_type": "code",
   "execution_count": 3,
   "metadata": {
    "slideshow": {
     "slide_type": "slide"
    }
   },
   "outputs": [
    {
     "data": {
      "image/jpeg": "[encoded data removed]",
      "text/html": [
       "\n",
       "        <iframe\n",
       "            width=\"400\"\n",
       "            height=\"300\"\n",
       "            src=\"https://www.youtube.com/embed/Rc4JQWowG5I\"\n",
       "            frameborder=\"0\"\n",
       "            allowfullscreen\n",
       "        ></iframe>\n",
       "        "
      ],
      "text/plain": [
       "<IPython.lib.display.YouTubeVideo at 0x110fcfa20>"
      ]
     },
     "execution_count": 3,
     "metadata": {},
     "output_type": "execute_result"
    }
   ],
   "source": [
    "from IPython.display import YouTubeVideo\n",
    "YouTubeVideo(\"Rc4JQWowG5I\")"
   ]
  },
  {
   "cell_type": "markdown",
   "metadata": {},
   "source": [
    "## Code Cells\n",
    "\n",
    "### Command history\n",
    "\n",
    "In IPython, all your inputs and outputs are saved. There are two variables named `In` and `Out` which are assigned as you work with your results. All outputs are saved automatically to variables of the form `_N`, where `N` is the prompt number, and inputs to `_iN`. This allows you to recover quickly the result of a prior computation by referring to its number even if you forgot to store it as a variable. "
   ]
  },
  {
   "cell_type": "code",
   "execution_count": 4,
   "metadata": {},
   "outputs": [
    {
     "data": {
      "text/plain": [
       "0.57275001690430671"
      ]
     },
     "execution_count": 4,
     "metadata": {},
     "output_type": "execute_result"
    }
   ],
   "source": [
    "np.sin(4)**2"
   ]
  },
  {
   "cell_type": "code",
   "execution_count": 5,
   "metadata": {},
   "outputs": [
    {
     "data": {
      "text/plain": [
       "0.57275001690430671"
      ]
     },
     "execution_count": 5,
     "metadata": {},
     "output_type": "execute_result"
    }
   ],
   "source": [
    "_4"
   ]
  },
  {
   "cell_type": "code",
   "execution_count": 6,
   "metadata": {},
   "outputs": [],
   "source": [
    "exec(_i4)"
   ]
  },
  {
   "cell_type": "code",
   "execution_count": 7,
   "metadata": {},
   "outputs": [
    {
     "data": {
      "text/plain": [
       "0.14318750422607668"
      ]
     },
     "execution_count": 7,
     "metadata": {},
     "output_type": "execute_result"
    }
   ],
   "source": [
    "_4 / 4."
   ]
  },
  {
   "cell_type": "markdown",
   "metadata": {},
   "source": [
    "### Introspection\n",
    "\n",
    "If you want details regarding the properties and functionality of any Python objects currently loaded into IPython, you can use the `?` to reveal any details that are available:"
   ]
  },
  {
   "cell_type": "code",
   "execution_count": 8,
   "metadata": {},
   "outputs": [],
   "source": [
    "some_dict = {}\n",
    "some_dict?"
   ]
  },
  {
   "cell_type": "markdown",
   "metadata": {},
   "source": [
    "If available, additional detail is provided with two question marks, including the source code of the object itself."
   ]
  },
  {
   "cell_type": "code",
   "execution_count": 9,
   "metadata": {},
   "outputs": [
    {
     "data": {
      "text/plain": [
       "<function numpy.linalg.linalg.cholesky>"
      ]
     },
     "execution_count": 9,
     "metadata": {},
     "output_type": "execute_result"
    }
   ],
   "source": [
    "from numpy.linalg import cholesky\n",
    "cholesky"
   ]
  },
  {
   "cell_type": "markdown",
   "metadata": {},
   "source": [
    "This syntax can also be used to search namespaces with wildcards (`*`)."
   ]
  },
  {
   "cell_type": "code",
   "execution_count": 10,
   "metadata": {},
   "outputs": [],
   "source": [
    "np.random.rand*?"
   ]
  },
  {
   "cell_type": "markdown",
   "metadata": {},
   "source": [
    "### Tab completion\n",
    "\n",
    "Because IPython allows for introspection, it is able to afford the user the ability to tab-complete commands that have been partially typed. This is done by pressing the `<tab>` key at any point during the process of typing a command:"
   ]
  },
  {
   "cell_type": "code",
   "execution_count": 11,
   "metadata": {},
   "outputs": [
    {
     "data": {
      "text/plain": [
       "<ufunc 'arccos'>"
      ]
     },
     "execution_count": 11,
     "metadata": {},
     "output_type": "execute_result"
    }
   ],
   "source": [
    "np.arccos"
   ]
  },
  {
   "cell_type": "markdown",
   "metadata": {},
   "source": [
    "### System commands\n",
    "\n",
    "In IPython, you can type `ls` to see your files or `cd` to change directories, just like you would at a regular system prompt:"
   ]
  },
  {
   "cell_type": "code",
   "execution_count": 12,
   "metadata": {},
   "outputs": [
    {
     "name": "stdout",
     "output_type": "stream",
     "text": [
      "AGE_methods.md\r\n",
      "Adult Flu Vaccination Statistical Analysis Plan slides.md\r\n",
      "Adult Flu Vaccination Statistical Analysis Plan.md\r\n",
      "Bayesian Calibration of Probability Forecasts.md\r\n",
      "Complex Interventions Analytic Approaches.md\r\n",
      "Dask.md\r\n",
      "Flu Vaccination Statistical Analysis Plan slides.md\r\n",
      "Flu Vaccination Statistical Analysis Plan.md\r\n",
      "Population modeling.md\r\n",
      "Probabilistic programming notes.md\r\n",
      "Stratagem.md\r\n",
      "Variational Inference.md\r\n",
      "analysis_plan.md\r\n"
     ]
    }
   ],
   "source": [
    "ls /Users/fonnescj/Dropbox/Notes/"
   ]
  },
  {
   "cell_type": "markdown",
   "metadata": {},
   "source": [
    "Virtually any system command can be accessed by prepending `!`, which passes any subsequent command directly to the OS."
   ]
  },
  {
   "cell_type": "code",
   "execution_count": 13,
   "metadata": {},
   "outputs": [
    {
     "name": "stdout",
     "output_type": "stream",
     "text": [
      "/Applications/TeX/TeXShop.app/Contents/Resources/TeXShop/Engines/Inactive/pythontex/README.pdf\n",
      "/Applications/TeX/TeXShop.app/Contents/Resources/TeXShop/Engines/Inactive/pythontex/pythontex_gallery.pdf\n",
      "/System/Library/Frameworks/Python.framework/Versions/2.7/Extras/lib/python/matplotlib/backends/backend_pdf.py\n",
      "/System/Library/Frameworks/Python.framework/Versions/2.7/Extras/lib/python/matplotlib/backends/backend_pdf.pyc\n",
      "/System/Library/Frameworks/Python.framework/Versions/2.7/Extras/lib/python/matplotlib/mpl-data/fonts/pdfcorefonts\n",
      "/System/Library/Frameworks/Python.framework/Versions/2.7/Extras/lib/python/matplotlib/mpl-data/fonts/pdfcorefonts/Courier-Bold.afm\n",
      "/System/Library/Frameworks/Python.framework/Versions/2.7/Extras/lib/python/matplotlib/mpl-data/fonts/pdfcorefonts/Courier-BoldOblique.afm\n",
      "/System/Library/Frameworks/Python.framework/Versions/2.7/Extras/lib/python/matplotlib/mpl-data/fonts/pdfcorefonts/Courier-Oblique.afm\n",
      "/System/Library/Frameworks/Python.framework/Versions/2.7/Extras/lib/python/matplotlib/mpl-data/fonts/pdfcorefonts/Courier.afm\n",
      "/System/Library/Frameworks/Python.framework/Versions/2.7/Extras/lib/python/matplotlib/mpl-data/fonts/pdfcorefonts/Helvetica-Bold.afm\n",
      "/System/Library/Frameworks/Python.framework/Versions/2.7/Extras/lib/python/matplotlib/mpl-data/fonts/pdfcorefonts/Helvetica-BoldOblique.afm\n",
      "/System/Library/Frameworks/Python.framework/Versions/2.7/Extras/lib/python/matplotlib/mpl-data/fonts/pdfcorefonts/Helvetica-Oblique.afm\n",
      "/System/Library/Frameworks/Python.framework/Versions/2.7/Extras/lib/python/matplotlib/mpl-data/fonts/pdfcorefonts/Helvetica.afm\n",
      "/System/Library/Frameworks/Python.framework/Versions/2.7/Extras/lib/python/matplotlib/mpl-data/fonts/pdfcorefonts/Symbol.afm\n",
      "/System/Library/Frameworks/Python.framework/Versions/2.7/Extras/lib/python/matplotlib/mpl-data/fonts/pdfcorefonts/Times-Bold.afm\n",
      "/System/Library/Frameworks/Python.framework/Versions/2.7/Extras/lib/python/matplotlib/mpl-data/fonts/pdfcorefonts/Times-BoldItalic.afm\n",
      "/System/Library/Frameworks/Python.framework/Versions/2.7/Extras/lib/python/matplotlib/mpl-data/fonts/pdfcorefonts/Times-Italic.afm\n",
      "/System/Library/Frameworks/Python.framework/Versions/2.7/Extras/lib/python/matplotlib/mpl-data/fonts/pdfcorefonts/Times-Roman.afm\n",
      "/System/Library/Frameworks/Python.framework/Versions/2.7/Extras/lib/python/matplotlib/mpl-data/fonts/pdfcorefonts/ZapfDingbats.afm\n",
      "/System/Library/Frameworks/Python.framework/Versions/2.7/Extras/lib/python/matplotlib/mpl-data/fonts/pdfcorefonts/readme.txt\n",
      "/System/Library/Frameworks/Python.framework/Versions/2.7/Extras/lib/python/matplotlib/tests/baseline_images/test_arrow_patches/fancyarrow_test_image.pdf\n",
      "/System/Library/Frameworks/Python.framework/Versions/2.7/Extras/lib/python/matplotlib/tests/baseline_images/test_artist/clip_path_clipping.pdf\n",
      "/System/Library/Frameworks/Python.framework/Versions/2.7/Extras/lib/python/matplotlib/tests/baseline_images/test_axes/arc_ellipse.pdf\n",
      "/System/Library/Frameworks/Python.framework/Versions/2.7/Extras/lib/python/matplotlib/tests/baseline_images/test_axes/autoscale_tiny_range.pdf\n",
      "/System/Library/Frameworks/Python.framework/Versions/2.7/Extras/lib/python/matplotlib/tests/baseline_images/test_axes/axhspan_epoch.pdf\n",
      "/System/Library/Frameworks/Python.framework/Versions/2.7/Extras/lib/python/matplotlib/tests/baseline_images/test_axes/axvspan_epoch.pdf\n",
      "/System/Library/Frameworks/Python.framework/Versions/2.7/Extras/lib/python/matplotlib/tests/baseline_images/test_axes/boxplot.pdf\n",
      "/System/Library/Frameworks/Python.framework/Versions/2.7/Extras/lib/python/matplotlib/tests/baseline_images/test_axes/canonical.pdf\n",
      "/System/Library/Frameworks/Python.framework/Versions/2.7/Extras/lib/python/matplotlib/tests/baseline_images/test_axes/const_xy.pdf\n",
      "/System/Library/Frameworks/Python.framework/Versions/2.7/Extras/lib/python/matplotlib/tests/baseline_images/test_axes/contour_colorbar.pdf\n",
      "/System/Library/Frameworks/Python.framework/Versions/2.7/Extras/lib/python/matplotlib/tests/baseline_images/test_axes/contour_hatching.pdf\n",
      "/System/Library/Frameworks/Python.framework/Versions/2.7/Extras/lib/python/matplotlib/tests/baseline_images/test_axes/errorbar_basic.pdf\n",
      "/System/Library/Frameworks/Python.framework/Versions/2.7/Extras/lib/python/matplotlib/tests/baseline_images/test_axes/errorbar_mixed.pdf\n",
      "/System/Library/Frameworks/Python.framework/Versions/2.7/Extras/lib/python/matplotlib/tests/baseline_images/test_axes/errorbar_zorder.pdf\n",
      "/System/Library/Frameworks/Python.framework/Versions/2.7/Extras/lib/python/matplotlib/tests/baseline_images/test_axes/eventplot.pdf\n",
      "/System/Library/Frameworks/Python.framework/Versions/2.7/Extras/lib/python/matplotlib/tests/baseline_images/test_axes/fill_between_interpolate.pdf\n",
      "/System/Library/Frameworks/Python.framework/Versions/2.7/Extras/lib/python/matplotlib/tests/baseline_images/test_axes/formatter_large_small.pdf\n",
      "/System/Library/Frameworks/Python.framework/Versions/2.7/Extras/lib/python/matplotlib/tests/baseline_images/test_axes/formatter_ticker_001.pdf\n",
      "/System/Library/Frameworks/Python.framework/Versions/2.7/Extras/lib/python/matplotlib/tests/baseline_images/test_axes/formatter_ticker_002.pdf\n",
      "/System/Library/Frameworks/Python.framework/Versions/2.7/Extras/lib/python/matplotlib/tests/baseline_images/test_axes/formatter_ticker_003.pdf\n",
      "/System/Library/Frameworks/Python.framework/Versions/2.7/Extras/lib/python/matplotlib/tests/baseline_images/test_axes/formatter_ticker_004.pdf\n",
      "/System/Library/Frameworks/Python.framework/Versions/2.7/Extras/lib/python/matplotlib/tests/baseline_images/test_axes/formatter_ticker_005.pdf\n",
      "/System/Library/Frameworks/Python.framework/Versions/2.7/Extras/lib/python/matplotlib/tests/baseline_images/test_axes/hist2d.pdf\n",
      "/System/Library/Frameworks/Python.framework/Versions/2.7/Extras/lib/python/matplotlib/tests/baseline_images/test_axes/hist2d_transpose.pdf\n",
      "/System/Library/Frameworks/Python.framework/Versions/2.7/Extras/lib/python/matplotlib/tests/baseline_images/test_axes/hist_log.pdf\n",
      "/System/Library/Frameworks/Python.framework/Versions/2.7/Extras/lib/python/matplotlib/tests/baseline_images/test_axes/hist_offset.pdf\n",
      "/System/Library/Frameworks/Python.framework/Versions/2.7/Extras/lib/python/matplotlib/tests/baseline_images/test_axes/hist_stacked_bar.pdf\n",
      "/System/Library/Frameworks/Python.framework/Versions/2.7/Extras/lib/python/matplotlib/tests/baseline_images/test_axes/hist_stacked_normed.pdf\n",
      "/System/Library/Frameworks/Python.framework/Versions/2.7/Extras/lib/python/matplotlib/tests/baseline_images/test_axes/hist_stacked_step.pdf\n",
      "/System/Library/Frameworks/Python.framework/Versions/2.7/Extras/lib/python/matplotlib/tests/baseline_images/test_axes/hist_stacked_stepfilled.pdf\n",
      "/System/Library/Frameworks/Python.framework/Versions/2.7/Extras/lib/python/matplotlib/tests/baseline_images/test_axes/hist_stacked_stepfilled_alpha.pdf\n",
      "/System/Library/Frameworks/Python.framework/Versions/2.7/Extras/lib/python/matplotlib/tests/baseline_images/test_axes/hist_stacked_weights.pdf\n",
      "/System/Library/Frameworks/Python.framework/Versions/2.7/Extras/lib/python/matplotlib/tests/baseline_images/test_axes/hist_steplog.pdf\n",
      "/System/Library/Frameworks/Python.framework/Versions/2.7/Extras/lib/python/matplotlib/tests/baseline_images/test_axes/imshow.pdf\n",
      "/System/Library/Frameworks/Python.framework/Versions/2.7/Extras/lib/python/matplotlib/tests/baseline_images/test_axes/imshow_clip.pdf\n",
      "/System/Library/Frameworks/Python.framework/Versions/2.7/Extras/lib/python/matplotlib/tests/baseline_images/test_axes/log_scales.pdf\n",
      "/System/Library/Frameworks/Python.framework/Versions/2.7/Extras/lib/python/matplotlib/tests/baseline_images/test_axes/marker_edges.pdf\n",
      "/System/Library/Frameworks/Python.framework/Versions/2.7/Extras/lib/python/matplotlib/tests/baseline_images/test_axes/markevery.pdf\n",
      "/System/Library/Frameworks/Python.framework/Versions/2.7/Extras/lib/python/matplotlib/tests/baseline_images/test_axes/markevery_line.pdf\n",
      "/System/Library/Frameworks/Python.framework/Versions/2.7/Extras/lib/python/matplotlib/tests/baseline_images/test_axes/mixed_collection.pdf\n",
      "/System/Library/Frameworks/Python.framework/Versions/2.7/Extras/lib/python/matplotlib/tests/baseline_images/test_axes/mollweide_grid.pdf\n",
      "/System/Library/Frameworks/Python.framework/Versions/2.7/Extras/lib/python/matplotlib/tests/baseline_images/test_axes/nonfinite_limits.pdf\n",
      "/System/Library/Frameworks/Python.framework/Versions/2.7/Extras/lib/python/matplotlib/tests/baseline_images/test_axes/offset_points.pdf\n",
      "/System/Library/Frameworks/Python.framework/Versions/2.7/Extras/lib/python/matplotlib/tests/baseline_images/test_axes/pcolormesh.pdf\n",
      "/System/Library/Frameworks/Python.framework/Versions/2.7/Extras/lib/python/matplotlib/tests/baseline_images/test_axes/polar_axes.pdf\n",
      "/System/Library/Frameworks/Python.framework/Versions/2.7/Extras/lib/python/matplotlib/tests/baseline_images/test_axes/polar_coords.pdf\n",
      "/System/Library/Frameworks/Python.framework/Versions/2.7/Extras/lib/python/matplotlib/tests/baseline_images/test_axes/polar_rmin.pdf\n",
      "/System/Library/Frameworks/Python.framework/Versions/2.7/Extras/lib/python/matplotlib/tests/baseline_images/test_axes/polar_theta_position.pdf\n",
      "/System/Library/Frameworks/Python.framework/Versions/2.7/Extras/lib/python/matplotlib/tests/baseline_images/test_axes/polar_units.pdf\n",
      "/System/Library/Frameworks/Python.framework/Versions/2.7/Extras/lib/python/matplotlib/tests/baseline_images/test_axes/polar_units_2.pdf\n",
      "/System/Library/Frameworks/Python.framework/Versions/2.7/Extras/lib/python/matplotlib/tests/baseline_images/test_axes/polar_wrap_180.pdf\n",
      "/System/Library/Frameworks/Python.framework/Versions/2.7/Extras/lib/python/matplotlib/tests/baseline_images/test_axes/polar_wrap_360.pdf\n",
      "/System/Library/Frameworks/Python.framework/Versions/2.7/Extras/lib/python/matplotlib/tests/baseline_images/test_axes/polycollection_joinstyle.pdf\n",
      "/System/Library/Frameworks/Python.framework/Versions/2.7/Extras/lib/python/matplotlib/tests/baseline_images/test_axes/scatter.pdf\n",
      "/System/Library/Frameworks/Python.framework/Versions/2.7/Extras/lib/python/matplotlib/tests/baseline_images/test_axes/shaped_data.pdf\n",
      "/System/Library/Frameworks/Python.framework/Versions/2.7/Extras/lib/python/matplotlib/tests/baseline_images/test_axes/single_date.pdf\n",
      "/System/Library/Frameworks/Python.framework/Versions/2.7/Extras/lib/python/matplotlib/tests/baseline_images/test_axes/single_point.pdf\n",
      "/System/Library/Frameworks/Python.framework/Versions/2.7/Extras/lib/python/matplotlib/tests/baseline_images/test_axes/stackplot_test_baseline.pdf\n",
      "/System/Library/Frameworks/Python.framework/Versions/2.7/Extras/lib/python/matplotlib/tests/baseline_images/test_axes/stackplot_test_image.pdf\n",
      "/System/Library/Frameworks/Python.framework/Versions/2.7/Extras/lib/python/matplotlib/tests/baseline_images/test_axes/step_linestyle.pdf\n",
      "/System/Library/Frameworks/Python.framework/Versions/2.7/Extras/lib/python/matplotlib/tests/baseline_images/test_axes/symlog.pdf\n",
      "/System/Library/Frameworks/Python.framework/Versions/2.7/Extras/lib/python/matplotlib/tests/baseline_images/test_axes/symlog2.pdf\n",
      "/System/Library/Frameworks/Python.framework/Versions/2.7/Extras/lib/python/matplotlib/tests/baseline_images/test_axes/test_alpha.pdf\n",
      "/System/Library/Frameworks/Python.framework/Versions/2.7/Extras/lib/python/matplotlib/tests/baseline_images/test_axes/transparent_markers.pdf\n",
      "/System/Library/Frameworks/Python.framework/Versions/2.7/Extras/lib/python/matplotlib/tests/baseline_images/test_axes/twin_axis_locaters_formatters.pdf\n",
      "/System/Library/Frameworks/Python.framework/Versions/2.7/Extras/lib/python/matplotlib/tests/baseline_images/test_axes/units_strings.pdf\n",
      "/System/Library/Frameworks/Python.framework/Versions/2.7/Extras/lib/python/matplotlib/tests/baseline_images/test_axes/vline_hline_zorder.pdf\n",
      "/System/Library/Frameworks/Python.framework/Versions/2.7/Extras/lib/python/matplotlib/tests/baseline_images/test_backend_pdf\n",
      "/System/Library/Frameworks/Python.framework/Versions/2.7/Extras/lib/python/matplotlib/tests/baseline_images/test_backend_pdf/pdf_use14corefonts.pdf\n",
      "/System/Library/Frameworks/Python.framework/Versions/2.7/Extras/lib/python/matplotlib/tests/baseline_images/test_backend_pgf/pgf_mixedmode.pdf\n",
      "/System/Library/Frameworks/Python.framework/Versions/2.7/Extras/lib/python/matplotlib/tests/baseline_images/test_backend_pgf/pgf_pdflatex.pdf\n",
      "/System/Library/Frameworks/Python.framework/Versions/2.7/Extras/lib/python/matplotlib/tests/baseline_images/test_backend_pgf/pgf_rcupdate1.pdf\n",
      "/System/Library/Frameworks/Python.framework/Versions/2.7/Extras/lib/python/matplotlib/tests/baseline_images/test_backend_pgf/pgf_rcupdate2.pdf\n",
      "/System/Library/Frameworks/Python.framework/Versions/2.7/Extras/lib/python/matplotlib/tests/baseline_images/test_backend_pgf/pgf_xelatex.pdf\n",
      "/System/Library/Frameworks/Python.framework/Versions/2.7/Extras/lib/python/matplotlib/tests/baseline_images/test_backend_svg/noscale.pdf\n",
      "/System/Library/Frameworks/Python.framework/Versions/2.7/Extras/lib/python/matplotlib/tests/baseline_images/test_bbox_tight/bbox_inches_tight.pdf\n",
      "/System/Library/Frameworks/Python.framework/Versions/2.7/Extras/lib/python/matplotlib/tests/baseline_images/test_bbox_tight/bbox_inches_tight_clipping.pdf\n",
      "/System/Library/Frameworks/Python.framework/Versions/2.7/Extras/lib/python/matplotlib/tests/baseline_images/test_bbox_tight/bbox_inches_tight_suptile_legend.pdf\n",
      "/System/Library/Frameworks/Python.framework/Versions/2.7/Extras/lib/python/matplotlib/tests/baseline_images/test_collections/EventCollection_plot__add_positions.pdf\n",
      "/System/Library/Frameworks/Python.framework/Versions/2.7/Extras/lib/python/matplotlib/tests/baseline_images/test_collections/EventCollection_plot__append_positions.pdf\n",
      "/System/Library/Frameworks/Python.framework/Versions/2.7/Extras/lib/python/matplotlib/tests/baseline_images/test_collections/EventCollection_plot__default.pdf\n",
      "/System/Library/Frameworks/Python.framework/Versions/2.7/Extras/lib/python/matplotlib/tests/baseline_images/test_collections/EventCollection_plot__extend_positions.pdf\n",
      "/System/Library/Frameworks/Python.framework/Versions/2.7/Extras/lib/python/matplotlib/tests/baseline_images/test_collections/EventCollection_plot__set_color.pdf\n",
      "/System/Library/Frameworks/Python.framework/Versions/2.7/Extras/lib/python/matplotlib/tests/baseline_images/test_collections/EventCollection_plot__set_linelength.pdf\n",
      "/System/Library/Frameworks/Python.framework/Versions/2.7/Extras/lib/python/matplotlib/tests/baseline_images/test_collections/EventCollection_plot__set_lineoffset.pdf\n",
      "/System/Library/Frameworks/Python.framework/Versions/2.7/Extras/lib/python/matplotlib/tests/baseline_images/test_collections/EventCollection_plot__set_linestyle.pdf\n",
      "/System/Library/Frameworks/Python.framework/Versions/2.7/Extras/lib/python/matplotlib/tests/baseline_images/test_collections/EventCollection_plot__set_linewidth.pdf\n",
      "/System/Library/Frameworks/Python.framework/Versions/2.7/Extras/lib/python/matplotlib/tests/baseline_images/test_collections/EventCollection_plot__set_orientation.pdf\n",
      "/System/Library/Frameworks/Python.framework/Versions/2.7/Extras/lib/python/matplotlib/tests/baseline_images/test_collections/EventCollection_plot__set_positions.pdf\n",
      "/System/Library/Frameworks/Python.framework/Versions/2.7/Extras/lib/python/matplotlib/tests/baseline_images/test_collections/EventCollection_plot__switch_orientation.pdf\n",
      "/System/Library/Frameworks/Python.framework/Versions/2.7/Extras/lib/python/matplotlib/tests/baseline_images/test_collections/EventCollection_plot__switch_orientation__2x.pdf\n",
      "/System/Library/Frameworks/Python.framework/Versions/2.7/Extras/lib/python/matplotlib/tests/baseline_images/test_contour/contour_manual_labels.pdf\n",
      "/System/Library/Frameworks/Python.framework/Versions/2.7/Extras/lib/python/matplotlib/tests/baseline_images/test_figure/figure_suptitle.pdf\n",
      "/System/Library/Frameworks/Python.framework/Versions/2.7/Extras/lib/python/matplotlib/tests/baseline_images/test_figure/figure_today.pdf\n",
      "/System/Library/Frameworks/Python.framework/Versions/2.7/Extras/lib/python/matplotlib/tests/baseline_images/test_image/image_clip.pdf\n",
      "/System/Library/Frameworks/Python.framework/Versions/2.7/Extras/lib/python/matplotlib/tests/baseline_images/test_image/image_composite_alpha.pdf\n",
      "/System/Library/Frameworks/Python.framework/Versions/2.7/Extras/lib/python/matplotlib/tests/baseline_images/test_image/image_composite_background.pdf\n",
      "/System/Library/Frameworks/Python.framework/Versions/2.7/Extras/lib/python/matplotlib/tests/baseline_images/test_image/image_interps.pdf\n",
      "/System/Library/Frameworks/Python.framework/Versions/2.7/Extras/lib/python/matplotlib/tests/baseline_images/test_image/image_shift.pdf\n",
      "/System/Library/Frameworks/Python.framework/Versions/2.7/Extras/lib/python/matplotlib/tests/baseline_images/test_image/imshow.pdf\n",
      "/System/Library/Frameworks/Python.framework/Versions/2.7/Extras/lib/python/matplotlib/tests/baseline_images/test_image/interp_nearest_vs_none.pdf\n",
      "/System/Library/Frameworks/Python.framework/Versions/2.7/Extras/lib/python/matplotlib/tests/baseline_images/test_image/no_interpolation_origin.pdf\n",
      "/System/Library/Frameworks/Python.framework/Versions/2.7/Extras/lib/python/matplotlib/tests/baseline_images/test_image/rasterize_10dpi.pdf\n",
      "/System/Library/Frameworks/Python.framework/Versions/2.7/Extras/lib/python/matplotlib/tests/baseline_images/test_legend/fancy.pdf\n",
      "/System/Library/Frameworks/Python.framework/Versions/2.7/Extras/lib/python/matplotlib/tests/baseline_images/test_legend/framealpha.pdf\n",
      "/System/Library/Frameworks/Python.framework/Versions/2.7/Extras/lib/python/matplotlib/tests/baseline_images/test_legend/legend_auto1.pdf\n",
      "/System/Library/Frameworks/Python.framework/Versions/2.7/Extras/lib/python/matplotlib/tests/baseline_images/test_legend/legend_auto2.pdf\n",
      "/System/Library/Frameworks/Python.framework/Versions/2.7/Extras/lib/python/matplotlib/tests/baseline_images/test_legend/legend_auto3.pdf\n",
      "/System/Library/Frameworks/Python.framework/Versions/2.7/Extras/lib/python/matplotlib/tests/baseline_images/test_legend/legend_expand.pdf\n",
      "/System/Library/Frameworks/Python.framework/Versions/2.7/Extras/lib/python/matplotlib/tests/baseline_images/test_legend/legend_various_labels.pdf\n",
      "/System/Library/Frameworks/Python.framework/Versions/2.7/Extras/lib/python/matplotlib/tests/baseline_images/test_legend/scatter_rc1.pdf\n",
      "/System/Library/Frameworks/Python.framework/Versions/2.7/Extras/lib/python/matplotlib/tests/baseline_images/test_legend/scatter_rc3.pdf\n",
      "/System/Library/Frameworks/Python.framework/Versions/2.7/Extras/lib/python/matplotlib/tests/baseline_images/test_lines/line_collection_dashes.pdf\n",
      "/System/Library/Frameworks/Python.framework/Versions/2.7/Extras/lib/python/matplotlib/tests/baseline_images/test_mathtext/mathtext_cm_00.pdf\n",
      "/System/Library/Frameworks/Python.framework/Versions/2.7/Extras/lib/python/matplotlib/tests/baseline_images/test_mathtext/mathtext_cm_01.pdf\n",
      "/System/Library/Frameworks/Python.framework/Versions/2.7/Extras/lib/python/matplotlib/tests/baseline_images/test_mathtext/mathtext_cm_02.pdf\n",
      "/System/Library/Frameworks/Python.framework/Versions/2.7/Extras/lib/python/matplotlib/tests/baseline_images/test_mathtext/mathtext_cm_03.pdf\n",
      "/System/Library/Frameworks/Python.framework/Versions/2.7/Extras/lib/python/matplotlib/tests/baseline_images/test_mathtext/mathtext_cm_04.pdf\n",
      "/System/Library/Frameworks/Python.framework/Versions/2.7/Extras/lib/python/matplotlib/tests/baseline_images/test_mathtext/mathtext_cm_05.pdf\n",
      "/System/Library/Frameworks/Python.framework/Versions/2.7/Extras/lib/python/matplotlib/tests/baseline_images/test_mathtext/mathtext_cm_06.pdf\n",
      "/System/Library/Frameworks/Python.framework/Versions/2.7/Extras/lib/python/matplotlib/tests/baseline_images/test_mathtext/mathtext_cm_07.pdf\n",
      "/System/Library/Frameworks/Python.framework/Versions/2.7/Extras/lib/python/matplotlib/tests/baseline_images/test_mathtext/mathtext_cm_08.pdf\n",
      "/System/Library/Frameworks/Python.framework/Versions/2.7/Extras/lib/python/matplotlib/tests/baseline_images/test_mathtext/mathtext_cm_09.pdf\n",
      "/System/Library/Frameworks/Python.framework/Versions/2.7/Extras/lib/python/matplotlib/tests/baseline_images/test_mathtext/mathtext_cm_10.pdf\n",
      "/System/Library/Frameworks/Python.framework/Versions/2.7/Extras/lib/python/matplotlib/tests/baseline_images/test_mathtext/mathtext_cm_11.pdf\n",
      "/System/Library/Frameworks/Python.framework/Versions/2.7/Extras/lib/python/matplotlib/tests/baseline_images/test_mathtext/mathtext_cm_12.pdf\n",
      "/System/Library/Frameworks/Python.framework/Versions/2.7/Extras/lib/python/matplotlib/tests/baseline_images/test_mathtext/mathtext_cm_13.pdf\n",
      "/System/Library/Frameworks/Python.framework/Versions/2.7/Extras/lib/python/matplotlib/tests/baseline_images/test_mathtext/mathtext_cm_14.pdf\n",
      "/System/Library/Frameworks/Python.framework/Versions/2.7/Extras/lib/python/matplotlib/tests/baseline_images/test_mathtext/mathtext_cm_15.pdf\n",
      "/System/Library/Frameworks/Python.framework/Versions/2.7/Extras/lib/python/matplotlib/tests/baseline_images/test_mathtext/mathtext_cm_16.pdf\n",
      "/System/Library/Frameworks/Python.framework/Versions/2.7/Extras/lib/python/matplotlib/tests/baseline_images/test_mathtext/mathtext_cm_17.pdf\n",
      "/System/Library/Frameworks/Python.framework/Versions/2.7/Extras/lib/python/matplotlib/tests/baseline_images/test_mathtext/mathtext_cm_18.pdf\n",
      "/System/Library/Frameworks/Python.framework/Versions/2.7/Extras/lib/python/matplotlib/tests/baseline_images/test_mathtext/mathtext_cm_19.pdf\n",
      "/System/Library/Frameworks/Python.framework/Versions/2.7/Extras/lib/python/matplotlib/tests/baseline_images/test_mathtext/mathtext_cm_20.pdf\n",
      "/System/Library/Frameworks/Python.framework/Versions/2.7/Extras/lib/python/matplotlib/tests/baseline_images/test_mathtext/mathtext_cm_21.pdf\n",
      "/System/Library/Frameworks/Python.framework/Versions/2.7/Extras/lib/python/matplotlib/tests/baseline_images/test_mathtext/mathtext_cm_22.pdf\n",
      "/System/Library/Frameworks/Python.framework/Versions/2.7/Extras/lib/python/matplotlib/tests/baseline_images/test_mathtext/mathtext_cm_23.pdf\n",
      "/System/Library/Frameworks/Python.framework/Versions/2.7/Extras/lib/python/matplotlib/tests/baseline_images/test_mathtext/mathtext_cm_24.pdf\n",
      "/System/Library/Frameworks/Python.framework/Versions/2.7/Extras/lib/python/matplotlib/tests/baseline_images/test_mathtext/mathtext_cm_25.pdf\n",
      "/System/Library/Frameworks/Python.framework/Versions/2.7/Extras/lib/python/matplotlib/tests/baseline_images/test_mathtext/mathtext_cm_26.pdf\n",
      "/System/Library/Frameworks/Python.framework/Versions/2.7/Extras/lib/python/matplotlib/tests/baseline_images/test_mathtext/mathtext_cm_27.pdf\n",
      "/System/Library/Frameworks/Python.framework/Versions/2.7/Extras/lib/python/matplotlib/tests/baseline_images/test_mathtext/mathtext_cm_28.pdf\n",
      "/System/Library/Frameworks/Python.framework/Versions/2.7/Extras/lib/python/matplotlib/tests/baseline_images/test_mathtext/mathtext_cm_29.pdf\n",
      "/System/Library/Frameworks/Python.framework/Versions/2.7/Extras/lib/python/matplotlib/tests/baseline_images/test_mathtext/mathtext_cm_30.pdf\n",
      "/System/Library/Frameworks/Python.framework/Versions/2.7/Extras/lib/python/matplotlib/tests/baseline_images/test_mathtext/mathtext_cm_31.pdf\n",
      "/System/Library/Frameworks/Python.framework/Versions/2.7/Extras/lib/python/matplotlib/tests/baseline_images/test_mathtext/mathtext_cm_32.pdf\n",
      "/System/Library/Frameworks/Python.framework/Versions/2.7/Extras/lib/python/matplotlib/tests/baseline_images/test_mathtext/mathtext_cm_33.pdf\n",
      "/System/Library/Frameworks/Python.framework/Versions/2.7/Extras/lib/python/matplotlib/tests/baseline_images/test_mathtext/mathtext_cm_34.pdf\n",
      "/System/Library/Frameworks/Python.framework/Versions/2.7/Extras/lib/python/matplotlib/tests/baseline_images/test_mathtext/mathtext_cm_35.pdf\n",
      "/System/Library/Frameworks/Python.framework/Versions/2.7/Extras/lib/python/matplotlib/tests/baseline_images/test_mathtext/mathtext_cm_36.pdf\n",
      "/System/Library/Frameworks/Python.framework/Versions/2.7/Extras/lib/python/matplotlib/tests/baseline_images/test_mathtext/mathtext_cm_37.pdf\n",
      "/System/Library/Frameworks/Python.framework/Versions/2.7/Extras/lib/python/matplotlib/tests/baseline_images/test_mathtext/mathtext_cm_38.pdf\n",
      "/System/Library/Frameworks/Python.framework/Versions/2.7/Extras/lib/python/matplotlib/tests/baseline_images/test_mathtext/mathtext_cm_39.pdf\n",
      "/System/Library/Frameworks/Python.framework/Versions/2.7/Extras/lib/python/matplotlib/tests/baseline_images/test_mathtext/mathtext_cm_40.pdf\n",
      "/System/Library/Frameworks/Python.framework/Versions/2.7/Extras/lib/python/matplotlib/tests/baseline_images/test_mathtext/mathtext_cm_41.pdf\n",
      "/System/Library/Frameworks/Python.framework/Versions/2.7/Extras/lib/python/matplotlib/tests/baseline_images/test_mathtext/mathtext_cm_42.pdf\n",
      "/System/Library/Frameworks/Python.framework/Versions/2.7/Extras/lib/python/matplotlib/tests/baseline_images/test_mathtext/mathtext_cm_43.pdf\n",
      "/System/Library/Frameworks/Python.framework/Versions/2.7/Extras/lib/python/matplotlib/tests/baseline_images/test_mathtext/mathtext_cm_44.pdf\n",
      "/System/Library/Frameworks/Python.framework/Versions/2.7/Extras/lib/python/matplotlib/tests/baseline_images/test_mathtext/mathtext_cm_45.pdf\n",
      "/System/Library/Frameworks/Python.framework/Versions/2.7/Extras/lib/python/matplotlib/tests/baseline_images/test_mathtext/mathtext_cm_46.pdf\n",
      "/System/Library/Frameworks/Python.framework/Versions/2.7/Extras/lib/python/matplotlib/tests/baseline_images/test_mathtext/mathtext_cm_47.pdf\n",
      "/System/Library/Frameworks/Python.framework/Versions/2.7/Extras/lib/python/matplotlib/tests/baseline_images/test_mathtext/mathtext_cm_48.pdf\n",
      "/System/Library/Frameworks/Python.framework/Versions/2.7/Extras/lib/python/matplotlib/tests/baseline_images/test_mathtext/mathtext_cm_49.pdf\n",
      "/System/Library/Frameworks/Python.framework/Versions/2.7/Extras/lib/python/matplotlib/tests/baseline_images/test_mathtext/mathtext_cm_50.pdf\n",
      "/System/Library/Frameworks/Python.framework/Versions/2.7/Extras/lib/python/matplotlib/tests/baseline_images/test_mathtext/mathtext_cm_51.pdf\n",
      "/System/Library/Frameworks/Python.framework/Versions/2.7/Extras/lib/python/matplotlib/tests/baseline_images/test_mathtext/mathtext_cm_52.pdf\n",
      "/System/Library/Frameworks/Python.framework/Versions/2.7/Extras/lib/python/matplotlib/tests/baseline_images/test_mathtext/mathtext_cm_53.pdf\n",
      "/System/Library/Frameworks/Python.framework/Versions/2.7/Extras/lib/python/matplotlib/tests/baseline_images/test_mathtext/mathtext_cm_54.pdf\n",
      "/System/Library/Frameworks/Python.framework/Versions/2.7/Extras/lib/python/matplotlib/tests/baseline_images/test_mathtext/mathtext_cm_55.pdf\n",
      "/System/Library/Frameworks/Python.framework/Versions/2.7/Extras/lib/python/matplotlib/tests/baseline_images/test_mathtext/mathtext_cm_56.pdf\n",
      "/System/Library/Frameworks/Python.framework/Versions/2.7/Extras/lib/python/matplotlib/tests/baseline_images/test_mathtext/mathtext_cm_57.pdf\n",
      "/System/Library/Frameworks/Python.framework/Versions/2.7/Extras/lib/python/matplotlib/tests/baseline_images/test_mathtext/mathtext_cm_58.pdf\n",
      "/System/Library/Frameworks/Python.framework/Versions/2.7/Extras/lib/python/matplotlib/tests/baseline_images/test_mathtext/mathtext_cm_59.pdf\n",
      "/System/Library/Frameworks/Python.framework/Versions/2.7/Extras/lib/python/matplotlib/tests/baseline_images/test_mathtext/mathtext_cm_60.pdf\n",
      "/System/Library/Frameworks/Python.framework/Versions/2.7/Extras/lib/python/matplotlib/tests/baseline_images/test_mathtext/mathtext_cm_61.pdf\n",
      "/System/Library/Frameworks/Python.framework/Versions/2.7/Extras/lib/python/matplotlib/tests/baseline_images/test_mathtext/mathtext_cm_62.pdf\n",
      "/System/Library/Frameworks/Python.framework/Versions/2.7/Extras/lib/python/matplotlib/tests/baseline_images/test_mathtext/mathtext_cm_63.pdf\n",
      "/System/Library/Frameworks/Python.framework/Versions/2.7/Extras/lib/python/matplotlib/tests/baseline_images/test_mathtext/mathtext_cm_64.pdf\n",
      "/System/Library/Frameworks/Python.framework/Versions/2.7/Extras/lib/python/matplotlib/tests/baseline_images/test_mathtext/mathtext_cm_65.pdf\n",
      "/System/Library/Frameworks/Python.framework/Versions/2.7/Extras/lib/python/matplotlib/tests/baseline_images/test_mathtext/mathtext_cm_66.pdf\n",
      "/System/Library/Frameworks/Python.framework/Versions/2.7/Extras/lib/python/matplotlib/tests/baseline_images/test_mathtext/mathtext_cm_67.pdf\n",
      "/System/Library/Frameworks/Python.framework/Versions/2.7/Extras/lib/python/matplotlib/tests/baseline_images/test_mathtext/mathtext_stix_00.pdf\n",
      "/System/Library/Frameworks/Python.framework/Versions/2.7/Extras/lib/python/matplotlib/tests/baseline_images/test_mathtext/mathtext_stix_01.pdf\n",
      "/System/Library/Frameworks/Python.framework/Versions/2.7/Extras/lib/python/matplotlib/tests/baseline_images/test_mathtext/mathtext_stix_02.pdf\n",
      "/System/Library/Frameworks/Python.framework/Versions/2.7/Extras/lib/python/matplotlib/tests/baseline_images/test_mathtext/mathtext_stix_03.pdf\n",
      "/System/Library/Frameworks/Python.framework/Versions/2.7/Extras/lib/python/matplotlib/tests/baseline_images/test_mathtext/mathtext_stix_04.pdf\n",
      "/System/Library/Frameworks/Python.framework/Versions/2.7/Extras/lib/python/matplotlib/tests/baseline_images/test_mathtext/mathtext_stix_05.pdf\n",
      "/System/Library/Frameworks/Python.framework/Versions/2.7/Extras/lib/python/matplotlib/tests/baseline_images/test_mathtext/mathtext_stix_06.pdf\n",
      "/System/Library/Frameworks/Python.framework/Versions/2.7/Extras/lib/python/matplotlib/tests/baseline_images/test_mathtext/mathtext_stix_07.pdf\n",
      "/System/Library/Frameworks/Python.framework/Versions/2.7/Extras/lib/python/matplotlib/tests/baseline_images/test_mathtext/mathtext_stix_08.pdf\n",
      "/System/Library/Frameworks/Python.framework/Versions/2.7/Extras/lib/python/matplotlib/tests/baseline_images/test_mathtext/mathtext_stix_09.pdf\n",
      "/System/Library/Frameworks/Python.framework/Versions/2.7/Extras/lib/python/matplotlib/tests/baseline_images/test_mathtext/mathtext_stix_10.pdf\n",
      "/System/Library/Frameworks/Python.framework/Versions/2.7/Extras/lib/python/matplotlib/tests/baseline_images/test_mathtext/mathtext_stix_11.pdf\n",
      "/System/Library/Frameworks/Python.framework/Versions/2.7/Extras/lib/python/matplotlib/tests/baseline_images/test_mathtext/mathtext_stix_12.pdf\n",
      "/System/Library/Frameworks/Python.framework/Versions/2.7/Extras/lib/python/matplotlib/tests/baseline_images/test_mathtext/mathtext_stix_13.pdf\n",
      "/System/Library/Frameworks/Python.framework/Versions/2.7/Extras/lib/python/matplotlib/tests/baseline_images/test_mathtext/mathtext_stix_14.pdf\n",
      "/System/Library/Frameworks/Python.framework/Versions/2.7/Extras/lib/python/matplotlib/tests/baseline_images/test_mathtext/mathtext_stix_15.pdf\n",
      "/System/Library/Frameworks/Python.framework/Versions/2.7/Extras/lib/python/matplotlib/tests/baseline_images/test_mathtext/mathtext_stix_16.pdf\n",
      "/System/Library/Frameworks/Python.framework/Versions/2.7/Extras/lib/python/matplotlib/tests/baseline_images/test_mathtext/mathtext_stix_17.pdf\n",
      "/System/Library/Frameworks/Python.framework/Versions/2.7/Extras/lib/python/matplotlib/tests/baseline_images/test_mathtext/mathtext_stix_18.pdf\n",
      "/System/Library/Frameworks/Python.framework/Versions/2.7/Extras/lib/python/matplotlib/tests/baseline_images/test_mathtext/mathtext_stix_19.pdf\n",
      "/System/Library/Frameworks/Python.framework/Versions/2.7/Extras/lib/python/matplotlib/tests/baseline_images/test_mathtext/mathtext_stix_20.pdf\n",
      "/System/Library/Frameworks/Python.framework/Versions/2.7/Extras/lib/python/matplotlib/tests/baseline_images/test_mathtext/mathtext_stix_21.pdf\n",
      "/System/Library/Frameworks/Python.framework/Versions/2.7/Extras/lib/python/matplotlib/tests/baseline_images/test_mathtext/mathtext_stix_22.pdf\n",
      "/System/Library/Frameworks/Python.framework/Versions/2.7/Extras/lib/python/matplotlib/tests/baseline_images/test_mathtext/mathtext_stix_23.pdf\n",
      "/System/Library/Frameworks/Python.framework/Versions/2.7/Extras/lib/python/matplotlib/tests/baseline_images/test_mathtext/mathtext_stix_24.pdf\n",
      "/System/Library/Frameworks/Python.framework/Versions/2.7/Extras/lib/python/matplotlib/tests/baseline_images/test_mathtext/mathtext_stix_25.pdf\n",
      "/System/Library/Frameworks/Python.framework/Versions/2.7/Extras/lib/python/matplotlib/tests/baseline_images/test_mathtext/mathtext_stix_26.pdf\n",
      "/System/Library/Frameworks/Python.framework/Versions/2.7/Extras/lib/python/matplotlib/tests/baseline_images/test_mathtext/mathtext_stix_27.pdf\n",
      "/System/Library/Frameworks/Python.framework/Versions/2.7/Extras/lib/python/matplotlib/tests/baseline_images/test_mathtext/mathtext_stix_28.pdf\n",
      "/System/Library/Frameworks/Python.framework/Versions/2.7/Extras/lib/python/matplotlib/tests/baseline_images/test_mathtext/mathtext_stix_29.pdf\n",
      "/System/Library/Frameworks/Python.framework/Versions/2.7/Extras/lib/python/matplotlib/tests/baseline_images/test_mathtext/mathtext_stix_30.pdf\n",
      "/System/Library/Frameworks/Python.framework/Versions/2.7/Extras/lib/python/matplotlib/tests/baseline_images/test_mathtext/mathtext_stix_31.pdf\n",
      "/System/Library/Frameworks/Python.framework/Versions/2.7/Extras/lib/python/matplotlib/tests/baseline_images/test_mathtext/mathtext_stix_32.pdf\n",
      "/System/Library/Frameworks/Python.framework/Versions/2.7/Extras/lib/python/matplotlib/tests/baseline_images/test_mathtext/mathtext_stix_33.pdf\n",
      "/System/Library/Frameworks/Python.framework/Versions/2.7/Extras/lib/python/matplotlib/tests/baseline_images/test_mathtext/mathtext_stix_34.pdf\n",
      "/System/Library/Frameworks/Python.framework/Versions/2.7/Extras/lib/python/matplotlib/tests/baseline_images/test_mathtext/mathtext_stix_35.pdf\n",
      "/System/Library/Frameworks/Python.framework/Versions/2.7/Extras/lib/python/matplotlib/tests/baseline_images/test_mathtext/mathtext_stix_36.pdf\n",
      "/System/Library/Frameworks/Python.framework/Versions/2.7/Extras/lib/python/matplotlib/tests/baseline_images/test_mathtext/mathtext_stix_37.pdf\n",
      "/System/Library/Frameworks/Python.framework/Versions/2.7/Extras/lib/python/matplotlib/tests/baseline_images/test_mathtext/mathtext_stix_38.pdf\n",
      "/System/Library/Frameworks/Python.framework/Versions/2.7/Extras/lib/python/matplotlib/tests/baseline_images/test_mathtext/mathtext_stix_39.pdf\n",
      "/System/Library/Frameworks/Python.framework/Versions/2.7/Extras/lib/python/matplotlib/tests/baseline_images/test_mathtext/mathtext_stix_40.pdf\n",
      "/System/Library/Frameworks/Python.framework/Versions/2.7/Extras/lib/python/matplotlib/tests/baseline_images/test_mathtext/mathtext_stix_41.pdf\n",
      "/System/Library/Frameworks/Python.framework/Versions/2.7/Extras/lib/python/matplotlib/tests/baseline_images/test_mathtext/mathtext_stix_42.pdf\n",
      "/System/Library/Frameworks/Python.framework/Versions/2.7/Extras/lib/python/matplotlib/tests/baseline_images/test_mathtext/mathtext_stix_43.pdf\n",
      "/System/Library/Frameworks/Python.framework/Versions/2.7/Extras/lib/python/matplotlib/tests/baseline_images/test_mathtext/mathtext_stix_44.pdf\n",
      "/System/Library/Frameworks/Python.framework/Versions/2.7/Extras/lib/python/matplotlib/tests/baseline_images/test_mathtext/mathtext_stix_45.pdf\n",
      "/System/Library/Frameworks/Python.framework/Versions/2.7/Extras/lib/python/matplotlib/tests/baseline_images/test_mathtext/mathtext_stix_46.pdf\n",
      "/System/Library/Frameworks/Python.framework/Versions/2.7/Extras/lib/python/matplotlib/tests/baseline_images/test_mathtext/mathtext_stix_47.pdf\n",
      "/System/Library/Frameworks/Python.framework/Versions/2.7/Extras/lib/python/matplotlib/tests/baseline_images/test_mathtext/mathtext_stix_48.pdf\n",
      "/System/Library/Frameworks/Python.framework/Versions/2.7/Extras/lib/python/matplotlib/tests/baseline_images/test_mathtext/mathtext_stix_49.pdf\n",
      "/System/Library/Frameworks/Python.framework/Versions/2.7/Extras/lib/python/matplotlib/tests/baseline_images/test_mathtext/mathtext_stix_50.pdf\n",
      "/System/Library/Frameworks/Python.framework/Versions/2.7/Extras/lib/python/matplotlib/tests/baseline_images/test_mathtext/mathtext_stix_51.pdf\n",
      "/System/Library/Frameworks/Python.framework/Versions/2.7/Extras/lib/python/matplotlib/tests/baseline_images/test_mathtext/mathtext_stix_52.pdf\n",
      "/System/Library/Frameworks/Python.framework/Versions/2.7/Extras/lib/python/matplotlib/tests/baseline_images/test_mathtext/mathtext_stix_53.pdf\n",
      "/System/Library/Frameworks/Python.framework/Versions/2.7/Extras/lib/python/matplotlib/tests/baseline_images/test_mathtext/mathtext_stix_54.pdf\n",
      "/System/Library/Frameworks/Python.framework/Versions/2.7/Extras/lib/python/matplotlib/tests/baseline_images/test_mathtext/mathtext_stix_55.pdf\n",
      "/System/Library/Frameworks/Python.framework/Versions/2.7/Extras/lib/python/matplotlib/tests/baseline_images/test_mathtext/mathtext_stix_56.pdf\n",
      "/System/Library/Frameworks/Python.framework/Versions/2.7/Extras/lib/python/matplotlib/tests/baseline_images/test_mathtext/mathtext_stix_57.pdf\n",
      "/System/Library/Frameworks/Python.framework/Versions/2.7/Extras/lib/python/matplotlib/tests/baseline_images/test_mathtext/mathtext_stix_58.pdf\n",
      "/System/Library/Frameworks/Python.framework/Versions/2.7/Extras/lib/python/matplotlib/tests/baseline_images/test_mathtext/mathtext_stix_59.pdf\n",
      "/System/Library/Frameworks/Python.framework/Versions/2.7/Extras/lib/python/matplotlib/tests/baseline_images/test_mathtext/mathtext_stix_60.pdf\n",
      "/System/Library/Frameworks/Python.framework/Versions/2.7/Extras/lib/python/matplotlib/tests/baseline_images/test_mathtext/mathtext_stix_61.pdf\n",
      "/System/Library/Frameworks/Python.framework/Versions/2.7/Extras/lib/python/matplotlib/tests/baseline_images/test_mathtext/mathtext_stix_62.pdf\n",
      "/System/Library/Frameworks/Python.framework/Versions/2.7/Extras/lib/python/matplotlib/tests/baseline_images/test_mathtext/mathtext_stix_63.pdf\n",
      "/System/Library/Frameworks/Python.framework/Versions/2.7/Extras/lib/python/matplotlib/tests/baseline_images/test_mathtext/mathtext_stix_64.pdf\n",
      "/System/Library/Frameworks/Python.framework/Versions/2.7/Extras/lib/python/matplotlib/tests/baseline_images/test_mathtext/mathtext_stix_65.pdf\n",
      "/System/Library/Frameworks/Python.framework/Versions/2.7/Extras/lib/python/matplotlib/tests/baseline_images/test_mathtext/mathtext_stix_66.pdf\n",
      "/System/Library/Frameworks/Python.framework/Versions/2.7/Extras/lib/python/matplotlib/tests/baseline_images/test_mathtext/mathtext_stix_67.pdf\n",
      "/System/Library/Frameworks/Python.framework/Versions/2.7/Extras/lib/python/matplotlib/tests/baseline_images/test_mathtext/mathtext_stixsans_00.pdf\n",
      "/System/Library/Frameworks/Python.framework/Versions/2.7/Extras/lib/python/matplotlib/tests/baseline_images/test_mathtext/mathtext_stixsans_01.pdf\n",
      "/System/Library/Frameworks/Python.framework/Versions/2.7/Extras/lib/python/matplotlib/tests/baseline_images/test_mathtext/mathtext_stixsans_02.pdf\n",
      "/System/Library/Frameworks/Python.framework/Versions/2.7/Extras/lib/python/matplotlib/tests/baseline_images/test_mathtext/mathtext_stixsans_03.pdf\n",
      "/System/Library/Frameworks/Python.framework/Versions/2.7/Extras/lib/python/matplotlib/tests/baseline_images/test_mathtext/mathtext_stixsans_04.pdf\n",
      "/System/Library/Frameworks/Python.framework/Versions/2.7/Extras/lib/python/matplotlib/tests/baseline_images/test_mathtext/mathtext_stixsans_05.pdf\n",
      "/System/Library/Frameworks/Python.framework/Versions/2.7/Extras/lib/python/matplotlib/tests/baseline_images/test_mathtext/mathtext_stixsans_06.pdf\n",
      "/System/Library/Frameworks/Python.framework/Versions/2.7/Extras/lib/python/matplotlib/tests/baseline_images/test_mathtext/mathtext_stixsans_07.pdf\n",
      "/System/Library/Frameworks/Python.framework/Versions/2.7/Extras/lib/python/matplotlib/tests/baseline_images/test_mathtext/mathtext_stixsans_08.pdf\n",
      "/System/Library/Frameworks/Python.framework/Versions/2.7/Extras/lib/python/matplotlib/tests/baseline_images/test_mathtext/mathtext_stixsans_09.pdf\n",
      "/System/Library/Frameworks/Python.framework/Versions/2.7/Extras/lib/python/matplotlib/tests/baseline_images/test_mathtext/mathtext_stixsans_10.pdf\n",
      "/System/Library/Frameworks/Python.framework/Versions/2.7/Extras/lib/python/matplotlib/tests/baseline_images/test_mathtext/mathtext_stixsans_11.pdf\n",
      "/System/Library/Frameworks/Python.framework/Versions/2.7/Extras/lib/python/matplotlib/tests/baseline_images/test_mathtext/mathtext_stixsans_12.pdf\n",
      "/System/Library/Frameworks/Python.framework/Versions/2.7/Extras/lib/python/matplotlib/tests/baseline_images/test_mathtext/mathtext_stixsans_13.pdf\n",
      "/System/Library/Frameworks/Python.framework/Versions/2.7/Extras/lib/python/matplotlib/tests/baseline_images/test_mathtext/mathtext_stixsans_14.pdf\n",
      "/System/Library/Frameworks/Python.framework/Versions/2.7/Extras/lib/python/matplotlib/tests/baseline_images/test_mathtext/mathtext_stixsans_15.pdf\n",
      "/System/Library/Frameworks/Python.framework/Versions/2.7/Extras/lib/python/matplotlib/tests/baseline_images/test_mathtext/mathtext_stixsans_16.pdf\n",
      "/System/Library/Frameworks/Python.framework/Versions/2.7/Extras/lib/python/matplotlib/tests/baseline_images/test_mathtext/mathtext_stixsans_17.pdf\n",
      "/System/Library/Frameworks/Python.framework/Versions/2.7/Extras/lib/python/matplotlib/tests/baseline_images/test_mathtext/mathtext_stixsans_18.pdf\n",
      "/System/Library/Frameworks/Python.framework/Versions/2.7/Extras/lib/python/matplotlib/tests/baseline_images/test_mathtext/mathtext_stixsans_19.pdf\n",
      "/System/Library/Frameworks/Python.framework/Versions/2.7/Extras/lib/python/matplotlib/tests/baseline_images/test_mathtext/mathtext_stixsans_20.pdf\n",
      "/System/Library/Frameworks/Python.framework/Versions/2.7/Extras/lib/python/matplotlib/tests/baseline_images/test_mathtext/mathtext_stixsans_21.pdf\n",
      "/System/Library/Frameworks/Python.framework/Versions/2.7/Extras/lib/python/matplotlib/tests/baseline_images/test_mathtext/mathtext_stixsans_22.pdf\n",
      "/System/Library/Frameworks/Python.framework/Versions/2.7/Extras/lib/python/matplotlib/tests/baseline_images/test_mathtext/mathtext_stixsans_23.pdf\n",
      "/System/Library/Frameworks/Python.framework/Versions/2.7/Extras/lib/python/matplotlib/tests/baseline_images/test_mathtext/mathtext_stixsans_24.pdf\n",
      "/System/Library/Frameworks/Python.framework/Versions/2.7/Extras/lib/python/matplotlib/tests/baseline_images/test_mathtext/mathtext_stixsans_25.pdf\n",
      "/System/Library/Frameworks/Python.framework/Versions/2.7/Extras/lib/python/matplotlib/tests/baseline_images/test_mathtext/mathtext_stixsans_26.pdf\n",
      "/System/Library/Frameworks/Python.framework/Versions/2.7/Extras/lib/python/matplotlib/tests/baseline_images/test_mathtext/mathtext_stixsans_27.pdf\n",
      "/System/Library/Frameworks/Python.framework/Versions/2.7/Extras/lib/python/matplotlib/tests/baseline_images/test_mathtext/mathtext_stixsans_28.pdf\n",
      "/System/Library/Frameworks/Python.framework/Versions/2.7/Extras/lib/python/matplotlib/tests/baseline_images/test_mathtext/mathtext_stixsans_29.pdf\n",
      "/System/Library/Frameworks/Python.framework/Versions/2.7/Extras/lib/python/matplotlib/tests/baseline_images/test_mathtext/mathtext_stixsans_30.pdf\n",
      "/System/Library/Frameworks/Python.framework/Versions/2.7/Extras/lib/python/matplotlib/tests/baseline_images/test_mathtext/mathtext_stixsans_31.pdf\n",
      "/System/Library/Frameworks/Python.framework/Versions/2.7/Extras/lib/python/matplotlib/tests/baseline_images/test_mathtext/mathtext_stixsans_32.pdf\n",
      "/System/Library/Frameworks/Python.framework/Versions/2.7/Extras/lib/python/matplotlib/tests/baseline_images/test_mathtext/mathtext_stixsans_33.pdf\n",
      "/System/Library/Frameworks/Python.framework/Versions/2.7/Extras/lib/python/matplotlib/tests/baseline_images/test_mathtext/mathtext_stixsans_34.pdf\n",
      "/System/Library/Frameworks/Python.framework/Versions/2.7/Extras/lib/python/matplotlib/tests/baseline_images/test_mathtext/mathtext_stixsans_35.pdf\n",
      "/System/Library/Frameworks/Python.framework/Versions/2.7/Extras/lib/python/matplotlib/tests/baseline_images/test_mathtext/mathtext_stixsans_36.pdf\n",
      "/System/Library/Frameworks/Python.framework/Versions/2.7/Extras/lib/python/matplotlib/tests/baseline_images/test_mathtext/mathtext_stixsans_37.pdf\n",
      "/System/Library/Frameworks/Python.framework/Versions/2.7/Extras/lib/python/matplotlib/tests/baseline_images/test_mathtext/mathtext_stixsans_38.pdf\n",
      "/System/Library/Frameworks/Python.framework/Versions/2.7/Extras/lib/python/matplotlib/tests/baseline_images/test_mathtext/mathtext_stixsans_39.pdf\n",
      "/System/Library/Frameworks/Python.framework/Versions/2.7/Extras/lib/python/matplotlib/tests/baseline_images/test_mathtext/mathtext_stixsans_40.pdf\n",
      "/System/Library/Frameworks/Python.framework/Versions/2.7/Extras/lib/python/matplotlib/tests/baseline_images/test_mathtext/mathtext_stixsans_41.pdf\n",
      "/System/Library/Frameworks/Python.framework/Versions/2.7/Extras/lib/python/matplotlib/tests/baseline_images/test_mathtext/mathtext_stixsans_42.pdf\n",
      "/System/Library/Frameworks/Python.framework/Versions/2.7/Extras/lib/python/matplotlib/tests/baseline_images/test_mathtext/mathtext_stixsans_43.pdf\n",
      "/System/Library/Frameworks/Python.framework/Versions/2.7/Extras/lib/python/matplotlib/tests/baseline_images/test_mathtext/mathtext_stixsans_44.pdf\n",
      "/System/Library/Frameworks/Python.framework/Versions/2.7/Extras/lib/python/matplotlib/tests/baseline_images/test_mathtext/mathtext_stixsans_45.pdf\n",
      "/System/Library/Frameworks/Python.framework/Versions/2.7/Extras/lib/python/matplotlib/tests/baseline_images/test_mathtext/mathtext_stixsans_46.pdf\n",
      "/System/Library/Frameworks/Python.framework/Versions/2.7/Extras/lib/python/matplotlib/tests/baseline_images/test_mathtext/mathtext_stixsans_47.pdf\n",
      "/System/Library/Frameworks/Python.framework/Versions/2.7/Extras/lib/python/matplotlib/tests/baseline_images/test_mathtext/mathtext_stixsans_48.pdf\n",
      "/System/Library/Frameworks/Python.framework/Versions/2.7/Extras/lib/python/matplotlib/tests/baseline_images/test_mathtext/mathtext_stixsans_49.pdf\n",
      "/System/Library/Frameworks/Python.framework/Versions/2.7/Extras/lib/python/matplotlib/tests/baseline_images/test_mathtext/mathtext_stixsans_50.pdf\n",
      "/System/Library/Frameworks/Python.framework/Versions/2.7/Extras/lib/python/matplotlib/tests/baseline_images/test_mathtext/mathtext_stixsans_51.pdf\n",
      "/System/Library/Frameworks/Python.framework/Versions/2.7/Extras/lib/python/matplotlib/tests/baseline_images/test_mathtext/mathtext_stixsans_52.pdf\n",
      "/System/Library/Frameworks/Python.framework/Versions/2.7/Extras/lib/python/matplotlib/tests/baseline_images/test_mathtext/mathtext_stixsans_53.pdf\n",
      "/System/Library/Frameworks/Python.framework/Versions/2.7/Extras/lib/python/matplotlib/tests/baseline_images/test_mathtext/mathtext_stixsans_54.pdf\n",
      "/System/Library/Frameworks/Python.framework/Versions/2.7/Extras/lib/python/matplotlib/tests/baseline_images/test_mathtext/mathtext_stixsans_55.pdf\n",
      "/System/Library/Frameworks/Python.framework/Versions/2.7/Extras/lib/python/matplotlib/tests/baseline_images/test_mathtext/mathtext_stixsans_56.pdf\n",
      "/System/Library/Frameworks/Python.framework/Versions/2.7/Extras/lib/python/matplotlib/tests/baseline_images/test_mathtext/mathtext_stixsans_57.pdf\n",
      "/System/Library/Frameworks/Python.framework/Versions/2.7/Extras/lib/python/matplotlib/tests/baseline_images/test_mathtext/mathtext_stixsans_58.pdf\n",
      "/System/Library/Frameworks/Python.framework/Versions/2.7/Extras/lib/python/matplotlib/tests/baseline_images/test_mathtext/mathtext_stixsans_59.pdf\n",
      "/System/Library/Frameworks/Python.framework/Versions/2.7/Extras/lib/python/matplotlib/tests/baseline_images/test_mathtext/mathtext_stixsans_60.pdf\n",
      "/System/Library/Frameworks/Python.framework/Versions/2.7/Extras/lib/python/matplotlib/tests/baseline_images/test_mathtext/mathtext_stixsans_61.pdf\n",
      "/System/Library/Frameworks/Python.framework/Versions/2.7/Extras/lib/python/matplotlib/tests/baseline_images/test_mathtext/mathtext_stixsans_62.pdf\n",
      "/System/Library/Frameworks/Python.framework/Versions/2.7/Extras/lib/python/matplotlib/tests/baseline_images/test_mathtext/mathtext_stixsans_63.pdf\n",
      "/System/Library/Frameworks/Python.framework/Versions/2.7/Extras/lib/python/matplotlib/tests/baseline_images/test_mathtext/mathtext_stixsans_64.pdf\n",
      "/System/Library/Frameworks/Python.framework/Versions/2.7/Extras/lib/python/matplotlib/tests/baseline_images/test_mathtext/mathtext_stixsans_65.pdf\n",
      "/System/Library/Frameworks/Python.framework/Versions/2.7/Extras/lib/python/matplotlib/tests/baseline_images/test_mathtext/mathtext_stixsans_66.pdf\n",
      "/System/Library/Frameworks/Python.framework/Versions/2.7/Extras/lib/python/matplotlib/tests/baseline_images/test_mathtext/mathtext_stixsans_67.pdf\n",
      "/System/Library/Frameworks/Python.framework/Versions/2.7/Extras/lib/python/matplotlib/tests/baseline_images/test_patches/clip_to_bbox.pdf\n",
      "/System/Library/Frameworks/Python.framework/Versions/2.7/Extras/lib/python/matplotlib/tests/baseline_images/test_patches/patch_alpha_coloring.pdf\n",
      "/System/Library/Frameworks/Python.framework/Versions/2.7/Extras/lib/python/matplotlib/tests/baseline_images/test_patches/patch_alpha_override.pdf\n",
      "/System/Library/Frameworks/Python.framework/Versions/2.7/Extras/lib/python/matplotlib/tests/baseline_images/test_patches/patch_custom_linestyle.pdf\n",
      "/System/Library/Frameworks/Python.framework/Versions/2.7/Extras/lib/python/matplotlib/tests/baseline_images/test_patheffects/patheffect1.pdf\n",
      "/System/Library/Frameworks/Python.framework/Versions/2.7/Extras/lib/python/matplotlib/tests/baseline_images/test_patheffects/patheffect2.pdf\n",
      "/System/Library/Frameworks/Python.framework/Versions/2.7/Extras/lib/python/matplotlib/tests/baseline_images/test_patheffects/patheffect3.pdf\n",
      "/System/Library/Frameworks/Python.framework/Versions/2.7/Extras/lib/python/matplotlib/tests/baseline_images/test_scale/log_scales.pdf\n",
      "/System/Library/Frameworks/Python.framework/Versions/2.7/Extras/lib/python/matplotlib/tests/baseline_images/test_simplification/clipper_edge.pdf\n",
      "/System/Library/Frameworks/Python.framework/Versions/2.7/Extras/lib/python/matplotlib/tests/baseline_images/test_simplification/clipping.pdf\n",
      "/System/Library/Frameworks/Python.framework/Versions/2.7/Extras/lib/python/matplotlib/tests/baseline_images/test_simplification/clipping_diamond.pdf\n",
      "/System/Library/Frameworks/Python.framework/Versions/2.7/Extras/lib/python/matplotlib/tests/baseline_images/test_simplification/clipping_with_nans.pdf\n",
      "/System/Library/Frameworks/Python.framework/Versions/2.7/Extras/lib/python/matplotlib/tests/baseline_images/test_simplification/fft_peaks.pdf\n",
      "/System/Library/Frameworks/Python.framework/Versions/2.7/Extras/lib/python/matplotlib/tests/baseline_images/test_simplification/hatch_simplify.pdf\n",
      "/System/Library/Frameworks/Python.framework/Versions/2.7/Extras/lib/python/matplotlib/tests/baseline_images/test_simplification/overflow.pdf\n",
      "/System/Library/Frameworks/Python.framework/Versions/2.7/Extras/lib/python/matplotlib/tests/baseline_images/test_simplification/para_equal_perp.pdf\n",
      "/System/Library/Frameworks/Python.framework/Versions/2.7/Extras/lib/python/matplotlib/tests/baseline_images/test_simplification/simplify_curve.pdf\n",
      "/System/Library/Frameworks/Python.framework/Versions/2.7/Extras/lib/python/matplotlib/tests/baseline_images/test_spines/spines_axes_positions.pdf\n",
      "/System/Library/Frameworks/Python.framework/Versions/2.7/Extras/lib/python/matplotlib/tests/baseline_images/test_spines/spines_data_positions.pdf\n",
      "/System/Library/Frameworks/Python.framework/Versions/2.7/Extras/lib/python/matplotlib/tests/baseline_images/test_streamplot/streamplot_colormap_test_image.pdf\n",
      "/System/Library/Frameworks/Python.framework/Versions/2.7/Extras/lib/python/matplotlib/tests/baseline_images/test_streamplot/streamplot_linewidth_test_image.pdf\n",
      "/System/Library/Frameworks/Python.framework/Versions/2.7/Extras/lib/python/matplotlib/tests/baseline_images/test_streamplot/streamplot_masks_and_nans_test_image.pdf\n",
      "/System/Library/Frameworks/Python.framework/Versions/2.7/Extras/lib/python/matplotlib/tests/baseline_images/test_subplots/subplots_offset_text.pdf\n",
      "/System/Library/Frameworks/Python.framework/Versions/2.7/Extras/lib/python/matplotlib/tests/baseline_images/test_text/font_styles.pdf\n",
      "/System/Library/Frameworks/Python.framework/Versions/2.7/Extras/lib/python/matplotlib/tests/baseline_images/test_text/multiline.pdf\n",
      "/System/Library/Frameworks/Python.framework/Versions/2.7/Extras/lib/python/matplotlib/tests/baseline_images/test_text/text_alignment.pdf\n",
      "/System/Library/Frameworks/Python.framework/Versions/2.7/Extras/lib/python/matplotlib/tests/baseline_images/test_text/titles.pdf\n",
      "/System/Library/Frameworks/Python.framework/Versions/2.7/Extras/lib/python/matplotlib/tests/baseline_images/test_tightlayout/tight_layout1.pdf\n",
      "/System/Library/Frameworks/Python.framework/Versions/2.7/Extras/lib/python/matplotlib/tests/baseline_images/test_tightlayout/tight_layout2.pdf\n",
      "/System/Library/Frameworks/Python.framework/Versions/2.7/Extras/lib/python/matplotlib/tests/baseline_images/test_tightlayout/tight_layout3.pdf\n",
      "/System/Library/Frameworks/Python.framework/Versions/2.7/Extras/lib/python/matplotlib/tests/baseline_images/test_tightlayout/tight_layout4.pdf\n",
      "/System/Library/Frameworks/Python.framework/Versions/2.7/Extras/lib/python/matplotlib/tests/baseline_images/test_tightlayout/tight_layout5.pdf\n",
      "/System/Library/Frameworks/Python.framework/Versions/2.7/Extras/lib/python/matplotlib/tests/baseline_images/test_tightlayout/tight_layout6.pdf\n",
      "/System/Library/Frameworks/Python.framework/Versions/2.7/Extras/lib/python/matplotlib/tests/baseline_images/test_tightlayout/tight_layout7.pdf\n",
      "/System/Library/Frameworks/Python.framework/Versions/2.7/Extras/lib/python/matplotlib/tests/baseline_images/test_tightlayout/tight_layout8.pdf\n",
      "/System/Library/Frameworks/Python.framework/Versions/2.7/Extras/lib/python/matplotlib/tests/baseline_images/test_transforms/pre_transform_data.pdf\n",
      "/System/Library/Frameworks/Python.framework/Versions/2.7/Extras/lib/python/matplotlib/tests/baseline_images/test_triangulation/tripcolor1.pdf\n",
      "/System/Library/Frameworks/Python.framework/Versions/2.7/Extras/lib/python/matplotlib/tests/baseline_images/test_ttconv/truetype-conversion.pdf\n",
      "/System/Library/Frameworks/Python.framework/Versions/2.7/Extras/lib/python/matplotlib/tests/test_backend_pdf.py\n",
      "/System/Library/Frameworks/Python.framework/Versions/2.7/Extras/lib/python/matplotlib/tests/test_backend_pdf.pyc\n"
     ]
    },
    {
     "name": "stdout",
     "output_type": "stream",
     "text": [
      "/Users/fonnescj/.julia/v0.6/Conda/deps/usr/lib/python2.7/site-packages/asn1crypto/pdf.py\r\n",
      "/Users/fonnescj/.julia/v0.6/Conda/deps/usr/lib/python2.7/site-packages/asn1crypto/pdf.pyc\r\n",
      "/Users/fonnescj/.julia/v0.6/Conda/deps/usr/lib/python2.7/site-packages/enum/doc/enum.pdf\r\n",
      "/Users/fonnescj/.julia/v0.6/Conda/deps/usr/lib/python2.7/site-packages/matplotlib/backends/backend_pdf.py\r\n",
      "/Users/fonnescj/.julia/v0.6/Conda/deps/usr/lib/python2.7/site-packages/matplotlib/backends/backend_pdf.pyc\r\n",
      "/Users/fonnescj/.julia/v0.6/Conda/deps/usr/lib/python2.7/site-packages/matplotlib/mpl-data/fonts/pdfcorefonts\r\n",
      "/Users/fonnescj/.julia/v0.6/Conda/deps/usr/lib/python2.7/site-packages/matplotlib/mpl-data/fonts/pdfcorefonts/Courier-Bold.afm\r\n",
      "/Users/fonnescj/.julia/v0.6/Conda/deps/usr/lib/python2.7/site-packages/matplotlib/mpl-data/fonts/pdfcorefonts/Courier-BoldOblique.afm\r\n",
      "/Users/fonnescj/.julia/v0.6/Conda/deps/usr/lib/python2.7/site-packages/matplotlib/mpl-data/fonts/pdfcorefonts/Courier-Oblique.afm\r\n",
      "/Users/fonnescj/.julia/v0.6/Conda/deps/usr/lib/python2.7/site-packages/matplotlib/mpl-data/fonts/pdfcorefonts/Courier.afm\r\n",
      "/Users/fonnescj/.julia/v0.6/Conda/deps/usr/lib/python2.7/site-packages/matplotlib/mpl-data/fonts/pdfcorefonts/Helvetica-Bold.afm\r\n",
      "/Users/fonnescj/.julia/v0.6/Conda/deps/usr/lib/python2.7/site-packages/matplotlib/mpl-data/fonts/pdfcorefonts/Helvetica-BoldOblique.afm\r\n",
      "/Users/fonnescj/.julia/v0.6/Conda/deps/usr/lib/python2.7/site-packages/matplotlib/mpl-data/fonts/pdfcorefonts/Helvetica-Oblique.afm\r\n",
      "/Users/fonnescj/.julia/v0.6/Conda/deps/usr/lib/python2.7/site-packages/matplotlib/mpl-data/fonts/pdfcorefonts/Helvetica.afm\r\n",
      "/Users/fonnescj/.julia/v0.6/Conda/deps/usr/lib/python2.7/site-packages/matplotlib/mpl-data/fonts/pdfcorefonts/Symbol.afm\r\n",
      "/Users/fonnescj/.julia/v0.6/Conda/deps/usr/lib/python2.7/site-packages/matplotlib/mpl-data/fonts/pdfcorefonts/Times-Bold.afm\r\n",
      "/Users/fonnescj/.julia/v0.6/Conda/deps/usr/lib/python2.7/site-packages/matplotlib/mpl-data/fonts/pdfcorefonts/Times-BoldItalic.afm\r\n",
      "/Users/fonnescj/.julia/v0.6/Conda/deps/usr/lib/python2.7/site-packages/matplotlib/mpl-data/fonts/pdfcorefonts/Times-Italic.afm\r\n",
      "/Users/fonnescj/.julia/v0.6/Conda/deps/usr/lib/python2.7/site-packages/matplotlib/mpl-data/fonts/pdfcorefonts/Times-Roman.afm\r\n",
      "/Users/fonnescj/.julia/v0.6/Conda/deps/usr/lib/python2.7/site-packages/matplotlib/mpl-data/fonts/pdfcorefonts/ZapfDingbats.afm\r\n",
      "/Users/fonnescj/.julia/v0.6/Conda/deps/usr/lib/python2.7/site-packages/matplotlib/mpl-data/fonts/pdfcorefonts/readme.txt\r\n",
      "/Users/fonnescj/.julia/v0.6/Conda/deps/usr/lib/python2.7/site-packages/matplotlib/mpl-data/images/back.pdf\r\n",
      "/Users/fonnescj/.julia/v0.6/Conda/deps/usr/lib/python2.7/site-packages/matplotlib/mpl-data/images/filesave.pdf\r\n",
      "/Users/fonnescj/.julia/v0.6/Conda/deps/usr/lib/python2.7/site-packages/matplotlib/mpl-data/images/forward.pdf\r\n",
      "/Users/fonnescj/.julia/v0.6/Conda/deps/usr/lib/python2.7/site-packages/matplotlib/mpl-data/images/hand.pdf\r\n",
      "/Users/fonnescj/.julia/v0.6/Conda/deps/usr/lib/python2.7/site-packages/matplotlib/mpl-data/images/home.pdf\r\n",
      "/Users/fonnescj/.julia/v0.6/Conda/deps/usr/lib/python2.7/site-packages/matplotlib/mpl-data/images/matplotlib.pdf\r\n",
      "/Users/fonnescj/.julia/v0.6/Conda/deps/usr/lib/python2.7/site-packages/matplotlib/mpl-data/images/move.pdf\r\n",
      "/Users/fonnescj/.julia/v0.6/Conda/deps/usr/lib/python2.7/site-packages/matplotlib/mpl-data/images/qt4_editor_options.pdf\r\n",
      "/Users/fonnescj/.julia/v0.6/Conda/deps/usr/lib/python2.7/site-packages/matplotlib/mpl-data/images/subplots.pdf\r\n",
      "/Users/fonnescj/.julia/v0.6/Conda/deps/usr/lib/python2.7/site-packages/matplotlib/mpl-data/images/zoom_to_rect.pdf\r\n",
      "/Users/fonnescj/.julia/v0.6/Conda/deps/usr/lib/python2.7/site-packages/matplotlib/mpl-data/sample_data/None_vs_nearest-pdf.png\r\n",
      "/Users/fonnescj/.julia/v0.6/Conda/deps/usr/lib/python2.7/site-packages/nbconvert/exporters/pdf.py\r\n",
      "/Users/fonnescj/.julia/v0.6/Conda/deps/usr/lib/python2.7/site-packages/nbconvert/exporters/pdf.pyc\r\n",
      "/Users/fonnescj/.julia/v0.6/Conda/deps/usr/lib/python2.7/site-packages/nbconvert/exporters/tests/test_pdf.py\r\n",
      "/Users/fonnescj/.julia/v0.6/Conda/deps/usr/lib/python2.7/site-packages/nbconvert/exporters/tests/test_pdf.pyc\r\n",
      "/Users/fonnescj/.julia/v0.6/Conda/deps/usr/lib/python2.7/site-packages/nbconvert/preprocessors/svg2pdf.py\r\n",
      "/Users/fonnescj/.julia/v0.6/Conda/deps/usr/lib/python2.7/site-packages/nbconvert/preprocessors/svg2pdf.pyc\r\n",
      "/Users/fonnescj/.julia/v0.6/Conda/deps/usr/lib/python2.7/site-packages/nbconvert/preprocessors/tests/test_svg2pdf.py\r\n",
      "/Users/fonnescj/.julia/v0.6/Conda/deps/usr/lib/python2.7/site-packages/nbconvert/preprocessors/tests/test_svg2pdf.pyc\r\n",
      "/Users/fonnescj/.julia/v0.6/Conda/deps/usr/pkgs/asn1crypto-0.22.0-py27_0/lib/python2.7/site-packages/asn1crypto/pdf.py\r\n",
      "/Users/fonnescj/.julia/v0.6/Conda/deps/usr/pkgs/asn1crypto-0.22.0-py27_0/lib/python2.7/site-packages/asn1crypto/pdf.pyc\r\n",
      "/Users/fonnescj/.julia/v0.6/Conda/deps/usr/pkgs/enum34-1.1.6-py27_0/lib/python2.7/site-packages/enum/doc/enum.pdf\r\n",
      "/Users/fonnescj/.julia/v0.6/Conda/deps/usr/pkgs/matplotlib-2.0.2-np113py27_0/lib/python2.7/site-packages/matplotlib/backends/backend_pdf.py\r\n",
      "/Users/fonnescj/.julia/v0.6/Conda/deps/usr/pkgs/matplotlib-2.0.2-np113py27_0/lib/python2.7/site-packages/matplotlib/backends/backend_pdf.pyc\r\n",
      "/Users/fonnescj/.julia/v0.6/Conda/deps/usr/pkgs/matplotlib-2.0.2-np113py27_0/lib/python2.7/site-packages/matplotlib/mpl-data/fonts/pdfcorefonts\r\n",
      "/Users/fonnescj/.julia/v0.6/Conda/deps/usr/pkgs/matplotlib-2.0.2-np113py27_0/lib/python2.7/site-packages/matplotlib/mpl-data/fonts/pdfcorefonts/Courier-Bold.afm\r\n",
      "/Users/fonnescj/.julia/v0.6/Conda/deps/usr/pkgs/matplotlib-2.0.2-np113py27_0/lib/python2.7/site-packages/matplotlib/mpl-data/fonts/pdfcorefonts/Courier-BoldOblique.afm\r\n",
      "/Users/fonnescj/.julia/v0.6/Conda/deps/usr/pkgs/matplotlib-2.0.2-np113py27_0/lib/python2.7/site-packages/matplotlib/mpl-data/fonts/pdfcorefonts/Courier-Oblique.afm\r\n",
      "/Users/fonnescj/.julia/v0.6/Conda/deps/usr/pkgs/matplotlib-2.0.2-np113py27_0/lib/python2.7/site-packages/matplotlib/mpl-data/fonts/pdfcorefonts/Courier.afm\r\n",
      "/Users/fonnescj/.julia/v0.6/Conda/deps/usr/pkgs/matplotlib-2.0.2-np113py27_0/lib/python2.7/site-packages/matplotlib/mpl-data/fonts/pdfcorefonts/Helvetica-Bold.afm\r\n",
      "/Users/fonnescj/.julia/v0.6/Conda/deps/usr/pkgs/matplotlib-2.0.2-np113py27_0/lib/python2.7/site-packages/matplotlib/mpl-data/fonts/pdfcorefonts/Helvetica-BoldOblique.afm\r\n",
      "/Users/fonnescj/.julia/v0.6/Conda/deps/usr/pkgs/matplotlib-2.0.2-np113py27_0/lib/python2.7/site-packages/matplotlib/mpl-data/fonts/pdfcorefonts/Helvetica-Oblique.afm\r\n",
      "/Users/fonnescj/.julia/v0.6/Conda/deps/usr/pkgs/matplotlib-2.0.2-np113py27_0/lib/python2.7/site-packages/matplotlib/mpl-data/fonts/pdfcorefonts/Helvetica.afm\r\n",
      "/Users/fonnescj/.julia/v0.6/Conda/deps/usr/pkgs/matplotlib-2.0.2-np113py27_0/lib/python2.7/site-packages/matplotlib/mpl-data/fonts/pdfcorefonts/Symbol.afm\r\n",
      "/Users/fonnescj/.julia/v0.6/Conda/deps/usr/pkgs/matplotlib-2.0.2-np113py27_0/lib/python2.7/site-packages/matplotlib/mpl-data/fonts/pdfcorefonts/Times-Bold.afm\r\n",
      "/Users/fonnescj/.julia/v0.6/Conda/deps/usr/pkgs/matplotlib-2.0.2-np113py27_0/lib/python2.7/site-packages/matplotlib/mpl-data/fonts/pdfcorefonts/Times-BoldItalic.afm\r\n",
      "/Users/fonnescj/.julia/v0.6/Conda/deps/usr/pkgs/matplotlib-2.0.2-np113py27_0/lib/python2.7/site-packages/matplotlib/mpl-data/fonts/pdfcorefonts/Times-Italic.afm\r\n",
      "/Users/fonnescj/.julia/v0.6/Conda/deps/usr/pkgs/matplotlib-2.0.2-np113py27_0/lib/python2.7/site-packages/matplotlib/mpl-data/fonts/pdfcorefonts/Times-Roman.afm\r\n",
      "/Users/fonnescj/.julia/v0.6/Conda/deps/usr/pkgs/matplotlib-2.0.2-np113py27_0/lib/python2.7/site-packages/matplotlib/mpl-data/fonts/pdfcorefonts/ZapfDingbats.afm\r\n",
      "/Users/fonnescj/.julia/v0.6/Conda/deps/usr/pkgs/matplotlib-2.0.2-np113py27_0/lib/python2.7/site-packages/matplotlib/mpl-data/fonts/pdfcorefonts/readme.txt\r\n",
      "/Users/fonnescj/.julia/v0.6/Conda/deps/usr/pkgs/matplotlib-2.0.2-np113py27_0/lib/python2.7/site-packages/matplotlib/mpl-data/images/back.pdf\r\n",
      "/Users/fonnescj/.julia/v0.6/Conda/deps/usr/pkgs/matplotlib-2.0.2-np113py27_0/lib/python2.7/site-packages/matplotlib/mpl-data/images/filesave.pdf\r\n",
      "/Users/fonnescj/.julia/v0.6/Conda/deps/usr/pkgs/matplotlib-2.0.2-np113py27_0/lib/python2.7/site-packages/matplotlib/mpl-data/images/forward.pdf\r\n",
      "/Users/fonnescj/.julia/v0.6/Conda/deps/usr/pkgs/matplotlib-2.0.2-np113py27_0/lib/python2.7/site-packages/matplotlib/mpl-data/images/hand.pdf\r\n",
      "/Users/fonnescj/.julia/v0.6/Conda/deps/usr/pkgs/matplotlib-2.0.2-np113py27_0/lib/python2.7/site-packages/matplotlib/mpl-data/images/home.pdf\r\n",
      "/Users/fonnescj/.julia/v0.6/Conda/deps/usr/pkgs/matplotlib-2.0.2-np113py27_0/lib/python2.7/site-packages/matplotlib/mpl-data/images/matplotlib.pdf\r\n",
      "/Users/fonnescj/.julia/v0.6/Conda/deps/usr/pkgs/matplotlib-2.0.2-np113py27_0/lib/python2.7/site-packages/matplotlib/mpl-data/images/move.pdf\r\n",
      "/Users/fonnescj/.julia/v0.6/Conda/deps/usr/pkgs/matplotlib-2.0.2-np113py27_0/lib/python2.7/site-packages/matplotlib/mpl-data/images/qt4_editor_options.pdf\r\n",
      "/Users/fonnescj/.julia/v0.6/Conda/deps/usr/pkgs/matplotlib-2.0.2-np113py27_0/lib/python2.7/site-packages/matplotlib/mpl-data/images/subplots.pdf\r\n",
      "/Users/fonnescj/.julia/v0.6/Conda/deps/usr/pkgs/matplotlib-2.0.2-np113py27_0/lib/python2.7/site-packages/matplotlib/mpl-data/images/zoom_to_rect.pdf\r\n",
      "/Users/fonnescj/.julia/v0.6/Conda/deps/usr/pkgs/matplotlib-2.0.2-np113py27_0/lib/python2.7/site-packages/matplotlib/mpl-data/sample_data/None_vs_nearest-pdf.png\r\n",
      "/Users/fonnescj/.julia/v0.6/Conda/deps/usr/pkgs/nbconvert-5.2.1-py27_0/lib/python2.7/site-packages/nbconvert/exporters/pdf.py\r\n",
      "/Users/fonnescj/.julia/v0.6/Conda/deps/usr/pkgs/nbconvert-5.2.1-py27_0/lib/python2.7/site-packages/nbconvert/exporters/pdf.pyc\r\n",
      "/Users/fonnescj/.julia/v0.6/Conda/deps/usr/pkgs/nbconvert-5.2.1-py27_0/lib/python2.7/site-packages/nbconvert/exporters/tests/test_pdf.py\r\n",
      "/Users/fonnescj/.julia/v0.6/Conda/deps/usr/pkgs/nbconvert-5.2.1-py27_0/lib/python2.7/site-packages/nbconvert/exporters/tests/test_pdf.pyc\r\n",
      "/Users/fonnescj/.julia/v0.6/Conda/deps/usr/pkgs/nbconvert-5.2.1-py27_0/lib/python2.7/site-packages/nbconvert/preprocessors/svg2pdf.py\r\n",
      "/Users/fonnescj/.julia/v0.6/Conda/deps/usr/pkgs/nbconvert-5.2.1-py27_0/lib/python2.7/site-packages/nbconvert/preprocessors/svg2pdf.pyc\r\n",
      "/Users/fonnescj/.julia/v0.6/Conda/deps/usr/pkgs/nbconvert-5.2.1-py27_0/lib/python2.7/site-packages/nbconvert/preprocessors/tests/test_svg2pdf.py\r\n",
      "/Users/fonnescj/.julia/v0.6/Conda/deps/usr/pkgs/nbconvert-5.2.1-py27_0/lib/python2.7/site-packages/nbconvert/preprocessors/tests/test_svg2pdf.pyc\r\n"
     ]
    },
    {
     "name": "stdout",
     "output_type": "stream",
     "text": [
      "/Users/fonnescj/.vscode/extensions/donjayamanne.python-0.7.0/node_modules/transformime/lib/pdf.transform.js\n",
      "/Users/fonnescj/.vscode/extensions/donjayamanne.python-0.7.0/node_modules/transformime/src/pdf.transform.js\n",
      "/Users/fonnescj/.vscode/extensions/donjayamanne.python-0.7.0/node_modules/transformime/test/pdf.transform.test.js\n",
      "/Users/fonnescj/.vscode/extensions/yzane.markdown-pdf-0.1.7/node_modules/highlight.js/lib/languages/python.js\n",
      "/Users/fonnescj/Repos/randpython/misc/mdsr-toc.pdf\n",
      "/Users/fonnescj/Repos/scientific-python-workshop/notebooks/images/360px-Exponential_pdf.svg.png\n",
      "/Users/fonnescj/Repos/scientific-python-workshop/notebooks/images/Gamma_distribution_pdf.svg.png\n",
      "/Users/fonnescj/Repos/statistical-analysis-python-tutorial/data/names/NationalReadMe.pdf\n",
      "/Users/fonnescj/anaconda3/envs/bios8366/lib/python3.6/site-packages/asn1crypto/__pycache__/pdf.cpython-36.pyc\n",
      "/Users/fonnescj/anaconda3/envs/bios8366/lib/python3.6/site-packages/asn1crypto/pdf.py\n",
      "/Users/fonnescj/anaconda3/envs/bios8366/lib/python3.6/site-packages/matplotlib/backends/__pycache__/backend_pdf.cpython-36.pyc\n",
      "/Users/fonnescj/anaconda3/envs/bios8366/lib/python3.6/site-packages/matplotlib/backends/backend_pdf.py\n",
      "/Users/fonnescj/anaconda3/envs/bios8366/lib/python3.6/site-packages/matplotlib/mpl-data/fonts/pdfcorefonts\n",
      "/Users/fonnescj/anaconda3/envs/bios8366/lib/python3.6/site-packages/matplotlib/mpl-data/fonts/pdfcorefonts/Courier-Bold.afm\n",
      "/Users/fonnescj/anaconda3/envs/bios8366/lib/python3.6/site-packages/matplotlib/mpl-data/fonts/pdfcorefonts/Courier-BoldOblique.afm\n",
      "/Users/fonnescj/anaconda3/envs/bios8366/lib/python3.6/site-packages/matplotlib/mpl-data/fonts/pdfcorefonts/Courier-Oblique.afm\n",
      "/Users/fonnescj/anaconda3/envs/bios8366/lib/python3.6/site-packages/matplotlib/mpl-data/fonts/pdfcorefonts/Courier.afm\n",
      "/Users/fonnescj/anaconda3/envs/bios8366/lib/python3.6/site-packages/matplotlib/mpl-data/fonts/pdfcorefonts/Helvetica-Bold.afm\n",
      "/Users/fonnescj/anaconda3/envs/bios8366/lib/python3.6/site-packages/matplotlib/mpl-data/fonts/pdfcorefonts/Helvetica-BoldOblique.afm\n",
      "/Users/fonnescj/anaconda3/envs/bios8366/lib/python3.6/site-packages/matplotlib/mpl-data/fonts/pdfcorefonts/Helvetica-Oblique.afm\n",
      "/Users/fonnescj/anaconda3/envs/bios8366/lib/python3.6/site-packages/matplotlib/mpl-data/fonts/pdfcorefonts/Helvetica.afm\n",
      "/Users/fonnescj/anaconda3/envs/bios8366/lib/python3.6/site-packages/matplotlib/mpl-data/fonts/pdfcorefonts/Symbol.afm\n",
      "/Users/fonnescj/anaconda3/envs/bios8366/lib/python3.6/site-packages/matplotlib/mpl-data/fonts/pdfcorefonts/Times-Bold.afm\n",
      "/Users/fonnescj/anaconda3/envs/bios8366/lib/python3.6/site-packages/matplotlib/mpl-data/fonts/pdfcorefonts/Times-BoldItalic.afm\n",
      "/Users/fonnescj/anaconda3/envs/bios8366/lib/python3.6/site-packages/matplotlib/mpl-data/fonts/pdfcorefonts/Times-Italic.afm\n",
      "/Users/fonnescj/anaconda3/envs/bios8366/lib/python3.6/site-packages/matplotlib/mpl-data/fonts/pdfcorefonts/Times-Roman.afm\n",
      "/Users/fonnescj/anaconda3/envs/bios8366/lib/python3.6/site-packages/matplotlib/mpl-data/fonts/pdfcorefonts/ZapfDingbats.afm\n",
      "/Users/fonnescj/anaconda3/envs/bios8366/lib/python3.6/site-packages/matplotlib/mpl-data/fonts/pdfcorefonts/readme.txt\n",
      "/Users/fonnescj/anaconda3/envs/bios8366/lib/python3.6/site-packages/matplotlib/mpl-data/images/back.pdf\n",
      "/Users/fonnescj/anaconda3/envs/bios8366/lib/python3.6/site-packages/matplotlib/mpl-data/images/filesave.pdf\n",
      "/Users/fonnescj/anaconda3/envs/bios8366/lib/python3.6/site-packages/matplotlib/mpl-data/images/forward.pdf\n",
      "/Users/fonnescj/anaconda3/envs/bios8366/lib/python3.6/site-packages/matplotlib/mpl-data/images/hand.pdf\n",
      "/Users/fonnescj/anaconda3/envs/bios8366/lib/python3.6/site-packages/matplotlib/mpl-data/images/home.pdf\n",
      "/Users/fonnescj/anaconda3/envs/bios8366/lib/python3.6/site-packages/matplotlib/mpl-data/images/matplotlib.pdf\n",
      "/Users/fonnescj/anaconda3/envs/bios8366/lib/python3.6/site-packages/matplotlib/mpl-data/images/move.pdf\n",
      "/Users/fonnescj/anaconda3/envs/bios8366/lib/python3.6/site-packages/matplotlib/mpl-data/images/qt4_editor_options.pdf\n",
      "/Users/fonnescj/anaconda3/envs/bios8366/lib/python3.6/site-packages/matplotlib/mpl-data/images/subplots.pdf\n",
      "/Users/fonnescj/anaconda3/envs/bios8366/lib/python3.6/site-packages/matplotlib/mpl-data/images/zoom_to_rect.pdf\n",
      "/Users/fonnescj/anaconda3/envs/bios8366/lib/python3.6/site-packages/nbconvert/exporters/__pycache__/pdf.cpython-36.pyc\n",
      "/Users/fonnescj/anaconda3/envs/bios8366/lib/python3.6/site-packages/nbconvert/exporters/pdf.py\n",
      "/Users/fonnescj/anaconda3/envs/bios8366/lib/python3.6/site-packages/nbconvert/exporters/tests/__pycache__/test_pdf.cpython-36.pyc\n",
      "/Users/fonnescj/anaconda3/envs/bios8366/lib/python3.6/site-packages/nbconvert/exporters/tests/test_pdf.py\n",
      "/Users/fonnescj/anaconda3/envs/bios8366/lib/python3.6/site-packages/nbconvert/preprocessors/__pycache__/svg2pdf.cpython-36.pyc\n",
      "/Users/fonnescj/anaconda3/envs/bios8366/lib/python3.6/site-packages/nbconvert/preprocessors/svg2pdf.py\n",
      "/Users/fonnescj/anaconda3/envs/bios8366/lib/python3.6/site-packages/nbconvert/preprocessors/tests/__pycache__/test_svg2pdf.cpython-36.pyc\n",
      "/Users/fonnescj/anaconda3/envs/bios8366/lib/python3.6/site-packages/nbconvert/preprocessors/tests/test_svg2pdf.py\n",
      "/Users/fonnescj/anaconda3/envs/datacamp/lib/python3.6/site-packages/matplotlib/backends/__pycache__/backend_pdf.cpython-36.pyc\n",
      "/Users/fonnescj/anaconda3/envs/datacamp/lib/python3.6/site-packages/matplotlib/backends/backend_pdf.py\n",
      "/Users/fonnescj/anaconda3/envs/datacamp/lib/python3.6/site-packages/matplotlib/mpl-data/fonts/pdfcorefonts\n",
      "/Users/fonnescj/anaconda3/envs/datacamp/lib/python3.6/site-packages/matplotlib/mpl-data/fonts/pdfcorefonts/Courier-Bold.afm\n",
      "/Users/fonnescj/anaconda3/envs/datacamp/lib/python3.6/site-packages/matplotlib/mpl-data/fonts/pdfcorefonts/Courier-BoldOblique.afm\n",
      "/Users/fonnescj/anaconda3/envs/datacamp/lib/python3.6/site-packages/matplotlib/mpl-data/fonts/pdfcorefonts/Courier-Oblique.afm\n",
      "/Users/fonnescj/anaconda3/envs/datacamp/lib/python3.6/site-packages/matplotlib/mpl-data/fonts/pdfcorefonts/Courier.afm\n",
      "/Users/fonnescj/anaconda3/envs/datacamp/lib/python3.6/site-packages/matplotlib/mpl-data/fonts/pdfcorefonts/Helvetica-Bold.afm\n",
      "/Users/fonnescj/anaconda3/envs/datacamp/lib/python3.6/site-packages/matplotlib/mpl-data/fonts/pdfcorefonts/Helvetica-BoldOblique.afm\n",
      "/Users/fonnescj/anaconda3/envs/datacamp/lib/python3.6/site-packages/matplotlib/mpl-data/fonts/pdfcorefonts/Helvetica-Oblique.afm\n",
      "/Users/fonnescj/anaconda3/envs/datacamp/lib/python3.6/site-packages/matplotlib/mpl-data/fonts/pdfcorefonts/Helvetica.afm\n",
      "/Users/fonnescj/anaconda3/envs/datacamp/lib/python3.6/site-packages/matplotlib/mpl-data/fonts/pdfcorefonts/Symbol.afm\n",
      "/Users/fonnescj/anaconda3/envs/datacamp/lib/python3.6/site-packages/matplotlib/mpl-data/fonts/pdfcorefonts/Times-Bold.afm\n",
      "/Users/fonnescj/anaconda3/envs/datacamp/lib/python3.6/site-packages/matplotlib/mpl-data/fonts/pdfcorefonts/Times-BoldItalic.afm\n",
      "/Users/fonnescj/anaconda3/envs/datacamp/lib/python3.6/site-packages/matplotlib/mpl-data/fonts/pdfcorefonts/Times-Italic.afm\n",
      "/Users/fonnescj/anaconda3/envs/datacamp/lib/python3.6/site-packages/matplotlib/mpl-data/fonts/pdfcorefonts/Times-Roman.afm\n",
      "/Users/fonnescj/anaconda3/envs/datacamp/lib/python3.6/site-packages/matplotlib/mpl-data/fonts/pdfcorefonts/ZapfDingbats.afm\n",
      "/Users/fonnescj/anaconda3/envs/datacamp/lib/python3.6/site-packages/matplotlib/mpl-data/fonts/pdfcorefonts/readme.txt\n",
      "/Users/fonnescj/anaconda3/envs/datacamp/lib/python3.6/site-packages/matplotlib/mpl-data/images/back.pdf\n",
      "/Users/fonnescj/anaconda3/envs/datacamp/lib/python3.6/site-packages/matplotlib/mpl-data/images/filesave.pdf\n",
      "/Users/fonnescj/anaconda3/envs/datacamp/lib/python3.6/site-packages/matplotlib/mpl-data/images/forward.pdf\n",
      "/Users/fonnescj/anaconda3/envs/datacamp/lib/python3.6/site-packages/matplotlib/mpl-data/images/hand.pdf\n",
      "/Users/fonnescj/anaconda3/envs/datacamp/lib/python3.6/site-packages/matplotlib/mpl-data/images/home.pdf\n",
      "/Users/fonnescj/anaconda3/envs/datacamp/lib/python3.6/site-packages/matplotlib/mpl-data/images/matplotlib.pdf\n",
      "/Users/fonnescj/anaconda3/envs/datacamp/lib/python3.6/site-packages/matplotlib/mpl-data/images/move.pdf\n",
      "/Users/fonnescj/anaconda3/envs/datacamp/lib/python3.6/site-packages/matplotlib/mpl-data/images/qt4_editor_options.pdf\n",
      "/Users/fonnescj/anaconda3/envs/datacamp/lib/python3.6/site-packages/matplotlib/mpl-data/images/subplots.pdf\n",
      "/Users/fonnescj/anaconda3/envs/datacamp/lib/python3.6/site-packages/matplotlib/mpl-data/images/zoom_to_rect.pdf\n",
      "/Users/fonnescj/anaconda3/envs/dev/lib/python3.6/site-packages/asn1crypto/__pycache__/pdf.cpython-36.pyc\n"
     ]
    },
    {
     "name": "stdout",
     "output_type": "stream",
     "text": [
      "/Users/fonnescj/anaconda3/envs/dev/lib/python3.6/site-packages/asn1crypto/pdf.py\n",
      "/Users/fonnescj/anaconda3/envs/dev/lib/python3.6/site-packages/jupyter_contrib_nbextensions/nbconvert_support/__pycache__/pre_svg2pdf.cpython-36.pyc\n",
      "/Users/fonnescj/anaconda3/envs/dev/lib/python3.6/site-packages/jupyter_contrib_nbextensions/nbconvert_support/pre_svg2pdf.py\n",
      "/Users/fonnescj/anaconda3/envs/dev/lib/python3.6/site-packages/jupyter_contrib_nbextensions/nbextensions/highlighter/export_highlights.pdf\n",
      "/Users/fonnescj/anaconda3/envs/dev/lib/python3.6/site-packages/jupyter_contrib_nbextensions/nbextensions/highlighter/tst_highlights.pdf\n",
      "/Users/fonnescj/anaconda3/envs/dev/lib/python3.6/site-packages/latex_envs/static/doc/documentation.pdf\n",
      "/Users/fonnescj/anaconda3/envs/dev/lib/python3.6/site-packages/matplotlib/backends/__pycache__/backend_pdf.cpython-36.pyc\n",
      "/Users/fonnescj/anaconda3/envs/dev/lib/python3.6/site-packages/matplotlib/backends/backend_pdf.py\n",
      "/Users/fonnescj/anaconda3/envs/dev/lib/python3.6/site-packages/matplotlib/mpl-data/fonts/pdfcorefonts\n",
      "/Users/fonnescj/anaconda3/envs/dev/lib/python3.6/site-packages/matplotlib/mpl-data/fonts/pdfcorefonts/Courier-Bold.afm\n",
      "/Users/fonnescj/anaconda3/envs/dev/lib/python3.6/site-packages/matplotlib/mpl-data/fonts/pdfcorefonts/Courier-BoldOblique.afm\n",
      "/Users/fonnescj/anaconda3/envs/dev/lib/python3.6/site-packages/matplotlib/mpl-data/fonts/pdfcorefonts/Courier-Oblique.afm\n",
      "/Users/fonnescj/anaconda3/envs/dev/lib/python3.6/site-packages/matplotlib/mpl-data/fonts/pdfcorefonts/Courier.afm\n",
      "/Users/fonnescj/anaconda3/envs/dev/lib/python3.6/site-packages/matplotlib/mpl-data/fonts/pdfcorefonts/Helvetica-Bold.afm\n",
      "/Users/fonnescj/anaconda3/envs/dev/lib/python3.6/site-packages/matplotlib/mpl-data/fonts/pdfcorefonts/Helvetica-BoldOblique.afm\n",
      "/Users/fonnescj/anaconda3/envs/dev/lib/python3.6/site-packages/matplotlib/mpl-data/fonts/pdfcorefonts/Helvetica-Oblique.afm\n",
      "/Users/fonnescj/anaconda3/envs/dev/lib/python3.6/site-packages/matplotlib/mpl-data/fonts/pdfcorefonts/Helvetica.afm\n",
      "/Users/fonnescj/anaconda3/envs/dev/lib/python3.6/site-packages/matplotlib/mpl-data/fonts/pdfcorefonts/Symbol.afm\n",
      "/Users/fonnescj/anaconda3/envs/dev/lib/python3.6/site-packages/matplotlib/mpl-data/fonts/pdfcorefonts/Times-Bold.afm\n",
      "/Users/fonnescj/anaconda3/envs/dev/lib/python3.6/site-packages/matplotlib/mpl-data/fonts/pdfcorefonts/Times-BoldItalic.afm\n",
      "/Users/fonnescj/anaconda3/envs/dev/lib/python3.6/site-packages/matplotlib/mpl-data/fonts/pdfcorefonts/Times-Italic.afm\n",
      "/Users/fonnescj/anaconda3/envs/dev/lib/python3.6/site-packages/matplotlib/mpl-data/fonts/pdfcorefonts/Times-Roman.afm\n",
      "/Users/fonnescj/anaconda3/envs/dev/lib/python3.6/site-packages/matplotlib/mpl-data/fonts/pdfcorefonts/ZapfDingbats.afm\n",
      "/Users/fonnescj/anaconda3/envs/dev/lib/python3.6/site-packages/matplotlib/mpl-data/fonts/pdfcorefonts/readme.txt\n",
      "/Users/fonnescj/anaconda3/envs/dev/lib/python3.6/site-packages/matplotlib/mpl-data/images/back.pdf\n",
      "/Users/fonnescj/anaconda3/envs/dev/lib/python3.6/site-packages/matplotlib/mpl-data/images/filesave.pdf\n",
      "/Users/fonnescj/anaconda3/envs/dev/lib/python3.6/site-packages/matplotlib/mpl-data/images/forward.pdf\n",
      "/Users/fonnescj/anaconda3/envs/dev/lib/python3.6/site-packages/matplotlib/mpl-data/images/hand.pdf\n",
      "/Users/fonnescj/anaconda3/envs/dev/lib/python3.6/site-packages/matplotlib/mpl-data/images/home.pdf\n",
      "/Users/fonnescj/anaconda3/envs/dev/lib/python3.6/site-packages/matplotlib/mpl-data/images/matplotlib.pdf\n",
      "/Users/fonnescj/anaconda3/envs/dev/lib/python3.6/site-packages/matplotlib/mpl-data/images/move.pdf\n",
      "/Users/fonnescj/anaconda3/envs/dev/lib/python3.6/site-packages/matplotlib/mpl-data/images/qt4_editor_options.pdf\n",
      "/Users/fonnescj/anaconda3/envs/dev/lib/python3.6/site-packages/matplotlib/mpl-data/images/subplots.pdf\n",
      "/Users/fonnescj/anaconda3/envs/dev/lib/python3.6/site-packages/matplotlib/mpl-data/images/zoom_to_rect.pdf\n",
      "/Users/fonnescj/anaconda3/envs/dev/lib/python3.6/site-packages/nbconvert/exporters/__pycache__/pdf.cpython-36.pyc\n",
      "/Users/fonnescj/anaconda3/envs/dev/lib/python3.6/site-packages/nbconvert/exporters/pdf.py\n",
      "/Users/fonnescj/anaconda3/envs/dev/lib/python3.6/site-packages/nbconvert/exporters/tests/__pycache__/test_pdf.cpython-36.pyc\n",
      "/Users/fonnescj/anaconda3/envs/dev/lib/python3.6/site-packages/nbconvert/exporters/tests/test_pdf.py\n",
      "/Users/fonnescj/anaconda3/envs/dev/lib/python3.6/site-packages/nbconvert/preprocessors/__pycache__/svg2pdf.cpython-36.pyc\n",
      "/Users/fonnescj/anaconda3/envs/dev/lib/python3.6/site-packages/nbconvert/preprocessors/svg2pdf.py\n",
      "/Users/fonnescj/anaconda3/envs/dev/lib/python3.6/site-packages/nbconvert/preprocessors/tests/__pycache__/test_svg2pdf.cpython-36.pyc\n",
      "/Users/fonnescj/anaconda3/envs/dev/lib/python3.6/site-packages/nbconvert/preprocessors/tests/test_svg2pdf.py\n",
      "/Users/fonnescj/anaconda3/envs/dev/lib/python3.6/site-packages/pystan/stan/lib/stan_math_2.14.0/doc/api/html/d0/d2c/logistic__lpdf_8hpp.html\n",
      "/Users/fonnescj/anaconda3/envs/dev/lib/python3.6/site-packages/pystan/stan/lib/stan_math_2.14.0/doc/api/html/d0/d2c/logistic__lpdf_8hpp_source.html\n",
      "/Users/fonnescj/anaconda3/envs/dev/lib/python3.6/site-packages/pystan/stan/lib/stan_math_2.14.0/doc/api/html/d1/d23/normal__lpdf_8hpp.html\n",
      "/Users/fonnescj/anaconda3/envs/dev/lib/python3.6/site-packages/pystan/stan/lib/stan_math_2.14.0/doc/api/html/d1/d23/normal__lpdf_8hpp_source.html\n",
      "/Users/fonnescj/anaconda3/envs/dev/lib/python3.6/site-packages/pystan/stan/lib/stan_math_2.14.0/doc/api/html/d2/d42/pareto__lpdf_8hpp.html\n",
      "/Users/fonnescj/anaconda3/envs/dev/lib/python3.6/site-packages/pystan/stan/lib/stan_math_2.14.0/doc/api/html/d2/d42/pareto__lpdf_8hpp_source.html\n",
      "/Users/fonnescj/anaconda3/envs/dev/lib/python3.6/site-packages/pystan/stan/lib/stan_math_2.14.0/doc/api/html/d4/d12/inv__gamma__lpdf_8hpp.html\n",
      "/Users/fonnescj/anaconda3/envs/dev/lib/python3.6/site-packages/pystan/stan/lib/stan_math_2.14.0/doc/api/html/d4/d12/inv__gamma__lpdf_8hpp_source.html\n",
      "/Users/fonnescj/anaconda3/envs/dev/lib/python3.6/site-packages/pystan/stan/lib/stan_math_2.14.0/doc/api/html/d4/d79/weibull__lpdf_8hpp.html\n",
      "/Users/fonnescj/anaconda3/envs/dev/lib/python3.6/site-packages/pystan/stan/lib/stan_math_2.14.0/doc/api/html/d4/d79/weibull__lpdf_8hpp_source.html\n",
      "/Users/fonnescj/anaconda3/envs/dev/lib/python3.6/site-packages/pystan/stan/lib/stan_math_2.14.0/doc/api/html/d4/de5/scaled__inv__chi__square__lpdf_8hpp.html\n",
      "/Users/fonnescj/anaconda3/envs/dev/lib/python3.6/site-packages/pystan/stan/lib/stan_math_2.14.0/doc/api/html/d4/de5/scaled__inv__chi__square__lpdf_8hpp_source.html\n",
      "/Users/fonnescj/anaconda3/envs/dev/lib/python3.6/site-packages/pystan/stan/lib/stan_math_2.14.0/doc/api/html/d5/d2f/wiener__lpdf_8hpp.html\n",
      "/Users/fonnescj/anaconda3/envs/dev/lib/python3.6/site-packages/pystan/stan/lib/stan_math_2.14.0/doc/api/html/d5/d2f/wiener__lpdf_8hpp_source.html\n",
      "/Users/fonnescj/anaconda3/envs/dev/lib/python3.6/site-packages/pystan/stan/lib/stan_math_2.14.0/doc/api/html/d5/d55/gamma__lpdf_8hpp.html\n",
      "/Users/fonnescj/anaconda3/envs/dev/lib/python3.6/site-packages/pystan/stan/lib/stan_math_2.14.0/doc/api/html/d5/d55/gamma__lpdf_8hpp_source.html\n",
      "/Users/fonnescj/anaconda3/envs/dev/lib/python3.6/site-packages/pystan/stan/lib/stan_math_2.14.0/doc/api/html/d5/d66/multi__student__t__lpdf_8hpp.html\n",
      "/Users/fonnescj/anaconda3/envs/dev/lib/python3.6/site-packages/pystan/stan/lib/stan_math_2.14.0/doc/api/html/d5/d66/multi__student__t__lpdf_8hpp_source.html\n",
      "/Users/fonnescj/anaconda3/envs/dev/lib/python3.6/site-packages/pystan/stan/lib/stan_math_2.14.0/doc/api/html/d6/d05/chi__square__lpdf_8hpp.html\n",
      "/Users/fonnescj/anaconda3/envs/dev/lib/python3.6/site-packages/pystan/stan/lib/stan_math_2.14.0/doc/api/html/d6/d05/chi__square__lpdf_8hpp_source.html\n",
      "/Users/fonnescj/anaconda3/envs/dev/lib/python3.6/site-packages/pystan/stan/lib/stan_math_2.14.0/doc/api/html/d6/d0d/uniform__lpdf_8hpp.html\n",
      "/Users/fonnescj/anaconda3/envs/dev/lib/python3.6/site-packages/pystan/stan/lib/stan_math_2.14.0/doc/api/html/d6/d0d/uniform__lpdf_8hpp_source.html\n",
      "/Users/fonnescj/anaconda3/envs/dev/lib/python3.6/site-packages/pystan/stan/lib/stan_math_2.14.0/doc/api/html/d6/d58/multi__normal__prec__lpdf_8hpp.html\n",
      "/Users/fonnescj/anaconda3/envs/dev/lib/python3.6/site-packages/pystan/stan/lib/stan_math_2.14.0/doc/api/html/d6/d58/multi__normal__prec__lpdf_8hpp_source.html\n",
      "/Users/fonnescj/anaconda3/envs/dev/lib/python3.6/site-packages/pystan/stan/lib/stan_math_2.14.0/doc/api/html/d6/d8c/lkj__cov__lpdf_8hpp.html\n",
      "/Users/fonnescj/anaconda3/envs/dev/lib/python3.6/site-packages/pystan/stan/lib/stan_math_2.14.0/doc/api/html/d6/d8c/lkj__cov__lpdf_8hpp_source.html\n",
      "/Users/fonnescj/anaconda3/envs/dev/lib/python3.6/site-packages/pystan/stan/lib/stan_math_2.14.0/doc/api/html/d7/d01/inv__chi__square__lpdf_8hpp.html\n",
      "/Users/fonnescj/anaconda3/envs/dev/lib/python3.6/site-packages/pystan/stan/lib/stan_math_2.14.0/doc/api/html/d7/d01/inv__chi__square__lpdf_8hpp_source.html\n",
      "/Users/fonnescj/anaconda3/envs/dev/lib/python3.6/site-packages/pystan/stan/lib/stan_math_2.14.0/doc/api/html/d7/d74/lkj__corr__cholesky__lpdf_8hpp.html\n",
      "/Users/fonnescj/anaconda3/envs/dev/lib/python3.6/site-packages/pystan/stan/lib/stan_math_2.14.0/doc/api/html/d7/d74/lkj__corr__cholesky__lpdf_8hpp_source.html\n",
      "/Users/fonnescj/anaconda3/envs/dev/lib/python3.6/site-packages/pystan/stan/lib/stan_math_2.14.0/doc/api/html/d7/dfb/skew__normal__lpdf_8hpp.html\n",
      "/Users/fonnescj/anaconda3/envs/dev/lib/python3.6/site-packages/pystan/stan/lib/stan_math_2.14.0/doc/api/html/d7/dfb/skew__normal__lpdf_8hpp_source.html\n",
      "/Users/fonnescj/anaconda3/envs/dev/lib/python3.6/site-packages/pystan/stan/lib/stan_math_2.14.0/doc/api/html/d8/d4e/frechet__lpdf_8hpp.html\n",
      "/Users/fonnescj/anaconda3/envs/dev/lib/python3.6/site-packages/pystan/stan/lib/stan_math_2.14.0/doc/api/html/d8/d4e/frechet__lpdf_8hpp_source.html\n",
      "/Users/fonnescj/anaconda3/envs/dev/lib/python3.6/site-packages/pystan/stan/lib/stan_math_2.14.0/doc/api/html/d8/d4e/inv__wishart__lpdf_8hpp.html\n",
      "/Users/fonnescj/anaconda3/envs/dev/lib/python3.6/site-packages/pystan/stan/lib/stan_math_2.14.0/doc/api/html/d8/d4e/inv__wishart__lpdf_8hpp_source.html\n",
      "/Users/fonnescj/anaconda3/envs/dev/lib/python3.6/site-packages/pystan/stan/lib/stan_math_2.14.0/doc/api/html/d8/d76/pareto__type__2__lpdf_8hpp.html\n",
      "/Users/fonnescj/anaconda3/envs/dev/lib/python3.6/site-packages/pystan/stan/lib/stan_math_2.14.0/doc/api/html/d8/d76/pareto__type__2__lpdf_8hpp_source.html\n",
      "/Users/fonnescj/anaconda3/envs/dev/lib/python3.6/site-packages/pystan/stan/lib/stan_math_2.14.0/doc/api/html/d8/dcc/multi__gp__lpdf_8hpp.html\n",
      "/Users/fonnescj/anaconda3/envs/dev/lib/python3.6/site-packages/pystan/stan/lib/stan_math_2.14.0/doc/api/html/d8/dcc/multi__gp__lpdf_8hpp_source.html\n",
      "/Users/fonnescj/anaconda3/envs/dev/lib/python3.6/site-packages/pystan/stan/lib/stan_math_2.14.0/doc/api/html/d8/df3/matrix__normal__prec__lpdf_8hpp.html\n",
      "/Users/fonnescj/anaconda3/envs/dev/lib/python3.6/site-packages/pystan/stan/lib/stan_math_2.14.0/doc/api/html/d8/df3/matrix__normal__prec__lpdf_8hpp_source.html\n",
      "/Users/fonnescj/anaconda3/envs/dev/lib/python3.6/site-packages/pystan/stan/lib/stan_math_2.14.0/doc/api/html/d9/d29/multi__normal__lpdf_8hpp.html\n",
      "/Users/fonnescj/anaconda3/envs/dev/lib/python3.6/site-packages/pystan/stan/lib/stan_math_2.14.0/doc/api/html/d9/d29/multi__normal__lpdf_8hpp_source.html\n",
      "/Users/fonnescj/anaconda3/envs/dev/lib/python3.6/site-packages/pystan/stan/lib/stan_math_2.14.0/doc/api/html/d9/df7/exponential__lpdf_8hpp.html\n",
      "/Users/fonnescj/anaconda3/envs/dev/lib/python3.6/site-packages/pystan/stan/lib/stan_math_2.14.0/doc/api/html/d9/df7/exponential__lpdf_8hpp_source.html\n",
      "/Users/fonnescj/anaconda3/envs/dev/lib/python3.6/site-packages/pystan/stan/lib/stan_math_2.14.0/doc/api/html/da/d5c/student__t__lpdf_8hpp.html\n",
      "/Users/fonnescj/anaconda3/envs/dev/lib/python3.6/site-packages/pystan/stan/lib/stan_math_2.14.0/doc/api/html/da/d5c/student__t__lpdf_8hpp_source.html\n",
      "/Users/fonnescj/anaconda3/envs/dev/lib/python3.6/site-packages/pystan/stan/lib/stan_math_2.14.0/doc/api/html/da/d7f/beta__lpdf_8hpp.html\n",
      "/Users/fonnescj/anaconda3/envs/dev/lib/python3.6/site-packages/pystan/stan/lib/stan_math_2.14.0/doc/api/html/da/d7f/beta__lpdf_8hpp_source.html\n",
      "/Users/fonnescj/anaconda3/envs/dev/lib/python3.6/site-packages/pystan/stan/lib/stan_math_2.14.0/doc/api/html/db/d4f/lkj__corr__lpdf_8hpp.html\n",
      "/Users/fonnescj/anaconda3/envs/dev/lib/python3.6/site-packages/pystan/stan/lib/stan_math_2.14.0/doc/api/html/db/d4f/lkj__corr__lpdf_8hpp_source.html\n",
      "/Users/fonnescj/anaconda3/envs/dev/lib/python3.6/site-packages/pystan/stan/lib/stan_math_2.14.0/doc/api/html/db/d67/gaussian__dlm__obs__lpdf_8hpp.html\n",
      "/Users/fonnescj/anaconda3/envs/dev/lib/python3.6/site-packages/pystan/stan/lib/stan_math_2.14.0/doc/api/html/db/d67/gaussian__dlm__obs__lpdf_8hpp_source.html\n",
      "/Users/fonnescj/anaconda3/envs/dev/lib/python3.6/site-packages/pystan/stan/lib/stan_math_2.14.0/doc/api/html/dc/d27/lognormal__lpdf_8hpp.html\n",
      "/Users/fonnescj/anaconda3/envs/dev/lib/python3.6/site-packages/pystan/stan/lib/stan_math_2.14.0/doc/api/html/dc/d27/lognormal__lpdf_8hpp_source.html\n",
      "/Users/fonnescj/anaconda3/envs/dev/lib/python3.6/site-packages/pystan/stan/lib/stan_math_2.14.0/doc/api/html/dd/d4e/gumbel__lpdf_8hpp.html\n",
      "/Users/fonnescj/anaconda3/envs/dev/lib/python3.6/site-packages/pystan/stan/lib/stan_math_2.14.0/doc/api/html/dd/d4e/gumbel__lpdf_8hpp_source.html\n",
      "/Users/fonnescj/anaconda3/envs/dev/lib/python3.6/site-packages/pystan/stan/lib/stan_math_2.14.0/doc/api/html/dd/d5c/multi__normal__cholesky__lpdf_8hpp.html\n",
      "/Users/fonnescj/anaconda3/envs/dev/lib/python3.6/site-packages/pystan/stan/lib/stan_math_2.14.0/doc/api/html/dd/d5c/multi__normal__cholesky__lpdf_8hpp_source.html\n",
      "/Users/fonnescj/anaconda3/envs/dev/lib/python3.6/site-packages/pystan/stan/lib/stan_math_2.14.0/doc/api/html/dd/d73/multi__gp__cholesky__lpdf_8hpp.html\n",
      "/Users/fonnescj/anaconda3/envs/dev/lib/python3.6/site-packages/pystan/stan/lib/stan_math_2.14.0/doc/api/html/dd/d73/multi__gp__cholesky__lpdf_8hpp_source.html\n",
      "/Users/fonnescj/anaconda3/envs/dev/lib/python3.6/site-packages/pystan/stan/lib/stan_math_2.14.0/doc/api/html/de/dba/double__exponential__lpdf_8hpp.html\n",
      "/Users/fonnescj/anaconda3/envs/dev/lib/python3.6/site-packages/pystan/stan/lib/stan_math_2.14.0/doc/api/html/de/dba/double__exponential__lpdf_8hpp_source.html\n",
      "/Users/fonnescj/anaconda3/envs/dev/lib/python3.6/site-packages/pystan/stan/lib/stan_math_2.14.0/doc/api/html/df/d4e/von__mises__lpdf_8hpp.html\n",
      "/Users/fonnescj/anaconda3/envs/dev/lib/python3.6/site-packages/pystan/stan/lib/stan_math_2.14.0/doc/api/html/df/d4e/von__mises__lpdf_8hpp_source.html\n",
      "/Users/fonnescj/anaconda3/envs/dev/lib/python3.6/site-packages/pystan/stan/lib/stan_math_2.14.0/doc/api/html/df/d51/rayleigh__lpdf_8hpp.html\n",
      "/Users/fonnescj/anaconda3/envs/dev/lib/python3.6/site-packages/pystan/stan/lib/stan_math_2.14.0/doc/api/html/df/d51/rayleigh__lpdf_8hpp_source.html\n",
      "/Users/fonnescj/anaconda3/envs/dev/lib/python3.6/site-packages/pystan/stan/lib/stan_math_2.14.0/doc/api/html/df/d6d/wishart__lpdf_8hpp.html\n",
      "/Users/fonnescj/anaconda3/envs/dev/lib/python3.6/site-packages/pystan/stan/lib/stan_math_2.14.0/doc/api/html/df/d6d/wishart__lpdf_8hpp_source.html\n",
      "/Users/fonnescj/anaconda3/envs/dev/lib/python3.6/site-packages/pystan/stan/lib/stan_math_2.14.0/doc/api/html/df/d92/cauchy__lpdf_8hpp.html\n",
      "/Users/fonnescj/anaconda3/envs/dev/lib/python3.6/site-packages/pystan/stan/lib/stan_math_2.14.0/doc/api/html/df/d92/cauchy__lpdf_8hpp_source.html\n",
      "/Users/fonnescj/anaconda3/envs/dev/lib/python3.6/site-packages/pystan/stan/lib/stan_math_2.14.0/doc/api/html/df/d96/exp__mod__normal__lpdf_8hpp.html\n",
      "/Users/fonnescj/anaconda3/envs/dev/lib/python3.6/site-packages/pystan/stan/lib/stan_math_2.14.0/doc/api/html/df/d96/exp__mod__normal__lpdf_8hpp_source.html\n",
      "/Users/fonnescj/anaconda3/envs/dev/lib/python3.6/site-packages/pystan/stan/lib/stan_math_2.14.0/lib/boost_1.62.0/boost/math/distributions/detail/hypergeometric_pdf.hpp\n"
     ]
    },
    {
     "name": "stdout",
     "output_type": "stream",
     "text": [
      "/Users/fonnescj/anaconda3/envs/dev/lib/python3.6/site-packages/pystan/stan/lib/stan_math_2.14.0/stan/math/prim/mat/prob/gaussian_dlm_obs_lpdf.hpp\n",
      "/Users/fonnescj/anaconda3/envs/dev/lib/python3.6/site-packages/pystan/stan/lib/stan_math_2.14.0/stan/math/prim/mat/prob/inv_wishart_lpdf.hpp\n",
      "/Users/fonnescj/anaconda3/envs/dev/lib/python3.6/site-packages/pystan/stan/lib/stan_math_2.14.0/stan/math/prim/mat/prob/lkj_corr_cholesky_lpdf.hpp\n",
      "/Users/fonnescj/anaconda3/envs/dev/lib/python3.6/site-packages/pystan/stan/lib/stan_math_2.14.0/stan/math/prim/mat/prob/lkj_corr_lpdf.hpp\n",
      "/Users/fonnescj/anaconda3/envs/dev/lib/python3.6/site-packages/pystan/stan/lib/stan_math_2.14.0/stan/math/prim/mat/prob/lkj_cov_lpdf.hpp\n",
      "/Users/fonnescj/anaconda3/envs/dev/lib/python3.6/site-packages/pystan/stan/lib/stan_math_2.14.0/stan/math/prim/mat/prob/matrix_normal_prec_lpdf.hpp\n",
      "/Users/fonnescj/anaconda3/envs/dev/lib/python3.6/site-packages/pystan/stan/lib/stan_math_2.14.0/stan/math/prim/mat/prob/multi_gp_cholesky_lpdf.hpp\n",
      "/Users/fonnescj/anaconda3/envs/dev/lib/python3.6/site-packages/pystan/stan/lib/stan_math_2.14.0/stan/math/prim/mat/prob/multi_gp_lpdf.hpp\n",
      "/Users/fonnescj/anaconda3/envs/dev/lib/python3.6/site-packages/pystan/stan/lib/stan_math_2.14.0/stan/math/prim/mat/prob/multi_normal_cholesky_lpdf.hpp\n",
      "/Users/fonnescj/anaconda3/envs/dev/lib/python3.6/site-packages/pystan/stan/lib/stan_math_2.14.0/stan/math/prim/mat/prob/multi_normal_lpdf.hpp\n",
      "/Users/fonnescj/anaconda3/envs/dev/lib/python3.6/site-packages/pystan/stan/lib/stan_math_2.14.0/stan/math/prim/mat/prob/multi_normal_prec_lpdf.hpp\n",
      "/Users/fonnescj/anaconda3/envs/dev/lib/python3.6/site-packages/pystan/stan/lib/stan_math_2.14.0/stan/math/prim/mat/prob/multi_student_t_lpdf.hpp\n",
      "/Users/fonnescj/anaconda3/envs/dev/lib/python3.6/site-packages/pystan/stan/lib/stan_math_2.14.0/stan/math/prim/mat/prob/wishart_lpdf.hpp\n",
      "/Users/fonnescj/anaconda3/envs/dev/lib/python3.6/site-packages/pystan/stan/lib/stan_math_2.14.0/stan/math/prim/scal/prob/beta_lpdf.hpp\n",
      "/Users/fonnescj/anaconda3/envs/dev/lib/python3.6/site-packages/pystan/stan/lib/stan_math_2.14.0/stan/math/prim/scal/prob/cauchy_lpdf.hpp\n",
      "/Users/fonnescj/anaconda3/envs/dev/lib/python3.6/site-packages/pystan/stan/lib/stan_math_2.14.0/stan/math/prim/scal/prob/chi_square_lpdf.hpp\n",
      "/Users/fonnescj/anaconda3/envs/dev/lib/python3.6/site-packages/pystan/stan/lib/stan_math_2.14.0/stan/math/prim/scal/prob/double_exponential_lpdf.hpp\n",
      "/Users/fonnescj/anaconda3/envs/dev/lib/python3.6/site-packages/pystan/stan/lib/stan_math_2.14.0/stan/math/prim/scal/prob/exp_mod_normal_lpdf.hpp\n",
      "/Users/fonnescj/anaconda3/envs/dev/lib/python3.6/site-packages/pystan/stan/lib/stan_math_2.14.0/stan/math/prim/scal/prob/exponential_lpdf.hpp\n",
      "/Users/fonnescj/anaconda3/envs/dev/lib/python3.6/site-packages/pystan/stan/lib/stan_math_2.14.0/stan/math/prim/scal/prob/frechet_lpdf.hpp\n",
      "/Users/fonnescj/anaconda3/envs/dev/lib/python3.6/site-packages/pystan/stan/lib/stan_math_2.14.0/stan/math/prim/scal/prob/gamma_lpdf.hpp\n",
      "/Users/fonnescj/anaconda3/envs/dev/lib/python3.6/site-packages/pystan/stan/lib/stan_math_2.14.0/stan/math/prim/scal/prob/gumbel_lpdf.hpp\n",
      "/Users/fonnescj/anaconda3/envs/dev/lib/python3.6/site-packages/pystan/stan/lib/stan_math_2.14.0/stan/math/prim/scal/prob/inv_chi_square_lpdf.hpp\n",
      "/Users/fonnescj/anaconda3/envs/dev/lib/python3.6/site-packages/pystan/stan/lib/stan_math_2.14.0/stan/math/prim/scal/prob/inv_gamma_lpdf.hpp\n",
      "/Users/fonnescj/anaconda3/envs/dev/lib/python3.6/site-packages/pystan/stan/lib/stan_math_2.14.0/stan/math/prim/scal/prob/logistic_lpdf.hpp\n",
      "/Users/fonnescj/anaconda3/envs/dev/lib/python3.6/site-packages/pystan/stan/lib/stan_math_2.14.0/stan/math/prim/scal/prob/lognormal_lpdf.hpp\n",
      "/Users/fonnescj/anaconda3/envs/dev/lib/python3.6/site-packages/pystan/stan/lib/stan_math_2.14.0/stan/math/prim/scal/prob/normal_lpdf.hpp\n",
      "/Users/fonnescj/anaconda3/envs/dev/lib/python3.6/site-packages/pystan/stan/lib/stan_math_2.14.0/stan/math/prim/scal/prob/pareto_lpdf.hpp\n",
      "/Users/fonnescj/anaconda3/envs/dev/lib/python3.6/site-packages/pystan/stan/lib/stan_math_2.14.0/stan/math/prim/scal/prob/pareto_type_2_lpdf.hpp\n",
      "/Users/fonnescj/anaconda3/envs/dev/lib/python3.6/site-packages/pystan/stan/lib/stan_math_2.14.0/stan/math/prim/scal/prob/rayleigh_lpdf.hpp\n",
      "/Users/fonnescj/anaconda3/envs/dev/lib/python3.6/site-packages/pystan/stan/lib/stan_math_2.14.0/stan/math/prim/scal/prob/scaled_inv_chi_square_lpdf.hpp\n",
      "/Users/fonnescj/anaconda3/envs/dev/lib/python3.6/site-packages/pystan/stan/lib/stan_math_2.14.0/stan/math/prim/scal/prob/skew_normal_lpdf.hpp\n",
      "/Users/fonnescj/anaconda3/envs/dev/lib/python3.6/site-packages/pystan/stan/lib/stan_math_2.14.0/stan/math/prim/scal/prob/student_t_lpdf.hpp\n",
      "/Users/fonnescj/anaconda3/envs/dev/lib/python3.6/site-packages/pystan/stan/lib/stan_math_2.14.0/stan/math/prim/scal/prob/uniform_lpdf.hpp\n",
      "/Users/fonnescj/anaconda3/envs/dev/lib/python3.6/site-packages/pystan/stan/lib/stan_math_2.14.0/stan/math/prim/scal/prob/von_mises_lpdf.hpp\n",
      "/Users/fonnescj/anaconda3/envs/dev/lib/python3.6/site-packages/pystan/stan/lib/stan_math_2.14.0/stan/math/prim/scal/prob/weibull_lpdf.hpp\n",
      "/Users/fonnescj/anaconda3/envs/dev/lib/python3.6/site-packages/pystan/stan/lib/stan_math_2.14.0/stan/math/prim/scal/prob/wiener_lpdf.hpp\n",
      "/Users/fonnescj/anaconda3/envs/dev/lib/python3.6/site-packages/pystan/stan/src/docs/stan-reference/img/change-point-posterior.pdf\n",
      "/Users/fonnescj/anaconda3/envs/dev/lib/python3.6/site-packages/pystan/stan/src/docs/stan-reference/img/s-discrete-posterior.pdf\n",
      "/Users/fonnescj/anaconda3/envs/dev/lib/python3.6/site-packages/pystan/stan/src/docs/stan-reference/img/sho-ode-trajectory.pdf\n",
      "/Users/fonnescj/anaconda3/envs/dev/lib/python3.6/site-packages/pystan/stan/src/docs/stan-reference/img/stanlogo-main.pdf\n",
      "/Users/fonnescj/anaconda3/envs/dev/lib/python3.6/site-packages/pystan/stan/src/docs/stan-reference/img/ulam-fermiac.pdf\n",
      "/Users/fonnescj/anaconda3/envs/dev/lib/python3.6/site-packages/pystan/stan/src/docs/stan-reference/programs/ode/sho/ode-path-plot.pdf\n",
      "/Users/fonnescj/anaconda3/envs/dev/lib/python3.6/site-packages/pystan/stan/src/docs/stan-reference/programs/ode/sho/sho-trajectory.pdf\n",
      "/Users/fonnescj/anaconda3/envs/dev/lib/python3.6/site-packages/pystan/stan/src/docs/talks/nyc-ml-meetup-2012/img/hamiltonian-path.pdf\n",
      "/Users/fonnescj/anaconda3/envs/dev/lib/python3.6/site-packages/pystan/stan/src/docs/talks/nyc-ml-meetup-2012/img/nuts-ess-1.pdf\n",
      "/Users/fonnescj/anaconda3/envs/dev/lib/python3.6/site-packages/pystan/stan/src/docs/talks/nyc-ml-meetup-2012/img/nuts-ess-2.pdf\n",
      "/Users/fonnescj/anaconda3/envs/dev/lib/python3.6/site-packages/pystan/stan/src/docs/talks/nyc-ml-meetup-2012/img/nuts-vs.pdf\n",
      "/Users/fonnescj/anaconda3/envs/dev/lib/python3.6/site-packages/pystan/stan/src/test/test-models/bad/real-pdf.stan\n",
      "/Users/fonnescj/anaconda3/envs/dev/lib/python3.6/site-packages/pystan/stan/src/test/test-models/good/fun-defs-lpdf.stan\n",
      "/Users/fonnescj/anaconda3/envs/dev/lib/python3.6/site-packages/pystan/stan/src/test/test-models/good/user-defined-lpdf-fun.stan\n",
      "/Users/fonnescj/anaconda3/envs/dev/lib/python3.6/site-packages/pystan/stan/src/test/test-models/good/var-ending-lpdf.stan\n",
      "/Users/fonnescj/anaconda3/envs/dev/lib/python3.6/site-packages/rise/static/reveal.js/css/print/pdf.css\n",
      "/Users/fonnescj/anaconda3/envs/dev/lib/python3.6/site-packages/rise/static/reveal.js/plugin/print-pdf\n",
      "/Users/fonnescj/anaconda3/envs/dev/lib/python3.6/site-packages/rise/static/reveal.js/plugin/print-pdf/print-pdf.js\n",
      "/Users/fonnescj/anaconda3/envs/dev/lib/python3.6/site-packages/rise/static/reveal.js/test/test-pdf.html\n",
      "/Users/fonnescj/anaconda3/envs/dev/lib/python3.6/site-packages/rise/static/reveal.js/test/test-pdf.js\n",
      "/Users/fonnescj/anaconda3/envs/gbs/lib/python3.5/site-packages/matplotlib/backends/__pycache__/backend_pdf.cpython-35.pyc\n",
      "/Users/fonnescj/anaconda3/envs/gbs/lib/python3.5/site-packages/matplotlib/backends/backend_pdf.py\n",
      "/Users/fonnescj/anaconda3/envs/gbs/lib/python3.5/site-packages/matplotlib/mpl-data/fonts/pdfcorefonts\n",
      "/Users/fonnescj/anaconda3/envs/gbs/lib/python3.5/site-packages/matplotlib/mpl-data/fonts/pdfcorefonts/Courier-Bold.afm\n",
      "/Users/fonnescj/anaconda3/envs/gbs/lib/python3.5/site-packages/matplotlib/mpl-data/fonts/pdfcorefonts/Courier-BoldOblique.afm\n",
      "/Users/fonnescj/anaconda3/envs/gbs/lib/python3.5/site-packages/matplotlib/mpl-data/fonts/pdfcorefonts/Courier-Oblique.afm\n",
      "/Users/fonnescj/anaconda3/envs/gbs/lib/python3.5/site-packages/matplotlib/mpl-data/fonts/pdfcorefonts/Courier.afm\n",
      "/Users/fonnescj/anaconda3/envs/gbs/lib/python3.5/site-packages/matplotlib/mpl-data/fonts/pdfcorefonts/Helvetica-Bold.afm\n",
      "/Users/fonnescj/anaconda3/envs/gbs/lib/python3.5/site-packages/matplotlib/mpl-data/fonts/pdfcorefonts/Helvetica-BoldOblique.afm\n",
      "/Users/fonnescj/anaconda3/envs/gbs/lib/python3.5/site-packages/matplotlib/mpl-data/fonts/pdfcorefonts/Helvetica-Oblique.afm\n",
      "/Users/fonnescj/anaconda3/envs/gbs/lib/python3.5/site-packages/matplotlib/mpl-data/fonts/pdfcorefonts/Helvetica.afm\n",
      "/Users/fonnescj/anaconda3/envs/gbs/lib/python3.5/site-packages/matplotlib/mpl-data/fonts/pdfcorefonts/Symbol.afm\n",
      "/Users/fonnescj/anaconda3/envs/gbs/lib/python3.5/site-packages/matplotlib/mpl-data/fonts/pdfcorefonts/Times-Bold.afm\n",
      "/Users/fonnescj/anaconda3/envs/gbs/lib/python3.5/site-packages/matplotlib/mpl-data/fonts/pdfcorefonts/Times-BoldItalic.afm\n",
      "/Users/fonnescj/anaconda3/envs/gbs/lib/python3.5/site-packages/matplotlib/mpl-data/fonts/pdfcorefonts/Times-Italic.afm\n",
      "/Users/fonnescj/anaconda3/envs/gbs/lib/python3.5/site-packages/matplotlib/mpl-data/fonts/pdfcorefonts/Times-Roman.afm\n",
      "/Users/fonnescj/anaconda3/envs/gbs/lib/python3.5/site-packages/matplotlib/mpl-data/fonts/pdfcorefonts/ZapfDingbats.afm\n",
      "/Users/fonnescj/anaconda3/envs/gbs/lib/python3.5/site-packages/matplotlib/mpl-data/fonts/pdfcorefonts/readme.txt\n",
      "/Users/fonnescj/anaconda3/envs/gbs/lib/python3.5/site-packages/matplotlib/mpl-data/images/back.pdf\n",
      "/Users/fonnescj/anaconda3/envs/gbs/lib/python3.5/site-packages/matplotlib/mpl-data/images/filesave.pdf\n",
      "/Users/fonnescj/anaconda3/envs/gbs/lib/python3.5/site-packages/matplotlib/mpl-data/images/forward.pdf\n",
      "/Users/fonnescj/anaconda3/envs/gbs/lib/python3.5/site-packages/matplotlib/mpl-data/images/hand.pdf\n",
      "/Users/fonnescj/anaconda3/envs/gbs/lib/python3.5/site-packages/matplotlib/mpl-data/images/home.pdf\n",
      "/Users/fonnescj/anaconda3/envs/gbs/lib/python3.5/site-packages/matplotlib/mpl-data/images/matplotlib.pdf\n",
      "/Users/fonnescj/anaconda3/envs/gbs/lib/python3.5/site-packages/matplotlib/mpl-data/images/move.pdf\n",
      "/Users/fonnescj/anaconda3/envs/gbs/lib/python3.5/site-packages/matplotlib/mpl-data/images/qt4_editor_options.pdf\n",
      "/Users/fonnescj/anaconda3/envs/gbs/lib/python3.5/site-packages/matplotlib/mpl-data/images/subplots.pdf\n",
      "/Users/fonnescj/anaconda3/envs/gbs/lib/python3.5/site-packages/matplotlib/mpl-data/images/zoom_to_rect.pdf\n",
      "/Users/fonnescj/anaconda3/envs/gbs/lib/python3.5/site-packages/nbconvert/exporters/__pycache__/pdf.cpython-35.pyc\n",
      "/Users/fonnescj/anaconda3/envs/gbs/lib/python3.5/site-packages/nbconvert/exporters/pdf.py\n",
      "/Users/fonnescj/anaconda3/envs/gbs/lib/python3.5/site-packages/nbconvert/exporters/tests/__pycache__/test_pdf.cpython-35.pyc\n",
      "/Users/fonnescj/anaconda3/envs/gbs/lib/python3.5/site-packages/nbconvert/exporters/tests/test_pdf.py\n",
      "/Users/fonnescj/anaconda3/envs/gbs/lib/python3.5/site-packages/nbconvert/preprocessors/__pycache__/svg2pdf.cpython-35.pyc\n",
      "/Users/fonnescj/anaconda3/envs/gbs/lib/python3.5/site-packages/nbconvert/preprocessors/svg2pdf.py\n",
      "/Users/fonnescj/anaconda3/envs/gbs/lib/python3.5/site-packages/nbconvert/preprocessors/tests/__pycache__/test_svg2pdf.cpython-35.pyc\n",
      "/Users/fonnescj/anaconda3/envs/gbs/lib/python3.5/site-packages/nbconvert/preprocessors/tests/test_svg2pdf.py\n"
     ]
    },
    {
     "name": "stdout",
     "output_type": "stream",
     "text": [
      "/Users/fonnescj/anaconda3/envs/hme/lib/python3.6/site-packages/matplotlib/backends/__pycache__/backend_pdf.cpython-36.pyc\n",
      "/Users/fonnescj/anaconda3/envs/hme/lib/python3.6/site-packages/matplotlib/backends/backend_pdf.py\n",
      "/Users/fonnescj/anaconda3/envs/hme/lib/python3.6/site-packages/matplotlib/mpl-data/fonts/pdfcorefonts\n",
      "/Users/fonnescj/anaconda3/envs/hme/lib/python3.6/site-packages/matplotlib/mpl-data/fonts/pdfcorefonts/Courier-Bold.afm\n",
      "/Users/fonnescj/anaconda3/envs/hme/lib/python3.6/site-packages/matplotlib/mpl-data/fonts/pdfcorefonts/Courier-BoldOblique.afm\n",
      "/Users/fonnescj/anaconda3/envs/hme/lib/python3.6/site-packages/matplotlib/mpl-data/fonts/pdfcorefonts/Courier-Oblique.afm\n",
      "/Users/fonnescj/anaconda3/envs/hme/lib/python3.6/site-packages/matplotlib/mpl-data/fonts/pdfcorefonts/Courier.afm\n",
      "/Users/fonnescj/anaconda3/envs/hme/lib/python3.6/site-packages/matplotlib/mpl-data/fonts/pdfcorefonts/Helvetica-Bold.afm\n",
      "/Users/fonnescj/anaconda3/envs/hme/lib/python3.6/site-packages/matplotlib/mpl-data/fonts/pdfcorefonts/Helvetica-BoldOblique.afm\n",
      "/Users/fonnescj/anaconda3/envs/hme/lib/python3.6/site-packages/matplotlib/mpl-data/fonts/pdfcorefonts/Helvetica-Oblique.afm\n",
      "/Users/fonnescj/anaconda3/envs/hme/lib/python3.6/site-packages/matplotlib/mpl-data/fonts/pdfcorefonts/Helvetica.afm\n",
      "/Users/fonnescj/anaconda3/envs/hme/lib/python3.6/site-packages/matplotlib/mpl-data/fonts/pdfcorefonts/Symbol.afm\n",
      "/Users/fonnescj/anaconda3/envs/hme/lib/python3.6/site-packages/matplotlib/mpl-data/fonts/pdfcorefonts/Times-Bold.afm\n",
      "/Users/fonnescj/anaconda3/envs/hme/lib/python3.6/site-packages/matplotlib/mpl-data/fonts/pdfcorefonts/Times-BoldItalic.afm\n",
      "/Users/fonnescj/anaconda3/envs/hme/lib/python3.6/site-packages/matplotlib/mpl-data/fonts/pdfcorefonts/Times-Italic.afm\n",
      "/Users/fonnescj/anaconda3/envs/hme/lib/python3.6/site-packages/matplotlib/mpl-data/fonts/pdfcorefonts/Times-Roman.afm\n",
      "/Users/fonnescj/anaconda3/envs/hme/lib/python3.6/site-packages/matplotlib/mpl-data/fonts/pdfcorefonts/ZapfDingbats.afm\n",
      "/Users/fonnescj/anaconda3/envs/hme/lib/python3.6/site-packages/matplotlib/mpl-data/fonts/pdfcorefonts/readme.txt\n",
      "/Users/fonnescj/anaconda3/envs/hme/lib/python3.6/site-packages/matplotlib/mpl-data/images/back.pdf\n",
      "/Users/fonnescj/anaconda3/envs/hme/lib/python3.6/site-packages/matplotlib/mpl-data/images/filesave.pdf\n",
      "/Users/fonnescj/anaconda3/envs/hme/lib/python3.6/site-packages/matplotlib/mpl-data/images/forward.pdf\n",
      "/Users/fonnescj/anaconda3/envs/hme/lib/python3.6/site-packages/matplotlib/mpl-data/images/hand.pdf\n",
      "/Users/fonnescj/anaconda3/envs/hme/lib/python3.6/site-packages/matplotlib/mpl-data/images/home.pdf\n",
      "/Users/fonnescj/anaconda3/envs/hme/lib/python3.6/site-packages/matplotlib/mpl-data/images/matplotlib.pdf\n",
      "/Users/fonnescj/anaconda3/envs/hme/lib/python3.6/site-packages/matplotlib/mpl-data/images/move.pdf\n",
      "/Users/fonnescj/anaconda3/envs/hme/lib/python3.6/site-packages/matplotlib/mpl-data/images/qt4_editor_options.pdf\n",
      "/Users/fonnescj/anaconda3/envs/hme/lib/python3.6/site-packages/matplotlib/mpl-data/images/subplots.pdf\n",
      "/Users/fonnescj/anaconda3/envs/hme/lib/python3.6/site-packages/matplotlib/mpl-data/images/zoom_to_rect.pdf\n",
      "/Users/fonnescj/anaconda3/envs/hme/lib/python3.6/site-packages/matplotlib/mpl-data/sample_data/None_vs_nearest-pdf.png\n",
      "/Users/fonnescj/anaconda3/envs/hme/lib/python3.6/site-packages/nbconvert/exporters/__pycache__/pdf.cpython-36.pyc\n",
      "/Users/fonnescj/anaconda3/envs/hme/lib/python3.6/site-packages/nbconvert/exporters/pdf.py\n",
      "/Users/fonnescj/anaconda3/envs/hme/lib/python3.6/site-packages/nbconvert/exporters/tests/__pycache__/test_pdf.cpython-36.pyc\n",
      "/Users/fonnescj/anaconda3/envs/hme/lib/python3.6/site-packages/nbconvert/exporters/tests/test_pdf.py\n",
      "/Users/fonnescj/anaconda3/envs/hme/lib/python3.6/site-packages/nbconvert/preprocessors/__pycache__/svg2pdf.cpython-36.pyc\n",
      "/Users/fonnescj/anaconda3/envs/hme/lib/python3.6/site-packages/nbconvert/preprocessors/svg2pdf.py\n",
      "/Users/fonnescj/anaconda3/envs/hme/lib/python3.6/site-packages/nbconvert/preprocessors/tests/__pycache__/test_svg2pdf.cpython-36.pyc\n",
      "/Users/fonnescj/anaconda3/envs/hme/lib/python3.6/site-packages/nbconvert/preprocessors/tests/test_svg2pdf.py\n",
      "/Users/fonnescj/anaconda3/envs/mongolia/lib/python3.5/site-packages/jupyter_contrib_nbextensions/nbconvert_support/__pycache__/pre_svg2pdf.cpython-35.pyc\n",
      "/Users/fonnescj/anaconda3/envs/mongolia/lib/python3.5/site-packages/jupyter_contrib_nbextensions/nbconvert_support/pre_svg2pdf.py\n",
      "/Users/fonnescj/anaconda3/envs/mongolia/lib/python3.5/site-packages/jupyter_contrib_nbextensions/nbextensions/highlighter/export_highlights.pdf\n",
      "/Users/fonnescj/anaconda3/envs/mongolia/lib/python3.5/site-packages/jupyter_contrib_nbextensions/nbextensions/highlighter/tst_highlights.pdf\n",
      "/Users/fonnescj/anaconda3/envs/mongolia/lib/python3.5/site-packages/latex_envs/static/doc/documentation.pdf\n",
      "/Users/fonnescj/anaconda3/envs/mongolia/lib/python3.5/site-packages/matplotlib/backends/__pycache__/backend_pdf.cpython-35.pyc\n",
      "/Users/fonnescj/anaconda3/envs/mongolia/lib/python3.5/site-packages/matplotlib/backends/backend_pdf.py\n",
      "/Users/fonnescj/anaconda3/envs/mongolia/lib/python3.5/site-packages/matplotlib/mpl-data/fonts/pdfcorefonts\n",
      "/Users/fonnescj/anaconda3/envs/mongolia/lib/python3.5/site-packages/matplotlib/mpl-data/fonts/pdfcorefonts/Courier-Bold.afm\n",
      "/Users/fonnescj/anaconda3/envs/mongolia/lib/python3.5/site-packages/matplotlib/mpl-data/fonts/pdfcorefonts/Courier-BoldOblique.afm\n",
      "/Users/fonnescj/anaconda3/envs/mongolia/lib/python3.5/site-packages/matplotlib/mpl-data/fonts/pdfcorefonts/Courier-Oblique.afm\n",
      "/Users/fonnescj/anaconda3/envs/mongolia/lib/python3.5/site-packages/matplotlib/mpl-data/fonts/pdfcorefonts/Courier.afm\n",
      "/Users/fonnescj/anaconda3/envs/mongolia/lib/python3.5/site-packages/matplotlib/mpl-data/fonts/pdfcorefonts/Helvetica-Bold.afm\n",
      "/Users/fonnescj/anaconda3/envs/mongolia/lib/python3.5/site-packages/matplotlib/mpl-data/fonts/pdfcorefonts/Helvetica-BoldOblique.afm\n",
      "/Users/fonnescj/anaconda3/envs/mongolia/lib/python3.5/site-packages/matplotlib/mpl-data/fonts/pdfcorefonts/Helvetica-Oblique.afm\n",
      "/Users/fonnescj/anaconda3/envs/mongolia/lib/python3.5/site-packages/matplotlib/mpl-data/fonts/pdfcorefonts/Helvetica.afm\n",
      "/Users/fonnescj/anaconda3/envs/mongolia/lib/python3.5/site-packages/matplotlib/mpl-data/fonts/pdfcorefonts/Symbol.afm\n",
      "/Users/fonnescj/anaconda3/envs/mongolia/lib/python3.5/site-packages/matplotlib/mpl-data/fonts/pdfcorefonts/Times-Bold.afm\n",
      "/Users/fonnescj/anaconda3/envs/mongolia/lib/python3.5/site-packages/matplotlib/mpl-data/fonts/pdfcorefonts/Times-BoldItalic.afm\n",
      "/Users/fonnescj/anaconda3/envs/mongolia/lib/python3.5/site-packages/matplotlib/mpl-data/fonts/pdfcorefonts/Times-Italic.afm\n",
      "/Users/fonnescj/anaconda3/envs/mongolia/lib/python3.5/site-packages/matplotlib/mpl-data/fonts/pdfcorefonts/Times-Roman.afm\n",
      "/Users/fonnescj/anaconda3/envs/mongolia/lib/python3.5/site-packages/matplotlib/mpl-data/fonts/pdfcorefonts/ZapfDingbats.afm\n",
      "/Users/fonnescj/anaconda3/envs/mongolia/lib/python3.5/site-packages/matplotlib/mpl-data/fonts/pdfcorefonts/readme.txt\n",
      "/Users/fonnescj/anaconda3/envs/mongolia/lib/python3.5/site-packages/matplotlib/mpl-data/images/back.pdf\n",
      "/Users/fonnescj/anaconda3/envs/mongolia/lib/python3.5/site-packages/matplotlib/mpl-data/images/filesave.pdf\n",
      "/Users/fonnescj/anaconda3/envs/mongolia/lib/python3.5/site-packages/matplotlib/mpl-data/images/forward.pdf\n",
      "/Users/fonnescj/anaconda3/envs/mongolia/lib/python3.5/site-packages/matplotlib/mpl-data/images/hand.pdf\n",
      "/Users/fonnescj/anaconda3/envs/mongolia/lib/python3.5/site-packages/matplotlib/mpl-data/images/home.pdf\n",
      "/Users/fonnescj/anaconda3/envs/mongolia/lib/python3.5/site-packages/matplotlib/mpl-data/images/matplotlib.pdf\n",
      "/Users/fonnescj/anaconda3/envs/mongolia/lib/python3.5/site-packages/matplotlib/mpl-data/images/move.pdf\n",
      "/Users/fonnescj/anaconda3/envs/mongolia/lib/python3.5/site-packages/matplotlib/mpl-data/images/qt4_editor_options.pdf\n",
      "/Users/fonnescj/anaconda3/envs/mongolia/lib/python3.5/site-packages/matplotlib/mpl-data/images/subplots.pdf\n",
      "/Users/fonnescj/anaconda3/envs/mongolia/lib/python3.5/site-packages/matplotlib/mpl-data/images/zoom_to_rect.pdf\n",
      "/Users/fonnescj/anaconda3/envs/mongolia/lib/python3.5/site-packages/nbconvert/exporters/__pycache__/pdf.cpython-35.pyc\n",
      "/Users/fonnescj/anaconda3/envs/mongolia/lib/python3.5/site-packages/nbconvert/exporters/pdf.py\n",
      "/Users/fonnescj/anaconda3/envs/mongolia/lib/python3.5/site-packages/nbconvert/exporters/tests/__pycache__/test_pdf.cpython-35.pyc\n",
      "/Users/fonnescj/anaconda3/envs/mongolia/lib/python3.5/site-packages/nbconvert/exporters/tests/test_pdf.py\n",
      "/Users/fonnescj/anaconda3/envs/mongolia/lib/python3.5/site-packages/nbconvert/preprocessors/__pycache__/svg2pdf.cpython-35.pyc\n",
      "/Users/fonnescj/anaconda3/envs/mongolia/lib/python3.5/site-packages/nbconvert/preprocessors/svg2pdf.py\n",
      "/Users/fonnescj/anaconda3/envs/mongolia/lib/python3.5/site-packages/nbconvert/preprocessors/tests/__pycache__/test_svg2pdf.cpython-35.pyc\n",
      "/Users/fonnescj/anaconda3/envs/mongolia/lib/python3.5/site-packages/nbconvert/preprocessors/tests/test_svg2pdf.py\n"
     ]
    },
    {
     "name": "stdout",
     "output_type": "stream",
     "text": [
      "/Users/fonnescj/anaconda3/envs/ngcm/lib/python3.6/site-packages/matplotlib/backends/__pycache__/backend_pdf.cpython-36.pyc\n",
      "/Users/fonnescj/anaconda3/envs/ngcm/lib/python3.6/site-packages/matplotlib/backends/backend_pdf.py\n",
      "/Users/fonnescj/anaconda3/envs/ngcm/lib/python3.6/site-packages/matplotlib/mpl-data/fonts/pdfcorefonts\n",
      "/Users/fonnescj/anaconda3/envs/ngcm/lib/python3.6/site-packages/matplotlib/mpl-data/fonts/pdfcorefonts/Courier-Bold.afm\n",
      "/Users/fonnescj/anaconda3/envs/ngcm/lib/python3.6/site-packages/matplotlib/mpl-data/fonts/pdfcorefonts/Courier-BoldOblique.afm\n",
      "/Users/fonnescj/anaconda3/envs/ngcm/lib/python3.6/site-packages/matplotlib/mpl-data/fonts/pdfcorefonts/Courier-Oblique.afm\n",
      "/Users/fonnescj/anaconda3/envs/ngcm/lib/python3.6/site-packages/matplotlib/mpl-data/fonts/pdfcorefonts/Courier.afm\n",
      "/Users/fonnescj/anaconda3/envs/ngcm/lib/python3.6/site-packages/matplotlib/mpl-data/fonts/pdfcorefonts/Helvetica-Bold.afm\n",
      "/Users/fonnescj/anaconda3/envs/ngcm/lib/python3.6/site-packages/matplotlib/mpl-data/fonts/pdfcorefonts/Helvetica-BoldOblique.afm\n",
      "/Users/fonnescj/anaconda3/envs/ngcm/lib/python3.6/site-packages/matplotlib/mpl-data/fonts/pdfcorefonts/Helvetica-Oblique.afm\n",
      "/Users/fonnescj/anaconda3/envs/ngcm/lib/python3.6/site-packages/matplotlib/mpl-data/fonts/pdfcorefonts/Helvetica.afm\n",
      "/Users/fonnescj/anaconda3/envs/ngcm/lib/python3.6/site-packages/matplotlib/mpl-data/fonts/pdfcorefonts/Symbol.afm\n",
      "/Users/fonnescj/anaconda3/envs/ngcm/lib/python3.6/site-packages/matplotlib/mpl-data/fonts/pdfcorefonts/Times-Bold.afm\n",
      "/Users/fonnescj/anaconda3/envs/ngcm/lib/python3.6/site-packages/matplotlib/mpl-data/fonts/pdfcorefonts/Times-BoldItalic.afm\n",
      "/Users/fonnescj/anaconda3/envs/ngcm/lib/python3.6/site-packages/matplotlib/mpl-data/fonts/pdfcorefonts/Times-Italic.afm\n",
      "/Users/fonnescj/anaconda3/envs/ngcm/lib/python3.6/site-packages/matplotlib/mpl-data/fonts/pdfcorefonts/Times-Roman.afm\n",
      "/Users/fonnescj/anaconda3/envs/ngcm/lib/python3.6/site-packages/matplotlib/mpl-data/fonts/pdfcorefonts/ZapfDingbats.afm\n",
      "/Users/fonnescj/anaconda3/envs/ngcm/lib/python3.6/site-packages/matplotlib/mpl-data/fonts/pdfcorefonts/readme.txt\n",
      "/Users/fonnescj/anaconda3/envs/ngcm/lib/python3.6/site-packages/matplotlib/mpl-data/images/back.pdf\n",
      "/Users/fonnescj/anaconda3/envs/ngcm/lib/python3.6/site-packages/matplotlib/mpl-data/images/filesave.pdf\n",
      "/Users/fonnescj/anaconda3/envs/ngcm/lib/python3.6/site-packages/matplotlib/mpl-data/images/forward.pdf\n",
      "/Users/fonnescj/anaconda3/envs/ngcm/lib/python3.6/site-packages/matplotlib/mpl-data/images/hand.pdf\n",
      "/Users/fonnescj/anaconda3/envs/ngcm/lib/python3.6/site-packages/matplotlib/mpl-data/images/home.pdf\n",
      "/Users/fonnescj/anaconda3/envs/ngcm/lib/python3.6/site-packages/matplotlib/mpl-data/images/matplotlib.pdf\n",
      "/Users/fonnescj/anaconda3/envs/ngcm/lib/python3.6/site-packages/matplotlib/mpl-data/images/move.pdf\n",
      "/Users/fonnescj/anaconda3/envs/ngcm/lib/python3.6/site-packages/matplotlib/mpl-data/images/qt4_editor_options.pdf\n",
      "/Users/fonnescj/anaconda3/envs/ngcm/lib/python3.6/site-packages/matplotlib/mpl-data/images/subplots.pdf\n",
      "/Users/fonnescj/anaconda3/envs/ngcm/lib/python3.6/site-packages/matplotlib/mpl-data/images/zoom_to_rect.pdf\n",
      "/Users/fonnescj/anaconda3/envs/ngcm/lib/python3.6/site-packages/nbconvert/exporters/__pycache__/pdf.cpython-36.pyc\n",
      "/Users/fonnescj/anaconda3/envs/ngcm/lib/python3.6/site-packages/nbconvert/exporters/pdf.py\n",
      "/Users/fonnescj/anaconda3/envs/ngcm/lib/python3.6/site-packages/nbconvert/exporters/tests/__pycache__/test_pdf.cpython-36.pyc\n",
      "/Users/fonnescj/anaconda3/envs/ngcm/lib/python3.6/site-packages/nbconvert/exporters/tests/test_pdf.py\n",
      "/Users/fonnescj/anaconda3/envs/ngcm/lib/python3.6/site-packages/nbconvert/preprocessors/__pycache__/svg2pdf.cpython-36.pyc\n",
      "/Users/fonnescj/anaconda3/envs/ngcm/lib/python3.6/site-packages/nbconvert/preprocessors/svg2pdf.py\n",
      "/Users/fonnescj/anaconda3/envs/ngcm/lib/python3.6/site-packages/nbconvert/preprocessors/tests/__pycache__/test_svg2pdf.cpython-36.pyc\n",
      "/Users/fonnescj/anaconda3/envs/ngcm/lib/python3.6/site-packages/nbconvert/preprocessors/tests/test_svg2pdf.py\n",
      "/Users/fonnescj/anaconda3/envs/pymc_tutorial/lib/python3.5/site-packages/matplotlib/backends/__pycache__/backend_pdf.cpython-35.pyc\n",
      "/Users/fonnescj/anaconda3/envs/pymc_tutorial/lib/python3.5/site-packages/matplotlib/backends/backend_pdf.py\n",
      "/Users/fonnescj/anaconda3/envs/pymc_tutorial/lib/python3.5/site-packages/matplotlib/mpl-data/fonts/pdfcorefonts\n",
      "/Users/fonnescj/anaconda3/envs/pymc_tutorial/lib/python3.5/site-packages/matplotlib/mpl-data/fonts/pdfcorefonts/Courier-Bold.afm\n",
      "/Users/fonnescj/anaconda3/envs/pymc_tutorial/lib/python3.5/site-packages/matplotlib/mpl-data/fonts/pdfcorefonts/Courier-BoldOblique.afm\n",
      "/Users/fonnescj/anaconda3/envs/pymc_tutorial/lib/python3.5/site-packages/matplotlib/mpl-data/fonts/pdfcorefonts/Courier-Oblique.afm\n",
      "/Users/fonnescj/anaconda3/envs/pymc_tutorial/lib/python3.5/site-packages/matplotlib/mpl-data/fonts/pdfcorefonts/Courier.afm\n",
      "/Users/fonnescj/anaconda3/envs/pymc_tutorial/lib/python3.5/site-packages/matplotlib/mpl-data/fonts/pdfcorefonts/Helvetica-Bold.afm\n",
      "/Users/fonnescj/anaconda3/envs/pymc_tutorial/lib/python3.5/site-packages/matplotlib/mpl-data/fonts/pdfcorefonts/Helvetica-BoldOblique.afm\n",
      "/Users/fonnescj/anaconda3/envs/pymc_tutorial/lib/python3.5/site-packages/matplotlib/mpl-data/fonts/pdfcorefonts/Helvetica-Oblique.afm\n",
      "/Users/fonnescj/anaconda3/envs/pymc_tutorial/lib/python3.5/site-packages/matplotlib/mpl-data/fonts/pdfcorefonts/Helvetica.afm\n",
      "/Users/fonnescj/anaconda3/envs/pymc_tutorial/lib/python3.5/site-packages/matplotlib/mpl-data/fonts/pdfcorefonts/Symbol.afm\n",
      "/Users/fonnescj/anaconda3/envs/pymc_tutorial/lib/python3.5/site-packages/matplotlib/mpl-data/fonts/pdfcorefonts/Times-Bold.afm\n",
      "/Users/fonnescj/anaconda3/envs/pymc_tutorial/lib/python3.5/site-packages/matplotlib/mpl-data/fonts/pdfcorefonts/Times-BoldItalic.afm\n",
      "/Users/fonnescj/anaconda3/envs/pymc_tutorial/lib/python3.5/site-packages/matplotlib/mpl-data/fonts/pdfcorefonts/Times-Italic.afm\n",
      "/Users/fonnescj/anaconda3/envs/pymc_tutorial/lib/python3.5/site-packages/matplotlib/mpl-data/fonts/pdfcorefonts/Times-Roman.afm\n",
      "/Users/fonnescj/anaconda3/envs/pymc_tutorial/lib/python3.5/site-packages/matplotlib/mpl-data/fonts/pdfcorefonts/ZapfDingbats.afm\n",
      "/Users/fonnescj/anaconda3/envs/pymc_tutorial/lib/python3.5/site-packages/matplotlib/mpl-data/fonts/pdfcorefonts/readme.txt\n",
      "/Users/fonnescj/anaconda3/envs/pymc_tutorial/lib/python3.5/site-packages/matplotlib/mpl-data/images/back.pdf\n",
      "/Users/fonnescj/anaconda3/envs/pymc_tutorial/lib/python3.5/site-packages/matplotlib/mpl-data/images/filesave.pdf\n",
      "/Users/fonnescj/anaconda3/envs/pymc_tutorial/lib/python3.5/site-packages/matplotlib/mpl-data/images/forward.pdf\n",
      "/Users/fonnescj/anaconda3/envs/pymc_tutorial/lib/python3.5/site-packages/matplotlib/mpl-data/images/hand.pdf\n",
      "/Users/fonnescj/anaconda3/envs/pymc_tutorial/lib/python3.5/site-packages/matplotlib/mpl-data/images/home.pdf\n",
      "/Users/fonnescj/anaconda3/envs/pymc_tutorial/lib/python3.5/site-packages/matplotlib/mpl-data/images/matplotlib.pdf\n",
      "/Users/fonnescj/anaconda3/envs/pymc_tutorial/lib/python3.5/site-packages/matplotlib/mpl-data/images/move.pdf\n",
      "/Users/fonnescj/anaconda3/envs/pymc_tutorial/lib/python3.5/site-packages/matplotlib/mpl-data/images/qt4_editor_options.pdf\n",
      "/Users/fonnescj/anaconda3/envs/pymc_tutorial/lib/python3.5/site-packages/matplotlib/mpl-data/images/subplots.pdf\n",
      "/Users/fonnescj/anaconda3/envs/pymc_tutorial/lib/python3.5/site-packages/matplotlib/mpl-data/images/zoom_to_rect.pdf\n",
      "/Users/fonnescj/anaconda3/envs/pymc_tutorial/lib/python3.5/site-packages/nbconvert/exporters/__pycache__/pdf.cpython-35.pyc\n",
      "/Users/fonnescj/anaconda3/envs/pymc_tutorial/lib/python3.5/site-packages/nbconvert/exporters/pdf.py\n",
      "/Users/fonnescj/anaconda3/envs/pymc_tutorial/lib/python3.5/site-packages/nbconvert/exporters/tests/__pycache__/test_pdf.cpython-35.pyc\n",
      "/Users/fonnescj/anaconda3/envs/pymc_tutorial/lib/python3.5/site-packages/nbconvert/exporters/tests/test_pdf.py\n",
      "/Users/fonnescj/anaconda3/envs/pymc_tutorial/lib/python3.5/site-packages/nbconvert/preprocessors/__pycache__/svg2pdf.cpython-35.pyc\n",
      "/Users/fonnescj/anaconda3/envs/pymc_tutorial/lib/python3.5/site-packages/nbconvert/preprocessors/svg2pdf.py\n",
      "/Users/fonnescj/anaconda3/envs/pymc_tutorial/lib/python3.5/site-packages/nbconvert/preprocessors/tests/__pycache__/test_svg2pdf.cpython-35.pyc\n",
      "/Users/fonnescj/anaconda3/envs/pymc_tutorial/lib/python3.5/site-packages/nbconvert/preprocessors/tests/test_svg2pdf.py\n"
     ]
    },
    {
     "name": "stdout",
     "output_type": "stream",
     "text": [
      "/Users/fonnescj/anaconda3/envs/scratch/lib/python3.5/site-packages/matplotlib/backends/__pycache__/backend_pdf.cpython-35.pyc\n",
      "/Users/fonnescj/anaconda3/envs/scratch/lib/python3.5/site-packages/matplotlib/backends/backend_pdf.py\n",
      "/Users/fonnescj/anaconda3/envs/scratch/lib/python3.5/site-packages/matplotlib/mpl-data/fonts/pdfcorefonts\n",
      "/Users/fonnescj/anaconda3/envs/scratch/lib/python3.5/site-packages/matplotlib/mpl-data/fonts/pdfcorefonts/Courier-Bold.afm\n",
      "/Users/fonnescj/anaconda3/envs/scratch/lib/python3.5/site-packages/matplotlib/mpl-data/fonts/pdfcorefonts/Courier-BoldOblique.afm\n",
      "/Users/fonnescj/anaconda3/envs/scratch/lib/python3.5/site-packages/matplotlib/mpl-data/fonts/pdfcorefonts/Courier-Oblique.afm\n",
      "/Users/fonnescj/anaconda3/envs/scratch/lib/python3.5/site-packages/matplotlib/mpl-data/fonts/pdfcorefonts/Courier.afm\n",
      "/Users/fonnescj/anaconda3/envs/scratch/lib/python3.5/site-packages/matplotlib/mpl-data/fonts/pdfcorefonts/Helvetica-Bold.afm\n",
      "/Users/fonnescj/anaconda3/envs/scratch/lib/python3.5/site-packages/matplotlib/mpl-data/fonts/pdfcorefonts/Helvetica-BoldOblique.afm\n",
      "/Users/fonnescj/anaconda3/envs/scratch/lib/python3.5/site-packages/matplotlib/mpl-data/fonts/pdfcorefonts/Helvetica-Oblique.afm\n",
      "/Users/fonnescj/anaconda3/envs/scratch/lib/python3.5/site-packages/matplotlib/mpl-data/fonts/pdfcorefonts/Helvetica.afm\n",
      "/Users/fonnescj/anaconda3/envs/scratch/lib/python3.5/site-packages/matplotlib/mpl-data/fonts/pdfcorefonts/Symbol.afm\n",
      "/Users/fonnescj/anaconda3/envs/scratch/lib/python3.5/site-packages/matplotlib/mpl-data/fonts/pdfcorefonts/Times-Bold.afm\n",
      "/Users/fonnescj/anaconda3/envs/scratch/lib/python3.5/site-packages/matplotlib/mpl-data/fonts/pdfcorefonts/Times-BoldItalic.afm\n",
      "/Users/fonnescj/anaconda3/envs/scratch/lib/python3.5/site-packages/matplotlib/mpl-data/fonts/pdfcorefonts/Times-Italic.afm\n",
      "/Users/fonnescj/anaconda3/envs/scratch/lib/python3.5/site-packages/matplotlib/mpl-data/fonts/pdfcorefonts/Times-Roman.afm\n",
      "/Users/fonnescj/anaconda3/envs/scratch/lib/python3.5/site-packages/matplotlib/mpl-data/fonts/pdfcorefonts/ZapfDingbats.afm\n",
      "/Users/fonnescj/anaconda3/envs/scratch/lib/python3.5/site-packages/matplotlib/mpl-data/fonts/pdfcorefonts/readme.txt\n",
      "/Users/fonnescj/anaconda3/envs/scratch/lib/python3.5/site-packages/matplotlib/mpl-data/images/back.pdf\n",
      "/Users/fonnescj/anaconda3/envs/scratch/lib/python3.5/site-packages/matplotlib/mpl-data/images/filesave.pdf\n",
      "/Users/fonnescj/anaconda3/envs/scratch/lib/python3.5/site-packages/matplotlib/mpl-data/images/forward.pdf\n",
      "/Users/fonnescj/anaconda3/envs/scratch/lib/python3.5/site-packages/matplotlib/mpl-data/images/hand.pdf\n",
      "/Users/fonnescj/anaconda3/envs/scratch/lib/python3.5/site-packages/matplotlib/mpl-data/images/home.pdf\n",
      "/Users/fonnescj/anaconda3/envs/scratch/lib/python3.5/site-packages/matplotlib/mpl-data/images/matplotlib.pdf\n",
      "/Users/fonnescj/anaconda3/envs/scratch/lib/python3.5/site-packages/matplotlib/mpl-data/images/move.pdf\n",
      "/Users/fonnescj/anaconda3/envs/scratch/lib/python3.5/site-packages/matplotlib/mpl-data/images/qt4_editor_options.pdf\n",
      "/Users/fonnescj/anaconda3/envs/scratch/lib/python3.5/site-packages/matplotlib/mpl-data/images/subplots.pdf\n",
      "/Users/fonnescj/anaconda3/envs/scratch/lib/python3.5/site-packages/matplotlib/mpl-data/images/zoom_to_rect.pdf\n",
      "/Users/fonnescj/anaconda3/envs/scratch/lib/python3.5/site-packages/matplotlib/mpl-data/sample_data/None_vs_nearest-pdf.png\n",
      "/Users/fonnescj/anaconda3/envs/scratch/lib/python3.5/site-packages/matplotlib/tests/__pycache__/test_backend_pdf.cpython-35.pyc\n",
      "/Users/fonnescj/anaconda3/envs/scratch/lib/python3.5/site-packages/matplotlib/tests/test_backend_pdf.py\n",
      "/Users/fonnescj/anaconda3/envs/scratch/lib/python3.5/site-packages/mpl_toolkits/tests/baseline_images/test_axes_grid1/divider_append_axes.pdf\n",
      "/Users/fonnescj/anaconda3/envs/scratch/lib/python3.5/site-packages/mpl_toolkits/tests/baseline_images/test_mplot3d/bar3d.pdf\n",
      "/Users/fonnescj/anaconda3/envs/scratch/lib/python3.5/site-packages/mpl_toolkits/tests/baseline_images/test_mplot3d/contour3d.pdf\n",
      "/Users/fonnescj/anaconda3/envs/scratch/lib/python3.5/site-packages/mpl_toolkits/tests/baseline_images/test_mplot3d/contourf3d.pdf\n",
      "/Users/fonnescj/anaconda3/envs/scratch/lib/python3.5/site-packages/mpl_toolkits/tests/baseline_images/test_mplot3d/contourf3d_fill.pdf\n",
      "/Users/fonnescj/anaconda3/envs/scratch/lib/python3.5/site-packages/mpl_toolkits/tests/baseline_images/test_mplot3d/lines3d.pdf\n",
      "/Users/fonnescj/anaconda3/envs/scratch/lib/python3.5/site-packages/mpl_toolkits/tests/baseline_images/test_mplot3d/mixedsubplot.pdf\n",
      "/Users/fonnescj/anaconda3/envs/scratch/lib/python3.5/site-packages/mpl_toolkits/tests/baseline_images/test_mplot3d/quiver3d.pdf\n",
      "/Users/fonnescj/anaconda3/envs/scratch/lib/python3.5/site-packages/mpl_toolkits/tests/baseline_images/test_mplot3d/quiver3d_empty.pdf\n",
      "/Users/fonnescj/anaconda3/envs/scratch/lib/python3.5/site-packages/mpl_toolkits/tests/baseline_images/test_mplot3d/quiver3d_masked.pdf\n",
      "/Users/fonnescj/anaconda3/envs/scratch/lib/python3.5/site-packages/mpl_toolkits/tests/baseline_images/test_mplot3d/scatter3d.pdf\n",
      "/Users/fonnescj/anaconda3/envs/scratch/lib/python3.5/site-packages/mpl_toolkits/tests/baseline_images/test_mplot3d/surface3d.pdf\n",
      "/Users/fonnescj/anaconda3/envs/scratch/lib/python3.5/site-packages/mpl_toolkits/tests/baseline_images/test_mplot3d/text3d.pdf\n",
      "/Users/fonnescj/anaconda3/envs/scratch/lib/python3.5/site-packages/mpl_toolkits/tests/baseline_images/test_mplot3d/trisurf3d.pdf\n",
      "/Users/fonnescj/anaconda3/envs/scratch/lib/python3.5/site-packages/mpl_toolkits/tests/baseline_images/test_mplot3d/wireframe3d.pdf\n",
      "/Users/fonnescj/anaconda3/envs/scratch/lib/python3.5/site-packages/nbconvert/exporters/__pycache__/pdf.cpython-35.pyc\n",
      "/Users/fonnescj/anaconda3/envs/scratch/lib/python3.5/site-packages/nbconvert/exporters/pdf.py\n",
      "/Users/fonnescj/anaconda3/envs/scratch/lib/python3.5/site-packages/nbconvert/exporters/tests/__pycache__/test_pdf.cpython-35.pyc\n",
      "/Users/fonnescj/anaconda3/envs/scratch/lib/python3.5/site-packages/nbconvert/exporters/tests/test_pdf.py\n",
      "/Users/fonnescj/anaconda3/envs/scratch/lib/python3.5/site-packages/nbconvert/preprocessors/__pycache__/svg2pdf.cpython-35.pyc\n",
      "/Users/fonnescj/anaconda3/envs/scratch/lib/python3.5/site-packages/nbconvert/preprocessors/svg2pdf.py\n",
      "/Users/fonnescj/anaconda3/envs/scratch/lib/python3.5/site-packages/nbconvert/preprocessors/tests/__pycache__/test_svg2pdf.cpython-35.pyc\n",
      "/Users/fonnescj/anaconda3/envs/scratch/lib/python3.5/site-packages/nbconvert/preprocessors/tests/test_svg2pdf.py\n",
      "/Users/fonnescj/anaconda3/envs/stat_pycon/lib/python3.6/site-packages/matplotlib/backends/__pycache__/backend_pdf.cpython-36.pyc\n",
      "/Users/fonnescj/anaconda3/envs/stat_pycon/lib/python3.6/site-packages/matplotlib/backends/backend_pdf.py\n",
      "/Users/fonnescj/anaconda3/envs/stat_pycon/lib/python3.6/site-packages/matplotlib/mpl-data/fonts/pdfcorefonts\n",
      "/Users/fonnescj/anaconda3/envs/stat_pycon/lib/python3.6/site-packages/matplotlib/mpl-data/fonts/pdfcorefonts/Courier-Bold.afm\n",
      "/Users/fonnescj/anaconda3/envs/stat_pycon/lib/python3.6/site-packages/matplotlib/mpl-data/fonts/pdfcorefonts/Courier-BoldOblique.afm\n",
      "/Users/fonnescj/anaconda3/envs/stat_pycon/lib/python3.6/site-packages/matplotlib/mpl-data/fonts/pdfcorefonts/Courier-Oblique.afm\n",
      "/Users/fonnescj/anaconda3/envs/stat_pycon/lib/python3.6/site-packages/matplotlib/mpl-data/fonts/pdfcorefonts/Courier.afm\n",
      "/Users/fonnescj/anaconda3/envs/stat_pycon/lib/python3.6/site-packages/matplotlib/mpl-data/fonts/pdfcorefonts/Helvetica-Bold.afm\n",
      "/Users/fonnescj/anaconda3/envs/stat_pycon/lib/python3.6/site-packages/matplotlib/mpl-data/fonts/pdfcorefonts/Helvetica-BoldOblique.afm\n",
      "/Users/fonnescj/anaconda3/envs/stat_pycon/lib/python3.6/site-packages/matplotlib/mpl-data/fonts/pdfcorefonts/Helvetica-Oblique.afm\n",
      "/Users/fonnescj/anaconda3/envs/stat_pycon/lib/python3.6/site-packages/matplotlib/mpl-data/fonts/pdfcorefonts/Helvetica.afm\n",
      "/Users/fonnescj/anaconda3/envs/stat_pycon/lib/python3.6/site-packages/matplotlib/mpl-data/fonts/pdfcorefonts/Symbol.afm\n",
      "/Users/fonnescj/anaconda3/envs/stat_pycon/lib/python3.6/site-packages/matplotlib/mpl-data/fonts/pdfcorefonts/Times-Bold.afm\n",
      "/Users/fonnescj/anaconda3/envs/stat_pycon/lib/python3.6/site-packages/matplotlib/mpl-data/fonts/pdfcorefonts/Times-BoldItalic.afm\n",
      "/Users/fonnescj/anaconda3/envs/stat_pycon/lib/python3.6/site-packages/matplotlib/mpl-data/fonts/pdfcorefonts/Times-Italic.afm\n",
      "/Users/fonnescj/anaconda3/envs/stat_pycon/lib/python3.6/site-packages/matplotlib/mpl-data/fonts/pdfcorefonts/Times-Roman.afm\n",
      "/Users/fonnescj/anaconda3/envs/stat_pycon/lib/python3.6/site-packages/matplotlib/mpl-data/fonts/pdfcorefonts/ZapfDingbats.afm\n",
      "/Users/fonnescj/anaconda3/envs/stat_pycon/lib/python3.6/site-packages/matplotlib/mpl-data/fonts/pdfcorefonts/readme.txt\n",
      "/Users/fonnescj/anaconda3/envs/stat_pycon/lib/python3.6/site-packages/matplotlib/mpl-data/images/back.pdf\n",
      "/Users/fonnescj/anaconda3/envs/stat_pycon/lib/python3.6/site-packages/matplotlib/mpl-data/images/filesave.pdf\n",
      "/Users/fonnescj/anaconda3/envs/stat_pycon/lib/python3.6/site-packages/matplotlib/mpl-data/images/forward.pdf\n",
      "/Users/fonnescj/anaconda3/envs/stat_pycon/lib/python3.6/site-packages/matplotlib/mpl-data/images/hand.pdf\n",
      "/Users/fonnescj/anaconda3/envs/stat_pycon/lib/python3.6/site-packages/matplotlib/mpl-data/images/home.pdf\n",
      "/Users/fonnescj/anaconda3/envs/stat_pycon/lib/python3.6/site-packages/matplotlib/mpl-data/images/matplotlib.pdf\n",
      "/Users/fonnescj/anaconda3/envs/stat_pycon/lib/python3.6/site-packages/matplotlib/mpl-data/images/move.pdf\n",
      "/Users/fonnescj/anaconda3/envs/stat_pycon/lib/python3.6/site-packages/matplotlib/mpl-data/images/qt4_editor_options.pdf\n",
      "/Users/fonnescj/anaconda3/envs/stat_pycon/lib/python3.6/site-packages/matplotlib/mpl-data/images/subplots.pdf\n",
      "/Users/fonnescj/anaconda3/envs/stat_pycon/lib/python3.6/site-packages/matplotlib/mpl-data/images/zoom_to_rect.pdf\n",
      "/Users/fonnescj/anaconda3/envs/stat_pycon/lib/python3.6/site-packages/matplotlib/mpl-data/sample_data/None_vs_nearest-pdf.png\n",
      "/Users/fonnescj/anaconda3/envs/stat_pycon/lib/python3.6/site-packages/nbconvert/exporters/__pycache__/pdf.cpython-36.pyc\n",
      "/Users/fonnescj/anaconda3/envs/stat_pycon/lib/python3.6/site-packages/nbconvert/exporters/pdf.py\n",
      "/Users/fonnescj/anaconda3/envs/stat_pycon/lib/python3.6/site-packages/nbconvert/exporters/tests/__pycache__/test_pdf.cpython-36.pyc\n",
      "/Users/fonnescj/anaconda3/envs/stat_pycon/lib/python3.6/site-packages/nbconvert/exporters/tests/test_pdf.py\n",
      "/Users/fonnescj/anaconda3/envs/stat_pycon/lib/python3.6/site-packages/nbconvert/preprocessors/__pycache__/svg2pdf.cpython-36.pyc\n",
      "/Users/fonnescj/anaconda3/envs/stat_pycon/lib/python3.6/site-packages/nbconvert/preprocessors/svg2pdf.py\n",
      "/Users/fonnescj/anaconda3/envs/stat_pycon/lib/python3.6/site-packages/nbconvert/preprocessors/tests/__pycache__/test_svg2pdf.cpython-36.pyc\n",
      "/Users/fonnescj/anaconda3/envs/stat_pycon/lib/python3.6/site-packages/nbconvert/preprocessors/tests/test_svg2pdf.py\n"
     ]
    },
    {
     "name": "stdout",
     "output_type": "stream",
     "text": [
      "/Users/fonnescj/anaconda3/lib/python3.6/site-packages/matplotlib/tests/__pycache__/test_backend_pdf.cpython-36.pyc\n",
      "/Users/fonnescj/anaconda3/lib/python3.6/site-packages/matplotlib/tests/test_backend_pdf.py\n",
      "/Users/fonnescj/anaconda3/lib/python3.6/site-packages/mpl_toolkits/tests/baseline_images/test_axes_grid1/divider_append_axes.pdf\n",
      "/Users/fonnescj/anaconda3/lib/python3.6/site-packages/mpl_toolkits/tests/baseline_images/test_mplot3d/bar3d.pdf\n",
      "/Users/fonnescj/anaconda3/lib/python3.6/site-packages/mpl_toolkits/tests/baseline_images/test_mplot3d/contour3d.pdf\n",
      "/Users/fonnescj/anaconda3/lib/python3.6/site-packages/mpl_toolkits/tests/baseline_images/test_mplot3d/contourf3d.pdf\n",
      "/Users/fonnescj/anaconda3/lib/python3.6/site-packages/mpl_toolkits/tests/baseline_images/test_mplot3d/contourf3d_fill.pdf\n",
      "/Users/fonnescj/anaconda3/lib/python3.6/site-packages/mpl_toolkits/tests/baseline_images/test_mplot3d/lines3d.pdf\n",
      "/Users/fonnescj/anaconda3/lib/python3.6/site-packages/mpl_toolkits/tests/baseline_images/test_mplot3d/mixedsubplot.pdf\n",
      "/Users/fonnescj/anaconda3/lib/python3.6/site-packages/mpl_toolkits/tests/baseline_images/test_mplot3d/quiver3d.pdf\n",
      "/Users/fonnescj/anaconda3/lib/python3.6/site-packages/mpl_toolkits/tests/baseline_images/test_mplot3d/quiver3d_empty.pdf\n",
      "/Users/fonnescj/anaconda3/lib/python3.6/site-packages/mpl_toolkits/tests/baseline_images/test_mplot3d/quiver3d_masked.pdf\n",
      "/Users/fonnescj/anaconda3/lib/python3.6/site-packages/mpl_toolkits/tests/baseline_images/test_mplot3d/scatter3d.pdf\n",
      "/Users/fonnescj/anaconda3/lib/python3.6/site-packages/mpl_toolkits/tests/baseline_images/test_mplot3d/surface3d.pdf\n",
      "/Users/fonnescj/anaconda3/lib/python3.6/site-packages/mpl_toolkits/tests/baseline_images/test_mplot3d/text3d.pdf\n",
      "/Users/fonnescj/anaconda3/lib/python3.6/site-packages/mpl_toolkits/tests/baseline_images/test_mplot3d/trisurf3d.pdf\n",
      "/Users/fonnescj/anaconda3/lib/python3.6/site-packages/mpl_toolkits/tests/baseline_images/test_mplot3d/wireframe3d.pdf\n",
      "/Users/fonnescj/anaconda3/lib/python3.6/site-packages/nbconvert/exporters/__pycache__/pdf.cpython-36.pyc\n",
      "/Users/fonnescj/anaconda3/lib/python3.6/site-packages/nbconvert/exporters/pdf.py\n",
      "/Users/fonnescj/anaconda3/lib/python3.6/site-packages/nbconvert/exporters/tests/__pycache__/test_pdf.cpython-36.pyc\n",
      "/Users/fonnescj/anaconda3/lib/python3.6/site-packages/nbconvert/exporters/tests/test_pdf.py\n",
      "/Users/fonnescj/anaconda3/lib/python3.6/site-packages/nbconvert/preprocessors/__pycache__/svg2pdf.cpython-36.pyc\n",
      "/Users/fonnescj/anaconda3/lib/python3.6/site-packages/nbconvert/preprocessors/svg2pdf.py\n",
      "/Users/fonnescj/anaconda3/lib/python3.6/site-packages/nbconvert/preprocessors/tests/__pycache__/test_svg2pdf.cpython-36.pyc\n",
      "/Users/fonnescj/anaconda3/lib/python3.6/site-packages/nbconvert/preprocessors/tests/test_svg2pdf.py\n",
      "/Users/fonnescj/anaconda3/lib/python3.6/site-packages/spyder/images/filetypes/pdf.png\n",
      "/Users/fonnescj/anaconda3/pkgs/asn1crypto-0.22.0-py36_0/lib/python3.6/site-packages/asn1crypto/__pycache__/pdf.cpython-36.pyc\n",
      "/Users/fonnescj/anaconda3/pkgs/asn1crypto-0.22.0-py36_0/lib/python3.6/site-packages/asn1crypto/pdf.py\n",
      "/Users/fonnescj/anaconda3/pkgs/jupyter_contrib_nbextensions-0.2.6-py35_0/lib/python3.5/site-packages/jupyter_contrib_nbextensions/nbconvert_support/__pycache__/pre_svg2pdf.cpython-35.pyc\n",
      "/Users/fonnescj/anaconda3/pkgs/jupyter_contrib_nbextensions-0.2.6-py35_0/lib/python3.5/site-packages/jupyter_contrib_nbextensions/nbconvert_support/pre_svg2pdf.py\n",
      "/Users/fonnescj/anaconda3/pkgs/jupyter_contrib_nbextensions-0.2.6-py35_0/lib/python3.5/site-packages/jupyter_contrib_nbextensions/nbextensions/highlighter/export_highlights.pdf\n",
      "/Users/fonnescj/anaconda3/pkgs/jupyter_contrib_nbextensions-0.2.6-py35_0/lib/python3.5/site-packages/jupyter_contrib_nbextensions/nbextensions/highlighter/tst_highlights.pdf\n",
      "/Users/fonnescj/anaconda3/pkgs/jupyter_contrib_nbextensions-0.2.6-py36_0/lib/python3.6/site-packages/jupyter_contrib_nbextensions/nbconvert_support/__pycache__/pre_svg2pdf.cpython-36.pyc\n",
      "/Users/fonnescj/anaconda3/pkgs/jupyter_contrib_nbextensions-0.2.6-py36_0/lib/python3.6/site-packages/jupyter_contrib_nbextensions/nbconvert_support/pre_svg2pdf.py\n",
      "/Users/fonnescj/anaconda3/pkgs/jupyter_contrib_nbextensions-0.2.6-py36_0/lib/python3.6/site-packages/jupyter_contrib_nbextensions/nbextensions/highlighter/export_highlights.pdf\n",
      "/Users/fonnescj/anaconda3/pkgs/jupyter_contrib_nbextensions-0.2.6-py36_0/lib/python3.6/site-packages/jupyter_contrib_nbextensions/nbextensions/highlighter/tst_highlights.pdf\n",
      "/Users/fonnescj/anaconda3/pkgs/jupyter_latex_envs-1.3.8.2-py35_1/lib/python3.5/site-packages/latex_envs/static/doc/documentation.pdf\n",
      "/Users/fonnescj/anaconda3/pkgs/jupyter_latex_envs-1.3.8.2-py36_1/lib/python3.6/site-packages/latex_envs/static/doc/documentation.pdf\n",
      "/Users/fonnescj/anaconda3/pkgs/matplotlib-2.0.0-np111py36_0/lib/python3.6/site-packages/matplotlib/backends/__pycache__/backend_pdf.cpython-36.pyc\n",
      "/Users/fonnescj/anaconda3/pkgs/matplotlib-2.0.0-np111py36_0/lib/python3.6/site-packages/matplotlib/backends/backend_pdf.py\n",
      "/Users/fonnescj/anaconda3/pkgs/matplotlib-2.0.0-np111py36_0/lib/python3.6/site-packages/matplotlib/mpl-data/fonts/pdfcorefonts\n",
      "/Users/fonnescj/anaconda3/pkgs/matplotlib-2.0.0-np111py36_0/lib/python3.6/site-packages/matplotlib/mpl-data/fonts/pdfcorefonts/Courier-Bold.afm\n",
      "/Users/fonnescj/anaconda3/pkgs/matplotlib-2.0.0-np111py36_0/lib/python3.6/site-packages/matplotlib/mpl-data/fonts/pdfcorefonts/Courier-BoldOblique.afm\n",
      "/Users/fonnescj/anaconda3/pkgs/matplotlib-2.0.0-np111py36_0/lib/python3.6/site-packages/matplotlib/mpl-data/fonts/pdfcorefonts/Courier-Oblique.afm\n",
      "/Users/fonnescj/anaconda3/pkgs/matplotlib-2.0.0-np111py36_0/lib/python3.6/site-packages/matplotlib/mpl-data/fonts/pdfcorefonts/Courier.afm\n",
      "/Users/fonnescj/anaconda3/pkgs/matplotlib-2.0.0-np111py36_0/lib/python3.6/site-packages/matplotlib/mpl-data/fonts/pdfcorefonts/Helvetica-Bold.afm\n",
      "/Users/fonnescj/anaconda3/pkgs/matplotlib-2.0.0-np111py36_0/lib/python3.6/site-packages/matplotlib/mpl-data/fonts/pdfcorefonts/Helvetica-BoldOblique.afm\n",
      "/Users/fonnescj/anaconda3/pkgs/matplotlib-2.0.0-np111py36_0/lib/python3.6/site-packages/matplotlib/mpl-data/fonts/pdfcorefonts/Helvetica-Oblique.afm\n",
      "/Users/fonnescj/anaconda3/pkgs/matplotlib-2.0.0-np111py36_0/lib/python3.6/site-packages/matplotlib/mpl-data/fonts/pdfcorefonts/Helvetica.afm\n",
      "/Users/fonnescj/anaconda3/pkgs/matplotlib-2.0.0-np111py36_0/lib/python3.6/site-packages/matplotlib/mpl-data/fonts/pdfcorefonts/Symbol.afm\n",
      "/Users/fonnescj/anaconda3/pkgs/matplotlib-2.0.0-np111py36_0/lib/python3.6/site-packages/matplotlib/mpl-data/fonts/pdfcorefonts/Times-Bold.afm\n",
      "/Users/fonnescj/anaconda3/pkgs/matplotlib-2.0.0-np111py36_0/lib/python3.6/site-packages/matplotlib/mpl-data/fonts/pdfcorefonts/Times-BoldItalic.afm\n",
      "/Users/fonnescj/anaconda3/pkgs/matplotlib-2.0.0-np111py36_0/lib/python3.6/site-packages/matplotlib/mpl-data/fonts/pdfcorefonts/Times-Italic.afm\n",
      "/Users/fonnescj/anaconda3/pkgs/matplotlib-2.0.0-np111py36_0/lib/python3.6/site-packages/matplotlib/mpl-data/fonts/pdfcorefonts/Times-Roman.afm\n",
      "/Users/fonnescj/anaconda3/pkgs/matplotlib-2.0.0-np111py36_0/lib/python3.6/site-packages/matplotlib/mpl-data/fonts/pdfcorefonts/ZapfDingbats.afm\n",
      "/Users/fonnescj/anaconda3/pkgs/matplotlib-2.0.0-np111py36_0/lib/python3.6/site-packages/matplotlib/mpl-data/fonts/pdfcorefonts/readme.txt\n",
      "/Users/fonnescj/anaconda3/pkgs/matplotlib-2.0.0-np111py36_0/lib/python3.6/site-packages/matplotlib/mpl-data/images/back.pdf\n",
      "/Users/fonnescj/anaconda3/pkgs/matplotlib-2.0.0-np111py36_0/lib/python3.6/site-packages/matplotlib/mpl-data/images/filesave.pdf\n",
      "/Users/fonnescj/anaconda3/pkgs/matplotlib-2.0.0-np111py36_0/lib/python3.6/site-packages/matplotlib/mpl-data/images/forward.pdf\n",
      "/Users/fonnescj/anaconda3/pkgs/matplotlib-2.0.0-np111py36_0/lib/python3.6/site-packages/matplotlib/mpl-data/images/hand.pdf\n",
      "/Users/fonnescj/anaconda3/pkgs/matplotlib-2.0.0-np111py36_0/lib/python3.6/site-packages/matplotlib/mpl-data/images/home.pdf\n",
      "/Users/fonnescj/anaconda3/pkgs/matplotlib-2.0.0-np111py36_0/lib/python3.6/site-packages/matplotlib/mpl-data/images/matplotlib.pdf\n",
      "/Users/fonnescj/anaconda3/pkgs/matplotlib-2.0.0-np111py36_0/lib/python3.6/site-packages/matplotlib/mpl-data/images/move.pdf\n",
      "/Users/fonnescj/anaconda3/pkgs/matplotlib-2.0.0-np111py36_0/lib/python3.6/site-packages/matplotlib/mpl-data/images/qt4_editor_options.pdf\n",
      "/Users/fonnescj/anaconda3/pkgs/matplotlib-2.0.0-np111py36_0/lib/python3.6/site-packages/matplotlib/mpl-data/images/subplots.pdf\n",
      "/Users/fonnescj/anaconda3/pkgs/matplotlib-2.0.0-np111py36_0/lib/python3.6/site-packages/matplotlib/mpl-data/images/zoom_to_rect.pdf\n",
      "/Users/fonnescj/anaconda3/pkgs/matplotlib-2.0.0-np111py36_0/lib/python3.6/site-packages/matplotlib/mpl-data/sample_data/None_vs_nearest-pdf.png\n",
      "/Users/fonnescj/anaconda3/pkgs/matplotlib-2.0.0-np112py35_3/lib/python3.5/site-packages/matplotlib/backends/__pycache__/backend_pdf.cpython-35.pyc\n",
      "/Users/fonnescj/anaconda3/pkgs/matplotlib-2.0.0-np112py35_3/lib/python3.5/site-packages/matplotlib/backends/backend_pdf.py\n",
      "/Users/fonnescj/anaconda3/pkgs/matplotlib-2.0.0-np112py35_3/lib/python3.5/site-packages/matplotlib/mpl-data/fonts/pdfcorefonts\n",
      "/Users/fonnescj/anaconda3/pkgs/matplotlib-2.0.0-np112py35_3/lib/python3.5/site-packages/matplotlib/mpl-data/fonts/pdfcorefonts/Courier-Bold.afm\n",
      "/Users/fonnescj/anaconda3/pkgs/matplotlib-2.0.0-np112py35_3/lib/python3.5/site-packages/matplotlib/mpl-data/fonts/pdfcorefonts/Courier-BoldOblique.afm\n",
      "/Users/fonnescj/anaconda3/pkgs/matplotlib-2.0.0-np112py35_3/lib/python3.5/site-packages/matplotlib/mpl-data/fonts/pdfcorefonts/Courier-Oblique.afm\n",
      "/Users/fonnescj/anaconda3/pkgs/matplotlib-2.0.0-np112py35_3/lib/python3.5/site-packages/matplotlib/mpl-data/fonts/pdfcorefonts/Courier.afm\n",
      "/Users/fonnescj/anaconda3/pkgs/matplotlib-2.0.0-np112py35_3/lib/python3.5/site-packages/matplotlib/mpl-data/fonts/pdfcorefonts/Helvetica-Bold.afm\n",
      "/Users/fonnescj/anaconda3/pkgs/matplotlib-2.0.0-np112py35_3/lib/python3.5/site-packages/matplotlib/mpl-data/fonts/pdfcorefonts/Helvetica-BoldOblique.afm\n",
      "/Users/fonnescj/anaconda3/pkgs/matplotlib-2.0.0-np112py35_3/lib/python3.5/site-packages/matplotlib/mpl-data/fonts/pdfcorefonts/Helvetica-Oblique.afm\n",
      "/Users/fonnescj/anaconda3/pkgs/matplotlib-2.0.0-np112py35_3/lib/python3.5/site-packages/matplotlib/mpl-data/fonts/pdfcorefonts/Helvetica.afm\n",
      "/Users/fonnescj/anaconda3/pkgs/matplotlib-2.0.0-np112py35_3/lib/python3.5/site-packages/matplotlib/mpl-data/fonts/pdfcorefonts/Symbol.afm\n",
      "/Users/fonnescj/anaconda3/pkgs/matplotlib-2.0.0-np112py35_3/lib/python3.5/site-packages/matplotlib/mpl-data/fonts/pdfcorefonts/Times-Bold.afm\n",
      "/Users/fonnescj/anaconda3/pkgs/matplotlib-2.0.0-np112py35_3/lib/python3.5/site-packages/matplotlib/mpl-data/fonts/pdfcorefonts/Times-BoldItalic.afm\n",
      "/Users/fonnescj/anaconda3/pkgs/matplotlib-2.0.0-np112py35_3/lib/python3.5/site-packages/matplotlib/mpl-data/fonts/pdfcorefonts/Times-Italic.afm\n",
      "/Users/fonnescj/anaconda3/pkgs/matplotlib-2.0.0-np112py35_3/lib/python3.5/site-packages/matplotlib/mpl-data/fonts/pdfcorefonts/Times-Roman.afm\n",
      "/Users/fonnescj/anaconda3/pkgs/matplotlib-2.0.0-np112py35_3/lib/python3.5/site-packages/matplotlib/mpl-data/fonts/pdfcorefonts/ZapfDingbats.afm\n",
      "/Users/fonnescj/anaconda3/pkgs/matplotlib-2.0.0-np112py35_3/lib/python3.5/site-packages/matplotlib/mpl-data/fonts/pdfcorefonts/readme.txt\n",
      "/Users/fonnescj/anaconda3/pkgs/matplotlib-2.0.0-np112py35_3/lib/python3.5/site-packages/matplotlib/mpl-data/images/back.pdf\n",
      "/Users/fonnescj/anaconda3/pkgs/matplotlib-2.0.0-np112py35_3/lib/python3.5/site-packages/matplotlib/mpl-data/images/filesave.pdf\n",
      "/Users/fonnescj/anaconda3/pkgs/matplotlib-2.0.0-np112py35_3/lib/python3.5/site-packages/matplotlib/mpl-data/images/forward.pdf\n",
      "/Users/fonnescj/anaconda3/pkgs/matplotlib-2.0.0-np112py35_3/lib/python3.5/site-packages/matplotlib/mpl-data/images/hand.pdf\n",
      "/Users/fonnescj/anaconda3/pkgs/matplotlib-2.0.0-np112py35_3/lib/python3.5/site-packages/matplotlib/mpl-data/images/home.pdf\n",
      "/Users/fonnescj/anaconda3/pkgs/matplotlib-2.0.0-np112py35_3/lib/python3.5/site-packages/matplotlib/mpl-data/images/matplotlib.pdf\n",
      "/Users/fonnescj/anaconda3/pkgs/matplotlib-2.0.0-np112py35_3/lib/python3.5/site-packages/matplotlib/mpl-data/images/move.pdf\n",
      "/Users/fonnescj/anaconda3/pkgs/matplotlib-2.0.0-np112py35_3/lib/python3.5/site-packages/matplotlib/mpl-data/images/qt4_editor_options.pdf\n",
      "/Users/fonnescj/anaconda3/pkgs/matplotlib-2.0.0-np112py35_3/lib/python3.5/site-packages/matplotlib/mpl-data/images/subplots.pdf\n",
      "/Users/fonnescj/anaconda3/pkgs/matplotlib-2.0.0-np112py35_3/lib/python3.5/site-packages/matplotlib/mpl-data/images/zoom_to_rect.pdf\n",
      "/Users/fonnescj/anaconda3/pkgs/matplotlib-2.0.0-np112py36_0/lib/python3.6/site-packages/matplotlib/backends/__pycache__/backend_pdf.cpython-36.pyc\n",
      "/Users/fonnescj/anaconda3/pkgs/matplotlib-2.0.0-np112py36_0/lib/python3.6/site-packages/matplotlib/backends/backend_pdf.py\n",
      "/Users/fonnescj/anaconda3/pkgs/matplotlib-2.0.0-np112py36_0/lib/python3.6/site-packages/matplotlib/mpl-data/fonts/pdfcorefonts\n",
      "/Users/fonnescj/anaconda3/pkgs/matplotlib-2.0.0-np112py36_0/lib/python3.6/site-packages/matplotlib/mpl-data/fonts/pdfcorefonts/Courier-Bold.afm\n",
      "/Users/fonnescj/anaconda3/pkgs/matplotlib-2.0.0-np112py36_0/lib/python3.6/site-packages/matplotlib/mpl-data/fonts/pdfcorefonts/Courier-BoldOblique.afm\n",
      "/Users/fonnescj/anaconda3/pkgs/matplotlib-2.0.0-np112py36_0/lib/python3.6/site-packages/matplotlib/mpl-data/fonts/pdfcorefonts/Courier-Oblique.afm\n",
      "/Users/fonnescj/anaconda3/pkgs/matplotlib-2.0.0-np112py36_0/lib/python3.6/site-packages/matplotlib/mpl-data/fonts/pdfcorefonts/Courier.afm\n",
      "/Users/fonnescj/anaconda3/pkgs/matplotlib-2.0.0-np112py36_0/lib/python3.6/site-packages/matplotlib/mpl-data/fonts/pdfcorefonts/Helvetica-Bold.afm\n",
      "/Users/fonnescj/anaconda3/pkgs/matplotlib-2.0.0-np112py36_0/lib/python3.6/site-packages/matplotlib/mpl-data/fonts/pdfcorefonts/Helvetica-BoldOblique.afm\n",
      "/Users/fonnescj/anaconda3/pkgs/matplotlib-2.0.0-np112py36_0/lib/python3.6/site-packages/matplotlib/mpl-data/fonts/pdfcorefonts/Helvetica-Oblique.afm\n",
      "/Users/fonnescj/anaconda3/pkgs/matplotlib-2.0.0-np112py36_0/lib/python3.6/site-packages/matplotlib/mpl-data/fonts/pdfcorefonts/Helvetica.afm\n",
      "/Users/fonnescj/anaconda3/pkgs/matplotlib-2.0.0-np112py36_0/lib/python3.6/site-packages/matplotlib/mpl-data/fonts/pdfcorefonts/Symbol.afm\n",
      "/Users/fonnescj/anaconda3/pkgs/matplotlib-2.0.0-np112py36_0/lib/python3.6/site-packages/matplotlib/mpl-data/fonts/pdfcorefonts/Times-Bold.afm\n",
      "/Users/fonnescj/anaconda3/pkgs/matplotlib-2.0.0-np112py36_0/lib/python3.6/site-packages/matplotlib/mpl-data/fonts/pdfcorefonts/Times-BoldItalic.afm\n",
      "/Users/fonnescj/anaconda3/pkgs/matplotlib-2.0.0-np112py36_0/lib/python3.6/site-packages/matplotlib/mpl-data/fonts/pdfcorefonts/Times-Italic.afm\n",
      "/Users/fonnescj/anaconda3/pkgs/matplotlib-2.0.0-np112py36_0/lib/python3.6/site-packages/matplotlib/mpl-data/fonts/pdfcorefonts/Times-Roman.afm\n",
      "/Users/fonnescj/anaconda3/pkgs/matplotlib-2.0.0-np112py36_0/lib/python3.6/site-packages/matplotlib/mpl-data/fonts/pdfcorefonts/ZapfDingbats.afm\n",
      "/Users/fonnescj/anaconda3/pkgs/matplotlib-2.0.0-np112py36_0/lib/python3.6/site-packages/matplotlib/mpl-data/fonts/pdfcorefonts/readme.txt\n",
      "/Users/fonnescj/anaconda3/pkgs/matplotlib-2.0.0-np112py36_0/lib/python3.6/site-packages/matplotlib/mpl-data/images/back.pdf\n",
      "/Users/fonnescj/anaconda3/pkgs/matplotlib-2.0.0-np112py36_0/lib/python3.6/site-packages/matplotlib/mpl-data/images/filesave.pdf\n",
      "/Users/fonnescj/anaconda3/pkgs/matplotlib-2.0.0-np112py36_0/lib/python3.6/site-packages/matplotlib/mpl-data/images/forward.pdf\n",
      "/Users/fonnescj/anaconda3/pkgs/matplotlib-2.0.0-np112py36_0/lib/python3.6/site-packages/matplotlib/mpl-data/images/hand.pdf\n",
      "/Users/fonnescj/anaconda3/pkgs/matplotlib-2.0.0-np112py36_0/lib/python3.6/site-packages/matplotlib/mpl-data/images/home.pdf\n",
      "/Users/fonnescj/anaconda3/pkgs/matplotlib-2.0.0-np112py36_0/lib/python3.6/site-packages/matplotlib/mpl-data/images/matplotlib.pdf\n",
      "/Users/fonnescj/anaconda3/pkgs/matplotlib-2.0.0-np112py36_0/lib/python3.6/site-packages/matplotlib/mpl-data/images/move.pdf\n",
      "/Users/fonnescj/anaconda3/pkgs/matplotlib-2.0.0-np112py36_0/lib/python3.6/site-packages/matplotlib/mpl-data/images/qt4_editor_options.pdf\n",
      "/Users/fonnescj/anaconda3/pkgs/matplotlib-2.0.0-np112py36_0/lib/python3.6/site-packages/matplotlib/mpl-data/images/subplots.pdf\n",
      "/Users/fonnescj/anaconda3/pkgs/matplotlib-2.0.0-np112py36_0/lib/python3.6/site-packages/matplotlib/mpl-data/images/zoom_to_rect.pdf\n",
      "/Users/fonnescj/anaconda3/pkgs/matplotlib-2.0.0-np112py36_0/lib/python3.6/site-packages/matplotlib/mpl-data/sample_data/None_vs_nearest-pdf.png\n",
      "/Users/fonnescj/anaconda3/pkgs/matplotlib-2.0.0-np112py36_3/lib/python3.6/site-packages/matplotlib/backends/__pycache__/backend_pdf.cpython-36.pyc\n",
      "/Users/fonnescj/anaconda3/pkgs/matplotlib-2.0.0-np112py36_3/lib/python3.6/site-packages/matplotlib/backends/backend_pdf.py\n",
      "/Users/fonnescj/anaconda3/pkgs/matplotlib-2.0.0-np112py36_3/lib/python3.6/site-packages/matplotlib/mpl-data/fonts/pdfcorefonts\n",
      "/Users/fonnescj/anaconda3/pkgs/matplotlib-2.0.0-np112py36_3/lib/python3.6/site-packages/matplotlib/mpl-data/fonts/pdfcorefonts/Courier-Bold.afm\n",
      "/Users/fonnescj/anaconda3/pkgs/matplotlib-2.0.0-np112py36_3/lib/python3.6/site-packages/matplotlib/mpl-data/fonts/pdfcorefonts/Courier-BoldOblique.afm\n",
      "/Users/fonnescj/anaconda3/pkgs/matplotlib-2.0.0-np112py36_3/lib/python3.6/site-packages/matplotlib/mpl-data/fonts/pdfcorefonts/Courier-Oblique.afm\n",
      "/Users/fonnescj/anaconda3/pkgs/matplotlib-2.0.0-np112py36_3/lib/python3.6/site-packages/matplotlib/mpl-data/fonts/pdfcorefonts/Courier.afm\n",
      "/Users/fonnescj/anaconda3/pkgs/matplotlib-2.0.0-np112py36_3/lib/python3.6/site-packages/matplotlib/mpl-data/fonts/pdfcorefonts/Helvetica-Bold.afm\n",
      "/Users/fonnescj/anaconda3/pkgs/matplotlib-2.0.0-np112py36_3/lib/python3.6/site-packages/matplotlib/mpl-data/fonts/pdfcorefonts/Helvetica-BoldOblique.afm\n",
      "/Users/fonnescj/anaconda3/pkgs/matplotlib-2.0.0-np112py36_3/lib/python3.6/site-packages/matplotlib/mpl-data/fonts/pdfcorefonts/Helvetica-Oblique.afm\n",
      "/Users/fonnescj/anaconda3/pkgs/matplotlib-2.0.0-np112py36_3/lib/python3.6/site-packages/matplotlib/mpl-data/fonts/pdfcorefonts/Helvetica.afm\n",
      "/Users/fonnescj/anaconda3/pkgs/matplotlib-2.0.0-np112py36_3/lib/python3.6/site-packages/matplotlib/mpl-data/fonts/pdfcorefonts/Symbol.afm\n",
      "/Users/fonnescj/anaconda3/pkgs/matplotlib-2.0.0-np112py36_3/lib/python3.6/site-packages/matplotlib/mpl-data/fonts/pdfcorefonts/Times-Bold.afm\n",
      "/Users/fonnescj/anaconda3/pkgs/matplotlib-2.0.0-np112py36_3/lib/python3.6/site-packages/matplotlib/mpl-data/fonts/pdfcorefonts/Times-BoldItalic.afm\n",
      "/Users/fonnescj/anaconda3/pkgs/matplotlib-2.0.0-np112py36_3/lib/python3.6/site-packages/matplotlib/mpl-data/fonts/pdfcorefonts/Times-Italic.afm\n",
      "/Users/fonnescj/anaconda3/pkgs/matplotlib-2.0.0-np112py36_3/lib/python3.6/site-packages/matplotlib/mpl-data/fonts/pdfcorefonts/Times-Roman.afm\n",
      "/Users/fonnescj/anaconda3/pkgs/matplotlib-2.0.0-np112py36_3/lib/python3.6/site-packages/matplotlib/mpl-data/fonts/pdfcorefonts/ZapfDingbats.afm\n",
      "/Users/fonnescj/anaconda3/pkgs/matplotlib-2.0.0-np112py36_3/lib/python3.6/site-packages/matplotlib/mpl-data/fonts/pdfcorefonts/readme.txt\n",
      "/Users/fonnescj/anaconda3/pkgs/matplotlib-2.0.0-np112py36_3/lib/python3.6/site-packages/matplotlib/mpl-data/images/back.pdf\n",
      "/Users/fonnescj/anaconda3/pkgs/matplotlib-2.0.0-np112py36_3/lib/python3.6/site-packages/matplotlib/mpl-data/images/filesave.pdf\n",
      "/Users/fonnescj/anaconda3/pkgs/matplotlib-2.0.0-np112py36_3/lib/python3.6/site-packages/matplotlib/mpl-data/images/forward.pdf\n",
      "/Users/fonnescj/anaconda3/pkgs/matplotlib-2.0.0-np112py36_3/lib/python3.6/site-packages/matplotlib/mpl-data/images/hand.pdf\n",
      "/Users/fonnescj/anaconda3/pkgs/matplotlib-2.0.0-np112py36_3/lib/python3.6/site-packages/matplotlib/mpl-data/images/home.pdf\n",
      "/Users/fonnescj/anaconda3/pkgs/matplotlib-2.0.0-np112py36_3/lib/python3.6/site-packages/matplotlib/mpl-data/images/matplotlib.pdf\n",
      "/Users/fonnescj/anaconda3/pkgs/matplotlib-2.0.0-np112py36_3/lib/python3.6/site-packages/matplotlib/mpl-data/images/move.pdf\n",
      "/Users/fonnescj/anaconda3/pkgs/matplotlib-2.0.0-np112py36_3/lib/python3.6/site-packages/matplotlib/mpl-data/images/qt4_editor_options.pdf\n",
      "/Users/fonnescj/anaconda3/pkgs/matplotlib-2.0.0-np112py36_3/lib/python3.6/site-packages/matplotlib/mpl-data/images/subplots.pdf\n",
      "/Users/fonnescj/anaconda3/pkgs/matplotlib-2.0.0-np112py36_3/lib/python3.6/site-packages/matplotlib/mpl-data/images/zoom_to_rect.pdf\n",
      "/Users/fonnescj/anaconda3/pkgs/matplotlib-2.0.2-np112py35_0/lib/python3.5/site-packages/matplotlib/backends/__pycache__/backend_pdf.cpython-35.pyc\n",
      "/Users/fonnescj/anaconda3/pkgs/matplotlib-2.0.2-np112py35_0/lib/python3.5/site-packages/matplotlib/backends/backend_pdf.py\n",
      "/Users/fonnescj/anaconda3/pkgs/matplotlib-2.0.2-np112py35_0/lib/python3.5/site-packages/matplotlib/mpl-data/fonts/pdfcorefonts\n",
      "/Users/fonnescj/anaconda3/pkgs/matplotlib-2.0.2-np112py35_0/lib/python3.5/site-packages/matplotlib/mpl-data/fonts/pdfcorefonts/Courier-Bold.afm\n",
      "/Users/fonnescj/anaconda3/pkgs/matplotlib-2.0.2-np112py35_0/lib/python3.5/site-packages/matplotlib/mpl-data/fonts/pdfcorefonts/Courier-BoldOblique.afm\n",
      "/Users/fonnescj/anaconda3/pkgs/matplotlib-2.0.2-np112py35_0/lib/python3.5/site-packages/matplotlib/mpl-data/fonts/pdfcorefonts/Courier-Oblique.afm\n",
      "/Users/fonnescj/anaconda3/pkgs/matplotlib-2.0.2-np112py35_0/lib/python3.5/site-packages/matplotlib/mpl-data/fonts/pdfcorefonts/Courier.afm\n",
      "/Users/fonnescj/anaconda3/pkgs/matplotlib-2.0.2-np112py35_0/lib/python3.5/site-packages/matplotlib/mpl-data/fonts/pdfcorefonts/Helvetica-Bold.afm\n",
      "/Users/fonnescj/anaconda3/pkgs/matplotlib-2.0.2-np112py35_0/lib/python3.5/site-packages/matplotlib/mpl-data/fonts/pdfcorefonts/Helvetica-BoldOblique.afm\n",
      "/Users/fonnescj/anaconda3/pkgs/matplotlib-2.0.2-np112py35_0/lib/python3.5/site-packages/matplotlib/mpl-data/fonts/pdfcorefonts/Helvetica-Oblique.afm\n",
      "/Users/fonnescj/anaconda3/pkgs/matplotlib-2.0.2-np112py35_0/lib/python3.5/site-packages/matplotlib/mpl-data/fonts/pdfcorefonts/Helvetica.afm\n",
      "/Users/fonnescj/anaconda3/pkgs/matplotlib-2.0.2-np112py35_0/lib/python3.5/site-packages/matplotlib/mpl-data/fonts/pdfcorefonts/Symbol.afm\n",
      "/Users/fonnescj/anaconda3/pkgs/matplotlib-2.0.2-np112py35_0/lib/python3.5/site-packages/matplotlib/mpl-data/fonts/pdfcorefonts/Times-Bold.afm\n",
      "/Users/fonnescj/anaconda3/pkgs/matplotlib-2.0.2-np112py35_0/lib/python3.5/site-packages/matplotlib/mpl-data/fonts/pdfcorefonts/Times-BoldItalic.afm\n",
      "/Users/fonnescj/anaconda3/pkgs/matplotlib-2.0.2-np112py35_0/lib/python3.5/site-packages/matplotlib/mpl-data/fonts/pdfcorefonts/Times-Italic.afm\n",
      "/Users/fonnescj/anaconda3/pkgs/matplotlib-2.0.2-np112py35_0/lib/python3.5/site-packages/matplotlib/mpl-data/fonts/pdfcorefonts/Times-Roman.afm\n",
      "/Users/fonnescj/anaconda3/pkgs/matplotlib-2.0.2-np112py35_0/lib/python3.5/site-packages/matplotlib/mpl-data/fonts/pdfcorefonts/ZapfDingbats.afm\n",
      "/Users/fonnescj/anaconda3/pkgs/matplotlib-2.0.2-np112py35_0/lib/python3.5/site-packages/matplotlib/mpl-data/fonts/pdfcorefonts/readme.txt\n",
      "/Users/fonnescj/anaconda3/pkgs/matplotlib-2.0.2-np112py35_0/lib/python3.5/site-packages/matplotlib/mpl-data/images/back.pdf\n",
      "/Users/fonnescj/anaconda3/pkgs/matplotlib-2.0.2-np112py35_0/lib/python3.5/site-packages/matplotlib/mpl-data/images/filesave.pdf\n",
      "/Users/fonnescj/anaconda3/pkgs/matplotlib-2.0.2-np112py35_0/lib/python3.5/site-packages/matplotlib/mpl-data/images/forward.pdf\n",
      "/Users/fonnescj/anaconda3/pkgs/matplotlib-2.0.2-np112py35_0/lib/python3.5/site-packages/matplotlib/mpl-data/images/hand.pdf\n",
      "/Users/fonnescj/anaconda3/pkgs/matplotlib-2.0.2-np112py35_0/lib/python3.5/site-packages/matplotlib/mpl-data/images/home.pdf\n",
      "/Users/fonnescj/anaconda3/pkgs/matplotlib-2.0.2-np112py35_0/lib/python3.5/site-packages/matplotlib/mpl-data/images/matplotlib.pdf\n",
      "/Users/fonnescj/anaconda3/pkgs/matplotlib-2.0.2-np112py35_0/lib/python3.5/site-packages/matplotlib/mpl-data/images/move.pdf\n",
      "/Users/fonnescj/anaconda3/pkgs/matplotlib-2.0.2-np112py35_0/lib/python3.5/site-packages/matplotlib/mpl-data/images/qt4_editor_options.pdf\n",
      "/Users/fonnescj/anaconda3/pkgs/matplotlib-2.0.2-np112py35_0/lib/python3.5/site-packages/matplotlib/mpl-data/images/subplots.pdf\n",
      "/Users/fonnescj/anaconda3/pkgs/matplotlib-2.0.2-np112py35_0/lib/python3.5/site-packages/matplotlib/mpl-data/images/zoom_to_rect.pdf\n",
      "/Users/fonnescj/anaconda3/pkgs/matplotlib-2.0.2-np112py36_0/lib/python3.6/site-packages/matplotlib/backends/__pycache__/backend_pdf.cpython-36.pyc\n",
      "/Users/fonnescj/anaconda3/pkgs/matplotlib-2.0.2-np112py36_0/lib/python3.6/site-packages/matplotlib/backends/backend_pdf.py\n",
      "/Users/fonnescj/anaconda3/pkgs/matplotlib-2.0.2-np112py36_0/lib/python3.6/site-packages/matplotlib/mpl-data/fonts/pdfcorefonts\n",
      "/Users/fonnescj/anaconda3/pkgs/matplotlib-2.0.2-np112py36_0/lib/python3.6/site-packages/matplotlib/mpl-data/fonts/pdfcorefonts/Courier-Bold.afm\n",
      "/Users/fonnescj/anaconda3/pkgs/matplotlib-2.0.2-np112py36_0/lib/python3.6/site-packages/matplotlib/mpl-data/fonts/pdfcorefonts/Courier-BoldOblique.afm\n",
      "/Users/fonnescj/anaconda3/pkgs/matplotlib-2.0.2-np112py36_0/lib/python3.6/site-packages/matplotlib/mpl-data/fonts/pdfcorefonts/Courier-Oblique.afm\n",
      "/Users/fonnescj/anaconda3/pkgs/matplotlib-2.0.2-np112py36_0/lib/python3.6/site-packages/matplotlib/mpl-data/fonts/pdfcorefonts/Courier.afm\n",
      "/Users/fonnescj/anaconda3/pkgs/matplotlib-2.0.2-np112py36_0/lib/python3.6/site-packages/matplotlib/mpl-data/fonts/pdfcorefonts/Helvetica-Bold.afm\n",
      "/Users/fonnescj/anaconda3/pkgs/matplotlib-2.0.2-np112py36_0/lib/python3.6/site-packages/matplotlib/mpl-data/fonts/pdfcorefonts/Helvetica-BoldOblique.afm\n",
      "/Users/fonnescj/anaconda3/pkgs/matplotlib-2.0.2-np112py36_0/lib/python3.6/site-packages/matplotlib/mpl-data/fonts/pdfcorefonts/Helvetica-Oblique.afm\n",
      "/Users/fonnescj/anaconda3/pkgs/matplotlib-2.0.2-np112py36_0/lib/python3.6/site-packages/matplotlib/mpl-data/fonts/pdfcorefonts/Helvetica.afm\n",
      "/Users/fonnescj/anaconda3/pkgs/matplotlib-2.0.2-np112py36_0/lib/python3.6/site-packages/matplotlib/mpl-data/fonts/pdfcorefonts/Symbol.afm\n",
      "/Users/fonnescj/anaconda3/pkgs/matplotlib-2.0.2-np112py36_0/lib/python3.6/site-packages/matplotlib/mpl-data/fonts/pdfcorefonts/Times-Bold.afm\n",
      "/Users/fonnescj/anaconda3/pkgs/matplotlib-2.0.2-np112py36_0/lib/python3.6/site-packages/matplotlib/mpl-data/fonts/pdfcorefonts/Times-BoldItalic.afm\n",
      "/Users/fonnescj/anaconda3/pkgs/matplotlib-2.0.2-np112py36_0/lib/python3.6/site-packages/matplotlib/mpl-data/fonts/pdfcorefonts/Times-Italic.afm\n",
      "/Users/fonnescj/anaconda3/pkgs/matplotlib-2.0.2-np112py36_0/lib/python3.6/site-packages/matplotlib/mpl-data/fonts/pdfcorefonts/Times-Roman.afm\n",
      "/Users/fonnescj/anaconda3/pkgs/matplotlib-2.0.2-np112py36_0/lib/python3.6/site-packages/matplotlib/mpl-data/fonts/pdfcorefonts/ZapfDingbats.afm\n",
      "/Users/fonnescj/anaconda3/pkgs/matplotlib-2.0.2-np112py36_0/lib/python3.6/site-packages/matplotlib/mpl-data/fonts/pdfcorefonts/readme.txt\n",
      "/Users/fonnescj/anaconda3/pkgs/matplotlib-2.0.2-np112py36_0/lib/python3.6/site-packages/matplotlib/mpl-data/images/back.pdf\n",
      "/Users/fonnescj/anaconda3/pkgs/matplotlib-2.0.2-np112py36_0/lib/python3.6/site-packages/matplotlib/mpl-data/images/filesave.pdf\n",
      "/Users/fonnescj/anaconda3/pkgs/matplotlib-2.0.2-np112py36_0/lib/python3.6/site-packages/matplotlib/mpl-data/images/forward.pdf\n",
      "/Users/fonnescj/anaconda3/pkgs/matplotlib-2.0.2-np112py36_0/lib/python3.6/site-packages/matplotlib/mpl-data/images/hand.pdf\n",
      "/Users/fonnescj/anaconda3/pkgs/matplotlib-2.0.2-np112py36_0/lib/python3.6/site-packages/matplotlib/mpl-data/images/home.pdf\n",
      "/Users/fonnescj/anaconda3/pkgs/matplotlib-2.0.2-np112py36_0/lib/python3.6/site-packages/matplotlib/mpl-data/images/matplotlib.pdf\n",
      "/Users/fonnescj/anaconda3/pkgs/matplotlib-2.0.2-np112py36_0/lib/python3.6/site-packages/matplotlib/mpl-data/images/move.pdf\n",
      "/Users/fonnescj/anaconda3/pkgs/matplotlib-2.0.2-np112py36_0/lib/python3.6/site-packages/matplotlib/mpl-data/images/qt4_editor_options.pdf\n",
      "/Users/fonnescj/anaconda3/pkgs/matplotlib-2.0.2-np112py36_0/lib/python3.6/site-packages/matplotlib/mpl-data/images/subplots.pdf\n",
      "/Users/fonnescj/anaconda3/pkgs/matplotlib-2.0.2-np112py36_0/lib/python3.6/site-packages/matplotlib/mpl-data/images/zoom_to_rect.pdf\n",
      "/Users/fonnescj/anaconda3/pkgs/matplotlib-2.0.2-py36_2/lib/python3.6/site-packages/matplotlib/backends/__pycache__/backend_pdf.cpython-36.pyc\n",
      "/Users/fonnescj/anaconda3/pkgs/matplotlib-2.0.2-py36_2/lib/python3.6/site-packages/matplotlib/backends/backend_pdf.py\n",
      "/Users/fonnescj/anaconda3/pkgs/matplotlib-2.0.2-py36_2/lib/python3.6/site-packages/matplotlib/mpl-data/fonts/pdfcorefonts\n",
      "/Users/fonnescj/anaconda3/pkgs/matplotlib-2.0.2-py36_2/lib/python3.6/site-packages/matplotlib/mpl-data/fonts/pdfcorefonts/Courier-Bold.afm\n",
      "/Users/fonnescj/anaconda3/pkgs/matplotlib-2.0.2-py36_2/lib/python3.6/site-packages/matplotlib/mpl-data/fonts/pdfcorefonts/Courier-BoldOblique.afm\n",
      "/Users/fonnescj/anaconda3/pkgs/matplotlib-2.0.2-py36_2/lib/python3.6/site-packages/matplotlib/mpl-data/fonts/pdfcorefonts/Courier-Oblique.afm\n",
      "/Users/fonnescj/anaconda3/pkgs/matplotlib-2.0.2-py36_2/lib/python3.6/site-packages/matplotlib/mpl-data/fonts/pdfcorefonts/Courier.afm\n",
      "/Users/fonnescj/anaconda3/pkgs/matplotlib-2.0.2-py36_2/lib/python3.6/site-packages/matplotlib/mpl-data/fonts/pdfcorefonts/Helvetica-Bold.afm\n",
      "/Users/fonnescj/anaconda3/pkgs/matplotlib-2.0.2-py36_2/lib/python3.6/site-packages/matplotlib/mpl-data/fonts/pdfcorefonts/Helvetica-BoldOblique.afm\n",
      "/Users/fonnescj/anaconda3/pkgs/matplotlib-2.0.2-py36_2/lib/python3.6/site-packages/matplotlib/mpl-data/fonts/pdfcorefonts/Helvetica-Oblique.afm\n",
      "/Users/fonnescj/anaconda3/pkgs/matplotlib-2.0.2-py36_2/lib/python3.6/site-packages/matplotlib/mpl-data/fonts/pdfcorefonts/Helvetica.afm\n",
      "/Users/fonnescj/anaconda3/pkgs/matplotlib-2.0.2-py36_2/lib/python3.6/site-packages/matplotlib/mpl-data/fonts/pdfcorefonts/Symbol.afm\n",
      "/Users/fonnescj/anaconda3/pkgs/matplotlib-2.0.2-py36_2/lib/python3.6/site-packages/matplotlib/mpl-data/fonts/pdfcorefonts/Times-Bold.afm\n",
      "/Users/fonnescj/anaconda3/pkgs/matplotlib-2.0.2-py36_2/lib/python3.6/site-packages/matplotlib/mpl-data/fonts/pdfcorefonts/Times-BoldItalic.afm\n",
      "/Users/fonnescj/anaconda3/pkgs/matplotlib-2.0.2-py36_2/lib/python3.6/site-packages/matplotlib/mpl-data/fonts/pdfcorefonts/Times-Italic.afm\n",
      "/Users/fonnescj/anaconda3/pkgs/matplotlib-2.0.2-py36_2/lib/python3.6/site-packages/matplotlib/mpl-data/fonts/pdfcorefonts/Times-Roman.afm\n",
      "/Users/fonnescj/anaconda3/pkgs/matplotlib-2.0.2-py36_2/lib/python3.6/site-packages/matplotlib/mpl-data/fonts/pdfcorefonts/ZapfDingbats.afm\n",
      "/Users/fonnescj/anaconda3/pkgs/matplotlib-2.0.2-py36_2/lib/python3.6/site-packages/matplotlib/mpl-data/fonts/pdfcorefonts/readme.txt\n",
      "/Users/fonnescj/anaconda3/pkgs/matplotlib-2.0.2-py36_2/lib/python3.6/site-packages/matplotlib/mpl-data/images/back.pdf\n",
      "/Users/fonnescj/anaconda3/pkgs/matplotlib-2.0.2-py36_2/lib/python3.6/site-packages/matplotlib/mpl-data/images/filesave.pdf\n",
      "/Users/fonnescj/anaconda3/pkgs/matplotlib-2.0.2-py36_2/lib/python3.6/site-packages/matplotlib/mpl-data/images/forward.pdf\n",
      "/Users/fonnescj/anaconda3/pkgs/matplotlib-2.0.2-py36_2/lib/python3.6/site-packages/matplotlib/mpl-data/images/hand.pdf\n",
      "/Users/fonnescj/anaconda3/pkgs/matplotlib-2.0.2-py36_2/lib/python3.6/site-packages/matplotlib/mpl-data/images/home.pdf\n",
      "/Users/fonnescj/anaconda3/pkgs/matplotlib-2.0.2-py36_2/lib/python3.6/site-packages/matplotlib/mpl-data/images/matplotlib.pdf\n",
      "/Users/fonnescj/anaconda3/pkgs/matplotlib-2.0.2-py36_2/lib/python3.6/site-packages/matplotlib/mpl-data/images/move.pdf\n",
      "/Users/fonnescj/anaconda3/pkgs/matplotlib-2.0.2-py36_2/lib/python3.6/site-packages/matplotlib/mpl-data/images/qt4_editor_options.pdf\n",
      "/Users/fonnescj/anaconda3/pkgs/matplotlib-2.0.2-py36_2/lib/python3.6/site-packages/matplotlib/mpl-data/images/subplots.pdf\n",
      "/Users/fonnescj/anaconda3/pkgs/matplotlib-2.0.2-py36_2/lib/python3.6/site-packages/matplotlib/mpl-data/images/zoom_to_rect.pdf\n",
      "/Users/fonnescj/anaconda3/pkgs/nbconvert-4.2.0-py36_0/lib/python3.6/site-packages/nbconvert/exporters/__pycache__/pdf.cpython-36.pyc\n",
      "/Users/fonnescj/anaconda3/pkgs/nbconvert-4.2.0-py36_0/lib/python3.6/site-packages/nbconvert/exporters/pdf.py\n",
      "/Users/fonnescj/anaconda3/pkgs/nbconvert-4.2.0-py36_0/lib/python3.6/site-packages/nbconvert/exporters/tests/__pycache__/test_pdf.cpython-36.pyc\n",
      "/Users/fonnescj/anaconda3/pkgs/nbconvert-4.2.0-py36_0/lib/python3.6/site-packages/nbconvert/exporters/tests/test_pdf.py\n",
      "/Users/fonnescj/anaconda3/pkgs/nbconvert-4.2.0-py36_0/lib/python3.6/site-packages/nbconvert/preprocessors/__pycache__/svg2pdf.cpython-36.pyc\n",
      "/Users/fonnescj/anaconda3/pkgs/nbconvert-4.2.0-py36_0/lib/python3.6/site-packages/nbconvert/preprocessors/svg2pdf.py\n",
      "/Users/fonnescj/anaconda3/pkgs/nbconvert-4.2.0-py36_0/lib/python3.6/site-packages/nbconvert/preprocessors/tests/__pycache__/test_svg2pdf.cpython-36.pyc\n",
      "/Users/fonnescj/anaconda3/pkgs/nbconvert-4.2.0-py36_0/lib/python3.6/site-packages/nbconvert/preprocessors/tests/test_svg2pdf.py\n",
      "/Users/fonnescj/anaconda3/pkgs/nbconvert-5.1.1-py35_1/lib/python3.5/site-packages/nbconvert/exporters/__pycache__/pdf.cpython-35.pyc\n",
      "/Users/fonnescj/anaconda3/pkgs/nbconvert-5.1.1-py35_1/lib/python3.5/site-packages/nbconvert/exporters/pdf.py\n",
      "/Users/fonnescj/anaconda3/pkgs/nbconvert-5.1.1-py35_1/lib/python3.5/site-packages/nbconvert/exporters/tests/__pycache__/test_pdf.cpython-35.pyc\n",
      "/Users/fonnescj/anaconda3/pkgs/nbconvert-5.1.1-py35_1/lib/python3.5/site-packages/nbconvert/exporters/tests/test_pdf.py\n",
      "/Users/fonnescj/anaconda3/pkgs/nbconvert-5.1.1-py35_1/lib/python3.5/site-packages/nbconvert/preprocessors/__pycache__/svg2pdf.cpython-35.pyc\n",
      "/Users/fonnescj/anaconda3/pkgs/nbconvert-5.1.1-py35_1/lib/python3.5/site-packages/nbconvert/preprocessors/svg2pdf.py\n",
      "/Users/fonnescj/anaconda3/pkgs/nbconvert-5.1.1-py35_1/lib/python3.5/site-packages/nbconvert/preprocessors/tests/__pycache__/test_svg2pdf.cpython-35.pyc\n",
      "/Users/fonnescj/anaconda3/pkgs/nbconvert-5.1.1-py35_1/lib/python3.5/site-packages/nbconvert/preprocessors/tests/test_svg2pdf.py\n",
      "/Users/fonnescj/anaconda3/pkgs/nbconvert-5.1.1-py36_0/lib/python3.6/site-packages/nbconvert/exporters/__pycache__/pdf.cpython-36.pyc\n",
      "/Users/fonnescj/anaconda3/pkgs/nbconvert-5.1.1-py36_0/lib/python3.6/site-packages/nbconvert/exporters/pdf.py\n",
      "/Users/fonnescj/anaconda3/pkgs/nbconvert-5.1.1-py36_0/lib/python3.6/site-packages/nbconvert/exporters/tests/__pycache__/test_pdf.cpython-36.pyc\n",
      "/Users/fonnescj/anaconda3/pkgs/nbconvert-5.1.1-py36_0/lib/python3.6/site-packages/nbconvert/exporters/tests/test_pdf.py\n",
      "/Users/fonnescj/anaconda3/pkgs/nbconvert-5.1.1-py36_0/lib/python3.6/site-packages/nbconvert/preprocessors/__pycache__/svg2pdf.cpython-36.pyc\n",
      "/Users/fonnescj/anaconda3/pkgs/nbconvert-5.1.1-py36_0/lib/python3.6/site-packages/nbconvert/preprocessors/svg2pdf.py\n",
      "/Users/fonnescj/anaconda3/pkgs/nbconvert-5.1.1-py36_0/lib/python3.6/site-packages/nbconvert/preprocessors/tests/__pycache__/test_svg2pdf.cpython-36.pyc\n",
      "/Users/fonnescj/anaconda3/pkgs/nbconvert-5.1.1-py36_0/lib/python3.6/site-packages/nbconvert/preprocessors/tests/test_svg2pdf.py\n",
      "/Users/fonnescj/anaconda3/pkgs/nbconvert-5.1.1-py36_1/lib/python3.6/site-packages/nbconvert/exporters/__pycache__/pdf.cpython-36.pyc\n",
      "/Users/fonnescj/anaconda3/pkgs/nbconvert-5.1.1-py36_1/lib/python3.6/site-packages/nbconvert/exporters/pdf.py\n",
      "/Users/fonnescj/anaconda3/pkgs/nbconvert-5.1.1-py36_1/lib/python3.6/site-packages/nbconvert/exporters/tests/__pycache__/test_pdf.cpython-36.pyc\n",
      "/Users/fonnescj/anaconda3/pkgs/nbconvert-5.1.1-py36_1/lib/python3.6/site-packages/nbconvert/exporters/tests/test_pdf.py\n",
      "/Users/fonnescj/anaconda3/pkgs/nbconvert-5.1.1-py36_1/lib/python3.6/site-packages/nbconvert/preprocessors/__pycache__/svg2pdf.cpython-36.pyc\n",
      "/Users/fonnescj/anaconda3/pkgs/nbconvert-5.1.1-py36_1/lib/python3.6/site-packages/nbconvert/preprocessors/svg2pdf.py\n",
      "/Users/fonnescj/anaconda3/pkgs/nbconvert-5.1.1-py36_1/lib/python3.6/site-packages/nbconvert/preprocessors/tests/__pycache__/test_svg2pdf.cpython-36.pyc\n",
      "/Users/fonnescj/anaconda3/pkgs/nbconvert-5.1.1-py36_1/lib/python3.6/site-packages/nbconvert/preprocessors/tests/test_svg2pdf.py\n",
      "/Users/fonnescj/anaconda3/pkgs/nbconvert-5.2.1-py36_1/lib/python3.6/site-packages/nbconvert/exporters/__pycache__/pdf.cpython-36.pyc\n",
      "/Users/fonnescj/anaconda3/pkgs/nbconvert-5.2.1-py36_1/lib/python3.6/site-packages/nbconvert/exporters/pdf.py\n",
      "/Users/fonnescj/anaconda3/pkgs/nbconvert-5.2.1-py36_1/lib/python3.6/site-packages/nbconvert/exporters/tests/__pycache__/test_pdf.cpython-36.pyc\n",
      "/Users/fonnescj/anaconda3/pkgs/nbconvert-5.2.1-py36_1/lib/python3.6/site-packages/nbconvert/exporters/tests/test_pdf.py\n",
      "/Users/fonnescj/anaconda3/pkgs/nbconvert-5.2.1-py36_1/lib/python3.6/site-packages/nbconvert/preprocessors/__pycache__/svg2pdf.cpython-36.pyc\n",
      "/Users/fonnescj/anaconda3/pkgs/nbconvert-5.2.1-py36_1/lib/python3.6/site-packages/nbconvert/preprocessors/svg2pdf.py\n",
      "/Users/fonnescj/anaconda3/pkgs/nbconvert-5.2.1-py36_1/lib/python3.6/site-packages/nbconvert/preprocessors/tests/__pycache__/test_svg2pdf.cpython-36.pyc\n",
      "/Users/fonnescj/anaconda3/pkgs/nbconvert-5.2.1-py36_1/lib/python3.6/site-packages/nbconvert/preprocessors/tests/test_svg2pdf.py\n"
     ]
    },
    {
     "name": "stdout",
     "output_type": "stream",
     "text": [
      "/Users/fonnescj/anaconda3/pkgs/rise-5.0.0-py36_0/lib/python3.6/site-packages/rise/static/reveal.js/css/print/pdf.css\n",
      "/Users/fonnescj/anaconda3/pkgs/rise-5.0.0-py36_0/lib/python3.6/site-packages/rise/static/reveal.js/plugin/print-pdf\n",
      "/Users/fonnescj/anaconda3/pkgs/rise-5.0.0-py36_0/lib/python3.6/site-packages/rise/static/reveal.js/plugin/print-pdf/print-pdf.js\n",
      "/Users/fonnescj/anaconda3/pkgs/rise-5.0.0-py36_0/lib/python3.6/site-packages/rise/static/reveal.js/test/test-pdf.html\n",
      "/Users/fonnescj/anaconda3/pkgs/rise-5.0.0-py36_0/lib/python3.6/site-packages/rise/static/reveal.js/test/test-pdf.js\n",
      "/Users/fonnescj/anaconda3/pkgs/spyder-3.1.2-py36_0/lib/python3.6/site-packages/spyder/images/filetypes/pdf.png\n",
      "/usr/local/texlive/2016/texmf-dist/doc/latex/pythontex/pythontex.pdf\n",
      "/usr/local/texlive/2016/texmf-dist/doc/latex/pythontex/pythontex_gallery.pdf\n",
      "/usr/local/texlive/2016/texmf-dist/doc/latex/pythontex/pythontex_quickstart.pdf\n"
     ]
    }
   ],
   "source": [
    "!locate python | grep pdf"
   ]
  },
  {
   "cell_type": "markdown",
   "metadata": {},
   "source": [
    "You can even use Python variables in commands sent to the OS:"
   ]
  },
  {
   "cell_type": "code",
   "execution_count": 14,
   "metadata": {},
   "outputs": [
    {
     "name": "stdout",
     "output_type": "stream",
     "text": [
      "images/command_mode.png             images/python-logo-master-v3-TM.png\r\n",
      "images/edit_mode.png                images/qtconsole.png\r\n",
      "images/ipython_architecture.png     images/workflow.png\r\n",
      "images/parallel_tab.png\r\n"
     ]
    }
   ],
   "source": [
    "file_type = 'png'\n",
    "!ls images/*$file_type"
   ]
  },
  {
   "cell_type": "markdown",
   "metadata": {},
   "source": [
    "The output of a system command using the exclamation point syntax can be assigned to a Python variable."
   ]
  },
  {
   "cell_type": "code",
   "execution_count": 15,
   "metadata": {},
   "outputs": [],
   "source": [
    "data_files = !ls images/"
   ]
  },
  {
   "cell_type": "code",
   "execution_count": 16,
   "metadata": {},
   "outputs": [
    {
     "data": {
      "text/plain": [
       "['command_mode.png',\n",
       " 'edit_mode.png',\n",
       " 'ipython_architecture.png',\n",
       " 'parallel_tab.png',\n",
       " 'python-logo-master-v3-TM.png',\n",
       " 'qtconsole.png',\n",
       " 'workflow.png']"
      ]
     },
     "execution_count": 16,
     "metadata": {},
     "output_type": "execute_result"
    }
   ],
   "source": [
    "data_files"
   ]
  },
  {
   "cell_type": "code",
   "execution_count": 17,
   "metadata": {},
   "outputs": [],
   "source": [
    "%qtconsole"
   ]
  },
  {
   "cell_type": "markdown",
   "metadata": {},
   "source": [
    "## Qt Console\n",
    "\n",
    "If you type at the system prompt:\n",
    "\n",
    "    $ ipython qtconsole\n",
    "\n",
    "instead of opening in a terminal, IPython will start a graphical console that at first sight appears just like a terminal, but which is in fact much more capable than a text-only terminal.  This is a specialized terminal designed for interactive scientific work, and it supports full multi-line editing with color highlighting and graphical calltips for functions, it can keep multiple IPython sessions open simultaneously in tabs, and when scripts run it can display the figures inline directly in the work area.\n",
    "\n",
    "![qtconsole](images/qtconsole.png)"
   ]
  },
  {
   "cell_type": "markdown",
   "metadata": {},
   "source": [
    "## Interactive Plotting\n",
    "\n",
    "Any plots generated by the Python kernel can be redirected to appear **inline**, in an output cell. Here is an example using Matplotlib:"
   ]
  },
  {
   "cell_type": "code",
   "execution_count": 18,
   "metadata": {
    "scrolled": true
   },
   "outputs": [
    {
     "data": {
      "text/plain": [
       "[<matplotlib.lines.Line2D at 0x112715080>]"
      ]
     },
     "execution_count": 18,
     "metadata": {},
     "output_type": "execute_result"
    },
    {
     "data": {
      "image/png": "[encoded data removed]",
      "text/plain": [
       "<matplotlib.figure.Figure at 0x1111340b8>"
      ]
     },
     "metadata": {},
     "output_type": "display_data"
    }
   ],
   "source": [
    "%matplotlib inline\n",
    "import matplotlib.pyplot as plt\n",
    "plt.style.use('fivethirtyeight')\n",
    "\n",
    "def f(x):\n",
    "    return (x-3)*(x-5)*(x-7)+85\n",
    "\n",
    "import numpy as np\n",
    "x = np.linspace(0, 10, 200)\n",
    "y = f(x)\n",
    "plt.plot(x,y)"
   ]
  },
  {
   "cell_type": "markdown",
   "metadata": {},
   "source": [
    "### Bokeh\n",
    "\n",
    "Matplotlib will be your workhorse for creating plots in notebooks. But it's not the only game in town! A recent new player is [**Bokeh**](http://nbviewer.jupyter.org/github/bokeh/bokeh-notebooks/blob/master/index.ipynb), a visualization library to make amazing interactive plots and share them online. It can also handle very large data sets with excellent performance.\n",
    "\n",
    "If you installed **Anaconda** in your system, you will probably already have **Bokeh**. You can check if it's there by running the `conda list` command. If you installed **Miniconda**, you will need to install it with `conda install bokeh`.\n",
    "\n",
    "After installing **Bokeh**, we have many modules available: [`bokeh.plotting`](http://bokeh.pydata.org/en/latest/docs/reference/plotting.html#bokeh-plotting) gives you the ability to create interactive figures with zoom, pan, resize, save, and other tools."
   ]
  },
  {
   "cell_type": "code",
   "execution_count": 19,
   "metadata": {},
   "outputs": [],
   "source": [
    "from bokeh import plotting as bplotting"
   ]
  },
  {
   "cell_type": "markdown",
   "metadata": {},
   "source": [
    "**Bokeh** integrates with Jupyter notebooks by calling the output function, as follows:"
   ]
  },
  {
   "cell_type": "code",
   "execution_count": 20,
   "metadata": {},
   "outputs": [
    {
     "data": {
      "text/html": [
       "\n",
       "    <div class=\"bk-root\">\n",
       "        <a href=\"http://bokeh.pydata.org\" target=\"_blank\" class=\"bk-logo bk-logo-small bk-logo-notebook\"></a>\n",
       "        <span id=\"6b3fac7a-4a32-4704-b5d9-dcebcc5d9c57\">Loading BokehJS ...</span>\n",
       "    </div>"
      ]
     },
     "metadata": {},
     "output_type": "display_data"
    },
    {
     "data": {
      "application/javascript": [
       "\n",
       "(function(global) {\n",
       "  function now() {\n",
       "    return new Date();\n",
       "  }\n",
       "\n",
       "  var force = true;\n",
       "\n",
       "  if (typeof (window._bokeh_onload_callbacks) === \"undefined\" || force === true) {\n",
       "    window._bokeh_onload_callbacks = [];\n",
       "    window._bokeh_is_loading = undefined;\n",
       "  }\n",
       "\n",
       "\n",
       "  \n",
       "  if (typeof (window._bokeh_timeout) === \"undefined\" || force === true) {\n",
       "    window._bokeh_timeout = Date.now() + 5000;\n",
       "    window._bokeh_failed_load = false;\n",
       "  }\n",
       "\n",
       "  var NB_LOAD_WARNING = {'data': {'text/html':\n",
       "     \"<div style='background-color: #fdd'>\\n\"+\n",
       "     \"<p>\\n\"+\n",
       "     \"BokehJS does not appear to have successfully loaded. If loading BokehJS from CDN, this \\n\"+\n",
       "     \"may be due to a slow or bad network connection. Possible fixes:\\n\"+\n",
       "     \"</p>\\n\"+\n",
       "     \"<ul>\\n\"+\n",
       "     \"<li>re-rerun `output_notebook()` to attempt to load from CDN again, or</li>\\n\"+\n",
       "     \"<li>use INLINE resources instead, as so:</li>\\n\"+\n",
       "     \"</ul>\\n\"+\n",
       "     \"<code>\\n\"+\n",
       "     \"from bokeh.resources import INLINE\\n\"+\n",
       "     \"output_notebook(resources=INLINE)\\n\"+\n",
       "     \"</code>\\n\"+\n",
       "     \"</div>\"}};\n",
       "\n",
       "  function display_loaded() {\n",
       "    if (window.Bokeh !== undefined) {\n",
       "      document.getElementById(\"6b3fac7a-4a32-4704-b5d9-dcebcc5d9c57\").textContent = \"BokehJS successfully loaded.\";\n",
       "    } else if (Date.now() < window._bokeh_timeout) {\n",
       "      setTimeout(display_loaded, 100)\n",
       "    }\n",
       "  }\n",
       "\n",
       "  function run_callbacks() {\n",
       "    window._bokeh_onload_callbacks.forEach(function(callback) { callback() });\n",
       "    delete window._bokeh_onload_callbacks\n",
       "    console.info(\"Bokeh: all callbacks have finished\");\n",
       "  }\n",
       "\n",
       "  function load_libs(js_urls, callback) {\n",
       "    window._bokeh_onload_callbacks.push(callback);\n",
       "    if (window._bokeh_is_loading > 0) {\n",
       "      console.log(\"Bokeh: BokehJS is being loaded, scheduling callback at\", now());\n",
       "      return null;\n",
       "    }\n",
       "    if (js_urls == null || js_urls.length === 0) {\n",
       "      run_callbacks();\n",
       "      return null;\n",
       "    }\n",
       "    console.log(\"Bokeh: BokehJS not loaded, scheduling load and callback at\", now());\n",
       "    window._bokeh_is_loading = js_urls.length;\n",
       "    for (var i = 0; i < js_urls.length; i++) {\n",
       "      var url = js_urls[i];\n",
       "      var s = document.createElement('script');\n",
       "      s.src = url;\n",
       "      s.async = false;\n",
       "      s.onreadystatechange = s.onload = function() {\n",
       "        window._bokeh_is_loading--;\n",
       "        if (window._bokeh_is_loading === 0) {\n",
       "          console.log(\"Bokeh: all BokehJS libraries loaded\");\n",
       "          run_callbacks()\n",
       "        }\n",
       "      };\n",
       "      s.onerror = function() {\n",
       "        console.warn(\"failed to load library \" + url);\n",
       "      };\n",
       "      console.log(\"Bokeh: injecting script tag for BokehJS library: \", url);\n",
       "      document.getElementsByTagName(\"head\")[0].appendChild(s);\n",
       "    }\n",
       "  };var element = document.getElementById(\"6b3fac7a-4a32-4704-b5d9-dcebcc5d9c57\");\n",
       "  if (element == null) {\n",
       "    console.log(\"Bokeh: ERROR: autoload.js configured with elementid '6b3fac7a-4a32-4704-b5d9-dcebcc5d9c57' but no matching script tag was found. \")\n",
       "    return false;\n",
       "  }\n",
       "\n",
       "  var js_urls = [\"https://cdn.pydata.org/bokeh/release/bokeh-0.12.4.min.js\", \"https://cdn.pydata.org/bokeh/release/bokeh-widgets-0.12.4.min.js\"];\n",
       "\n",
       "  var inline_js = [\n",
       "    function(Bokeh) {\n",
       "      Bokeh.set_log_level(\"info\");\n",
       "    },\n",
       "    \n",
       "    function(Bokeh) {\n",
       "      \n",
       "      document.getElementById(\"6b3fac7a-4a32-4704-b5d9-dcebcc5d9c57\").textContent = \"BokehJS is loading...\";\n",
       "    },\n",
       "    function(Bokeh) {\n",
       "      console.log(\"Bokeh: injecting CSS: https://cdn.pydata.org/bokeh/release/bokeh-0.12.4.min.css\");\n",
       "      Bokeh.embed.inject_css(\"https://cdn.pydata.org/bokeh/release/bokeh-0.12.4.min.css\");\n",
       "      console.log(\"Bokeh: injecting CSS: https://cdn.pydata.org/bokeh/release/bokeh-widgets-0.12.4.min.css\");\n",
       "      Bokeh.embed.inject_css(\"https://cdn.pydata.org/bokeh/release/bokeh-widgets-0.12.4.min.css\");\n",
       "    }\n",
       "  ];\n",
       "\n",
       "  function run_inline_js() {\n",
       "    \n",
       "    if ((window.Bokeh !== undefined) || (force === true)) {\n",
       "      for (var i = 0; i < inline_js.length; i++) {\n",
       "        inline_js[i](window.Bokeh);\n",
       "      }if (force === true) {\n",
       "        display_loaded();\n",
       "      }} else if (Date.now() < window._bokeh_timeout) {\n",
       "      setTimeout(run_inline_js, 100);\n",
       "    } else if (!window._bokeh_failed_load) {\n",
       "      console.log(\"Bokeh: BokehJS failed to load within specified timeout.\");\n",
       "      window._bokeh_failed_load = true;\n",
       "    } else if (force !== true) {\n",
       "      var cell = $(document.getElementById(\"6b3fac7a-4a32-4704-b5d9-dcebcc5d9c57\")).parents('.cell').data().cell;\n",
       "      cell.output_area.append_execute_result(NB_LOAD_WARNING)\n",
       "    }\n",
       "\n",
       "  }\n",
       "\n",
       "  if (window._bokeh_is_loading === 0) {\n",
       "    console.log(\"Bokeh: BokehJS loaded, going straight to plotting\");\n",
       "    run_inline_js();\n",
       "  } else {\n",
       "    load_libs(js_urls, function() {\n",
       "      console.log(\"Bokeh: BokehJS plotting callback run at\", now());\n",
       "      run_inline_js();\n",
       "    });\n",
       "  }\n",
       "}(this));"
      ]
     },
     "metadata": {},
     "output_type": "display_data"
    }
   ],
   "source": [
    "bplotting.output_notebook()"
   ]
  },
  {
   "cell_type": "code",
   "execution_count": 21,
   "metadata": {},
   "outputs": [],
   "source": [
    "import numpy\n",
    "# Get an array of 100 evenly spaced points from 0 to 2*pi\n",
    "x = np.linspace(0.0, 2.0 * numpy.pi, 100)\n",
    "\n",
    "# Make a pointwise function of x with exp(sin(x))\n",
    "y = np.exp(np.sin(x))\n",
    "\n",
    "deriv_exact = y * np.cos(x) # analytical derivative"
   ]
  },
  {
   "cell_type": "code",
   "execution_count": 22,
   "metadata": {},
   "outputs": [],
   "source": [
    "def forward_diff(y, x):\n",
    "    \"\"\"Compute derivative by forward differencing.\"\"\"\n",
    "\n",
    "    # Use numpy.empty to make an empty array to put our derivatives in\n",
    "    deriv = numpy.empty(y.size - 1)\n",
    "\n",
    "    # Use a for-loop to go through each point and compute the derivative.\n",
    "    for i in range(deriv.size):\n",
    "        deriv[i] = (y[i+1] - y[i]) / (x[i+1] - x[i])\n",
    "        \n",
    "    # Return the derivative (a NumPy array)\n",
    "    return deriv\n",
    "        \n",
    "# Call the function to perform finite differencing\n",
    "deriv = forward_diff(y, x)"
   ]
  },
  {
   "cell_type": "code",
   "execution_count": 23,
   "metadata": {},
   "outputs": [
    {
     "data": {
      "text/html": [
       "\n",
       "\n",
       "    <div class=\"bk-root\">\n",
       "        <div class=\"bk-plotdiv\" id=\"bcc47a06-29e9-4dfb-b967-0abef5d50b89\"></div>\n",
       "    </div>\n",
       "<script type=\"text/javascript\">\n",
       "  \n",
       "  (function(global) {\n",
       "    function now() {\n",
       "      return new Date();\n",
       "    }\n",
       "  \n",
       "    var force = false;\n",
       "  \n",
       "    if (typeof (window._bokeh_onload_callbacks) === \"undefined\" || force === true) {\n",
       "      window._bokeh_onload_callbacks = [];\n",
       "      window._bokeh_is_loading = undefined;\n",
       "    }\n",
       "  \n",
       "  \n",
       "    \n",
       "    if (typeof (window._bokeh_timeout) === \"undefined\" || force === true) {\n",
       "      window._bokeh_timeout = Date.now() + 0;\n",
       "      window._bokeh_failed_load = false;\n",
       "    }\n",
       "  \n",
       "    var NB_LOAD_WARNING = {'data': {'text/html':\n",
       "       \"<div style='background-color: #fdd'>\\n\"+\n",
       "       \"<p>\\n\"+\n",
       "       \"BokehJS does not appear to have successfully loaded. If loading BokehJS from CDN, this \\n\"+\n",
       "       \"may be due to a slow or bad network connection. Possible fixes:\\n\"+\n",
       "       \"</p>\\n\"+\n",
       "       \"<ul>\\n\"+\n",
       "       \"<li>re-rerun `output_notebook()` to attempt to load from CDN again, or</li>\\n\"+\n",
       "       \"<li>use INLINE resources instead, as so:</li>\\n\"+\n",
       "       \"</ul>\\n\"+\n",
       "       \"<code>\\n\"+\n",
       "       \"from bokeh.resources import INLINE\\n\"+\n",
       "       \"output_notebook(resources=INLINE)\\n\"+\n",
       "       \"</code>\\n\"+\n",
       "       \"</div>\"}};\n",
       "  \n",
       "    function display_loaded() {\n",
       "      if (window.Bokeh !== undefined) {\n",
       "        document.getElementById(\"bcc47a06-29e9-4dfb-b967-0abef5d50b89\").textContent = \"BokehJS successfully loaded.\";\n",
       "      } else if (Date.now() < window._bokeh_timeout) {\n",
       "        setTimeout(display_loaded, 100)\n",
       "      }\n",
       "    }\n",
       "  \n",
       "    function run_callbacks() {\n",
       "      window._bokeh_onload_callbacks.forEach(function(callback) { callback() });\n",
       "      delete window._bokeh_onload_callbacks\n",
       "      console.info(\"Bokeh: all callbacks have finished\");\n",
       "    }\n",
       "  \n",
       "    function load_libs(js_urls, callback) {\n",
       "      window._bokeh_onload_callbacks.push(callback);\n",
       "      if (window._bokeh_is_loading > 0) {\n",
       "        console.log(\"Bokeh: BokehJS is being loaded, scheduling callback at\", now());\n",
       "        return null;\n",
       "      }\n",
       "      if (js_urls == null || js_urls.length === 0) {\n",
       "        run_callbacks();\n",
       "        return null;\n",
       "      }\n",
       "      console.log(\"Bokeh: BokehJS not loaded, scheduling load and callback at\", now());\n",
       "      window._bokeh_is_loading = js_urls.length;\n",
       "      for (var i = 0; i < js_urls.length; i++) {\n",
       "        var url = js_urls[i];\n",
       "        var s = document.createElement('script');\n",
       "        s.src = url;\n",
       "        s.async = false;\n",
       "        s.onreadystatechange = s.onload = function() {\n",
       "          window._bokeh_is_loading--;\n",
       "          if (window._bokeh_is_loading === 0) {\n",
       "            console.log(\"Bokeh: all BokehJS libraries loaded\");\n",
       "            run_callbacks()\n",
       "          }\n",
       "        };\n",
       "        s.onerror = function() {\n",
       "          console.warn(\"failed to load library \" + url);\n",
       "        };\n",
       "        console.log(\"Bokeh: injecting script tag for BokehJS library: \", url);\n",
       "        document.getElementsByTagName(\"head\")[0].appendChild(s);\n",
       "      }\n",
       "    };var element = document.getElementById(\"bcc47a06-29e9-4dfb-b967-0abef5d50b89\");\n",
       "    if (element == null) {\n",
       "      console.log(\"Bokeh: ERROR: autoload.js configured with elementid 'bcc47a06-29e9-4dfb-b967-0abef5d50b89' but no matching script tag was found. \")\n",
       "      return false;\n",
       "    }\n",
       "  \n",
       "    var js_urls = [];\n",
       "  \n",
       "    var inline_js = [\n",
       "      function(Bokeh) {\n",
       "        (function() {\n",
       "          var fn = function() {\n",
       "            var docs_json = {\"3f581f68-59bc-4525-9c9c-2adcaba92d68\":{\"roots\":{\"references\":[{\"attributes\":{\"line_alpha\":{\"value\":0.1},\"line_color\":{\"value\":\"#1f77b4\"},\"line_width\":{\"value\":2},\"x\":{\"field\":\"x\"},\"y\":{\"field\":\"y\"}},\"id\":\"b076b7b9-873f-4a7e-aa8e-b8d1f01862b7\",\"type\":\"Line\"},{\"attributes\":{},\"id\":\"fb9bccd9-29b4-4a88-a111-6360e5b608b2\",\"type\":\"BasicTickFormatter\"},{\"attributes\":{\"below\":[{\"id\":\"3347304a-cfb6-4ba2-ac81-0483c76b1fd9\",\"type\":\"LinearAxis\"}],\"left\":[{\"id\":\"cc24b20c-1bc9-48ad-8651-4d2261a70ca7\",\"type\":\"LinearAxis\"}],\"renderers\":[{\"id\":\"3347304a-cfb6-4ba2-ac81-0483c76b1fd9\",\"type\":\"LinearAxis\"},{\"id\":\"436e8bd8-fbe9-4ec5-8d2e-0f72e2e32f2d\",\"type\":\"Grid\"},{\"id\":\"cc24b20c-1bc9-48ad-8651-4d2261a70ca7\",\"type\":\"LinearAxis\"},{\"id\":\"0c49cc80-e61a-4d91-95ae-03dc5c13171e\",\"type\":\"Grid\"},{\"id\":\"c00575e4-3873-48e8-9863-0080fcd11bb0\",\"type\":\"BoxAnnotation\"},{\"id\":\"f5dd76a0-56e6-4f8f-8742-37320bba9280\",\"type\":\"Legend\"},{\"id\":\"af65f1c1-7903-447a-9216-bcb91a26d320\",\"type\":\"GlyphRenderer\"},{\"id\":\"198bf4a1-568d-4003-957c-a43a9a12b662\",\"type\":\"GlyphRenderer\"}],\"title\":{\"id\":\"15ed5b74-453e-4522-80ed-0632f5192310\",\"type\":\"Title\"},\"tool_events\":{\"id\":\"f0cb9719-ba03-4f57-8887-55a59933d0ea\",\"type\":\"ToolEvents\"},\"toolbar\":{\"id\":\"0a96a97b-3e0d-4d9e-94e9-8bf7264edfe6\",\"type\":\"Toolbar\"},\"x_range\":{\"id\":\"7d0b3075-3f95-42fc-b4e5-7cca0ea0d314\",\"type\":\"DataRange1d\"},\"y_range\":{\"id\":\"50014631-37cd-4957-9700-bdf21097cbc4\",\"type\":\"DataRange1d\"}},\"id\":\"591bd915-eae8-44ff-bace-fc6d1a5a94a9\",\"subtype\":\"Figure\",\"type\":\"Plot\"},{\"attributes\":{\"plot\":null,\"text\":\"Derivative of exp(sin(x))\",\"text_font\":\"palatino\"},\"id\":\"15ed5b74-453e-4522-80ed-0632f5192310\",\"type\":\"Title\"},{\"attributes\":{},\"id\":\"f0cb9719-ba03-4f57-8887-55a59933d0ea\",\"type\":\"ToolEvents\"},{\"attributes\":{},\"id\":\"25f1e1a3-3098-49b2-aa76-4599bff1fafc\",\"type\":\"BasicTickFormatter\"},{\"attributes\":{\"callback\":null},\"id\":\"7d0b3075-3f95-42fc-b4e5-7cca0ea0d314\",\"type\":\"DataRange1d\"},{\"attributes\":{\"active_drag\":\"auto\",\"active_scroll\":\"auto\",\"active_tap\":\"auto\",\"tools\":[{\"id\":\"b8d637bd-4a4e-45d6-be7c-5bb163c4b9e7\",\"type\":\"PanTool\"},{\"id\":\"7918ed66-0b7b-4ee1-84bb-fb99e13b2bae\",\"type\":\"WheelZoomTool\"},{\"id\":\"53440f92-0aee-40fd-88f3-6575d3ba63da\",\"type\":\"BoxZoomTool\"},{\"id\":\"d6d302e9-3157-42b9-8529-dde5acda923c\",\"type\":\"SaveTool\"},{\"id\":\"2b383fcc-6f91-4c74-ae6e-f85037be9257\",\"type\":\"ResetTool\"},{\"id\":\"8da5b6e8-d8cb-4ef0-8811-39c3785b3552\",\"type\":\"HelpTool\"}]},\"id\":\"0a96a97b-3e0d-4d9e-94e9-8bf7264edfe6\",\"type\":\"Toolbar\"},{\"attributes\":{\"callback\":null},\"id\":\"50014631-37cd-4957-9700-bdf21097cbc4\",\"type\":\"DataRange1d\"},{\"attributes\":{\"axis_label\":\"x\",\"formatter\":{\"id\":\"fb9bccd9-29b4-4a88-a111-6360e5b608b2\",\"type\":\"BasicTickFormatter\"},\"plot\":{\"id\":\"591bd915-eae8-44ff-bace-fc6d1a5a94a9\",\"subtype\":\"Figure\",\"type\":\"Plot\"},\"ticker\":{\"id\":\"ee70e21d-5977-4a90-a777-dbe55025dd53\",\"type\":\"BasicTicker\"}},\"id\":\"3347304a-cfb6-4ba2-ac81-0483c76b1fd9\",\"type\":\"LinearAxis\"},{\"attributes\":{},\"id\":\"ee70e21d-5977-4a90-a777-dbe55025dd53\",\"type\":\"BasicTicker\"},{\"attributes\":{\"callback\":null,\"column_names\":[\"x\",\"y\"],\"data\":{\"x\":{\"__ndarray__\":\"kRpLfFc/oD/ap3A6A1+4PzbhXVstT8Q/fm6DGdluzD/jfdRrQkfSP4hE50oYV9Y/LAv6Ke5m2j/Q0QwJxHbePzrMD/RMQ+E/jC+Z4zdL4z/ekiLTIlPlPzD2q8INW+c/g1k1svhi6T/VvL6h42rrPycgSJHOcu0/eYPRgLl67z9mcy04UsHwPw4l8q9HxfE/uNa2Jz3J8j9giHufMs3zPwo6QBco0fQ/susEjx3V9T9cnckGE9n2PwVPjn4I3fc/rgBT9v3g+D9Yshdu8+T5PwBk3OXo6Po/qhWhXd7s+z9Sx2XV0/D8P/x4Kk3J9P0/pCrvxL74/j9O3LM8tPz/P/xGPNpUgABA0J8elk8CAUCk+ABSSoQBQHlR4w1FBgJATqrFyT+IAkAiA6iFOgoDQPZbikE1jANAy7Rs/S8OBECgDU+5KpAEQHRmMXUlEgVASL8TMSCUBUAdGPbsGhYGQPJw2KgVmAZAxsm6ZBAaB0CaIp0gC5wHQHB7f9wFHghARNRhmACgCEAYLURU+yEJQO2FJhD2owlAwt4IzPAlCkCWN+uH66cKQGqQzUPmKQtAP+mv/+CrC0AUQpK72y0MQOiadHfWrwxAvPNWM9ExDUCRTDnvy7MNQGalG6vGNQ5AOv79ZsG3DkAOV+AivDkPQOOvwt62uw9AXIRSzdgeEEDGsEMr1l8QQDDdNInToBBAmwkm59DhEEAFNhdFziIRQG9iCKPLYxFA2o75AMmkEUBEu+pexuURQK7n27zDJhJAGBTNGsFnEkCCQL54vqgSQO1sr9a76RJAV5mgNLkqE0DBxZGStmsTQCzygvCzrBNAlh50TrHtE0AAS2Wsri4UQGp3VgqsbxRA1aNHaKmwFEA/0DjGpvEUQKn8KSSkMhVAFCkbgqFzFUB+VQzgnrQVQOiB/T2c9RVAUq7um5k2FkC82t/5lncWQCcH0VeUuBZAkTPCtZH5FkD7X7MTjzoXQGaMpHGMexdA0LiVz4m8F0A65YYth/0XQKQReIuEPhhADz5p6YF/GEB5alpHf8AYQOOWS6V8ARlA\",\"dtype\":\"float64\",\"shape\":[99]},\"y\":{\"__ndarray__\":\"qiqfFtiB8D9K1gs/1oPxP4j0xBRzgPI/kIk8iHpz8z/EFkkJOFj0P5HxjRmDKfU/KdFOmdLh9T8mJ1Q/V3v2P4/rTVod8PY/10X0kzU69z/l37b341P3PzHiLf7TN/c/4RwJ3E/h9j82uSbZeEz2PzxTPQ5+dvU/B6nMoM5d9D9P1Y14RALzP73H1n9EZfE/uBWKnKMT7z/7VddFI+nqP+lnuJh9V+Y/b7Mf/hdu4T8SSwdc1n3YPx2ZtygieMs/26HJ8mMQpj+f0RnxnIbAv2rQXd+8JtO/lzuptQi83b/o7qNksezjvwEP93RPrOi/tFov8SEM7b9evaXmGH/wvyld2NnMO/K/OUjJIli487/bqHw9iPL0v/6sEgbB6fW/afVAtuKe9r9J9h8QJBT3v28ZAYXjTPe/Dpy1WHJN97/kzrC93Br3vwIGnLOxuva/RDQJGs0y9r9rIlD3JYn1v7B2/XOiw/S/kEKEiPLn879BznTecfvyv+K7kPcQA/K/r46PUEUD8b8HPrbb///vv99n/xxT+e2/LyG1R0f4679VhsBBmgHqvxQxC24UGei/szjxSpxB5r9jDverTH3kvzQ5YTyMzeK/wJaHMyUz4b99ZLe9uFzfv+NcrboNfty/W1VSNDzJ2b/WLpt/ozzXv1if/AAv1tS/QOY7W3GT0r8DNa5au3HQvxz6arVd3My/Xjho8JsLyb9gmlHgDWvFvz/hCB969MG/iUooaTxDvb/9Pqw2bti2v1kHgXEMnLC/tQt4+E0Dpb+m///OavORv6O5KAod63c/PCej1U31nT+C9rpMwRarP9j5JBs3tbM/7RL7NkAHuj8bI+Fu+UbAP+hIV8XoqsM/+ogisbE1xz+kEeFxk+3KP83HwGO+2M4/W+fwYKJ+0T/P/Lz4grDTP8H6yMTJBNY/+BLWqAd+2D/TI8XBgB7bP+H4l14T6N0/Rqb9UA1u4D8YFvNgpv3hP7rGeobKouM/IpXCDvVc5T97A914ECvnP3pVq/5eC+k/3AFB2mL76j+NWRlBx/fsP5UgH0pL/O4/\",\"dtype\":\"float64\",\"shape\":[99]}}},\"id\":\"3922720e-c0ce-42da-963c-5d1de4975711\",\"type\":\"ColumnDataSource\"},{\"attributes\":{\"grid_line_alpha\":{\"value\":0.3},\"plot\":{\"id\":\"591bd915-eae8-44ff-bace-fc6d1a5a94a9\",\"subtype\":\"Figure\",\"type\":\"Plot\"},\"ticker\":{\"id\":\"ee70e21d-5977-4a90-a777-dbe55025dd53\",\"type\":\"BasicTicker\"}},\"id\":\"436e8bd8-fbe9-4ec5-8d2e-0f72e2e32f2d\",\"type\":\"Grid\"},{\"attributes\":{\"data_source\":{\"id\":\"4889e649-c1db-4c80-985a-1f10fdf1bcd2\",\"type\":\"ColumnDataSource\"},\"glyph\":{\"id\":\"98e1452b-64ba-4e4f-a8eb-1654dae77ea4\",\"type\":\"Line\"},\"hover_glyph\":null,\"nonselection_glyph\":{\"id\":\"b076b7b9-873f-4a7e-aa8e-b8d1f01862b7\",\"type\":\"Line\"},\"selection_glyph\":null},\"id\":\"af65f1c1-7903-447a-9216-bcb91a26d320\",\"type\":\"GlyphRenderer\"},{\"attributes\":{\"axis_label\":\"dy/dx\",\"formatter\":{\"id\":\"25f1e1a3-3098-49b2-aa76-4599bff1fafc\",\"type\":\"BasicTickFormatter\"},\"plot\":{\"id\":\"591bd915-eae8-44ff-bace-fc6d1a5a94a9\",\"subtype\":\"Figure\",\"type\":\"Plot\"},\"ticker\":{\"id\":\"39aa5c99-bf90-4869-a5a3-9543df08f172\",\"type\":\"BasicTicker\"}},\"id\":\"cc24b20c-1bc9-48ad-8651-4d2261a70ca7\",\"type\":\"LinearAxis\"},{\"attributes\":{},\"id\":\"39aa5c99-bf90-4869-a5a3-9543df08f172\",\"type\":\"BasicTicker\"},{\"attributes\":{\"line_color\":{\"value\":null},\"size\":{\"units\":\"screen\",\"value\":8},\"x\":{\"field\":\"x\"},\"y\":{\"field\":\"y\"}},\"id\":\"de2ae45b-c27f-4142-91a7-f19b4aab746f\",\"type\":\"Circle\"},{\"attributes\":{\"dimension\":1,\"grid_line_alpha\":{\"value\":0.3},\"plot\":{\"id\":\"591bd915-eae8-44ff-bace-fc6d1a5a94a9\",\"subtype\":\"Figure\",\"type\":\"Plot\"},\"ticker\":{\"id\":\"39aa5c99-bf90-4869-a5a3-9543df08f172\",\"type\":\"BasicTicker\"}},\"id\":\"0c49cc80-e61a-4d91-95ae-03dc5c13171e\",\"type\":\"Grid\"},{\"attributes\":{\"data_source\":{\"id\":\"3922720e-c0ce-42da-963c-5d1de4975711\",\"type\":\"ColumnDataSource\"},\"glyph\":{\"id\":\"de2ae45b-c27f-4142-91a7-f19b4aab746f\",\"type\":\"Circle\"},\"hover_glyph\":null,\"nonselection_glyph\":{\"id\":\"1a93d9c3-04f6-4f70-81cb-7470486a9a93\",\"type\":\"Circle\"},\"selection_glyph\":null},\"id\":\"198bf4a1-568d-4003-957c-a43a9a12b662\",\"type\":\"GlyphRenderer\"},{\"attributes\":{\"bottom_units\":\"screen\",\"fill_alpha\":{\"value\":0.5},\"fill_color\":{\"value\":\"lightgrey\"},\"left_units\":\"screen\",\"level\":\"overlay\",\"line_alpha\":{\"value\":1.0},\"line_color\":{\"value\":\"black\"},\"line_dash\":[4,4],\"line_width\":{\"value\":2},\"plot\":null,\"render_mode\":\"css\",\"right_units\":\"screen\",\"top_units\":\"screen\"},\"id\":\"c00575e4-3873-48e8-9863-0080fcd11bb0\",\"type\":\"BoxAnnotation\"},{\"attributes\":{\"callback\":null,\"column_names\":[\"x\",\"y\"],\"data\":{\"x\":{\"__ndarray__\":\"AAAAAAAAAACRGkt8Vz+wP5EaS3xXP8A/2qdwOgNfyD+RGkt8Vz/QPzXhXVstT9Q/2qdwOgNf2D9+boMZ2W7cP5EaS3xXP+A/433Ua0JH4j814V1bLU/kP4dE50oYV+Y/2qdwOgNf6D8sC/op7mbqP35ugxnZbuw/0NEMCcR27j+RGkt8Vz/wPzrMD/RMQ/E/433Ua0JH8j+ML5njN0vzPzXhXVstT/Q/3pIi0yJT9T+HROdKGFf2PzD2q8INW/c/2qdwOgNf+D+DWTWy+GL5PywL+inuZvo/1by+oeNq+z9+boMZ2W78PycgSJHOcv0/0NEMCcR2/j95g9GAuXr/P5EaS3xXPwBAZnMtOFLBAEA6zA/0TEMBQA8l8q9HxQFA433Ua0JHAkC41rYnPckCQIwvmeM3SwNAYYh7nzLNA0A14V1bLU8EQAo6QBco0QRA3pIi0yJTBUCz6wSPHdUFQIdE50oYVwZAXJ3JBhPZBkAw9qvCDVsHQAVPjn4I3QdA2qdwOgNfCECuAFP2/eAIQINZNbL4YglAV7IXbvPkCUAsC/op7mYKQABk3OXo6ApA1by+oeNqC0CpFaFd3uwLQH5ugxnZbgxAUsdl1dPwDEAnIEiRznINQPt4Kk3J9A1A0NEMCcR2DkCkKu/EvvgOQHmD0YC5eg9ATdyzPLT8D0CRGkt8Vz8QQPtGPNpUgBBAZnMtOFLBEEDQnx6WTwIRQDrMD/RMQxFApPgAUkqEEUAPJfKvR8URQHlR4w1FBhJA433Ua0JHEkBNqsXJP4gSQLjWtic9yRJAIgOohToKE0CML5njN0sTQPZbikE1jBNAYYh7nzLNE0DLtGz9Lw4UQDXhXVstTxRAoA1PuSqQFEAKOkAXKNEUQHRmMXUlEhVA3pIi0yJTFUBJvxMxIJQVQLPrBI8d1RVAHRj27BoWFkCHROdKGFcWQPJw2KgVmBZAXJ3JBhPZFkDGybpkEBoXQDD2q8INWxdAmyKdIAucF0AFT45+CN0XQG97f9wFHhhA2qdwOgNfGEBE1GGYAKAYQK4AU/b94BhAGC1EVPshGUA=\",\"dtype\":\"float64\",\"shape\":[100]},\"y\":{\"__ndarray__\":\"AAAAAAAA8D8SmKu+aQPxP4xg7XRfA/I/NPbh9u/78j8Q8vJjpejzP2uj2ZGOxPQ/kRWu406K9T9eLKIfNTT2P1wHeI5ZvPY/0JUiU8Mc9z+4qeB5lE/3P/hwZ8E7T/c/YFuWnaoW9z/L9BNzjaH2P1oGFJmD7PU/KjsjVlT19D8DfZbZHbvzP3Bt9C57PvI/XOpDWp6B8D/85tNsuBDtPxcJCJ9QsOg/bp/dhf/v4z/nYfiCDMHdPwBrLjcBKtM/dHb1MXOJwD/DR+TOLhSmvzK7sUzWfMu/Wd8rhP6B2L9zgJLTAnHhv/ZLkLQoW+a/sE7qCnPt6r9W5YWPeBjvvzRTpZXgZ/G/WghSqgAF879u+keamWD0v5bWMkpHefW/0AWPLTFP9r+x3vrp6eP2v7H1PIJEOve/3v3i+SFW978kYmF4Ojz3vyy/xdXk8fa/07PhM9989r8V6BfgGuP1v9C/Zj+NKvW/z7JnAwdZ9L+bEgNmEnTzvzOe6LLYgPK/J6CH/w6E8b/3tPmf6YHwv64+MVUr/O6/g8HPaG/37L/BIYS43frqv9pQEm62Cum/FrgwcU0q579pVtCQH1zlvwY0yZTpoeO/8i/YAsD84b9TsqqdJm3gvyFQLL1N5t2/Rsanv8kc27/yAeq3ZHzYv0krux0/A9a/6jqAyROv07+2ljD5UH3Rv6wxsVha1s6/WHz8QXDryr+/0zqX0DPHv5X0oFpKqcO/cnDI3J1FwL/NNamKDgW6v7iVDWWKs7O/ytD9o3AUq79lTfQMvPKdv2/WsxIP6Xe/X4+WRODxkT+jZMhMgQGlP+RTTv6hmrA/YsTwF3/Wtj9YiwEOyEC9P1LMtyD98sE/C5fqEk5pxT9jxoWvmQnJP76bT+QZ2sw/itF9enlw0D+ZPwTSEJLSP7/l/76x1NQ/SqpGPgw71z/yQT+hjsfZP1GAQaVOfNw/XgcaRu5a3z+CkVIWPjLhPwym6OKnzOI/0K60o3B85D9fMuMXz0DmP43eD5JdGOg/N4HLOgIB6j8VC2OC1/frP2heC9kV+e0//v//////7z8=\",\"dtype\":\"float64\",\"shape\":[100]}}},\"id\":\"4889e649-c1db-4c80-985a-1f10fdf1bcd2\",\"type\":\"ColumnDataSource\"},{\"attributes\":{\"label\":{\"value\":\"numerical\"},\"renderers\":[{\"id\":\"198bf4a1-568d-4003-957c-a43a9a12b662\",\"type\":\"GlyphRenderer\"}]},\"id\":\"f41f25f2-0d73-4a98-b199-4126fd4b3282\",\"type\":\"LegendItem\"},{\"attributes\":{\"plot\":{\"id\":\"591bd915-eae8-44ff-bace-fc6d1a5a94a9\",\"subtype\":\"Figure\",\"type\":\"Plot\"}},\"id\":\"b8d637bd-4a4e-45d6-be7c-5bb163c4b9e7\",\"type\":\"PanTool\"},{\"attributes\":{\"label\":{\"value\":\"analytical\"},\"renderers\":[{\"id\":\"af65f1c1-7903-447a-9216-bcb91a26d320\",\"type\":\"GlyphRenderer\"}]},\"id\":\"4d5f8ef3-7a45-46f6-b364-8f88d641bd45\",\"type\":\"LegendItem\"},{\"attributes\":{\"plot\":{\"id\":\"591bd915-eae8-44ff-bace-fc6d1a5a94a9\",\"subtype\":\"Figure\",\"type\":\"Plot\"}},\"id\":\"7918ed66-0b7b-4ee1-84bb-fb99e13b2bae\",\"type\":\"WheelZoomTool\"},{\"attributes\":{\"overlay\":{\"id\":\"c00575e4-3873-48e8-9863-0080fcd11bb0\",\"type\":\"BoxAnnotation\"},\"plot\":{\"id\":\"591bd915-eae8-44ff-bace-fc6d1a5a94a9\",\"subtype\":\"Figure\",\"type\":\"Plot\"}},\"id\":\"53440f92-0aee-40fd-88f3-6575d3ba63da\",\"type\":\"BoxZoomTool\"},{\"attributes\":{\"fill_alpha\":{\"value\":0.1},\"fill_color\":{\"value\":\"#1f77b4\"},\"line_alpha\":{\"value\":0.1},\"line_color\":{\"value\":\"#1f77b4\"},\"size\":{\"units\":\"screen\",\"value\":8},\"x\":{\"field\":\"x\"},\"y\":{\"field\":\"y\"}},\"id\":\"1a93d9c3-04f6-4f70-81cb-7470486a9a93\",\"type\":\"Circle\"},{\"attributes\":{\"plot\":{\"id\":\"591bd915-eae8-44ff-bace-fc6d1a5a94a9\",\"subtype\":\"Figure\",\"type\":\"Plot\"}},\"id\":\"d6d302e9-3157-42b9-8529-dde5acda923c\",\"type\":\"SaveTool\"},{\"attributes\":{\"plot\":{\"id\":\"591bd915-eae8-44ff-bace-fc6d1a5a94a9\",\"subtype\":\"Figure\",\"type\":\"Plot\"}},\"id\":\"2b383fcc-6f91-4c74-ae6e-f85037be9257\",\"type\":\"ResetTool\"},{\"attributes\":{\"plot\":{\"id\":\"591bd915-eae8-44ff-bace-fc6d1a5a94a9\",\"subtype\":\"Figure\",\"type\":\"Plot\"}},\"id\":\"8da5b6e8-d8cb-4ef0-8811-39c3785b3552\",\"type\":\"HelpTool\"},{\"attributes\":{\"items\":[{\"id\":\"4d5f8ef3-7a45-46f6-b364-8f88d641bd45\",\"type\":\"LegendItem\"},{\"id\":\"f41f25f2-0d73-4a98-b199-4126fd4b3282\",\"type\":\"LegendItem\"}],\"plot\":{\"id\":\"591bd915-eae8-44ff-bace-fc6d1a5a94a9\",\"subtype\":\"Figure\",\"type\":\"Plot\"}},\"id\":\"f5dd76a0-56e6-4f8f-8742-37320bba9280\",\"type\":\"Legend\"},{\"attributes\":{\"line_color\":{\"value\":\"#1f77b4\"},\"line_width\":{\"value\":2},\"x\":{\"field\":\"x\"},\"y\":{\"field\":\"y\"}},\"id\":\"98e1452b-64ba-4e4f-a8eb-1654dae77ea4\",\"type\":\"Line\"}],\"root_ids\":[\"591bd915-eae8-44ff-bace-fc6d1a5a94a9\"]},\"title\":\"Bokeh Application\",\"version\":\"0.12.4\"}};\n",
       "            var render_items = [{\"docid\":\"3f581f68-59bc-4525-9c9c-2adcaba92d68\",\"elementid\":\"bcc47a06-29e9-4dfb-b967-0abef5d50b89\",\"modelid\":\"591bd915-eae8-44ff-bace-fc6d1a5a94a9\"}];\n",
       "            \n",
       "            Bokeh.embed.embed_items(docs_json, render_items);\n",
       "          };\n",
       "          if (document.readyState != \"loading\") fn();\n",
       "          else document.addEventListener(\"DOMContentLoaded\", fn);\n",
       "        })();\n",
       "      },\n",
       "      function(Bokeh) {\n",
       "      }\n",
       "    ];\n",
       "  \n",
       "    function run_inline_js() {\n",
       "      \n",
       "      if ((window.Bokeh !== undefined) || (force === true)) {\n",
       "        for (var i = 0; i < inline_js.length; i++) {\n",
       "          inline_js[i](window.Bokeh);\n",
       "        }if (force === true) {\n",
       "          display_loaded();\n",
       "        }} else if (Date.now() < window._bokeh_timeout) {\n",
       "        setTimeout(run_inline_js, 100);\n",
       "      } else if (!window._bokeh_failed_load) {\n",
       "        console.log(\"Bokeh: BokehJS failed to load within specified timeout.\");\n",
       "        window._bokeh_failed_load = true;\n",
       "      } else if (force !== true) {\n",
       "        var cell = $(document.getElementById(\"bcc47a06-29e9-4dfb-b967-0abef5d50b89\")).parents('.cell').data().cell;\n",
       "        cell.output_area.append_execute_result(NB_LOAD_WARNING)\n",
       "      }\n",
       "  \n",
       "    }\n",
       "  \n",
       "    if (window._bokeh_is_loading === 0) {\n",
       "      console.log(\"Bokeh: BokehJS loaded, going straight to plotting\");\n",
       "      run_inline_js();\n",
       "    } else {\n",
       "      load_libs(js_urls, function() {\n",
       "        console.log(\"Bokeh: BokehJS plotting callback run at\", now());\n",
       "        run_inline_js();\n",
       "      });\n",
       "    }\n",
       "  }(this));\n",
       "</script>"
      ]
     },
     "metadata": {},
     "output_type": "display_data"
    }
   ],
   "source": [
    "# create a new Bokeh plot with axis labels, name it \"bop\"\n",
    "bop = bplotting.figure(x_axis_label='x', y_axis_label='dy/dx')\n",
    "\n",
    "# add a title, change the font\n",
    "bop.title.text = \"Derivative of exp(sin(x))\"\n",
    "bop.title.text_font = \"palatino\"\n",
    "\n",
    "# add a line with legend and line thickness to \"bop\"\n",
    "bop.line(x, deriv_exact, legend=\"analytical\", line_width=2)\n",
    "\n",
    "# add circle markers with legend, specify color\n",
    "bop.circle((x[1:] + x[:-1]) / 2.0, deriv, legend=\"numerical\", fill_color=\"gray\", size=8, line_color=None)\n",
    "\n",
    "bop.grid.grid_line_alpha=0.3\n",
    "\n",
    "bplotting.show(bop);"
   ]
  },
  {
   "cell_type": "markdown",
   "metadata": {},
   "source": [
    "## Markdown cells\n",
    "\n",
    "Markdown is a simple *markup* language that allows plain text to be converted into HTML.\n",
    "\n",
    "The advantages of using Markdown over HTML (and LaTeX):\n",
    "\n",
    "- its a **human-readable** format \n",
    "- allows writers to focus on content rather than formatting and layout\n",
    "- easier to learn and use\n",
    "\n",
    "For example, instead of writing:\n",
    "\n",
    "```html\n",
    "<p>In order to create valid \n",
    "<a href=\"http://en.wikipedia.org/wiki/HTML\">HTML</a>, you \n",
    "need properly coded syntax that can be cumbersome for \n",
    "&#8220;non-programmers&#8221; to write. Sometimes, you\n",
    "just want to easily make certain words <strong>bold\n",
    "</strong>, and certain words <em>italicized</em> without\n",
    "having to remember the syntax. Additionally, for example,\n",
    "creating lists:</p>\n",
    "<ul>\n",
    "<li>should be easy</li>\n",
    "<li>should not involve programming</li>\n",
    "</ul>\n",
    "```\n",
    "\n",
    "we can write the following in Markdown:\n",
    "\n",
    "```markdown\n",
    "In order to create valid [HTML], you need properly\n",
    "coded syntax that can be cumbersome for \n",
    "\"non-programmers\" to write. Sometimes, you just want\n",
    "to easily make certain words **bold**, and certain \n",
    "words *italicized* without having to remember the \n",
    "syntax. Additionally, for example, creating lists:\n",
    "\n",
    "* should be easy\n",
    "* should not involve programming\n",
    "```\n",
    "\n",
    "### Emphasis\n",
    "\n",
    "Markdown uses `*` (asterisk) and `_` (underscore) characters as \n",
    "indicators of emphasis. \n",
    "\n",
    "    *italic*, _italic_  \n",
    "    **bold**, __bold__\n",
    "    ***bold-italic***, ___bold-italic___\n",
    "\n",
    "*italic*, _italic_  \n",
    "**bold**, __bold__  \n",
    "***bold-italic***, ___bold-italic___\n",
    "\n",
    "### Lists\n",
    "\n",
    "Markdown supports both unordered and ordered lists. Unordered lists can use `*`, `-`, or \n",
    "`+` to define a list. This is an unordered list:  \n",
    "\n",
    "    * Apples\n",
    "    * Bananas\n",
    "    * Oranges\n",
    "\n",
    "* Apples\n",
    "* Bananas\n",
    "* Oranges\n",
    "\n",
    "Ordered lists are numbered lists in plain text:\n",
    "\n",
    "    1. Bryan Ferry\n",
    "    2. Brian Eno\n",
    "    3. Andy Mackay\n",
    "    4. Paul Thompson\n",
    "    5. Phil Manzanera\n",
    "\n",
    "1. Bryan Ferry\n",
    "2. Brian Eno\n",
    "3. Andy Mackay\n",
    "4. Paul Thompson\n",
    "5. Phil Manzanera\n",
    "\n",
    "### Links\n",
    "\n",
    "Markdown inline links are equivalent to HTML `<a href='foo.com'>` \n",
    "links, they just have a different syntax. \n",
    "\n",
    "    [Biostatistics home page](http://biostat.mc.vanderbilt.edu \"Visit Biostat!\")\n",
    "\n",
    "[Biostatistics home page](http://biostat.mc.vanderbilt.edu \"Visit Biostat!\")\n",
    "\n",
    "### Block quotes\n",
    "\n",
    "Block quotes are denoted by a `>` (greater than) character \n",
    "before each line of the block quote.\n",
    "\n",
    "    > Sometimes a simple model will outperform a more complex model . . . \n",
    "    > Nevertheless, I believe that deliberately limiting the complexity \n",
    "    > of the model is not fruitful when the problem is evidently complex. \n",
    "\n",
    "> Sometimes a simple model will outperform a more complex model . . .\n",
    "> Nevertheless, I believe that deliberately limiting the complexity \n",
    "> of the model is not fruitful when the problem is evidently complex.\n",
    "\n",
    "### Images\n",
    "\n",
    "Images look an awful lot like Markdown links, they just have an extra \n",
    "`!` (exclamation mark) in front of them. \n",
    "\n",
    "    ![Python logo](images/python-logo-master-v3-TM.png)\n",
    "\n",
    "![Python logo](images/python-logo-master-v3-TM.png)"
   ]
  },
  {
   "cell_type": "markdown",
   "metadata": {},
   "source": [
    "### Remote Code\n",
    "\n",
    "Use `%load` to add remote code"
   ]
  },
  {
   "cell_type": "code",
   "execution_count": 24,
   "metadata": {},
   "outputs": [
    {
     "data": {
      "image/png": "[encoded data removed]",
      "text/plain": [
       "<matplotlib.figure.Figure at 0x115280198>"
      ]
     },
     "metadata": {},
     "output_type": "display_data"
    },
    {
     "data": {
      "image/png": "[encoded data removed]",
      "text/plain": [
       "<matplotlib.figure.Figure at 0x115ec6898>"
      ]
     },
     "metadata": {},
     "output_type": "display_data"
    }
   ],
   "source": [
    "# %load http://matplotlib.org/mpl_examples/statistics/boxplot_demo.py\n",
    "\"\"\"\n",
    "=========================================\n",
    "Demo of artist customization in box plots\n",
    "=========================================\n",
    "\n",
    "This example demonstrates how to use the various kwargs\n",
    "to fully customize box plots. The first figure demonstrates\n",
    "how to remove and add individual components (note that the\n",
    "mean is the only value not shown by default). The second\n",
    "figure demonstrates how the styles of the artists can\n",
    "be customized. It also demonstrates how to set the limit\n",
    "of the whiskers to specific percentiles (lower right axes)\n",
    "\n",
    "A good general reference on boxplots and their history can be found\n",
    "here: http://vita.had.co.nz/papers/boxplots.pdf\n",
    "\n",
    "\"\"\"\n",
    "\n",
    "import numpy as np\n",
    "import matplotlib.pyplot as plt\n",
    "\n",
    "# fake data\n",
    "np.random.seed(937)\n",
    "data = np.random.lognormal(size=(37, 4), mean=1.5, sigma=1.75)\n",
    "labels = list('ABCD')\n",
    "fs = 10  # fontsize\n",
    "\n",
    "# demonstrate how to toggle the display of different elements:\n",
    "fig, axes = plt.subplots(nrows=2, ncols=3, figsize=(6, 6), sharey=True)\n",
    "axes[0, 0].boxplot(data, labels=labels)\n",
    "axes[0, 0].set_title('Default', fontsize=fs)\n",
    "\n",
    "axes[0, 1].boxplot(data, labels=labels, showmeans=True)\n",
    "axes[0, 1].set_title('showmeans=True', fontsize=fs)\n",
    "\n",
    "axes[0, 2].boxplot(data, labels=labels, showmeans=True, meanline=True)\n",
    "axes[0, 2].set_title('showmeans=True,\\nmeanline=True', fontsize=fs)\n",
    "\n",
    "axes[1, 0].boxplot(data, labels=labels, showbox=False, showcaps=False)\n",
    "tufte_title = 'Tufte Style \\n(showbox=False,\\nshowcaps=False)'\n",
    "axes[1, 0].set_title(tufte_title, fontsize=fs)\n",
    "\n",
    "axes[1, 1].boxplot(data, labels=labels, notch=True, bootstrap=10000)\n",
    "axes[1, 1].set_title('notch=True,\\nbootstrap=10000', fontsize=fs)\n",
    "\n",
    "axes[1, 2].boxplot(data, labels=labels, showfliers=False)\n",
    "axes[1, 2].set_title('showfliers=False', fontsize=fs)\n",
    "\n",
    "for ax in axes.flatten():\n",
    "    ax.set_yscale('log')\n",
    "    ax.set_yticklabels([])\n",
    "\n",
    "fig.subplots_adjust(hspace=0.4)\n",
    "plt.show()\n",
    "\n",
    "\n",
    "# demonstrate how to customize the display different elements:\n",
    "boxprops = dict(linestyle='--', linewidth=3, color='darkgoldenrod')\n",
    "flierprops = dict(marker='o', markerfacecolor='green', markersize=12,\n",
    "                  linestyle='none')\n",
    "medianprops = dict(linestyle='-.', linewidth=2.5, color='firebrick')\n",
    "meanpointprops = dict(marker='D', markeredgecolor='black',\n",
    "                      markerfacecolor='firebrick')\n",
    "meanlineprops = dict(linestyle='--', linewidth=2.5, color='purple')\n",
    "\n",
    "fig, axes = plt.subplots(nrows=2, ncols=3, figsize=(6, 6), sharey=True)\n",
    "axes[0, 0].boxplot(data, boxprops=boxprops)\n",
    "axes[0, 0].set_title('Custom boxprops', fontsize=fs)\n",
    "\n",
    "axes[0, 1].boxplot(data, flierprops=flierprops, medianprops=medianprops)\n",
    "axes[0, 1].set_title('Custom medianprops\\nand flierprops', fontsize=fs)\n",
    "\n",
    "axes[0, 2].boxplot(data, whis='range')\n",
    "axes[0, 2].set_title('whis=\"range\"', fontsize=fs)\n",
    "\n",
    "axes[1, 0].boxplot(data, meanprops=meanpointprops, meanline=False,\n",
    "                   showmeans=True)\n",
    "axes[1, 0].set_title('Custom mean\\nas point', fontsize=fs)\n",
    "\n",
    "axes[1, 1].boxplot(data, meanprops=meanlineprops, meanline=True,\n",
    "                   showmeans=True)\n",
    "axes[1, 1].set_title('Custom mean\\nas line', fontsize=fs)\n",
    "\n",
    "axes[1, 2].boxplot(data, whis=[15, 85])\n",
    "axes[1, 2].set_title('whis=[15, 85]\\n#percentiles', fontsize=fs)\n",
    "\n",
    "for ax in axes.flatten():\n",
    "    ax.set_yscale('log')\n",
    "    ax.set_yticklabels([])\n",
    "\n",
    "fig.suptitle(\"I never said they'd be pretty\")\n",
    "fig.subplots_adjust(hspace=0.4)\n",
    "plt.show()\n"
   ]
  },
  {
   "cell_type": "code",
   "execution_count": null,
   "metadata": {},
   "outputs": [],
   "source": [
    "# %load http://matplotlib.org/mpl_examples/shapes_and_collections/scatter_demo.py\n",
    "\"\"\"\n",
    "Simple demo of a scatter plot.\n",
    "\"\"\"\n",
    "import numpy as np\n",
    "import matplotlib.pyplot as plt\n",
    "\n",
    "\n",
    "N = 50\n",
    "x = np.random.rand(N)\n",
    "y = np.random.rand(N)\n",
    "colors = np.random.rand(N)\n",
    "area = np.pi * (15 * np.random.rand(N))**2  # 0 to 15 point radii\n",
    "\n",
    "plt.scatter(x, y, s=area, c=colors, alpha=0.5)\n",
    "plt.show()\n"
   ]
  },
  {
   "cell_type": "markdown",
   "metadata": {},
   "source": [
    "### Mathjax Support\n",
    "\n",
    "Mathjax ia a javascript implementation $\\alpha$ of LaTeX that allows equations to be embedded into HTML. For example, this markup:\n",
    "\n",
    "    \"\"\"$$ \\int_{a}^{b} f(x)\\, dx \\approx \\frac{1}{2} \\sum_{k=1}^{N} \\left( x_{k} - x_{k-1} \\right) \\left( f(x_{k}) + f(x_{k-1}) \\right). $$\"\"\"\n",
    "    \n",
    "becomes this:\n",
    "\n",
    "$$\n",
    "\\int_{a}^{b} f(x)\\, dx \\approx \\frac{1}{2} \\sum_{k=1}^{N} \\left( x_{k} - x_{k-1} \\right) \\left( f(x_{k}) + f(x_{k-1}) \\right).\n",
    "$$"
   ]
  },
  {
   "cell_type": "markdown",
   "metadata": {},
   "source": [
    "Code cells can be displayed as LaTeX"
   ]
  },
  {
   "cell_type": "code",
   "execution_count": 26,
   "metadata": {},
   "outputs": [
    {
     "data": {
      "text/latex": [
       "\\begin{eqnarray}\n",
       "\\nabla \\times \\vec{\\mathbf{B}} -\\, \\frac1c\\, \\frac{\\partial\\vec{\\mathbf{E}}}{\\partial t} & = \\frac{4\\pi}{c}\\vec{\\mathbf{j}} \\\\\n",
       "\\nabla \\cdot \\vec{\\mathbf{E}} & = 4 \\pi \\rho \\\\\n",
       "\\nabla \\times \\vec{\\mathbf{E}}\\, +\\, \\frac1c\\, \\frac{\\partial\\vec{\\mathbf{B}}}{\\partial t} & = \\vec{\\mathbf{0}} \\\\\n",
       "\\nabla \\cdot \\vec{\\mathbf{B}} & = 0 \n",
       "\\end{eqnarray}"
      ],
      "text/plain": [
       "<IPython.core.display.Latex object>"
      ]
     },
     "execution_count": 26,
     "metadata": {},
     "output_type": "execute_result"
    }
   ],
   "source": [
    "from IPython.display import Latex\n",
    "Latex(r\"\"\"\\begin{eqnarray}\n",
    "\\nabla \\times \\vec{\\mathbf{B}} -\\, \\frac1c\\, \\frac{\\partial\\vec{\\mathbf{E}}}{\\partial t} & = \\frac{4\\pi}{c}\\vec{\\mathbf{j}} \\\\\n",
    "\\nabla \\cdot \\vec{\\mathbf{E}} & = 4 \\pi \\rho \\\\\n",
    "\\nabla \\times \\vec{\\mathbf{E}}\\, +\\, \\frac1c\\, \\frac{\\partial\\vec{\\mathbf{B}}}{\\partial t} & = \\vec{\\mathbf{0}} \\\\\n",
    "\\nabla \\cdot \\vec{\\mathbf{B}} & = 0 \n",
    "\\end{eqnarray}\"\"\")"
   ]
  },
  {
   "cell_type": "markdown",
   "metadata": {},
   "source": [
    "## SymPy Support\n",
    "\n",
    "SymPy is a Python library for symbolic mathematics. It supports:\n",
    "\n",
    "* polynomials\n",
    "* calculus\n",
    "* solving equations\n",
    "* discrete math\n",
    "* matrices"
   ]
  },
  {
   "cell_type": "code",
   "execution_count": 27,
   "metadata": {},
   "outputs": [],
   "source": [
    "from sympy import *\n",
    "init_printing()\n",
    "x, y = symbols(\"x y\")"
   ]
  },
  {
   "cell_type": "code",
   "execution_count": 28,
   "metadata": {},
   "outputs": [
    {
     "data": {
      "image/png": "[encoded data removed]",
      "text/latex": [
       "$$\\left(x + 1\\right) \\left(x + y\\right)^{2}$$"
      ],
      "text/plain": [
       "               2\n",
       "(x + 1)⋅(x + y) "
      ]
     },
     "execution_count": 28,
     "metadata": {},
     "output_type": "execute_result"
    }
   ],
   "source": [
    "eq = ((x+y)**2 * (x+1))\n",
    "eq"
   ]
  },
  {
   "cell_type": "code",
   "execution_count": 29,
   "metadata": {},
   "outputs": [
    {
     "data": {
      "image/png": "[encoded data removed]",
      "text/latex": [
       "$$x^{3} + 2 x^{2} y + x^{2} + x y^{2} + 2 x y + y^{2}$$"
      ],
      "text/plain": [
       " 3      2      2      2            2\n",
       "x  + 2⋅x ⋅y + x  + x⋅y  + 2⋅x⋅y + y "
      ]
     },
     "execution_count": 29,
     "metadata": {},
     "output_type": "execute_result"
    }
   ],
   "source": [
    "expand(eq)"
   ]
  },
  {
   "cell_type": "code",
   "execution_count": 30,
   "metadata": {},
   "outputs": [
    {
     "data": {
      "image/png": "[encoded data removed]",
      "text/latex": [
       "$$1 + \\frac{x^{2}}{2} + \\frac{5 x^{4}}{24} + \\mathcal{O}\\left(x^{6}\\right)$$"
      ],
      "text/plain": [
       "     2      4        \n",
       "    x    5⋅x     ⎛ 6⎞\n",
       "1 + ── + ──── + O⎝x ⎠\n",
       "    2     24         "
      ]
     },
     "execution_count": 30,
     "metadata": {},
     "output_type": "execute_result"
    }
   ],
   "source": [
    "(1/cos(x)).series(x, 0, 6)"
   ]
  },
  {
   "cell_type": "code",
   "execution_count": 31,
   "metadata": {},
   "outputs": [
    {
     "data": {
      "image/png": "[encoded data removed]",
      "text/latex": [
       "$$- \\frac{1}{6}$$"
      ],
      "text/plain": [
       "-1/6"
      ]
     },
     "execution_count": 31,
     "metadata": {},
     "output_type": "execute_result"
    }
   ],
   "source": [
    "limit((sin(x)-x)/x**3, x, 0)"
   ]
  },
  {
   "cell_type": "code",
   "execution_count": 32,
   "metadata": {},
   "outputs": [
    {
     "data": {
      "image/png": "[encoded data removed]",
      "text/latex": [
       "$$- \\frac{4 x \\cos{\\left (x^{2} \\right )}}{x + 1} \\sin{\\left (x^{2} \\right )} - \\frac{\\cos^{2}{\\left (x^{2} \\right )}}{\\left(x + 1\\right)^{2}}$$"
      ],
      "text/plain": [
       "         ⎛ 2⎞    ⎛ 2⎞      2⎛ 2⎞\n",
       "  4⋅x⋅sin⎝x ⎠⋅cos⎝x ⎠   cos ⎝x ⎠\n",
       "- ─────────────────── - ────────\n",
       "         x + 1                 2\n",
       "                        (x + 1) "
      ]
     },
     "execution_count": 32,
     "metadata": {},
     "output_type": "execute_result"
    }
   ],
   "source": [
    "diff(cos(x**2)**2 / (1+x), x)"
   ]
  },
  {
   "cell_type": "markdown",
   "metadata": {},
   "source": [
    "### Magic functions\n",
    "\n",
    "IPython has a set of predefined ‘magic functions’ that you can call with a command line style syntax. These include:\n",
    "\n",
    "* `%run`\n",
    "* `%edit`\n",
    "* `%debug`\n",
    "* `%timeit`\n",
    "* `%paste`\n",
    "* `%load_ext`\n",
    "\n"
   ]
  },
  {
   "cell_type": "code",
   "execution_count": 33,
   "metadata": {},
   "outputs": [
    {
     "data": {
      "application/json": {
       "cell": {
        "!": "OSMagics",
        "HTML": "Other",
        "SVG": "Other",
        "bash": "Other",
        "capture": "ExecutionMagics",
        "debug": "ExecutionMagics",
        "file": "Other",
        "html": "DisplayMagics",
        "javascript": "DisplayMagics",
        "js": "DisplayMagics",
        "latex": "DisplayMagics",
        "markdown": "DisplayMagics",
        "perl": "Other",
        "prun": "ExecutionMagics",
        "pypy": "Other",
        "python": "Other",
        "python2": "Other",
        "python3": "Other",
        "ruby": "Other",
        "script": "ScriptMagics",
        "sh": "Other",
        "svg": "DisplayMagics",
        "sx": "OSMagics",
        "system": "OSMagics",
        "time": "ExecutionMagics",
        "timeit": "ExecutionMagics",
        "writefile": "OSMagics"
       },
       "line": {
        "alias": "OSMagics",
        "alias_magic": "BasicMagics",
        "autocall": "AutoMagics",
        "automagic": "AutoMagics",
        "autosave": "KernelMagics",
        "bookmark": "OSMagics",
        "cat": "Other",
        "cd": "OSMagics",
        "clear": "KernelMagics",
        "colors": "BasicMagics",
        "config": "ConfigMagics",
        "connect_info": "KernelMagics",
        "cp": "Other",
        "debug": "ExecutionMagics",
        "dhist": "OSMagics",
        "dirs": "OSMagics",
        "doctest_mode": "BasicMagics",
        "ed": "Other",
        "edit": "KernelMagics",
        "env": "OSMagics",
        "gui": "BasicMagics",
        "hist": "Other",
        "history": "HistoryMagics",
        "killbgscripts": "ScriptMagics",
        "ldir": "Other",
        "less": "KernelMagics",
        "lf": "Other",
        "lk": "Other",
        "ll": "Other",
        "load": "CodeMagics",
        "load_ext": "ExtensionMagics",
        "loadpy": "CodeMagics",
        "logoff": "LoggingMagics",
        "logon": "LoggingMagics",
        "logstart": "LoggingMagics",
        "logstate": "LoggingMagics",
        "logstop": "LoggingMagics",
        "ls": "Other",
        "lsmagic": "BasicMagics",
        "lx": "Other",
        "macro": "ExecutionMagics",
        "magic": "BasicMagics",
        "man": "KernelMagics",
        "matplotlib": "PylabMagics",
        "mkdir": "Other",
        "more": "KernelMagics",
        "mv": "Other",
        "notebook": "BasicMagics",
        "page": "BasicMagics",
        "pastebin": "CodeMagics",
        "pdb": "ExecutionMagics",
        "pdef": "NamespaceMagics",
        "pdoc": "NamespaceMagics",
        "pfile": "NamespaceMagics",
        "pinfo": "NamespaceMagics",
        "pinfo2": "NamespaceMagics",
        "pip": "BasicMagics",
        "popd": "OSMagics",
        "pprint": "BasicMagics",
        "precision": "BasicMagics",
        "profile": "BasicMagics",
        "prun": "ExecutionMagics",
        "psearch": "NamespaceMagics",
        "psource": "NamespaceMagics",
        "pushd": "OSMagics",
        "pwd": "OSMagics",
        "pycat": "OSMagics",
        "pylab": "PylabMagics",
        "qtconsole": "KernelMagics",
        "quickref": "BasicMagics",
        "recall": "HistoryMagics",
        "rehashx": "OSMagics",
        "reload_ext": "ExtensionMagics",
        "rep": "Other",
        "rerun": "HistoryMagics",
        "reset": "NamespaceMagics",
        "reset_selective": "NamespaceMagics",
        "rm": "Other",
        "rmdir": "Other",
        "run": "ExecutionMagics",
        "save": "CodeMagics",
        "sc": "OSMagics",
        "set_env": "OSMagics",
        "store": "StoreMagics",
        "sx": "OSMagics",
        "system": "OSMagics",
        "tb": "ExecutionMagics",
        "time": "ExecutionMagics",
        "timeit": "ExecutionMagics",
        "unalias": "OSMagics",
        "unload_ext": "ExtensionMagics",
        "who": "NamespaceMagics",
        "who_ls": "NamespaceMagics",
        "whos": "NamespaceMagics",
        "xdel": "NamespaceMagics",
        "xmode": "BasicMagics"
       }
      },
      "text/plain": [
       "Available line magics:\n",
       "%alias  %alias_magic  %autocall  %automagic  %autosave  %bookmark  %cat  %cd  %clear  %colors  %config  %connect_info  %cp  %debug  %dhist  %dirs  %doctest_mode  %ed  %edit  %env  %gui  %hist  %history  %killbgscripts  %ldir  %less  %lf  %lk  %ll  %load  %load_ext  %loadpy  %logoff  %logon  %logstart  %logstate  %logstop  %ls  %lsmagic  %lx  %macro  %magic  %man  %matplotlib  %mkdir  %more  %mv  %notebook  %page  %pastebin  %pdb  %pdef  %pdoc  %pfile  %pinfo  %pinfo2  %popd  %pprint  %precision  %profile  %prun  %psearch  %psource  %pushd  %pwd  %pycat  %pylab  %qtconsole  %quickref  %recall  %rehashx  %reload_ext  %rep  %rerun  %reset  %reset_selective  %rm  %rmdir  %run  %save  %sc  %set_env  %store  %sx  %system  %tb  %time  %timeit  %unalias  %unload_ext  %who  %who_ls  %whos  %xdel  %xmode\n",
       "\n",
       "Available cell magics:\n",
       "%%!  %%HTML  %%SVG  %%bash  %%capture  %%debug  %%file  %%html  %%javascript  %%js  %%latex  %%markdown  %%perl  %%prun  %%pypy  %%python  %%python2  %%python3  %%ruby  %%script  %%sh  %%svg  %%sx  %%system  %%time  %%timeit  %%writefile\n",
       "\n",
       "Automagic is ON, % prefix IS NOT needed for line magics."
      ]
     },
     "execution_count": 33,
     "metadata": {},
     "output_type": "execute_result"
    }
   ],
   "source": [
    "%lsmagic"
   ]
  },
  {
   "cell_type": "markdown",
   "metadata": {},
   "source": [
    "Timing the execution of code; the `timeit` magic exists both in line and cell form:"
   ]
  },
  {
   "cell_type": "code",
   "execution_count": 34,
   "metadata": {},
   "outputs": [
    {
     "name": "stdout",
     "output_type": "stream",
     "text": [
      "4.25 ms ± 350 µs per loop (mean ± std. dev. of 7 runs, 100 loops each)\n"
     ]
    }
   ],
   "source": [
    "%timeit np.linalg.eigvals(np.random.rand(100,100))"
   ]
  },
  {
   "cell_type": "code",
   "execution_count": 35,
   "metadata": {},
   "outputs": [
    {
     "name": "stdout",
     "output_type": "stream",
     "text": [
      "3.96 ms ± 154 µs per loop (mean ± std. dev. of 7 runs, 100 loops each)\n"
     ]
    }
   ],
   "source": [
    "%%timeit a = np.random.rand(100, 100)\n",
    "np.linalg.eigvals(a)"
   ]
  },
  {
   "cell_type": "markdown",
   "metadata": {},
   "source": [
    "IPython also creates aliases for a few common interpreters, such as bash, ruby, perl, etc.\n",
    "\n",
    "These are all equivalent to `%%script <name>`"
   ]
  },
  {
   "cell_type": "code",
   "execution_count": 36,
   "metadata": {},
   "outputs": [
    {
     "name": "stdout",
     "output_type": "stream",
     "text": [
      "Hello from Ruby 2.3.3\n"
     ]
    }
   ],
   "source": [
    "%%ruby\n",
    "puts \"Hello from Ruby #{RUBY_VERSION}\""
   ]
  },
  {
   "cell_type": "code",
   "execution_count": 37,
   "metadata": {},
   "outputs": [
    {
     "name": "stdout",
     "output_type": "stream",
     "text": [
      "hello from /bin/bash\n"
     ]
    }
   ],
   "source": [
    "%%bash\n",
    "echo \"hello from $BASH\""
   ]
  },
  {
   "cell_type": "markdown",
   "metadata": {},
   "source": [
    "IPython has an `rmagic` extension that contains a some magic functions for working with R via rpy2. This extension can be loaded using the `%load_ext` magic as follows:"
   ]
  },
  {
   "cell_type": "code",
   "execution_count": 38,
   "metadata": {},
   "outputs": [],
   "source": [
    "%load_ext rpy2.ipython"
   ]
  },
  {
   "cell_type": "markdown",
   "metadata": {},
   "source": [
    "If the above generates an error, it is likely that you do not have the `rpy2` module installed. You can install this now via:"
   ]
  },
  {
   "cell_type": "code",
   "execution_count": 39,
   "metadata": {},
   "outputs": [
    {
     "name": "stdout",
     "output_type": "stream",
     "text": [
      "Requirement already satisfied: rpy2 in /Users/fonnescj/anaconda3/envs/dev/lib/python3.6/site-packages\r\n",
      "Requirement already satisfied: six in /Users/fonnescj/anaconda3/envs/dev/lib/python3.6/site-packages (from rpy2)\r\n"
     ]
    }
   ],
   "source": [
    "!pip install rpy2"
   ]
  },
  {
   "cell_type": "code",
   "execution_count": 40,
   "metadata": {},
   "outputs": [
    {
     "data": {
      "text/plain": [
       "\n",
       "Call:\n",
       "lm(formula = rnorm(10) ~ rnorm(10))\n",
       "\n",
       "Coefficients:\n",
       "(Intercept)  \n",
       "     -0.298  \n",
       "\n"
      ]
     },
     "metadata": {},
     "output_type": "display_data"
    }
   ],
   "source": [
    "x,y = np.arange(10), np.random.normal(size=10)\n",
    "%R print(lm(rnorm(10)~rnorm(10)))"
   ]
  },
  {
   "cell_type": "code",
   "execution_count": 41,
   "metadata": {},
   "outputs": [
    {
     "data": {
      "text/plain": [
       "\n",
       "Call:\n",
       "lm(formula = y ~ x)\n",
       "\n",
       "Residuals:\n",
       "    Min      1Q  Median      3Q     Max \n",
       "-1.8866 -0.8010  0.1696  0.8744  1.3336 \n",
       "\n",
       "Coefficients:\n",
       "            Estimate Std. Error t value Pr(>|t|)\n",
       "(Intercept)  0.42468    0.68984   0.616    0.555\n",
       "x           -0.01786    0.12922  -0.138    0.893\n",
       "\n",
       "Residual standard error: 1.174 on 8 degrees of freedom\n",
       "Multiple R-squared:  0.002382,\tAdjusted R-squared:  -0.1223 \n",
       "F-statistic: 0.0191 on 1 and 8 DF,  p-value: 0.8935\n",
       "\n"
      ]
     },
     "metadata": {},
     "output_type": "display_data"
    },
    {
     "data": {
      "image/png": "[encoded data removed]"
     },
     "metadata": {},
     "output_type": "display_data"
    }
   ],
   "source": [
    "%%R -i x,y -o XYcoef\n",
    "lm.fit <- lm(y~x)\n",
    "par(mfrow=c(2,2))\n",
    "print(summary(lm.fit))\n",
    "plot(lm.fit)\n",
    "XYcoef <- coef(lm.fit)"
   ]
  },
  {
   "cell_type": "code",
   "execution_count": 42,
   "metadata": {},
   "outputs": [
    {
     "data": {
      "text/plain": [
       "array([ 0.42468134, -0.01785779])"
      ]
     },
     "execution_count": 42,
     "metadata": {},
     "output_type": "execute_result"
    }
   ],
   "source": [
    "XYcoef"
   ]
  },
  {
   "cell_type": "markdown",
   "metadata": {},
   "source": [
    "### Custom magics\n",
    "\n",
    "As we have seen already, IPython has cell and line magics. You can define your own magics using any Python function and the `register_magic_function` method:"
   ]
  },
  {
   "cell_type": "code",
   "execution_count": 43,
   "metadata": {},
   "outputs": [],
   "source": [
    "from IPython.core.magic import (register_line_magic, register_cell_magic,\n",
    "                                register_line_cell_magic)"
   ]
  },
  {
   "cell_type": "code",
   "execution_count": 44,
   "metadata": {},
   "outputs": [],
   "source": [
    "@register_line_magic\n",
    "def countdown(line):\n",
    "    \"\"\"Print a countdown before executing cell\"\"\"\n",
    "    import time\n",
    "    for i in range(int(line)):\n",
    "        time.sleep(1)\n",
    "        print(i+1, '... ', end='')\n",
    "    print('Go!')"
   ]
  },
  {
   "cell_type": "code",
   "execution_count": 45,
   "metadata": {},
   "outputs": [
    {
     "name": "stdout",
     "output_type": "stream",
     "text": [
      "1 ... 2 ... 3 ... 4 ... 5 ... Go!\n"
     ]
    },
    {
     "data": {
      "text/plain": [
       "array([ 0.83639603,  0.75725961,  0.84364021,  0.47794465,  0.26414948])"
      ]
     },
     "execution_count": 45,
     "metadata": {},
     "output_type": "execute_result"
    }
   ],
   "source": [
    "%countdown 5\n",
    "np.random.random(5)"
   ]
  },
  {
   "cell_type": "markdown",
   "metadata": {},
   "source": [
    "## Language kernels\n",
    "\n",
    "Its very easy to run Jupyter on top of languages other than Python, using a language kernel that is either **native** or **wrapped** in IPython. [Many kernels already exist](https://github.com/jupyter/jupyter/wiki/Jupyter-kernels). \n",
    "\n",
    "The exact procedure to install a kernel for a different language will depend on the specificity of each language. \n",
    "Though ther is a common set of step to follow.\n",
    "\n",
    "  - Install the language stack you are interested in.\n",
    "  - Install the kernel for this language (often using given language package manager).\n",
    "  - Register the kernel globally with Jupyter. \n",
    "  \n",
    "While usually a kernel is though as a specific language, a kernel may be:\n",
    "\n",
    "  - A virtual environment (or equivalent)\n",
    "  - A set of configuration/environment variables.\n",
    "  - A physical location (for remote kernels)\n",
    "  \n",
    "Installing multiple kernels does not automatically allow one notebook to use many languages at once, but this is also possible."
   ]
  },
  {
   "cell_type": "markdown",
   "metadata": {},
   "source": [
    "## Debugging\n",
    "\n",
    "The `%debug` magic can be used to trigger the IPython debugger (`ipd`) for a cell that raises an exception. The debugger allows you to step through code line-by-line and inspect variables and execute code."
   ]
  },
  {
   "cell_type": "code",
   "execution_count": 46,
   "metadata": {},
   "outputs": [
    {
     "ename": "ZeroDivisionError",
     "evalue": "division by zero",
     "output_type": "error",
     "traceback": [
      "\u001b[0;31m--------------------------------------------------------------------------\u001b[0m",
      "\u001b[0;31mZeroDivisionError\u001b[0m                        Traceback (most recent call last)",
      "\u001b[0;32m<ipython-input-46-a5097cc0c0c5>\u001b[0m in \u001b[0;36m<module>\u001b[0;34m()\u001b[0m\n\u001b[1;32m      2\u001b[0m     \u001b[0;32mreturn\u001b[0m \u001b[0mx\u001b[0m\u001b[0;34m/\u001b[0m\u001b[0my\u001b[0m\u001b[0;34m\u001b[0m\u001b[0m\n\u001b[1;32m      3\u001b[0m \u001b[0;34m\u001b[0m\u001b[0m\n\u001b[0;32m----> 4\u001b[0;31m \u001b[0mdiv\u001b[0m\u001b[0;34m(\u001b[0m\u001b[0;36m1\u001b[0m\u001b[0;34m,\u001b[0m\u001b[0;36m0\u001b[0m\u001b[0;34m)\u001b[0m\u001b[0;34m\u001b[0m\u001b[0m\n\u001b[0m",
      "\u001b[0;32m<ipython-input-46-a5097cc0c0c5>\u001b[0m in \u001b[0;36mdiv\u001b[0;34m(x, y)\u001b[0m\n\u001b[1;32m      1\u001b[0m \u001b[0;32mdef\u001b[0m \u001b[0mdiv\u001b[0m\u001b[0;34m(\u001b[0m\u001b[0mx\u001b[0m\u001b[0;34m,\u001b[0m \u001b[0my\u001b[0m\u001b[0;34m)\u001b[0m\u001b[0;34m:\u001b[0m\u001b[0;34m\u001b[0m\u001b[0m\n\u001b[0;32m----> 2\u001b[0;31m     \u001b[0;32mreturn\u001b[0m \u001b[0mx\u001b[0m\u001b[0;34m/\u001b[0m\u001b[0my\u001b[0m\u001b[0;34m\u001b[0m\u001b[0m\n\u001b[0m\u001b[1;32m      3\u001b[0m \u001b[0;34m\u001b[0m\u001b[0m\n\u001b[1;32m      4\u001b[0m \u001b[0mdiv\u001b[0m\u001b[0;34m(\u001b[0m\u001b[0;36m1\u001b[0m\u001b[0;34m,\u001b[0m\u001b[0;36m0\u001b[0m\u001b[0;34m)\u001b[0m\u001b[0;34m\u001b[0m\u001b[0m\n",
      "\u001b[0;31mZeroDivisionError\u001b[0m: division by zero"
     ]
    }
   ],
   "source": [
    "def div(x, y):\n",
    "    return x/y\n",
    "\n",
    "div(1,0)"
   ]
  },
  {
   "cell_type": "code",
   "execution_count": 47,
   "metadata": {},
   "outputs": [
    {
     "name": "stdout",
     "output_type": "stream",
     "text": [
      "> \u001b[0;32m<ipython-input-46-a5097cc0c0c5>\u001b[0m(2)\u001b[0;36mdiv\u001b[0;34m()\u001b[0m\n",
      "\u001b[0;32m      1 \u001b[0;31m\u001b[0;32mdef\u001b[0m \u001b[0mdiv\u001b[0m\u001b[0;34m(\u001b[0m\u001b[0mx\u001b[0m\u001b[0;34m,\u001b[0m \u001b[0my\u001b[0m\u001b[0;34m)\u001b[0m\u001b[0;34m:\u001b[0m\u001b[0;34m\u001b[0m\u001b[0m\n",
      "\u001b[0m\u001b[0;32m----> 2 \u001b[0;31m    \u001b[0;32mreturn\u001b[0m \u001b[0mx\u001b[0m\u001b[0;34m/\u001b[0m\u001b[0my\u001b[0m\u001b[0;34m\u001b[0m\u001b[0m\n",
      "\u001b[0m\u001b[0;32m      3 \u001b[0;31m\u001b[0;34m\u001b[0m\u001b[0m\n",
      "\u001b[0m\u001b[0;32m      4 \u001b[0;31m\u001b[0mdiv\u001b[0m\u001b[0;34m(\u001b[0m\u001b[0;36m1\u001b[0m\u001b[0;34m,\u001b[0m\u001b[0;36m0\u001b[0m\u001b[0;34m)\u001b[0m\u001b[0;34m\u001b[0m\u001b[0m\n",
      "\u001b[0m\n",
      "ipdb> y\n",
      "0\n",
      "ipdb> q\n"
     ]
    }
   ],
   "source": [
    "%debug"
   ]
  },
  {
   "cell_type": "markdown",
   "metadata": {},
   "source": [
    "## Exporting and Converting Notebooks\n",
    "\n",
    "In Jupyter, one can convert an `.ipynb` notebook document file into various static formats via the `nbconvert` tool. Currently, nbconvert is a command line tool, run as a script using Jupyter."
   ]
  },
  {
   "cell_type": "code",
   "execution_count": 48,
   "metadata": {},
   "outputs": [
    {
     "name": "stdout",
     "output_type": "stream",
     "text": [
      "[NbConvertApp] Converting notebook IPython and Jupyter.ipynb to html\n",
      "[NbConvertApp] Writing 744165 bytes to IPython and Jupyter.html\n"
     ]
    }
   ],
   "source": [
    "!jupyter nbconvert --to html \"IPython and Jupyter.ipynb\""
   ]
  },
  {
   "cell_type": "markdown",
   "metadata": {},
   "source": [
    "Currently, `nbconvert` supports HTML (default), LaTeX, Markdown, reStructuredText, Python and HTML5 slides for presentations. Some types can be post-processed, such as LaTeX to PDF (this requires [Pandoc](http://johnmacfarlane.net/pandoc/) to be installed, however)."
   ]
  },
  {
   "cell_type": "code",
   "execution_count": 49,
   "metadata": {},
   "outputs": [
    {
     "name": "stdout",
     "output_type": "stream",
     "text": [
      "[NbConvertApp] Converting notebook IPython and Jupyter.ipynb to pdf\n",
      "/Users/fonnescj/anaconda3/envs/dev/lib/python3.6/site-packages/nbconvert/filters/datatypefilter.py:41: UserWarning: Your element with mimetype(s) dict_keys(['text/html']) is not able to be represented.\n",
      "  mimetypes=output.keys())\n",
      "/Users/fonnescj/anaconda3/envs/dev/lib/python3.6/site-packages/nbconvert/filters/datatypefilter.py:41: UserWarning: Your element with mimetype(s) dict_keys(['application/javascript']) is not able to be represented.\n",
      "  mimetypes=output.keys())\n",
      "[NbConvertApp] Support files will be in IPython and Jupyter_files/\n",
      "[NbConvertApp] Making directory IPython and Jupyter_files\n",
      "[NbConvertApp] Making directory IPython and Jupyter_files\n",
      "[NbConvertApp] Making directory IPython and Jupyter_files\n",
      "[NbConvertApp] Making directory IPython and Jupyter_files\n",
      "[NbConvertApp] Making directory IPython and Jupyter_files\n",
      "[NbConvertApp] Making directory IPython and Jupyter_files\n",
      "[NbConvertApp] Making directory IPython and Jupyter_files\n",
      "[NbConvertApp] Making directory IPython and Jupyter_files\n",
      "[NbConvertApp] Making directory IPython and Jupyter_files\n",
      "[NbConvertApp] Writing 281762 bytes to notebook.tex\n",
      "[NbConvertApp] Building PDF\n",
      "[NbConvertApp] Running xelatex 3 times: ['xelatex', 'notebook.tex']\n",
      "[NbConvertApp] CRITICAL | xelatex failed: ['xelatex', 'notebook.tex']\n",
      "This is XeTeX, Version 3.14159265-2.6-0.99996 (TeX Live 2016) (preloaded format=xelatex)\n",
      " restricted \\write18 enabled.\n",
      "entering extended mode\n",
      "(./notebook.tex\n",
      "LaTeX2e <2016/03/31>\n",
      "Babel <3.9r> and hyphenation patterns for 83 language(s) loaded.\n",
      "(/usr/local/texlive/2016/texmf-dist/tex/latex/base/article.cls\n",
      "Document Class: article 2014/09/29 v1.4h Standard LaTeX document class\n",
      "(/usr/local/texlive/2016/texmf-dist/tex/latex/base/size11.clo))\n",
      "(/usr/local/texlive/2016/texmf-dist/tex/latex/base/fontenc.sty\n",
      "(/usr/local/texlive/2016/texmf-dist/tex/latex/base/t1enc.def))\n",
      "(/usr/local/texlive/2016/texmf-dist/tex/latex/psnfss/mathpazo.sty)\n",
      "(/usr/local/texlive/2016/texmf-dist/tex/latex/graphics/graphicx.sty\n",
      "(/usr/local/texlive/2016/texmf-dist/tex/latex/graphics/keyval.sty)\n",
      "(/usr/local/texlive/2016/texmf-dist/tex/latex/graphics/graphics.sty\n",
      "(/usr/local/texlive/2016/texmf-dist/tex/latex/graphics/trig.sty)\n",
      "(/usr/local/texlive/2016/texmf-dist/tex/latex/graphics-cfg/graphics.cfg)\n",
      "(/usr/local/texlive/2016/texmf-dist/tex/xelatex/xetex-def/xetex.def\n",
      "(/usr/local/texlive/2016/texmf-dist/tex/generic/oberdiek/infwarerr.sty)\n",
      "(/usr/local/texlive/2016/texmf-dist/tex/generic/oberdiek/ltxcmds.sty))))\n",
      "(/usr/local/texlive/2016/texmf-dist/tex/latex/caption/caption.sty\n",
      "(/usr/local/texlive/2016/texmf-dist/tex/latex/caption/caption3.sty))\n",
      "(/usr/local/texlive/2016/texmf-dist/tex/latex/adjustbox/adjustbox.sty\n",
      "(/usr/local/texlive/2016/texmf-dist/tex/latex/xkeyval/xkeyval.sty\n",
      "(/usr/local/texlive/2016/texmf-dist/tex/generic/xkeyval/xkeyval.tex\n",
      "(/usr/local/texlive/2016/texmf-dist/tex/generic/xkeyval/xkvutils.tex)))\n",
      "(/usr/local/texlive/2016/texmf-dist/tex/latex/adjustbox/adjcalc.sty)\n",
      "(/usr/local/texlive/2016/texmf-dist/tex/latex/adjustbox/trimclip.sty\n",
      "(/usr/local/texlive/2016/texmf-dist/tex/latex/collectbox/collectbox.sty)\n",
      "(/usr/local/texlive/2016/texmf-dist/tex/latex/adjustbox/tc-xetex.def))\n",
      "(/usr/local/texlive/2016/texmf-dist/tex/latex/ifoddpage/ifoddpage.sty)\n",
      "(/usr/local/texlive/2016/texmf-dist/tex/latex/varwidth/varwidth.sty))\n",
      "(/usr/local/texlive/2016/texmf-dist/tex/latex/xcolor/xcolor.sty\n",
      "(/usr/local/texlive/2016/texmf-dist/tex/latex/graphics-cfg/color.cfg))\n",
      "(/usr/local/texlive/2016/texmf-dist/tex/latex/tools/enumerate.sty)\n",
      "(/usr/local/texlive/2016/texmf-dist/tex/latex/geometry/geometry.sty\n",
      "(/usr/local/texlive/2016/texmf-dist/tex/generic/oberdiek/ifpdf.sty)\n",
      "(/usr/local/texlive/2016/texmf-dist/tex/generic/oberdiek/ifvtex.sty)\n",
      "(/usr/local/texlive/2016/texmf-dist/tex/generic/ifxetex/ifxetex.sty))\n",
      "(/usr/local/texlive/2016/texmf-dist/tex/latex/amsmath/amsmath.sty\n",
      "For additional information on amsmath, use the `?' option.\n",
      "(/usr/local/texlive/2016/texmf-dist/tex/latex/amsmath/amstext.sty\n",
      "(/usr/local/texlive/2016/texmf-dist/tex/latex/amsmath/amsgen.sty))\n",
      "(/usr/local/texlive/2016/texmf-dist/tex/latex/amsmath/amsbsy.sty)\n",
      "(/usr/local/texlive/2016/texmf-dist/tex/latex/amsmath/amsopn.sty))\n",
      "(/usr/local/texlive/2016/texmf-dist/tex/latex/amsfonts/amssymb.sty\n",
      "(/usr/local/texlive/2016/texmf-dist/tex/latex/amsfonts/amsfonts.sty))\n",
      "(/usr/local/texlive/2016/texmf-dist/tex/latex/base/textcomp.sty\n",
      "(/usr/local/texlive/2016/texmf-dist/tex/latex/base/ts1enc.def))\n",
      "(/usr/local/texlive/2016/texmf-dist/tex/latex/upquote/upquote.sty)\n",
      "(/usr/local/texlive/2016/texmf-dist/tex/latex/eurosym/eurosym.sty)\n",
      "(/usr/local/texlive/2016/texmf-dist/tex/latex/ucs/ucs.sty\n",
      "(/usr/local/texlive/2016/texmf-dist/tex/latex/ucs/data/uni-global.def))\n",
      "(/usr/local/texlive/2016/texmf-dist/tex/latex/base/inputenc.sty\n",
      "\n",
      "Package inputenc Warning: inputenc package ignored with utf8 based engines.\n",
      "\n",
      ") (/usr/local/texlive/2016/texmf-dist/tex/latex/fancyvrb/fancyvrb.sty\n",
      "Style option: `fancyvrb' v2.7a, with DG/SPQR fixes, and firstline=lastline fix \n",
      "<2008/02/07> (tvz))\n",
      "(/usr/local/texlive/2016/texmf-dist/tex/latex/oberdiek/grffile.sty\n",
      "(/usr/local/texlive/2016/texmf-dist/tex/latex/oberdiek/kvoptions.sty\n",
      "(/usr/local/texlive/2016/texmf-dist/tex/generic/oberdiek/kvsetkeys.sty\n",
      "(/usr/local/texlive/2016/texmf-dist/tex/generic/oberdiek/etexcmds.sty\n",
      "(/usr/local/texlive/2016/texmf-dist/tex/generic/oberdiek/ifluatex.sty))))\n",
      "(/usr/local/texlive/2016/texmf-dist/tex/generic/oberdiek/pdftexcmds.sty))\n",
      "(/usr/local/texlive/2016/texmf-dist/tex/latex/hyperref/hyperref.sty\n",
      "(/usr/local/texlive/2016/texmf-dist/tex/generic/oberdiek/hobsub-hyperref.sty\n",
      "(/usr/local/texlive/2016/texmf-dist/tex/generic/oberdiek/hobsub-generic.sty))\n",
      "(/usr/local/texlive/2016/texmf-dist/tex/latex/oberdiek/auxhook.sty)\n",
      "(/usr/local/texlive/2016/texmf-dist/tex/latex/hyperref/pd1enc.def)\n",
      "(/usr/local/texlive/2016/texmf-dist/tex/latex/latexconfig/hyperref.cfg)\n",
      "(/usr/local/texlive/2016/texmf-dist/tex/latex/url/url.sty))\n",
      "\n",
      "Package hyperref Message: Driver (autodetected): hxetex.\n",
      "\n",
      "(/usr/local/texlive/2016/texmf-dist/tex/latex/hyperref/hxetex.def\n",
      "(/usr/local/texlive/2016/texmf-dist/tex/latex/hyperref/puenc.def)\n",
      "(/usr/local/texlive/2016/texmf-dist/tex/generic/oberdiek/stringenc.sty)\n",
      "(/usr/local/texlive/2016/texmf-dist/tex/latex/oberdiek/rerunfilecheck.sty))\n",
      "(/usr/local/texlive/2016/texmf-dist/tex/latex/tools/longtable.sty)\n",
      "(/usr/local/texlive/2016/texmf-dist/tex/latex/booktabs/booktabs.sty)\n",
      "(/usr/local/texlive/2016/texmf-dist/tex/latex/enumitem/enumitem.sty)\n",
      "(/usr/local/texlive/2016/texmf-dist/tex/generic/ulem/ulem.sty)\n",
      "No file notebook.aux.\n",
      "(/usr/local/texlive/2016/texmf-dist/tex/latex/base/ts1cmr.fd)\n",
      "(/usr/local/texlive/2016/texmf-dist/tex/latex/psnfss/t1ppl.fd)\n",
      "(/usr/local/texlive/2016/texmf-dist/tex/latex/caption/ltcaption.sty)\n",
      "*geometry* driver: auto-detecting\n",
      "*geometry* detected driver: xetex\n",
      "*geometry* verbose mode - [ preamble ] result:\n",
      "* driver: xetex\n",
      "* paper: <default>\n",
      "* layout: <same size as paper>\n",
      "* layoutoffset:(h,v)=(0.0pt,0.0pt)\n",
      "* modes: \n",
      "* h-part:(L,W,R)=(72.26999pt, 469.75502pt, 72.26999pt)\n",
      "* v-part:(T,H,B)=(72.26999pt, 650.43001pt, 72.26999pt)\n",
      "* \\paperwidth=614.295pt\n",
      "* \\paperheight=794.96999pt\n",
      "* \\textwidth=469.75502pt\n",
      "* \\textheight=650.43001pt\n",
      "* \\oddsidemargin=0.0pt\n",
      "* \\evensidemargin=0.0pt\n",
      "* \\topmargin=-37.0pt\n",
      "* \\headheight=12.0pt\n",
      "* \\headsep=25.0pt\n",
      "* \\topskip=11.0pt\n",
      "* \\footskip=30.0pt\n",
      "* \\marginparwidth=59.0pt\n",
      "* \\marginparsep=10.0pt\n",
      "* \\columnsep=10.0pt\n",
      "* \\skip\\footins=10.0pt plus 4.0pt minus 2.0pt\n",
      "* \\hoffset=0.0pt\n",
      "* \\voffset=0.0pt\n",
      "* \\mag=1000\n",
      "* \\@twocolumnfalse\n",
      "* \\@twosidefalse\n",
      "* \\@mparswitchfalse\n",
      "* \\@reversemarginfalse\n",
      "* (1in=72.27pt=25.4mm, 1cm=28.453pt)\n",
      "\n",
      "(/usr/local/texlive/2016/texmf-dist/tex/latex/ucs/ucsencs.def)\n",
      "(/usr/local/texlive/2016/texmf-dist/tex/latex/hyperref/nameref.sty\n",
      "(/usr/local/texlive/2016/texmf-dist/tex/generic/oberdiek/gettitlestring.sty))\n",
      "\n",
      "Package hyperref Warning: Rerun to get /PageLabels entry.\n",
      "\n",
      "(/usr/local/texlive/2016/texmf-dist/tex/latex/psnfss/ot1ppl.fd)\n",
      "(/usr/local/texlive/2016/texmf-dist/tex/latex/psnfss/omlzplm.fd)\n",
      "(/usr/local/texlive/2016/texmf-dist/tex/latex/psnfss/omszplm.fd)\n",
      "(/usr/local/texlive/2016/texmf-dist/tex/latex/psnfss/omxzplm.fd)\n",
      "(/usr/local/texlive/2016/texmf-dist/tex/latex/psnfss/ot1zplm.fd)\n",
      "\n",
      "LaTeX Warning: No \\author given.\n",
      "\n",
      "(/usr/local/texlive/2016/texmf-dist/tex/generic/oberdiek/se-ascii-print.def)\n",
      "\n",
      "LaTeX Warning: File `http://jupyter.org/assets/nav_logo.svg' not found on input\n",
      " line 287.\n",
      "\n",
      "! Unable to load picture or PDF file 'http://jupyter.org/assets/nav_logo.svg'.\n",
      "<to be read again> \n",
      "                   }\n",
      "l.287 ...s{http://jupyter.org/assets/nav_logo.svg}\n",
      "                                                  \n",
      "? \n",
      "! Emergency stop.\n",
      "<to be read again> \n",
      "                   }\n",
      "l.287 ...s{http://jupyter.org/assets/nav_logo.svg}\n",
      "                                                  \n",
      "No pages of output.\n",
      "Transcript written on notebook.log.\n",
      "\n",
      "Traceback (most recent call last):\n",
      "  File \"/Users/fonnescj/anaconda3/envs/dev/bin/jupyter-nbconvert\", line 11, in <module>\n",
      "    sys.exit(main())\n",
      "  File \"/Users/fonnescj/anaconda3/envs/dev/lib/python3.6/site-packages/jupyter_core/application.py\", line 267, in launch_instance\n",
      "    return super(JupyterApp, cls).launch_instance(argv=argv, **kwargs)\n",
      "  File \"/Users/fonnescj/anaconda3/envs/dev/lib/python3.6/site-packages/traitlets/config/application.py\", line 658, in launch_instance\n",
      "    app.start()\n",
      "  File \"/Users/fonnescj/anaconda3/envs/dev/lib/python3.6/site-packages/nbconvert/nbconvertapp.py\", line 325, in start\n",
      "    self.convert_notebooks()\n",
      "  File \"/Users/fonnescj/anaconda3/envs/dev/lib/python3.6/site-packages/nbconvert/nbconvertapp.py\", line 493, in convert_notebooks\n",
      "    self.convert_single_notebook(notebook_filename)\n",
      "  File \"/Users/fonnescj/anaconda3/envs/dev/lib/python3.6/site-packages/nbconvert/nbconvertapp.py\", line 464, in convert_single_notebook\n",
      "    output, resources = self.export_single_notebook(notebook_filename, resources, input_buffer=input_buffer)\n",
      "  File \"/Users/fonnescj/anaconda3/envs/dev/lib/python3.6/site-packages/nbconvert/nbconvertapp.py\", line 393, in export_single_notebook\n",
      "    output, resources = self.exporter.from_filename(notebook_filename, resources=resources)\n",
      "  File \"/Users/fonnescj/anaconda3/envs/dev/lib/python3.6/site-packages/nbconvert/exporters/exporter.py\", line 174, in from_filename\n"
     ]
    },
    {
     "name": "stdout",
     "output_type": "stream",
     "text": [
      "    return self.from_file(f, resources=resources, **kw)\r\n",
      "  File \"/Users/fonnescj/anaconda3/envs/dev/lib/python3.6/site-packages/nbconvert/exporters/exporter.py\", line 192, in from_file\r\n",
      "    return self.from_notebook_node(nbformat.read(file_stream, as_version=4), resources=resources, **kw)\r\n",
      "  File \"/Users/fonnescj/anaconda3/envs/dev/lib/python3.6/site-packages/nbconvert/exporters/pdf.py\", line 183, in from_notebook_node\r\n",
      "    raise LatexFailed('\\n'.join(self._captured_output))\r\n",
      "nbconvert.exporters.pdf.LatexFailed: PDF creating failed, captured latex output:\r\n",
      "This is XeTeX, Version 3.14159265-2.6-0.99996 (TeX Live 2016) (preloaded format=xelatex)\r\n",
      " restricted \\write18 enabled.\r\n",
      "entering extended mode\r\n",
      "(./notebook.tex\r\n",
      "LaTeX2e <2016/03/31>\r\n",
      "Babel <3.9r> and hyphenation patterns for 83 language(s) loaded.\r\n",
      "(/usr/local/texlive/2016/texmf-dist/tex/latex/base/article.cls\r\n",
      "Document Class: article 2014/09/29 v1.4h Standard LaTeX document class\r\n",
      "(/usr/local/texlive/2016/texmf-dist/tex/latex/base/size11.clo))\r\n",
      "(/usr/local/texlive/2016/texmf-dist/tex/latex/base/fontenc.sty\r\n",
      "(/usr/local/texlive/2016/texmf-dist/tex/latex/base/t1enc.def))\r\n",
      "(/usr/local/texlive/2016/texmf-dist/tex/latex/psnfss/mathpazo.sty)\r\n",
      "(/usr/local/texlive/2016/texmf-dist/tex/latex/graphics/graphicx.sty\r\n",
      "(/usr/local/texlive/2016/texmf-dist/tex/latex/graphics/keyval.sty)\r\n",
      "(/usr/local/texlive/2016/texmf-dist/tex/latex/graphics/graphics.sty\r\n",
      "(/usr/local/texlive/2016/texmf-dist/tex/latex/graphics/trig.sty)\r\n",
      "(/usr/local/texlive/2016/texmf-dist/tex/latex/graphics-cfg/graphics.cfg)\r\n",
      "(/usr/local/texlive/2016/texmf-dist/tex/xelatex/xetex-def/xetex.def\r\n",
      "(/usr/local/texlive/2016/texmf-dist/tex/generic/oberdiek/infwarerr.sty)\r\n",
      "(/usr/local/texlive/2016/texmf-dist/tex/generic/oberdiek/ltxcmds.sty))))\r\n",
      "(/usr/local/texlive/2016/texmf-dist/tex/latex/caption/caption.sty\r\n",
      "(/usr/local/texlive/2016/texmf-dist/tex/latex/caption/caption3.sty))\r\n",
      "(/usr/local/texlive/2016/texmf-dist/tex/latex/adjustbox/adjustbox.sty\r\n",
      "(/usr/local/texlive/2016/texmf-dist/tex/latex/xkeyval/xkeyval.sty\r\n",
      "(/usr/local/texlive/2016/texmf-dist/tex/generic/xkeyval/xkeyval.tex\r\n",
      "(/usr/local/texlive/2016/texmf-dist/tex/generic/xkeyval/xkvutils.tex)))\r\n",
      "(/usr/local/texlive/2016/texmf-dist/tex/latex/adjustbox/adjcalc.sty)\r\n",
      "(/usr/local/texlive/2016/texmf-dist/tex/latex/adjustbox/trimclip.sty\r\n",
      "(/usr/local/texlive/2016/texmf-dist/tex/latex/collectbox/collectbox.sty)\r\n",
      "(/usr/local/texlive/2016/texmf-dist/tex/latex/adjustbox/tc-xetex.def))\r\n",
      "(/usr/local/texlive/2016/texmf-dist/tex/latex/ifoddpage/ifoddpage.sty)\r\n",
      "(/usr/local/texlive/2016/texmf-dist/tex/latex/varwidth/varwidth.sty))\r\n",
      "(/usr/local/texlive/2016/texmf-dist/tex/latex/xcolor/xcolor.sty\r\n",
      "(/usr/local/texlive/2016/texmf-dist/tex/latex/graphics-cfg/color.cfg))\r\n",
      "(/usr/local/texlive/2016/texmf-dist/tex/latex/tools/enumerate.sty)\r\n",
      "(/usr/local/texlive/2016/texmf-dist/tex/latex/geometry/geometry.sty\r\n",
      "(/usr/local/texlive/2016/texmf-dist/tex/generic/oberdiek/ifpdf.sty)\r\n",
      "(/usr/local/texlive/2016/texmf-dist/tex/generic/oberdiek/ifvtex.sty)\r\n",
      "(/usr/local/texlive/2016/texmf-dist/tex/generic/ifxetex/ifxetex.sty))\r\n",
      "(/usr/local/texlive/2016/texmf-dist/tex/latex/amsmath/amsmath.sty\r\n",
      "For additional information on amsmath, use the `?' option.\r\n",
      "(/usr/local/texlive/2016/texmf-dist/tex/latex/amsmath/amstext.sty\r\n",
      "(/usr/local/texlive/2016/texmf-dist/tex/latex/amsmath/amsgen.sty))\r\n",
      "(/usr/local/texlive/2016/texmf-dist/tex/latex/amsmath/amsbsy.sty)\r\n",
      "(/usr/local/texlive/2016/texmf-dist/tex/latex/amsmath/amsopn.sty))\r\n",
      "(/usr/local/texlive/2016/texmf-dist/tex/latex/amsfonts/amssymb.sty\r\n",
      "(/usr/local/texlive/2016/texmf-dist/tex/latex/amsfonts/amsfonts.sty))\r\n",
      "(/usr/local/texlive/2016/texmf-dist/tex/latex/base/textcomp.sty\r\n",
      "(/usr/local/texlive/2016/texmf-dist/tex/latex/base/ts1enc.def))\r\n",
      "(/usr/local/texlive/2016/texmf-dist/tex/latex/upquote/upquote.sty)\r\n",
      "(/usr/local/texlive/2016/texmf-dist/tex/latex/eurosym/eurosym.sty)\r\n",
      "(/usr/local/texlive/2016/texmf-dist/tex/latex/ucs/ucs.sty\r\n",
      "(/usr/local/texlive/2016/texmf-dist/tex/latex/ucs/data/uni-global.def))\r\n",
      "(/usr/local/texlive/2016/texmf-dist/tex/latex/base/inputenc.sty\r\n",
      "\r\n",
      "Package inputenc Warning: inputenc package ignored with utf8 based engines.\r\n",
      "\r\n",
      ") (/usr/local/texlive/2016/texmf-dist/tex/latex/fancyvrb/fancyvrb.sty\r\n",
      "Style option: `fancyvrb' v2.7a, with DG/SPQR fixes, and firstline=lastline fix \r\n",
      "<2008/02/07> (tvz))\r\n",
      "(/usr/local/texlive/2016/texmf-dist/tex/latex/oberdiek/grffile.sty\r\n",
      "(/usr/local/texlive/2016/texmf-dist/tex/latex/oberdiek/kvoptions.sty\r\n",
      "(/usr/local/texlive/2016/texmf-dist/tex/generic/oberdiek/kvsetkeys.sty\r\n",
      "(/usr/local/texlive/2016/texmf-dist/tex/generic/oberdiek/etexcmds.sty\r\n",
      "(/usr/local/texlive/2016/texmf-dist/tex/generic/oberdiek/ifluatex.sty))))\r\n",
      "(/usr/local/texlive/2016/texmf-dist/tex/generic/oberdiek/pdftexcmds.sty))\r\n",
      "(/usr/local/texlive/2016/texmf-dist/tex/latex/hyperref/hyperref.sty\r\n",
      "(/usr/local/texlive/2016/texmf-dist/tex/generic/oberdiek/hobsub-hyperref.sty\r\n",
      "(/usr/local/texlive/2016/texmf-dist/tex/generic/oberdiek/hobsub-generic.sty))\r\n",
      "(/usr/local/texlive/2016/texmf-dist/tex/latex/oberdiek/auxhook.sty)\r\n",
      "(/usr/local/texlive/2016/texmf-dist/tex/latex/hyperref/pd1enc.def)\r\n",
      "(/usr/local/texlive/2016/texmf-dist/tex/latex/latexconfig/hyperref.cfg)\r\n",
      "(/usr/local/texlive/2016/texmf-dist/tex/latex/url/url.sty))\r\n",
      "\r\n",
      "Package hyperref Message: Driver (autodetected): hxetex.\r\n",
      "\r\n",
      "(/usr/local/texlive/2016/texmf-dist/tex/latex/hyperref/hxetex.def\r\n",
      "(/usr/local/texlive/2016/texmf-dist/tex/latex/hyperref/puenc.def)\r\n",
      "(/usr/local/texlive/2016/texmf-dist/tex/generic/oberdiek/stringenc.sty)\r\n",
      "(/usr/local/texlive/2016/texmf-dist/tex/latex/oberdiek/rerunfilecheck.sty))\r\n",
      "(/usr/local/texlive/2016/texmf-dist/tex/latex/tools/longtable.sty)\r\n",
      "(/usr/local/texlive/2016/texmf-dist/tex/latex/booktabs/booktabs.sty)\r\n",
      "(/usr/local/texlive/2016/texmf-dist/tex/latex/enumitem/enumitem.sty)\r\n",
      "(/usr/local/texlive/2016/texmf-dist/tex/generic/ulem/ulem.sty)\r\n",
      "No file notebook.aux.\r\n",
      "(/usr/local/texlive/2016/texmf-dist/tex/latex/base/ts1cmr.fd)\r\n",
      "(/usr/local/texlive/2016/texmf-dist/tex/latex/psnfss/t1ppl.fd)\r\n",
      "(/usr/local/texlive/2016/texmf-dist/tex/latex/caption/ltcaption.sty)\r\n",
      "*geometry* driver: auto-detecting\r\n",
      "*geometry* detected driver: xetex\r\n",
      "*geometry* verbose mode - [ preamble ] result:\r\n",
      "* driver: xetex\r\n",
      "* paper: <default>\r\n",
      "* layout: <same size as paper>\r\n",
      "* layoutoffset:(h,v)=(0.0pt,0.0pt)\r\n",
      "* modes: \r\n",
      "* h-part:(L,W,R)=(72.26999pt, 469.75502pt, 72.26999pt)\r\n",
      "* v-part:(T,H,B)=(72.26999pt, 650.43001pt, 72.26999pt)\r\n",
      "* \\paperwidth=614.295pt\r\n",
      "* \\paperheight=794.96999pt\r\n",
      "* \\textwidth=469.75502pt\r\n",
      "* \\textheight=650.43001pt\r\n",
      "* \\oddsidemargin=0.0pt\r\n",
      "* \\evensidemargin=0.0pt\r\n",
      "* \\topmargin=-37.0pt\r\n",
      "* \\headheight=12.0pt\r\n",
      "* \\headsep=25.0pt\r\n",
      "* \\topskip=11.0pt\r\n",
      "* \\footskip=30.0pt\r\n",
      "* \\marginparwidth=59.0pt\r\n",
      "* \\marginparsep=10.0pt\r\n",
      "* \\columnsep=10.0pt\r\n",
      "* \\skip\\footins=10.0pt plus 4.0pt minus 2.0pt\r\n",
      "* \\hoffset=0.0pt\r\n",
      "* \\voffset=0.0pt\r\n",
      "* \\mag=1000\r\n",
      "* \\@twocolumnfalse\r\n",
      "* \\@twosidefalse\r\n",
      "* \\@mparswitchfalse\r\n",
      "* \\@reversemarginfalse\r\n",
      "* (1in=72.27pt=25.4mm, 1cm=28.453pt)\r\n",
      "\r\n",
      "(/usr/local/texlive/2016/texmf-dist/tex/latex/ucs/ucsencs.def)\r\n",
      "(/usr/local/texlive/2016/texmf-dist/tex/latex/hyperref/nameref.sty\r\n",
      "(/usr/local/texlive/2016/texmf-dist/tex/generic/oberdiek/gettitlestring.sty))\r\n",
      "\r\n",
      "Package hyperref Warning: Rerun to get /PageLabels entry.\r\n",
      "\r\n",
      "(/usr/local/texlive/2016/texmf-dist/tex/latex/psnfss/ot1ppl.fd)\r\n",
      "(/usr/local/texlive/2016/texmf-dist/tex/latex/psnfss/omlzplm.fd)\r\n",
      "(/usr/local/texlive/2016/texmf-dist/tex/latex/psnfss/omszplm.fd)\r\n",
      "(/usr/local/texlive/2016/texmf-dist/tex/latex/psnfss/omxzplm.fd)\r\n",
      "(/usr/local/texlive/2016/texmf-dist/tex/latex/psnfss/ot1zplm.fd)\r\n",
      "\r\n",
      "LaTeX Warning: No \\author given.\r\n",
      "\r\n",
      "(/usr/local/texlive/2016/texmf-dist/tex/generic/oberdiek/se-ascii-print.def)\r\n",
      "\r\n",
      "LaTeX Warning: File `http://jupyter.org/assets/nav_logo.svg' not found on input\r\n",
      " line 287.\r\n",
      "\r\n",
      "! Unable to load picture or PDF file 'http://jupyter.org/assets/nav_logo.svg'.\r\n",
      "<to be read again> \r\n",
      "                   }\r\n",
      "l.287 ...s{http://jupyter.org/assets/nav_logo.svg}\r\n",
      "                                                  \r\n",
      "? \r\n",
      "! Emergency stop.\r\n",
      "<to be read again> \r\n",
      "                   }\r\n",
      "l.287 ...s{http://jupyter.org/assets/nav_logo.svg}\r\n",
      "                                                  \r\n",
      "No pages of output.\r\n",
      "Transcript written on notebook.log.\r\n",
      "\r\n"
     ]
    }
   ],
   "source": [
    "!jupyter nbconvert --to pdf \"IPython and Jupyter.ipynb\""
   ]
  },
  {
   "cell_type": "markdown",
   "metadata": {},
   "source": [
    "A very useful online service is the [IPython Notebook Viewer](http://nbviewer.ipython.org) which allows you to display your notebook as a static HTML page, which is useful for sharing with others:"
   ]
  },
  {
   "cell_type": "code",
   "execution_count": 50,
   "metadata": {},
   "outputs": [
    {
     "data": {
      "text/html": [
       "\n",
       "        <iframe\n",
       "            width=\"100%\"\n",
       "            height=\"350\"\n",
       "            src=\"http://nbviewer.ipython.org/2352771\"\n",
       "            frameborder=\"0\"\n",
       "            allowfullscreen\n",
       "        ></iframe>\n",
       "        "
      ],
      "text/plain": [
       "<IPython.lib.display.IFrame at 0x1192fc550>"
      ]
     },
     "execution_count": 50,
     "metadata": {},
     "output_type": "execute_result"
    }
   ],
   "source": [
    "IFrame(\"http://nbviewer.ipython.org/2352771\", width='100%', height=350)"
   ]
  },
  {
   "cell_type": "markdown",
   "metadata": {},
   "source": [
    "As of this year, GitHub supports the [rendering of Jupyter Notebooks](https://github.com/fonnesbeck/Bios8366/blob/master/notebooks/Section1_2-Programming-with-Python.ipynb) stored on its repositories."
   ]
  },
  {
   "cell_type": "markdown",
   "metadata": {},
   "source": [
    "## Reproducible Research\n",
    "\n",
    "> reproducing conclusions from a single experiment based on the measurements from that experiment\n",
    "\n",
    "The most basic form of reproducibility is a complete description of the data and associated analyses (including code!) so the results can be *exactly* reproduced by others.\n",
    "\n",
    "Reproducing calculations can be onerous, even with one's own work!\n",
    "\n",
    "Scientific data are becoming larger and more complex, making simple descriptions inadequate for reproducibility. As a result, most modern research is irreproducible without tremendous effort.\n",
    "\n",
    "*** Reproducible research is not yet part of the culture of science in general, or scientific computing in particular. ***"
   ]
  },
  {
   "cell_type": "markdown",
   "metadata": {},
   "source": [
    "## Scientific Computing Workflow\n",
    "\n",
    "There are a number of steps to scientific endeavors that involve computing:\n",
    "\n",
    "![workflow](images/workflow.png)\n",
    "\n",
    "\n",
    "Many of the standard tools impose barriers between one or more of these steps. This can make it difficult to iterate, reproduce work.\n",
    "\n",
    "The Jupyter notebook eliminates or reduces these barriers to reproducibility."
   ]
  },
  {
   "cell_type": "markdown",
   "metadata": {},
   "source": [
    "## Version control\n",
    "\n",
    "Since a Jupyter Notebook is just a JSON file, it can be readily added to a version control system, such as Git. However, JSON is not inherently conducive resolving merge conflicts or other tasks that involve comparing different versions of the file.\n",
    "\n",
    "\n",
    "### Jupyter Notebook Diff and Merge tools\n",
    "\n",
    "`nbdime` provides [tools for diffing and merging of notebooks](https://nbdime.readthedocs.io/en/latest/).\n",
    "\n",
    "- `nbdiff` compare notebooks in a terminal-friendly way\n",
    "- `nbmerge` three-way merge of notebooks with automatic conflict resolution\n",
    "- `nbdiff-web` shows you a rich rendered diff of notebooks\n",
    "- `nbmerge-web` gives you a web-based three-way merge tool for notebooks\n",
    "- `nbshow` present a single notebook in a terminal-friendly way\n",
    "\n",
    "![](https://github.com/jupyter/nbdime/raw/master/docs/source/images/nbmerge-web.png)"
   ]
  },
  {
   "cell_type": "markdown",
   "metadata": {},
   "source": [
    "## Parallel IPython\n",
    "\n",
    "To enable the IPython Clusters tab in Jupyter Notebook:\n",
    "\n",
    "    ipcluster nbextension enable\n",
    "    \n",
    "When you then start a Jupyter session, you should see the following in your **IPython Clusters** tab:    \n",
    "\n",
    "![parallel tab](images/parallel_tab.png)"
   ]
  },
  {
   "cell_type": "markdown",
   "metadata": {},
   "source": [
    "Before running the next cell, make sure you have first started your cluster, you can use the [clusters tab in the dashboard](/#tab2) to do so.  \n",
    "\n",
    "Select the number if IPython engines (nodes) that you want to use, then click **Start**."
   ]
  },
  {
   "cell_type": "code",
   "execution_count": 54,
   "metadata": {},
   "outputs": [],
   "source": [
    "from ipyparallel import Client\n",
    "client = Client()\n",
    "dv = client.direct_view()"
   ]
  },
  {
   "cell_type": "code",
   "execution_count": 55,
   "metadata": {},
   "outputs": [
    {
     "data": {
      "image/png": "[encoded data removed]",
      "text/latex": [
       "$$4$$"
      ],
      "text/plain": [
       "4"
      ]
     },
     "execution_count": 55,
     "metadata": {},
     "output_type": "execute_result"
    }
   ],
   "source": [
    "len(dv)"
   ]
  },
  {
   "cell_type": "code",
   "execution_count": 56,
   "metadata": {},
   "outputs": [],
   "source": [
    "def where_am_i():\n",
    "    import os\n",
    "    import socket\n",
    "    \n",
    "    return \"In process with pid {0} on host: '{1}'\".format(\n",
    "        os.getpid(), socket.gethostname())"
   ]
  },
  {
   "cell_type": "code",
   "execution_count": 57,
   "metadata": {},
   "outputs": [
    {
     "data": {
      "text/plain": [
       "[\"In process with pid 8234 on host: 'Ott.local'\",\n",
       " \"In process with pid 8241 on host: 'Ott.local'\",\n",
       " \"In process with pid 8240 on host: 'Ott.local'\",\n",
       " \"In process with pid 8235 on host: 'Ott.local'\"]"
      ]
     },
     "execution_count": 57,
     "metadata": {},
     "output_type": "execute_result"
    }
   ],
   "source": [
    "where_am_i_direct_results = dv.apply(where_am_i)\n",
    "where_am_i_direct_results.get()"
   ]
  },
  {
   "cell_type": "markdown",
   "metadata": {},
   "source": [
    "Let's now consider a useful function that we might want to run in parallel. Here is a version of the approximate Bayesian computing (ABC) algorithm."
   ]
  },
  {
   "cell_type": "code",
   "execution_count": 58,
   "metadata": {},
   "outputs": [],
   "source": [
    "import numpy\n",
    "\n",
    "def abc(y, N, epsilon=[0.2, 0.8]):\n",
    "    \n",
    "    trace = []\n",
    "\n",
    "    while len(trace) < N:\n",
    "\n",
    "        # Simulate from priors\n",
    "        mu = numpy.random.normal(0, 10)\n",
    "        sigma = numpy.random.uniform(0, 20)\n",
    "\n",
    "        x = numpy.random.normal(mu, sigma, 50)\n",
    "\n",
    "        #if (np.linalg.norm(y - x) < epsilon):\n",
    "        if ((abs(x.mean() - y.mean()) < epsilon[0]) &\n",
    "            (abs(x.std() - y.std()) < epsilon[1])):\n",
    "            trace.append([mu, sigma])\n",
    "\n",
    "    return trace"
   ]
  },
  {
   "cell_type": "code",
   "execution_count": 59,
   "metadata": {},
   "outputs": [],
   "source": [
    "y = numpy.random.normal(4, 2, 50)"
   ]
  },
  {
   "cell_type": "markdown",
   "metadata": {},
   "source": [
    "Let's try running this on one of the cluster engines:"
   ]
  },
  {
   "cell_type": "code",
   "execution_count": 60,
   "metadata": {},
   "outputs": [
    {
     "ename": "RemoteError",
     "evalue": "NameError(name 'numpy' is not defined)",
     "output_type": "error",
     "traceback": [
      "\u001b[0;31m---------------------------------------------------------------------------\u001b[0m\u001b[0;31mNameError\u001b[0m                                 Traceback (most recent call last)\u001b[0;32m<string>\u001b[0m in \u001b[0;36m<module>\u001b[0;34m()\u001b[0m",
      "\u001b[0;32m<ipython-input-58-02c6cbe59268>\u001b[0m in \u001b[0;36mabc\u001b[0;34m(y, N, epsilon)\u001b[0m",
      "\u001b[0;31mNameError\u001b[0m: name 'numpy' is not defined"
     ]
    }
   ],
   "source": [
    "dv0 = client[0]\n",
    "dv0.block = True\n",
    "dv0.apply(abc, y, 10)"
   ]
  },
  {
   "cell_type": "markdown",
   "metadata": {},
   "source": [
    "This fails with a NameError because NumPy has not been imported on the engine to which we sent the task. Each engine has its own namespace, so we need to import whatever modules we will need prior to running our code:"
   ]
  },
  {
   "cell_type": "code",
   "execution_count": 61,
   "metadata": {},
   "outputs": [
    {
     "data": {
      "text/plain": [
       "<AsyncResult: execute:finished>"
      ]
     },
     "execution_count": 61,
     "metadata": {},
     "output_type": "execute_result"
    }
   ],
   "source": [
    "dv0.execute(\"import numpy\")"
   ]
  },
  {
   "cell_type": "code",
   "execution_count": 62,
   "metadata": {},
   "outputs": [
    {
     "data": {
      "image/png": "[encoded data removed]",
      "text/latex": [
       "$$\\left [ \\left [ 4.385788003253936, \\quad 3.133128828125138\\right ], \\quad \\left [ 5.191701693114833, \\quad 2.29668594878621\\right ], \\quad \\left [ 4.118654597032502, \\quad 1.5819856165459134\\right ], \\quad \\left [ 5.013925149263271, \\quad 1.8071720942373037\\right ], \\quad \\left [ 4.752447895589722, \\quad 2.6534299452085386\\right ], \\quad \\left [ 4.884063250661762, \\quad 2.7164198288441943\\right ], \\quad \\left [ 4.322692126047099, \\quad 2.1276906018825836\\right ], \\quad \\left [ 4.600194652689494, \\quad 1.5716922829494218\\right ], \\quad \\left [ 4.548608060956592, \\quad 1.623852665544796\\right ], \\quad \\left [ 4.81700359987282, \\quad 3.180750775126422\\right ]\\right ]$$"
      ],
      "text/plain": [
       "[[4.385788003253936, 3.133128828125138], [5.191701693114833, 2.29668594878621]\n",
       ", [4.118654597032502, 1.5819856165459134], [5.013925149263271, 1.8071720942373\n",
       "037], [4.752447895589722, 2.6534299452085386], [4.884063250661762, 2.716419828\n",
       "8441943], [4.322692126047099, 2.1276906018825836], [4.600194652689494, 1.57169\n",
       "22829494218], [4.548608060956592, 1.623852665544796], [4.81700359987282, 3.180\n",
       "750775126422]]"
      ]
     },
     "execution_count": 62,
     "metadata": {},
     "output_type": "execute_result"
    }
   ],
   "source": [
    "dv0.apply(abc, y, 10)"
   ]
  },
  {
   "cell_type": "markdown",
   "metadata": {},
   "source": [
    "An easier approach is to use the parallel cell magic to import everywhere:"
   ]
  },
  {
   "cell_type": "code",
   "execution_count": 63,
   "metadata": {},
   "outputs": [],
   "source": [
    "%%px\n",
    "import numpy"
   ]
  },
  {
   "cell_type": "markdown",
   "metadata": {},
   "source": [
    "This magic can be used to execute the same code on all nodes."
   ]
  },
  {
   "cell_type": "code",
   "execution_count": 64,
   "metadata": {},
   "outputs": [
    {
     "name": "stdout",
     "output_type": "stream",
     "text": [
      "[stdout:0] 8234\n",
      "[stdout:1] 8241\n",
      "[stdout:2] 8240\n",
      "[stdout:3] 8235\n"
     ]
    }
   ],
   "source": [
    "%%px \n",
    "import os\n",
    "print(os.getpid())"
   ]
  },
  {
   "cell_type": "code",
   "execution_count": 65,
   "metadata": {},
   "outputs": [
    {
     "data": {
      "text/plain": [
       "[output:0]"
      ]
     },
     "metadata": {},
     "output_type": "display_data"
    },
    {
     "data": {
      "image/png": "[encoded data removed]",
      "text/plain": [
       "<matplotlib.figure.Figure at 0x1098a7c50>"
      ]
     },
     "metadata": {
      "engine": 0
     },
     "output_type": "display_data"
    },
    {
     "data": {
      "text/plain": [
       "[output:1]"
      ]
     },
     "metadata": {},
     "output_type": "display_data"
    },
    {
     "data": {
      "image/png": "[encoded data removed]",
      "text/plain": [
       "<matplotlib.figure.Figure at 0x112ae8f28>"
      ]
     },
     "metadata": {
      "engine": 1
     },
     "output_type": "display_data"
    },
    {
     "data": {
      "text/plain": [
       "[output:2]"
      ]
     },
     "metadata": {},
     "output_type": "display_data"
    },
    {
     "data": {
      "image/png": "[encoded data removed]",
      "text/plain": [
       "<matplotlib.figure.Figure at 0x108944320>"
      ]
     },
     "metadata": {
      "engine": 2
     },
     "output_type": "display_data"
    },
    {
     "data": {
      "text/plain": [
       "[output:3]"
      ]
     },
     "metadata": {},
     "output_type": "display_data"
    },
    {
     "data": {
      "image/png": "[encoded data removed]",
      "text/plain": [
       "<matplotlib.figure.Figure at 0x106243f60>"
      ]
     },
     "metadata": {
      "engine": 3
     },
     "output_type": "display_data"
    }
   ],
   "source": [
    "%%px \n",
    "%matplotlib inline\n",
    "import matplotlib.pyplot as plt\n",
    "import os\n",
    "tsamples = numpy.random.randn(100)\n",
    "plt.hist(tsamples)\n",
    "_ = plt.title('PID %i' % os.getpid())"
   ]
  },
  {
   "cell_type": "markdown",
   "metadata": {},
   "source": [
    "## Jupyter cloud services\n",
    "\n",
    "There are a growing number of services for hosting and running notebooks remotely.\n",
    "\n",
    "### mybinder.org \n",
    "\n",
    "Have a repository full of Jupyter notebooks? With Binder, you can add a badge that opens those notebooks in an executable environment, making your code immediately reproducible by anyone, anywhere.\n",
    "\n",
    "[My PyCon 2017 tutorial in mybinder](https://beta.mybinder.org/v2/gh/fonnesbeck/intro_stat_modeling_2017/master)\n",
    "\n",
    "If you followed the instructions above, you launched the Jupyter Notebook App on a cloud service called **`tmpnb`**. As the prefix `tmp` indicates, it gives you a temporary demo: as soon as you close the browser tab (or after a few minutes of inactivity), the kernel dies and the content you wrote is not saved anywhere. This is a free service, sponsored by the company Rackspace, j \n",
    "\n",
    "### Azure\n",
    "\n",
    "In June 2016, Microsoft announced [notebooks hosted on Azure](https://notebooks.azure.com) cloud. You need to create a free account to be able to save your work.\n",
    "\n",
    "### Domino Data Lab\n",
    "\n",
    "Though you can set up your own Amazon EC2 instances and run notebooks, [Domino Data lab](https://www.dominodatalab.com/) does most of the work in setting up and provisioning Amazon services with Jupyter notebooks (and other cloud software) ready to launch. You can choose the compute size, and pay on a sliding scale.\n",
    "\n",
    "In addition to this, you can host your own temporary notebooks using [tmpnb](https://github.com/jupyter/tmpnb), which uses Docker images to run notebooks on-demand, that automatically shut down when they are idle.\n"
   ]
  },
  {
   "cell_type": "markdown",
   "metadata": {},
   "source": [
    "---\n",
    "\n",
    "## Links and References\n",
    "\n",
    "* [IPython Notebook Viewer](http://nbviewer.ipython.org) Displays static HTML versions of notebooks, and includes a gallery of notebook examples.\n",
    "\n",
    "* [A Reference-Free Algorithm for Computational Normalization of Shotgun Sequencing Data](http://ged.msu.edu/papers/2012-diginorm/) A landmark example of reproducible research in genomics: Git repo, iPython notebook, data and scripts.\n",
    "\n",
    "* Jacques Ravel and K Eric Wommack. 2014. [All Hail Reproducibility in Microbiome Research](http://www.microbiomejournal.com/content/pdf/2049-2618-2-8.pdf). Microbiome, 2:8.\n",
    "\n",
    "* Benjamin Ragan-Kelley et al.. 2013. [Collaborative cloud-enabled tools allow rapid, reproducible biological insights](http://www.nature.com/ismej/journal/v7/n3/full/ismej2012123a.html). The ISME Journal, 7, 461–464; doi:10.1038/ismej.2012.123;"
   ]
  }
 ],
 "metadata": {
  "_draft": {
   "nbviewer_url": "https://gist.github.com/9449466995d534c7af942db3843732e7"
  },
  "anaconda-cloud": {},
  "gist": {
   "data": {
    "description": "IPython and Jupyter.ipynb",
    "public": true
   },
   "id": "9449466995d534c7af942db3843732e7"
  },
  "kernelspec": {
   "display_name": "Python 3",
   "language": "python",
   "name": "python3"
  },
  "language_info": {
   "codemirror_mode": {
    "name": "ipython",
    "version": 3
   },
   "file_extension": ".py",
   "mimetype": "text/x-python",
   "name": "python",
   "nbconvert_exporter": "python",
   "pygments_lexer": "ipython3",
   "version": "3.6.1"
  },
  "nav_menu": {},
  "toc": {
   "navigate_menu": true,
   "number_sections": false,
   "sideBar": true,
   "threshold": 6,
   "toc_cell": false,
   "toc_section_display": "block",
   "toc_window_display": false
  }
 },
 "nbformat": 4,
 "nbformat_minor": 1
}
